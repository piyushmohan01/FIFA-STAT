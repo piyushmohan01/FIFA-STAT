{
 "cells": [
  {
   "cell_type": "code",
   "execution_count": 1,
   "metadata": {},
   "outputs": [],
   "source": [
    "import numpy as np\n",
    "import pandas as pd\n",
    "pd.options.mode.chained_assignment = None"
   ]
  },
  {
   "cell_type": "code",
   "execution_count": 2,
   "metadata": {},
   "outputs": [
    {
     "data": {
      "text/html": [
       "<div>\n",
       "<style scoped>\n",
       "    .dataframe tbody tr th:only-of-type {\n",
       "        vertical-align: middle;\n",
       "    }\n",
       "\n",
       "    .dataframe tbody tr th {\n",
       "        vertical-align: top;\n",
       "    }\n",
       "\n",
       "    .dataframe thead th {\n",
       "        text-align: right;\n",
       "    }\n",
       "</style>\n",
       "<table border=\"1\" class=\"dataframe\">\n",
       "  <thead>\n",
       "    <tr style=\"text-align: right;\">\n",
       "      <th></th>\n",
       "      <th>sofifa_id</th>\n",
       "      <th>short_name</th>\n",
       "      <th>player_positions</th>\n",
       "      <th>overall</th>\n",
       "      <th>age</th>\n",
       "      <th>height_cm</th>\n",
       "      <th>weight_kg</th>\n",
       "      <th>club_name</th>\n",
       "      <th>league_name</th>\n",
       "      <th>club_position</th>\n",
       "      <th>...</th>\n",
       "      <th>CM</th>\n",
       "      <th>CDM</th>\n",
       "      <th>LM</th>\n",
       "      <th>RM</th>\n",
       "      <th>CAM</th>\n",
       "      <th>LB</th>\n",
       "      <th>CF</th>\n",
       "      <th>RB</th>\n",
       "      <th>RWB</th>\n",
       "      <th>LWB</th>\n",
       "    </tr>\n",
       "  </thead>\n",
       "  <tbody>\n",
       "    <tr>\n",
       "      <th>0</th>\n",
       "      <td>20801</td>\n",
       "      <td>Cristiano Ronaldo</td>\n",
       "      <td>LW, ST</td>\n",
       "      <td>94</td>\n",
       "      <td>32</td>\n",
       "      <td>185</td>\n",
       "      <td>80</td>\n",
       "      <td>Real Madrid CF</td>\n",
       "      <td>Spain Primera Division</td>\n",
       "      <td>LW</td>\n",
       "      <td>...</td>\n",
       "      <td>0</td>\n",
       "      <td>0</td>\n",
       "      <td>0</td>\n",
       "      <td>0</td>\n",
       "      <td>0</td>\n",
       "      <td>0</td>\n",
       "      <td>0</td>\n",
       "      <td>0</td>\n",
       "      <td>0</td>\n",
       "      <td>0</td>\n",
       "    </tr>\n",
       "    <tr>\n",
       "      <th>1</th>\n",
       "      <td>158023</td>\n",
       "      <td>L. Messi</td>\n",
       "      <td>RW</td>\n",
       "      <td>93</td>\n",
       "      <td>30</td>\n",
       "      <td>170</td>\n",
       "      <td>72</td>\n",
       "      <td>FC Barcelona</td>\n",
       "      <td>Spain Primera Division</td>\n",
       "      <td>RW</td>\n",
       "      <td>...</td>\n",
       "      <td>0</td>\n",
       "      <td>0</td>\n",
       "      <td>0</td>\n",
       "      <td>0</td>\n",
       "      <td>0</td>\n",
       "      <td>0</td>\n",
       "      <td>0</td>\n",
       "      <td>0</td>\n",
       "      <td>0</td>\n",
       "      <td>0</td>\n",
       "    </tr>\n",
       "    <tr>\n",
       "      <th>2</th>\n",
       "      <td>167495</td>\n",
       "      <td>M. Neuer</td>\n",
       "      <td>GK</td>\n",
       "      <td>92</td>\n",
       "      <td>31</td>\n",
       "      <td>193</td>\n",
       "      <td>92</td>\n",
       "      <td>FC Bayern München</td>\n",
       "      <td>German 1. Bundesliga</td>\n",
       "      <td>GK</td>\n",
       "      <td>...</td>\n",
       "      <td>0</td>\n",
       "      <td>0</td>\n",
       "      <td>0</td>\n",
       "      <td>0</td>\n",
       "      <td>0</td>\n",
       "      <td>0</td>\n",
       "      <td>0</td>\n",
       "      <td>0</td>\n",
       "      <td>0</td>\n",
       "      <td>0</td>\n",
       "    </tr>\n",
       "    <tr>\n",
       "      <th>3</th>\n",
       "      <td>176580</td>\n",
       "      <td>L. Suárez</td>\n",
       "      <td>ST</td>\n",
       "      <td>92</td>\n",
       "      <td>30</td>\n",
       "      <td>182</td>\n",
       "      <td>86</td>\n",
       "      <td>FC Barcelona</td>\n",
       "      <td>Spain Primera Division</td>\n",
       "      <td>ST</td>\n",
       "      <td>...</td>\n",
       "      <td>0</td>\n",
       "      <td>0</td>\n",
       "      <td>0</td>\n",
       "      <td>0</td>\n",
       "      <td>0</td>\n",
       "      <td>0</td>\n",
       "      <td>0</td>\n",
       "      <td>0</td>\n",
       "      <td>0</td>\n",
       "      <td>0</td>\n",
       "    </tr>\n",
       "    <tr>\n",
       "      <th>4</th>\n",
       "      <td>190871</td>\n",
       "      <td>Neymar Jr</td>\n",
       "      <td>LW</td>\n",
       "      <td>92</td>\n",
       "      <td>25</td>\n",
       "      <td>175</td>\n",
       "      <td>68</td>\n",
       "      <td>Paris Saint-Germain</td>\n",
       "      <td>French Ligue 1</td>\n",
       "      <td>LW</td>\n",
       "      <td>...</td>\n",
       "      <td>0</td>\n",
       "      <td>0</td>\n",
       "      <td>0</td>\n",
       "      <td>0</td>\n",
       "      <td>0</td>\n",
       "      <td>0</td>\n",
       "      <td>0</td>\n",
       "      <td>0</td>\n",
       "      <td>0</td>\n",
       "      <td>0</td>\n",
       "    </tr>\n",
       "    <tr>\n",
       "      <th>5</th>\n",
       "      <td>188545</td>\n",
       "      <td>R. Lewandowski</td>\n",
       "      <td>ST</td>\n",
       "      <td>91</td>\n",
       "      <td>28</td>\n",
       "      <td>185</td>\n",
       "      <td>79</td>\n",
       "      <td>FC Bayern München</td>\n",
       "      <td>German 1. Bundesliga</td>\n",
       "      <td>ST</td>\n",
       "      <td>...</td>\n",
       "      <td>0</td>\n",
       "      <td>0</td>\n",
       "      <td>0</td>\n",
       "      <td>0</td>\n",
       "      <td>0</td>\n",
       "      <td>0</td>\n",
       "      <td>0</td>\n",
       "      <td>0</td>\n",
       "      <td>0</td>\n",
       "      <td>0</td>\n",
       "    </tr>\n",
       "    <tr>\n",
       "      <th>6</th>\n",
       "      <td>155862</td>\n",
       "      <td>Sergio Ramos</td>\n",
       "      <td>CB</td>\n",
       "      <td>90</td>\n",
       "      <td>31</td>\n",
       "      <td>183</td>\n",
       "      <td>75</td>\n",
       "      <td>Real Madrid CF</td>\n",
       "      <td>Spain Primera Division</td>\n",
       "      <td>LCB</td>\n",
       "      <td>...</td>\n",
       "      <td>0</td>\n",
       "      <td>0</td>\n",
       "      <td>0</td>\n",
       "      <td>0</td>\n",
       "      <td>0</td>\n",
       "      <td>0</td>\n",
       "      <td>0</td>\n",
       "      <td>0</td>\n",
       "      <td>0</td>\n",
       "      <td>0</td>\n",
       "    </tr>\n",
       "    <tr>\n",
       "      <th>7</th>\n",
       "      <td>167664</td>\n",
       "      <td>G. Higuaín</td>\n",
       "      <td>ST</td>\n",
       "      <td>90</td>\n",
       "      <td>29</td>\n",
       "      <td>184</td>\n",
       "      <td>87</td>\n",
       "      <td>Juventus</td>\n",
       "      <td>Italian Serie A</td>\n",
       "      <td>ST</td>\n",
       "      <td>...</td>\n",
       "      <td>0</td>\n",
       "      <td>0</td>\n",
       "      <td>0</td>\n",
       "      <td>0</td>\n",
       "      <td>0</td>\n",
       "      <td>0</td>\n",
       "      <td>0</td>\n",
       "      <td>0</td>\n",
       "      <td>0</td>\n",
       "      <td>0</td>\n",
       "    </tr>\n",
       "    <tr>\n",
       "      <th>8</th>\n",
       "      <td>182521</td>\n",
       "      <td>T. Kroos</td>\n",
       "      <td>CM, CDM</td>\n",
       "      <td>90</td>\n",
       "      <td>27</td>\n",
       "      <td>182</td>\n",
       "      <td>78</td>\n",
       "      <td>Real Madrid CF</td>\n",
       "      <td>Spain Primera Division</td>\n",
       "      <td>LCM</td>\n",
       "      <td>...</td>\n",
       "      <td>1</td>\n",
       "      <td>1</td>\n",
       "      <td>0</td>\n",
       "      <td>0</td>\n",
       "      <td>0</td>\n",
       "      <td>0</td>\n",
       "      <td>0</td>\n",
       "      <td>0</td>\n",
       "      <td>0</td>\n",
       "      <td>0</td>\n",
       "    </tr>\n",
       "    <tr>\n",
       "      <th>9</th>\n",
       "      <td>183277</td>\n",
       "      <td>E. Hazard</td>\n",
       "      <td>LW</td>\n",
       "      <td>90</td>\n",
       "      <td>26</td>\n",
       "      <td>173</td>\n",
       "      <td>76</td>\n",
       "      <td>Chelsea</td>\n",
       "      <td>English Premier League</td>\n",
       "      <td>LW</td>\n",
       "      <td>...</td>\n",
       "      <td>0</td>\n",
       "      <td>0</td>\n",
       "      <td>0</td>\n",
       "      <td>0</td>\n",
       "      <td>0</td>\n",
       "      <td>0</td>\n",
       "      <td>0</td>\n",
       "      <td>0</td>\n",
       "      <td>0</td>\n",
       "      <td>0</td>\n",
       "    </tr>\n",
       "  </tbody>\n",
       "</table>\n",
       "<p>10 rows × 72 columns</p>\n",
       "</div>"
      ],
      "text/plain": [
       "   sofifa_id         short_name player_positions  overall  age  height_cm   \n",
       "0      20801  Cristiano Ronaldo           LW, ST       94   32        185  \\\n",
       "1     158023           L. Messi               RW       93   30        170   \n",
       "2     167495           M. Neuer               GK       92   31        193   \n",
       "3     176580          L. Suárez               ST       92   30        182   \n",
       "4     190871          Neymar Jr               LW       92   25        175   \n",
       "5     188545     R. Lewandowski               ST       91   28        185   \n",
       "6     155862       Sergio Ramos               CB       90   31        183   \n",
       "7     167664         G. Higuaín               ST       90   29        184   \n",
       "8     182521           T. Kroos          CM, CDM       90   27        182   \n",
       "9     183277          E. Hazard               LW       90   26        173   \n",
       "\n",
       "   weight_kg            club_name             league_name club_position  ...   \n",
       "0         80       Real Madrid CF  Spain Primera Division            LW  ...  \\\n",
       "1         72         FC Barcelona  Spain Primera Division            RW  ...   \n",
       "2         92    FC Bayern München    German 1. Bundesliga            GK  ...   \n",
       "3         86         FC Barcelona  Spain Primera Division            ST  ...   \n",
       "4         68  Paris Saint-Germain          French Ligue 1            LW  ...   \n",
       "5         79    FC Bayern München    German 1. Bundesliga            ST  ...   \n",
       "6         75       Real Madrid CF  Spain Primera Division           LCB  ...   \n",
       "7         87             Juventus         Italian Serie A            ST  ...   \n",
       "8         78       Real Madrid CF  Spain Primera Division           LCM  ...   \n",
       "9         76              Chelsea  English Premier League            LW  ...   \n",
       "\n",
       "   CM CDM LM  RM  CAM  LB  CF  RB  RWB  LWB  \n",
       "0   0   0  0   0    0   0   0   0    0    0  \n",
       "1   0   0  0   0    0   0   0   0    0    0  \n",
       "2   0   0  0   0    0   0   0   0    0    0  \n",
       "3   0   0  0   0    0   0   0   0    0    0  \n",
       "4   0   0  0   0    0   0   0   0    0    0  \n",
       "5   0   0  0   0    0   0   0   0    0    0  \n",
       "6   0   0  0   0    0   0   0   0    0    0  \n",
       "7   0   0  0   0    0   0   0   0    0    0  \n",
       "8   1   1  0   0    0   0   0   0    0    0  \n",
       "9   0   0  0   0    0   0   0   0    0    0  \n",
       "\n",
       "[10 rows x 72 columns]"
      ]
     },
     "execution_count": 2,
     "metadata": {},
     "output_type": "execute_result"
    }
   ],
   "source": [
    "total = pd.read_csv('../new_data/growth/m_18.csv', index_col=[0])\n",
    "total.iloc[:10]"
   ]
  },
  {
   "cell_type": "code",
   "execution_count": 3,
   "metadata": {},
   "outputs": [],
   "source": [
    "s_name = 'H. Kane'"
   ]
  },
  {
   "cell_type": "code",
   "execution_count": 4,
   "metadata": {},
   "outputs": [],
   "source": [
    "player = total[total['short_name'] == s_name].head(1)\n",
    "p_id = player['sofifa_id'].values[0]\n",
    "nationality = player['nationality_name'].values[0]\n",
    "league = player['league_name'].values[0]\n",
    "club = player['club_name'].values[0]\n",
    "position = player['player_positions'].values[0].split(',')[0]"
   ]
  },
  {
   "cell_type": "code",
   "execution_count": 5,
   "metadata": {},
   "outputs": [],
   "source": [
    "same_nationality = total[total['nationality_name'] == nationality]\n",
    "same_league = total[total['league_name'] == league]\n",
    "same_club = total[total['club_name'] == club]"
   ]
  },
  {
   "cell_type": "code",
   "execution_count": 6,
   "metadata": {},
   "outputs": [
    {
     "data": {
      "text/html": [
       "<div>\n",
       "<style scoped>\n",
       "    .dataframe tbody tr th:only-of-type {\n",
       "        vertical-align: middle;\n",
       "    }\n",
       "\n",
       "    .dataframe tbody tr th {\n",
       "        vertical-align: top;\n",
       "    }\n",
       "\n",
       "    .dataframe thead th {\n",
       "        text-align: right;\n",
       "    }\n",
       "</style>\n",
       "<table border=\"1\" class=\"dataframe\">\n",
       "  <thead>\n",
       "    <tr style=\"text-align: right;\">\n",
       "      <th></th>\n",
       "      <th>sofifa_id</th>\n",
       "      <th>short_name</th>\n",
       "      <th>player_positions</th>\n",
       "      <th>overall</th>\n",
       "      <th>age</th>\n",
       "      <th>height_cm</th>\n",
       "      <th>weight_kg</th>\n",
       "      <th>club_name</th>\n",
       "      <th>league_name</th>\n",
       "      <th>club_position</th>\n",
       "      <th>...</th>\n",
       "      <th>CDM</th>\n",
       "      <th>LM</th>\n",
       "      <th>RM</th>\n",
       "      <th>CAM</th>\n",
       "      <th>LB</th>\n",
       "      <th>CF</th>\n",
       "      <th>RB</th>\n",
       "      <th>RWB</th>\n",
       "      <th>LWB</th>\n",
       "      <th>prime_pos</th>\n",
       "    </tr>\n",
       "  </thead>\n",
       "  <tbody>\n",
       "    <tr>\n",
       "      <th>0</th>\n",
       "      <td>20801</td>\n",
       "      <td>Cristiano Ronaldo</td>\n",
       "      <td>LW, ST</td>\n",
       "      <td>94</td>\n",
       "      <td>32</td>\n",
       "      <td>185</td>\n",
       "      <td>80</td>\n",
       "      <td>Real Madrid CF</td>\n",
       "      <td>Spain Primera Division</td>\n",
       "      <td>LW</td>\n",
       "      <td>...</td>\n",
       "      <td>0</td>\n",
       "      <td>0</td>\n",
       "      <td>0</td>\n",
       "      <td>0</td>\n",
       "      <td>0</td>\n",
       "      <td>0</td>\n",
       "      <td>0</td>\n",
       "      <td>0</td>\n",
       "      <td>0</td>\n",
       "      <td>LW</td>\n",
       "    </tr>\n",
       "    <tr>\n",
       "      <th>1</th>\n",
       "      <td>158023</td>\n",
       "      <td>L. Messi</td>\n",
       "      <td>RW</td>\n",
       "      <td>93</td>\n",
       "      <td>30</td>\n",
       "      <td>170</td>\n",
       "      <td>72</td>\n",
       "      <td>FC Barcelona</td>\n",
       "      <td>Spain Primera Division</td>\n",
       "      <td>RW</td>\n",
       "      <td>...</td>\n",
       "      <td>0</td>\n",
       "      <td>0</td>\n",
       "      <td>0</td>\n",
       "      <td>0</td>\n",
       "      <td>0</td>\n",
       "      <td>0</td>\n",
       "      <td>0</td>\n",
       "      <td>0</td>\n",
       "      <td>0</td>\n",
       "      <td>RW</td>\n",
       "    </tr>\n",
       "    <tr>\n",
       "      <th>2</th>\n",
       "      <td>167495</td>\n",
       "      <td>M. Neuer</td>\n",
       "      <td>GK</td>\n",
       "      <td>92</td>\n",
       "      <td>31</td>\n",
       "      <td>193</td>\n",
       "      <td>92</td>\n",
       "      <td>FC Bayern München</td>\n",
       "      <td>German 1. Bundesliga</td>\n",
       "      <td>GK</td>\n",
       "      <td>...</td>\n",
       "      <td>0</td>\n",
       "      <td>0</td>\n",
       "      <td>0</td>\n",
       "      <td>0</td>\n",
       "      <td>0</td>\n",
       "      <td>0</td>\n",
       "      <td>0</td>\n",
       "      <td>0</td>\n",
       "      <td>0</td>\n",
       "      <td>GK</td>\n",
       "    </tr>\n",
       "    <tr>\n",
       "      <th>3</th>\n",
       "      <td>176580</td>\n",
       "      <td>L. Suárez</td>\n",
       "      <td>ST</td>\n",
       "      <td>92</td>\n",
       "      <td>30</td>\n",
       "      <td>182</td>\n",
       "      <td>86</td>\n",
       "      <td>FC Barcelona</td>\n",
       "      <td>Spain Primera Division</td>\n",
       "      <td>ST</td>\n",
       "      <td>...</td>\n",
       "      <td>0</td>\n",
       "      <td>0</td>\n",
       "      <td>0</td>\n",
       "      <td>0</td>\n",
       "      <td>0</td>\n",
       "      <td>0</td>\n",
       "      <td>0</td>\n",
       "      <td>0</td>\n",
       "      <td>0</td>\n",
       "      <td>ST</td>\n",
       "    </tr>\n",
       "    <tr>\n",
       "      <th>4</th>\n",
       "      <td>190871</td>\n",
       "      <td>Neymar Jr</td>\n",
       "      <td>LW</td>\n",
       "      <td>92</td>\n",
       "      <td>25</td>\n",
       "      <td>175</td>\n",
       "      <td>68</td>\n",
       "      <td>Paris Saint-Germain</td>\n",
       "      <td>French Ligue 1</td>\n",
       "      <td>LW</td>\n",
       "      <td>...</td>\n",
       "      <td>0</td>\n",
       "      <td>0</td>\n",
       "      <td>0</td>\n",
       "      <td>0</td>\n",
       "      <td>0</td>\n",
       "      <td>0</td>\n",
       "      <td>0</td>\n",
       "      <td>0</td>\n",
       "      <td>0</td>\n",
       "      <td>LW</td>\n",
       "    </tr>\n",
       "  </tbody>\n",
       "</table>\n",
       "<p>5 rows × 73 columns</p>\n",
       "</div>"
      ],
      "text/plain": [
       "   sofifa_id         short_name player_positions  overall  age  height_cm   \n",
       "0      20801  Cristiano Ronaldo           LW, ST       94   32        185  \\\n",
       "1     158023           L. Messi               RW       93   30        170   \n",
       "2     167495           M. Neuer               GK       92   31        193   \n",
       "3     176580          L. Suárez               ST       92   30        182   \n",
       "4     190871          Neymar Jr               LW       92   25        175   \n",
       "\n",
       "   weight_kg            club_name             league_name club_position  ...   \n",
       "0         80       Real Madrid CF  Spain Primera Division            LW  ...  \\\n",
       "1         72         FC Barcelona  Spain Primera Division            RW  ...   \n",
       "2         92    FC Bayern München    German 1. Bundesliga            GK  ...   \n",
       "3         86         FC Barcelona  Spain Primera Division            ST  ...   \n",
       "4         68  Paris Saint-Germain          French Ligue 1            LW  ...   \n",
       "\n",
       "   CDM LM RM  CAM  LB  CF  RB  RWB  LWB  prime_pos  \n",
       "0    0  0  0    0   0   0   0    0    0         LW  \n",
       "1    0  0  0    0   0   0   0    0    0         RW  \n",
       "2    0  0  0    0   0   0   0    0    0         GK  \n",
       "3    0  0  0    0   0   0   0    0    0         ST  \n",
       "4    0  0  0    0   0   0   0    0    0         LW  \n",
       "\n",
       "[5 rows x 73 columns]"
      ]
     },
     "execution_count": 6,
     "metadata": {},
     "output_type": "execute_result"
    }
   ],
   "source": [
    "prime_pos = []\n",
    "[prime_pos.append(item.split(',')[0]) for item in list(total['player_positions'])]\n",
    "total['prime_pos'] = prime_pos\n",
    "total.head()"
   ]
  },
  {
   "cell_type": "code",
   "execution_count": 7,
   "metadata": {},
   "outputs": [
    {
     "data": {
      "text/html": [
       "<div>\n",
       "<style scoped>\n",
       "    .dataframe tbody tr th:only-of-type {\n",
       "        vertical-align: middle;\n",
       "    }\n",
       "\n",
       "    .dataframe tbody tr th {\n",
       "        vertical-align: top;\n",
       "    }\n",
       "\n",
       "    .dataframe thead th {\n",
       "        text-align: right;\n",
       "    }\n",
       "</style>\n",
       "<table border=\"1\" class=\"dataframe\">\n",
       "  <thead>\n",
       "    <tr style=\"text-align: right;\">\n",
       "      <th></th>\n",
       "      <th>sofifa_id</th>\n",
       "      <th>short_name</th>\n",
       "      <th>player_positions</th>\n",
       "      <th>overall</th>\n",
       "      <th>age</th>\n",
       "      <th>height_cm</th>\n",
       "      <th>weight_kg</th>\n",
       "      <th>club_name</th>\n",
       "      <th>league_name</th>\n",
       "      <th>club_position</th>\n",
       "      <th>...</th>\n",
       "      <th>CDM</th>\n",
       "      <th>LM</th>\n",
       "      <th>RM</th>\n",
       "      <th>CAM</th>\n",
       "      <th>LB</th>\n",
       "      <th>CF</th>\n",
       "      <th>RB</th>\n",
       "      <th>RWB</th>\n",
       "      <th>LWB</th>\n",
       "      <th>prime_pos</th>\n",
       "    </tr>\n",
       "  </thead>\n",
       "  <tbody>\n",
       "    <tr>\n",
       "      <th>3</th>\n",
       "      <td>176580</td>\n",
       "      <td>L. Suárez</td>\n",
       "      <td>ST</td>\n",
       "      <td>92</td>\n",
       "      <td>30</td>\n",
       "      <td>182</td>\n",
       "      <td>86</td>\n",
       "      <td>FC Barcelona</td>\n",
       "      <td>Spain Primera Division</td>\n",
       "      <td>ST</td>\n",
       "      <td>...</td>\n",
       "      <td>0</td>\n",
       "      <td>0</td>\n",
       "      <td>0</td>\n",
       "      <td>0</td>\n",
       "      <td>0</td>\n",
       "      <td>0</td>\n",
       "      <td>0</td>\n",
       "      <td>0</td>\n",
       "      <td>0</td>\n",
       "      <td>ST</td>\n",
       "    </tr>\n",
       "    <tr>\n",
       "      <th>5</th>\n",
       "      <td>188545</td>\n",
       "      <td>R. Lewandowski</td>\n",
       "      <td>ST</td>\n",
       "      <td>91</td>\n",
       "      <td>28</td>\n",
       "      <td>185</td>\n",
       "      <td>79</td>\n",
       "      <td>FC Bayern München</td>\n",
       "      <td>German 1. Bundesliga</td>\n",
       "      <td>ST</td>\n",
       "      <td>...</td>\n",
       "      <td>0</td>\n",
       "      <td>0</td>\n",
       "      <td>0</td>\n",
       "      <td>0</td>\n",
       "      <td>0</td>\n",
       "      <td>0</td>\n",
       "      <td>0</td>\n",
       "      <td>0</td>\n",
       "      <td>0</td>\n",
       "      <td>ST</td>\n",
       "    </tr>\n",
       "    <tr>\n",
       "      <th>7</th>\n",
       "      <td>167664</td>\n",
       "      <td>G. Higuaín</td>\n",
       "      <td>ST</td>\n",
       "      <td>90</td>\n",
       "      <td>29</td>\n",
       "      <td>184</td>\n",
       "      <td>87</td>\n",
       "      <td>Juventus</td>\n",
       "      <td>Italian Serie A</td>\n",
       "      <td>ST</td>\n",
       "      <td>...</td>\n",
       "      <td>0</td>\n",
       "      <td>0</td>\n",
       "      <td>0</td>\n",
       "      <td>0</td>\n",
       "      <td>0</td>\n",
       "      <td>0</td>\n",
       "      <td>0</td>\n",
       "      <td>0</td>\n",
       "      <td>0</td>\n",
       "      <td>ST</td>\n",
       "    </tr>\n",
       "    <tr>\n",
       "      <th>13</th>\n",
       "      <td>153079</td>\n",
       "      <td>S. Agüero</td>\n",
       "      <td>ST</td>\n",
       "      <td>89</td>\n",
       "      <td>29</td>\n",
       "      <td>173</td>\n",
       "      <td>70</td>\n",
       "      <td>Manchester City</td>\n",
       "      <td>English Premier League</td>\n",
       "      <td>RS</td>\n",
       "      <td>...</td>\n",
       "      <td>0</td>\n",
       "      <td>0</td>\n",
       "      <td>0</td>\n",
       "      <td>0</td>\n",
       "      <td>0</td>\n",
       "      <td>0</td>\n",
       "      <td>0</td>\n",
       "      <td>0</td>\n",
       "      <td>0</td>\n",
       "      <td>ST</td>\n",
       "    </tr>\n",
       "    <tr>\n",
       "      <th>28</th>\n",
       "      <td>188567</td>\n",
       "      <td>P. Aubameyang</td>\n",
       "      <td>ST</td>\n",
       "      <td>88</td>\n",
       "      <td>28</td>\n",
       "      <td>187</td>\n",
       "      <td>80</td>\n",
       "      <td>Borussia Dortmund</td>\n",
       "      <td>German 1. Bundesliga</td>\n",
       "      <td>ST</td>\n",
       "      <td>...</td>\n",
       "      <td>0</td>\n",
       "      <td>0</td>\n",
       "      <td>0</td>\n",
       "      <td>0</td>\n",
       "      <td>0</td>\n",
       "      <td>0</td>\n",
       "      <td>0</td>\n",
       "      <td>0</td>\n",
       "      <td>0</td>\n",
       "      <td>ST</td>\n",
       "    </tr>\n",
       "    <tr>\n",
       "      <th>30</th>\n",
       "      <td>194765</td>\n",
       "      <td>A. Griezmann</td>\n",
       "      <td>ST, RW, LW</td>\n",
       "      <td>88</td>\n",
       "      <td>26</td>\n",
       "      <td>174</td>\n",
       "      <td>72</td>\n",
       "      <td>Atlético de Madrid</td>\n",
       "      <td>Spain Primera Division</td>\n",
       "      <td>LS</td>\n",
       "      <td>...</td>\n",
       "      <td>0</td>\n",
       "      <td>0</td>\n",
       "      <td>0</td>\n",
       "      <td>0</td>\n",
       "      <td>0</td>\n",
       "      <td>0</td>\n",
       "      <td>0</td>\n",
       "      <td>0</td>\n",
       "      <td>0</td>\n",
       "      <td>ST</td>\n",
       "    </tr>\n",
       "    <tr>\n",
       "      <th>40</th>\n",
       "      <td>179813</td>\n",
       "      <td>E. Cavani</td>\n",
       "      <td>ST</td>\n",
       "      <td>87</td>\n",
       "      <td>30</td>\n",
       "      <td>184</td>\n",
       "      <td>71</td>\n",
       "      <td>Paris Saint-Germain</td>\n",
       "      <td>French Ligue 1</td>\n",
       "      <td>ST</td>\n",
       "      <td>...</td>\n",
       "      <td>0</td>\n",
       "      <td>0</td>\n",
       "      <td>0</td>\n",
       "      <td>0</td>\n",
       "      <td>0</td>\n",
       "      <td>0</td>\n",
       "      <td>0</td>\n",
       "      <td>0</td>\n",
       "      <td>0</td>\n",
       "      <td>ST</td>\n",
       "    </tr>\n",
       "    <tr>\n",
       "      <th>49</th>\n",
       "      <td>165153</td>\n",
       "      <td>K. Benzema</td>\n",
       "      <td>ST</td>\n",
       "      <td>86</td>\n",
       "      <td>29</td>\n",
       "      <td>187</td>\n",
       "      <td>79</td>\n",
       "      <td>Real Madrid CF</td>\n",
       "      <td>Spain Primera Division</td>\n",
       "      <td>ST</td>\n",
       "      <td>...</td>\n",
       "      <td>0</td>\n",
       "      <td>0</td>\n",
       "      <td>0</td>\n",
       "      <td>0</td>\n",
       "      <td>0</td>\n",
       "      <td>0</td>\n",
       "      <td>0</td>\n",
       "      <td>0</td>\n",
       "      <td>0</td>\n",
       "      <td>ST</td>\n",
       "    </tr>\n",
       "    <tr>\n",
       "      <th>55</th>\n",
       "      <td>179844</td>\n",
       "      <td>Diego Costa</td>\n",
       "      <td>ST</td>\n",
       "      <td>86</td>\n",
       "      <td>28</td>\n",
       "      <td>186</td>\n",
       "      <td>87</td>\n",
       "      <td>Chelsea</td>\n",
       "      <td>English Premier League</td>\n",
       "      <td>SUB</td>\n",
       "      <td>...</td>\n",
       "      <td>0</td>\n",
       "      <td>0</td>\n",
       "      <td>0</td>\n",
       "      <td>0</td>\n",
       "      <td>0</td>\n",
       "      <td>0</td>\n",
       "      <td>0</td>\n",
       "      <td>0</td>\n",
       "      <td>0</td>\n",
       "      <td>ST</td>\n",
       "    </tr>\n",
       "    <tr>\n",
       "      <th>63</th>\n",
       "      <td>192505</td>\n",
       "      <td>R. Lukaku</td>\n",
       "      <td>ST</td>\n",
       "      <td>86</td>\n",
       "      <td>24</td>\n",
       "      <td>190</td>\n",
       "      <td>94</td>\n",
       "      <td>Manchester United</td>\n",
       "      <td>English Premier League</td>\n",
       "      <td>ST</td>\n",
       "      <td>...</td>\n",
       "      <td>0</td>\n",
       "      <td>0</td>\n",
       "      <td>0</td>\n",
       "      <td>0</td>\n",
       "      <td>0</td>\n",
       "      <td>0</td>\n",
       "      <td>0</td>\n",
       "      <td>0</td>\n",
       "      <td>0</td>\n",
       "      <td>ST</td>\n",
       "    </tr>\n",
       "  </tbody>\n",
       "</table>\n",
       "<p>10 rows × 73 columns</p>\n",
       "</div>"
      ],
      "text/plain": [
       "    sofifa_id      short_name player_positions  overall  age  height_cm   \n",
       "3      176580       L. Suárez               ST       92   30        182  \\\n",
       "5      188545  R. Lewandowski               ST       91   28        185   \n",
       "7      167664      G. Higuaín               ST       90   29        184   \n",
       "13     153079       S. Agüero               ST       89   29        173   \n",
       "28     188567   P. Aubameyang               ST       88   28        187   \n",
       "30     194765    A. Griezmann       ST, RW, LW       88   26        174   \n",
       "40     179813       E. Cavani               ST       87   30        184   \n",
       "49     165153      K. Benzema               ST       86   29        187   \n",
       "55     179844     Diego Costa               ST       86   28        186   \n",
       "63     192505       R. Lukaku               ST       86   24        190   \n",
       "\n",
       "    weight_kg            club_name             league_name club_position  ...   \n",
       "3          86         FC Barcelona  Spain Primera Division            ST  ...  \\\n",
       "5          79    FC Bayern München    German 1. Bundesliga            ST  ...   \n",
       "7          87             Juventus         Italian Serie A            ST  ...   \n",
       "13         70      Manchester City  English Premier League            RS  ...   \n",
       "28         80    Borussia Dortmund    German 1. Bundesliga            ST  ...   \n",
       "30         72   Atlético de Madrid  Spain Primera Division            LS  ...   \n",
       "40         71  Paris Saint-Germain          French Ligue 1            ST  ...   \n",
       "49         79       Real Madrid CF  Spain Primera Division            ST  ...   \n",
       "55         87              Chelsea  English Premier League           SUB  ...   \n",
       "63         94    Manchester United  English Premier League            ST  ...   \n",
       "\n",
       "    CDM LM RM  CAM  LB  CF  RB  RWB  LWB  prime_pos  \n",
       "3     0  0  0    0   0   0   0    0    0         ST  \n",
       "5     0  0  0    0   0   0   0    0    0         ST  \n",
       "7     0  0  0    0   0   0   0    0    0         ST  \n",
       "13    0  0  0    0   0   0   0    0    0         ST  \n",
       "28    0  0  0    0   0   0   0    0    0         ST  \n",
       "30    0  0  0    0   0   0   0    0    0         ST  \n",
       "40    0  0  0    0   0   0   0    0    0         ST  \n",
       "49    0  0  0    0   0   0   0    0    0         ST  \n",
       "55    0  0  0    0   0   0   0    0    0         ST  \n",
       "63    0  0  0    0   0   0   0    0    0         ST  \n",
       "\n",
       "[10 rows x 73 columns]"
      ]
     },
     "execution_count": 7,
     "metadata": {},
     "output_type": "execute_result"
    }
   ],
   "source": [
    "same_pos = total[total['prime_pos']==position]\n",
    "same_pos.head(10)"
   ]
  },
  {
   "cell_type": "code",
   "execution_count": 8,
   "metadata": {},
   "outputs": [],
   "source": [
    "plot_combination = {\n",
    "    'midfielder': {\n",
    "        0: {\n",
    "            'x_attr': 'skill_long_passing',\n",
    "            'y_attr': 'mentality_vision',\n",
    "            'size_attr': 'attacking_short_passing',\n",
    "            'title': 'Long Passing vs Vision (w Short Passing)'\n",
    "        },\n",
    "        1: {\n",
    "            'x_attr': 'skill_ball_control',\n",
    "            'y_attr': 'skill_dribbling',\n",
    "            'size_attr': 'mentality_composure',\n",
    "            'title': 'Ball Control vs Dribbling (w Composure)'\n",
    "        },\n",
    "        2: {\n",
    "            'x_attr': 'physic',\n",
    "            'y_attr': 'power_strength',\n",
    "            'size_attr': 'movement_balance',\n",
    "            'title': 'Physicality vs Strength (w Balance)'\n",
    "        },\n",
    "        3: {\n",
    "            'x_attr': 'mentality_interceptions',\n",
    "            'y_attr': 'defending_marking_awareness',\n",
    "            'size_attr': 'mentality_positioning',\n",
    "            'title': 'Interceptions vs Marking Awareness (w Positioning)'\n",
    "        },\n",
    "        4: {\n",
    "            'x_attr': 'power_long_shots',\n",
    "            'y_attr': 'power_shot_power',\n",
    "            'size_attr': 'attacking_volleys',\n",
    "            'title': 'Long Shots vs Shot Power (w Volleys)'\n",
    "        },\n",
    "    },\n",
    "    'forward': {\n",
    "        0: {\n",
    "            'x_attr': 'attacking_finishing',\n",
    "            'y_attr': 'power_shot_power',\n",
    "            'size_attr': 'skill_curve',\n",
    "            'title': 'Finishing vs Shot Power (w Curve)'\n",
    "        },\n",
    "        1: {\n",
    "            'x_attr': 'mentality_positioning',\n",
    "            'y_attr': 'mentality_composure',\n",
    "            'size_attr': 'movement_reactions',\n",
    "            'title': 'Positioning vs Composure (w Reactions)'\n",
    "        },\n",
    "        2: {\n",
    "            'x_attr': 'skill_dribbling',\n",
    "            'y_attr': 'movement_agility',\n",
    "            'size_attr': 'movement_balance',\n",
    "            'title': 'Dribbling vs Agility (w Balance)'\n",
    "        },\n",
    "        3: {\n",
    "            'x_attr': 'attacking_heading_accuracy',\n",
    "            'y_attr': 'power_jumping',\n",
    "            'size_attr': 'power_strength',\n",
    "            'title': 'Heading Accuracy vs Jumping (w Strength)'\n",
    "        },\n",
    "        4: {\n",
    "            'x_attr': 'movement_acceleration',\n",
    "            'y_attr': 'movement_sprint_speed',\n",
    "            'size_attr': 'mentality_positioning',\n",
    "            'title': 'Acceleration vs Sprint Speed (w Positioning)'\n",
    "        },\n",
    "    },\n",
    "    'winger': {\n",
    "        0: {\n",
    "            'x_attr': 'skill_dribbling',\n",
    "            'y_attr': 'skill_ball_control',\n",
    "            'size_attr': 'movement_reactions',\n",
    "            'title': 'Dribbling vs Ball Control (w Reactions)'\n",
    "        },\n",
    "        1: {\n",
    "            'x_attr': 'movement_sprint_speed',\n",
    "            'y_attr': 'movement_acceleration',\n",
    "            'size_attr': 'movement_agility',\n",
    "            'title': 'Sprint Speed vs Acceleration (w Agility)'\n",
    "        },\n",
    "        2: {\n",
    "            'x_attr': 'attacking_crossing',\n",
    "            'y_attr': 'skill_curve',\n",
    "            'size_attr': 'mentality_vision',\n",
    "            'title': 'Crossing vs Curve (w Vision)'\n",
    "        },\n",
    "        3: {\n",
    "            'x_attr': 'attacking_finishing',\n",
    "            'y_attr': 'mentality_positioning',\n",
    "            'size_attr': 'mentality_composure',\n",
    "            'title': 'Finishing vs Positioning (w Composure)'\n",
    "        },\n",
    "        4: {\n",
    "            'x_attr': 'power_stamina',\n",
    "            'y_attr': 'movement_sprint_speed',\n",
    "            'size_attr': 'mentality_positioning',\n",
    "            'title': 'Stamina vs Sprint Speed (w Positioning)'\n",
    "        },\n",
    "    },\n",
    "    'fullwingback': {\n",
    "        0: {\n",
    "            'x_attr': 'movement_sprint_speed',\n",
    "            'y_attr': 'movement_acceleration',\n",
    "            'size_attr': 'movement_agility',\n",
    "            'title': 'Sprint Speed vs Acceleration (w Agility)'\n",
    "        },\n",
    "        1: {\n",
    "            'x_attr': 'defending_marking_awareness',\n",
    "            'y_attr': 'mentality_interceptions',\n",
    "            'size_attr': 'movement_reactions',\n",
    "            'title': 'Marking Awareness vs Interceptions (w Reactions)'\n",
    "        },\n",
    "        2: {\n",
    "            'x_attr': 'attacking_crossing',\n",
    "            'y_attr': 'power_stamina',\n",
    "            'size_attr': 'mentality_vision',\n",
    "            'title': 'Crossing vs Stamina (w Vision)'\n",
    "        },\n",
    "        3: {\n",
    "            'x_attr': 'defending_standing_tackle',\n",
    "            'y_attr': 'defending_sliding_tackle',\n",
    "            'size_attr': 'movement_balance',\n",
    "            'title': 'Standing Tackle vs Sliding Tackle (w Balance)'\n",
    "        },\n",
    "        4: {\n",
    "            'x_attr': 'power_strength',\n",
    "            'y_attr': 'mentality_aggression',\n",
    "            'size_attr': 'mentality_composure',\n",
    "            'title': 'Strength vs Aggression (w Composure)'\n",
    "        },\n",
    "    },\n",
    "    'centerback': {\n",
    "        0: {\n",
    "            'x_attr': 'defending_marking_awareness',\n",
    "            'y_attr': 'defending_standing_tackle',\n",
    "            'size_attr': 'mentality_aggression',\n",
    "            'title': 'Marking Awareness vs Standing Tackle (w Aggression)'\n",
    "        },\n",
    "        1: {\n",
    "            'x_attr': 'attacking_heading_accuracy',\n",
    "            'y_attr': 'power_jumping',\n",
    "            'size_attr': 'power_strength',\n",
    "            'title': 'Heading Accuracy vs Jumping (w Strength)'\n",
    "        },\n",
    "        2: {\n",
    "            'x_attr': 'power_strength',\n",
    "            'y_attr': 'mentality_aggression',\n",
    "            'size_attr': 'mentality_composure',\n",
    "            'title': 'Strength vs Aggression (w Composure)'\n",
    "        },\n",
    "        3: {\n",
    "            'x_attr': 'mentality_interceptions',\n",
    "            'y_attr': 'movement_reactions',\n",
    "            'size_attr': 'mentality_vision',\n",
    "            'title': 'Interceptions vs Reactions (w Visions)'\n",
    "        },\n",
    "        4: {\n",
    "            'x_attr': 'mentality_composure',\n",
    "            'y_attr': 'movement_reactions',\n",
    "            'size_attr': 'mentality_positioning',\n",
    "            'title': 'Composure vs Reactions (w Positioning)'\n",
    "        },\n",
    "    },\n",
    "    'keeper': {\n",
    "        0: {\n",
    "            'x_attr': 'goalkeeping_diving',\n",
    "            'y_attr': 'goalkeeping_reflexes',\n",
    "            'size_attr': 'movement_reactions',\n",
    "            'title': 'Marking Awareness vs Standing Tackle (w Aggression)'\n",
    "        },\n",
    "        1: {\n",
    "            'x_attr': 'goalkeeping_handling',\n",
    "            'y_attr': 'goalkeeping_positioning',\n",
    "            'size_attr': 'mentality_composure',\n",
    "            'title': 'Heading Accuracy vs Jumping (w Strength)'\n",
    "        },\n",
    "        2: {\n",
    "            'x_attr': 'goalkeeping_kicking',\n",
    "            'y_attr': 'mentality_vision',\n",
    "            'size_attr': 'mentality_composure',\n",
    "            'title': 'Strength vs Aggression (w Composure)'\n",
    "        },\n",
    "        3: {\n",
    "            'x_attr': 'goalkeeping_reflexes',\n",
    "            'y_attr': 'movement_reactions',\n",
    "            'size_attr': 'goalkeeping_speed',\n",
    "            'title': 'Interceptions vs Reactions (w Visions)'\n",
    "        },\n",
    "        4: {\n",
    "            'x_attr': 'power_jumping',\n",
    "            'y_attr': 'height_cm',\n",
    "            'size_attr': 'mentality_aggression',\n",
    "            'title': 'Composure vs Reactions (w Positioning)'\n",
    "        },\n",
    "    },\n",
    "}"
   ]
  },
  {
   "cell_type": "code",
   "execution_count": 9,
   "metadata": {},
   "outputs": [
    {
     "data": {
      "text/plain": [
       "'ST'"
      ]
     },
     "execution_count": 9,
     "metadata": {},
     "output_type": "execute_result"
    }
   ],
   "source": [
    "player['player_positions'].values[0].split(',')[0]"
   ]
  },
  {
   "cell_type": "code",
   "execution_count": 10,
   "metadata": {},
   "outputs": [],
   "source": [
    "player_pos = player['player_positions'].values[0].split(',')[0]\n",
    "midfielder = ['CM', 'CAM', 'CDM']\n",
    "forward = ['ST', 'CF']\n",
    "winger = ['LW', 'LM', 'RW', 'RM']\n",
    "fullwingback = ['LWB', 'LB', 'RWB', 'RB']\n",
    "centerback = ['CB']\n",
    "keeper = ['GK']\n",
    "\n",
    "if player_pos in midfielder: player_type = 'midfielder'\n",
    "if player_pos in forward: player_type = 'forward'\n",
    "if player_pos in winger: player_type = 'winger'\n",
    "if player_pos in fullwingback: player_type = 'fullwingback'\n",
    "if player_pos in centerback: player_type = 'centerback'\n",
    "if player_pos in keeper: player_type = 'keeper'\n"
   ]
  },
  {
   "cell_type": "code",
   "execution_count": 11,
   "metadata": {},
   "outputs": [],
   "source": [
    "def get_plots(x_attr, y_attr, size_attr, comparison_set, title):\n",
    "  import plotly.express as px\n",
    "  import plotly.graph_objects as go\n",
    "  fig = px.scatter(\n",
    "      comparison_set, x=x_attr, y=y_attr,\n",
    "      hover_data=['short_name'], \n",
    "      size=size_attr, size_max=15, \n",
    "      color_discrete_sequence=['#13FFFF'],\n",
    "      template='plotly_dark'\n",
    "  )\n",
    "\n",
    "  fig.add_trace(\n",
    "      go.Scatter(\n",
    "          x=player[x_attr], \n",
    "          y=player[y_attr], \n",
    "          customdata=[dict(\n",
    "              x_attr=player[x_attr].name,\n",
    "              y_attr=player[y_attr].name,\n",
    "              size_attr=player[size_attr].name\n",
    "          )],\n",
    "          text=player['short_name'],\n",
    "          textposition='top center',\n",
    "          textfont=dict(color='white'),\n",
    "          mode='lines+markers+text',\n",
    "          name='',\n",
    "          hovertemplate='%{customdata.x_attr}=%{x}<br>'+\n",
    "                        '%{customdata.y_attr}=%{y}<br>'+\n",
    "                        '%{customdata.size_attr}=%{marker.size}<br>'+\n",
    "                        'short_name=%{text}',\n",
    "          marker_size=player[size_attr],\n",
    "          marker_sizeref=4,\n",
    "          marker_color='#FF1313',\n",
    "      )\n",
    "  )\n",
    "\n",
    "  fig.update_traces(showlegend=False)\n",
    "  fig.update_layout(\n",
    "    width=800,\n",
    "    height=500,\n",
    "    title={\n",
    "    'text': title,\n",
    "    'x': 0.5,\n",
    "    'y': 0.9,\n",
    "    'xanchor': 'center',\n",
    "    'yanchor': 'top',\n",
    "  })\n",
    "  fig.show()"
   ]
  },
  {
   "cell_type": "code",
   "execution_count": 12,
   "metadata": {},
   "outputs": [
    {
     "data": {
      "application/vnd.plotly.v1+json": {
       "config": {
        "plotlyServerURL": "https://plot.ly"
       },
       "data": [
        {
         "customdata": [
          [
           "G. Cahill"
          ],
          [
           "D. Alli"
          ],
          [
           "A. Lallana"
          ],
          [
           "K. Walker"
          ],
          [
           "J. Hart"
          ],
          [
           "L. Baines"
          ],
          [
           "D. Rose"
          ],
          [
           "D. Sturridge"
          ],
          [
           "J. Henderson"
          ],
          [
           "N. Clyne"
          ],
          [
           "E. Dier"
          ],
          [
           "R. Sterling"
          ],
          [
           "W. Rooney"
          ],
          [
           "T. Heaton"
          ],
          [
           "J. Wilshere"
          ],
          [
           "C. Smalling"
          ],
          [
           "R. Barkley"
          ],
          [
           "J. Butland"
          ],
          [
           "M. Keane"
          ],
          [
           "J. Vardy"
          ],
          [
           "M. Carrick"
          ],
          [
           "J. Defoe"
          ],
          [
           "P. Jagielka"
          ],
          [
           "J. Milner"
          ],
          [
           "B. Foster"
          ],
          [
           "T. Walcott"
          ],
          [
           "R. Bertrand"
          ],
          [
           "D. Welbeck"
          ],
          [
           "M. Antonio"
          ],
          [
           "A. Oxlade-Chamberlain"
          ],
          [
           "M. Rashford"
          ],
          [
           "G. Barry"
          ],
          [
           "R. Shawcross"
          ],
          [
           "D. Drinkwater"
          ],
          [
           "P. Jones"
          ],
          [
           "J. Stones"
          ],
          [
           "L. Shaw"
          ],
          [
           "S. Dann"
          ],
          [
           "J. Cork"
          ],
          [
           "A. Carroll"
          ],
          [
           "T. Deeney"
          ],
          [
           "K. Gibbs"
          ],
          [
           "K. Trippier"
          ],
          [
           "B. Mee"
          ],
          [
           "A. Townsend"
          ],
          [
           "C. Austin"
          ],
          [
           "J. Ward-Prowse"
          ],
          [
           "J. Lingard"
          ],
          [
           "L. Britton"
          ],
          [
           "F. Forster"
          ],
          [
           "M. Albrighton"
          ],
          [
           "F. Delph"
          ],
          [
           "J. Shelvey"
          ],
          [
           "S. Cook"
          ],
          [
           "A. Gray"
          ],
          [
           "N. Redmond"
          ],
          [
           "H. Maguire"
          ],
          [
           "J. Pickford"
          ],
          [
           "S. Francis"
          ],
          [
           "M. Noble"
          ],
          [
           "J. Rodriguez"
          ],
          [
           "J. Tomkins"
          ],
          [
           "A. Cresswell"
          ],
          [
           "T. Cleverley"
          ],
          [
           "D. Ings"
          ],
          [
           "M. Lowton"
          ],
          [
           "S. Berahino"
          ],
          [
           "W. Routledge"
          ],
          [
           "G. Johnson"
          ],
          [
           "A. Young"
          ],
          [
           "D. Simpson"
          ],
          [
           "C. Daniels"
          ],
          [
           "A. Surman"
          ],
          [
           "J. Ward"
          ],
          [
           "K. Naughton"
          ],
          [
           "J. Livermore"
          ],
          [
           "C. Dawson"
          ],
          [
           "C. Wilson"
          ],
          [
           "L. Dunk"
          ],
          [
           "D. Gayle"
          ],
          [
           "N. Chalobah"
          ],
          [
           "W. Hughes"
          ],
          [
           "P. Crouch"
          ],
          [
           "J. Puncheon"
          ],
          [
           "D. Stephens"
          ],
          [
           "J. Hogg"
          ],
          [
           "T. Ince"
          ],
          [
           "L. Grant"
          ],
          [
           "M. Pugh"
          ],
          [
           "G. Murray"
          ],
          [
           "M. Kelly"
          ],
          [
           "D. Gosling"
          ],
          [
           "K. Bartley"
          ],
          [
           "A. Westwood"
          ],
          [
           "J. Stanislas"
          ],
          [
           "A. Smith"
          ],
          [
           "T. Carroll"
          ],
          [
           "J. Tarkowski"
          ],
          [
           "J. Lascelles"
          ],
          [
           "C. Taylor"
          ],
          [
           "A. Mawson"
          ],
          [
           "S. Byram"
          ],
          [
           "D. Gray"
          ],
          [
           "T. Davies"
          ],
          [
           "T. Abraham"
          ],
          [
           "D. Marney"
          ],
          [
           "M. James"
          ],
          [
           "S. Clucas"
          ],
          [
           "T. Smith"
          ],
          [
           "H. Winks"
          ],
          [
           "R. Aarons"
          ],
          [
           "R. Holding"
          ],
          [
           "S. Sidwell"
          ],
          [
           "S. Malone"
          ],
          [
           "J. Stephens"
          ],
          [
           "J. Ibe"
          ],
          [
           "I. Hayden"
          ],
          [
           "S. March"
          ],
          [
           "T. Mings"
          ],
          [
           "I. Brown"
          ],
          [
           "L. Cook"
          ],
          [
           "K. Palmer"
          ],
          [
           "S. Baldock"
          ],
          [
           "J. Mutch"
          ],
          [
           "K. Darlow"
          ],
          [
           "J. Murphy"
          ],
          [
           "J. Gomez"
          ],
          [
           "D. Solanke"
          ],
          [
           "B. Chilwell"
          ],
          [
           "R. Loftus-Cheek"
          ],
          [
           "M. Targett"
          ],
          [
           "R. Kent"
          ],
          [
           "T. Alexander-Arnold"
          ],
          [
           "M. Cranie"
          ],
          [
           "N. Pope"
          ],
          [
           "S. Kaikai"
          ],
          [
           "J. Sims"
          ],
          [
           "M. Holgate"
          ],
          [
           "D. Whitehead"
          ],
          [
           "S. Taylor"
          ],
          [
           "R. Oxford"
          ],
          [
           "D. Calvert-Lewin"
          ],
          [
           "J. Lolley"
          ],
          [
           "A. Maitland-Niles"
          ],
          [
           "P. Foden"
          ],
          [
           "A. Lookman"
          ],
          [
           "S. Field"
          ],
          [
           "J. Sinclair"
          ],
          [
           "J. Coleman"
          ],
          [
           "J. Tymon"
          ],
          [
           "T. Reid"
          ],
          [
           "A. Palmer"
          ],
          [
           "T. Akinola"
          ]
         ],
         "hovertemplate": "attacking_finishing=%{x}<br>power_shot_power=%{y}<br>skill_curve=%{marker.size}<br>short_name=%{customdata[0]}<extra></extra>",
         "legendgroup": "",
         "marker": {
          "color": "#13FFFF",
          "size": [
           48,
           71,
           77,
           76,
           17,
           81,
           64,
           62,
           80,
           64,
           54,
           64,
           84,
           15,
           80,
           49,
           68,
           12,
           53,
           59,
           68,
           63,
           55,
           81,
           15,
           76,
           74,
           61,
           66,
           67,
           74,
           78,
           34,
           72,
           38,
           46,
           63,
           30,
           73,
           53,
           68,
           64,
           80,
           38,
           71,
           59,
           88,
           74,
           61,
           10,
           82,
           72,
           66,
           22,
           57,
           69,
           29,
           18,
           51,
           71,
           69,
           33,
           76,
           59,
           57,
           68,
           63,
           61,
           69,
           86,
           44,
           67,
           61,
           43,
           43,
           69,
           45,
           62,
           23,
           54,
           51,
           56,
           57,
           75,
           67,
           46,
           75,
           17,
           60,
           57,
           60,
           57,
           33,
           71,
           71,
           59,
           66,
           51,
           29,
           69,
           22,
           55,
           70,
           43,
           50,
           65,
           68,
           65,
           59,
           65,
           69,
           33,
           70,
           40,
           55,
           65,
           45,
           70,
           45,
           57,
           51,
           65,
           65,
           75,
           19,
           75,
           41,
           54,
           60,
           31,
           63,
           54,
           73,
           37,
           11,
           62,
           58,
           39,
           65,
           13,
           35,
           42,
           63,
           44,
           58,
           48,
           49,
           48,
           20,
           47,
           34,
           15,
           19
          ],
          "sizemode": "area",
          "sizeref": 0.39111111111111113,
          "symbol": "circle"
         },
         "mode": "markers",
         "name": "",
         "orientation": "v",
         "showlegend": false,
         "type": "scatter",
         "x": [
          56,
          84,
          79,
          51,
          14,
          63,
          57,
          83,
          67,
          54,
          52,
          73,
          80,
          12,
          64,
          50,
          69,
          16,
          50,
          83,
          59,
          87,
          30,
          66,
          18,
          77,
          50,
          75,
          74,
          68,
          79,
          56,
          53,
          58,
          50,
          29,
          44,
          40,
          57,
          77,
          80,
          47,
          45,
          27,
          72,
          82,
          61,
          72,
          55,
          13,
          69,
          63,
          67,
          24,
          80,
          69,
          30,
          19,
          25,
          60,
          77,
          29,
          53,
          64,
          77,
          52,
          80,
          69,
          54,
          65,
          27,
          50,
          63,
          46,
          45,
          64,
          49,
          79,
          37,
          79,
          55,
          61,
          76,
          68,
          63,
          54,
          71,
          17,
          68,
          77,
          38,
          65,
          24,
          47,
          70,
          43,
          57,
          36,
          23,
          49,
          52,
          59,
          64,
          64,
          73,
          65,
          59,
          66,
          38,
          54,
          62,
          30,
          67,
          57,
          36,
          65,
          47,
          66,
          35,
          66,
          56,
          65,
          70,
          62,
          14,
          66,
          26,
          70,
          45,
          61,
          36,
          59,
          56,
          38,
          14,
          65,
          59,
          37,
          54,
          11,
          22,
          69,
          60,
          51,
          55,
          68,
          41,
          65,
          17,
          27,
          31,
          14,
          21
         ],
         "xaxis": "x",
         "y": [
          63,
          77,
          72,
          86,
          65,
          84,
          72,
          83,
          75,
          74,
          83,
          68,
          86,
          14,
          75,
          42,
          80,
          29,
          58,
          85,
          78,
          88,
          69,
          85,
          27,
          76,
          59,
          77,
          76,
          75,
          82,
          77,
          44,
          77,
          68,
          46,
          62,
          52,
          70,
          85,
          86,
          67,
          77,
          60,
          82,
          83,
          74,
          76,
          51,
          36,
          72,
          80,
          85,
          47,
          80,
          71,
          54,
          31,
          64,
          74,
          74,
          40,
          71,
          74,
          74,
          72,
          81,
          68,
          79,
          75,
          37,
          68,
          67,
          68,
          68,
          72,
          57,
          69,
          42,
          73,
          71,
          58,
          74,
          74,
          67,
          61,
          70,
          24,
          67,
          74,
          61,
          71,
          36,
          62,
          70,
          72,
          59,
          63,
          40,
          63,
          53,
          66,
          74,
          70,
          75,
          74,
          72,
          67,
          29,
          63,
          70,
          48,
          76,
          69,
          49,
          79,
          58,
          74,
          41,
          64,
          60,
          67,
          69,
          76,
          13,
          73,
          41,
          68,
          39,
          51,
          34,
          53,
          62,
          65,
          17,
          65,
          64,
          51,
          67,
          25,
          49,
          65,
          57,
          58,
          65,
          70,
          68,
          59,
          22,
          48,
          32,
          21,
          27
         ],
         "yaxis": "y"
        },
        {
         "customdata": [
          {
           "size_attr": "skill_curve",
           "x_attr": "attacking_finishing",
           "y_attr": "power_shot_power"
          }
         ],
         "hovertemplate": "%{customdata.x_attr}=%{x}<br>%{customdata.y_attr}=%{y}<br>%{customdata.size_attr}=%{marker.size}<br>short_name=%{text}",
         "marker": {
          "color": "#FF1313",
          "size": [
           71
          ],
          "sizeref": 4
         },
         "mode": "lines+markers+text",
         "name": "",
         "showlegend": false,
         "text": [
          "H. Kane"
         ],
         "textfont": {
          "color": "white"
         },
         "textposition": "top center",
         "type": "scatter",
         "x": [
          90
         ],
         "y": [
          87
         ]
        }
       ],
       "layout": {
        "height": 500,
        "legend": {
         "itemsizing": "constant",
         "tracegroupgap": 0
        },
        "margin": {
         "t": 60
        },
        "template": {
         "data": {
          "bar": [
           {
            "error_x": {
             "color": "#f2f5fa"
            },
            "error_y": {
             "color": "#f2f5fa"
            },
            "marker": {
             "line": {
              "color": "rgb(17,17,17)",
              "width": 0.5
             },
             "pattern": {
              "fillmode": "overlay",
              "size": 10,
              "solidity": 0.2
             }
            },
            "type": "bar"
           }
          ],
          "barpolar": [
           {
            "marker": {
             "line": {
              "color": "rgb(17,17,17)",
              "width": 0.5
             },
             "pattern": {
              "fillmode": "overlay",
              "size": 10,
              "solidity": 0.2
             }
            },
            "type": "barpolar"
           }
          ],
          "carpet": [
           {
            "aaxis": {
             "endlinecolor": "#A2B1C6",
             "gridcolor": "#506784",
             "linecolor": "#506784",
             "minorgridcolor": "#506784",
             "startlinecolor": "#A2B1C6"
            },
            "baxis": {
             "endlinecolor": "#A2B1C6",
             "gridcolor": "#506784",
             "linecolor": "#506784",
             "minorgridcolor": "#506784",
             "startlinecolor": "#A2B1C6"
            },
            "type": "carpet"
           }
          ],
          "choropleth": [
           {
            "colorbar": {
             "outlinewidth": 0,
             "ticks": ""
            },
            "type": "choropleth"
           }
          ],
          "contour": [
           {
            "colorbar": {
             "outlinewidth": 0,
             "ticks": ""
            },
            "colorscale": [
             [
              0,
              "#0d0887"
             ],
             [
              0.1111111111111111,
              "#46039f"
             ],
             [
              0.2222222222222222,
              "#7201a8"
             ],
             [
              0.3333333333333333,
              "#9c179e"
             ],
             [
              0.4444444444444444,
              "#bd3786"
             ],
             [
              0.5555555555555556,
              "#d8576b"
             ],
             [
              0.6666666666666666,
              "#ed7953"
             ],
             [
              0.7777777777777778,
              "#fb9f3a"
             ],
             [
              0.8888888888888888,
              "#fdca26"
             ],
             [
              1,
              "#f0f921"
             ]
            ],
            "type": "contour"
           }
          ],
          "contourcarpet": [
           {
            "colorbar": {
             "outlinewidth": 0,
             "ticks": ""
            },
            "type": "contourcarpet"
           }
          ],
          "heatmap": [
           {
            "colorbar": {
             "outlinewidth": 0,
             "ticks": ""
            },
            "colorscale": [
             [
              0,
              "#0d0887"
             ],
             [
              0.1111111111111111,
              "#46039f"
             ],
             [
              0.2222222222222222,
              "#7201a8"
             ],
             [
              0.3333333333333333,
              "#9c179e"
             ],
             [
              0.4444444444444444,
              "#bd3786"
             ],
             [
              0.5555555555555556,
              "#d8576b"
             ],
             [
              0.6666666666666666,
              "#ed7953"
             ],
             [
              0.7777777777777778,
              "#fb9f3a"
             ],
             [
              0.8888888888888888,
              "#fdca26"
             ],
             [
              1,
              "#f0f921"
             ]
            ],
            "type": "heatmap"
           }
          ],
          "heatmapgl": [
           {
            "colorbar": {
             "outlinewidth": 0,
             "ticks": ""
            },
            "colorscale": [
             [
              0,
              "#0d0887"
             ],
             [
              0.1111111111111111,
              "#46039f"
             ],
             [
              0.2222222222222222,
              "#7201a8"
             ],
             [
              0.3333333333333333,
              "#9c179e"
             ],
             [
              0.4444444444444444,
              "#bd3786"
             ],
             [
              0.5555555555555556,
              "#d8576b"
             ],
             [
              0.6666666666666666,
              "#ed7953"
             ],
             [
              0.7777777777777778,
              "#fb9f3a"
             ],
             [
              0.8888888888888888,
              "#fdca26"
             ],
             [
              1,
              "#f0f921"
             ]
            ],
            "type": "heatmapgl"
           }
          ],
          "histogram": [
           {
            "marker": {
             "pattern": {
              "fillmode": "overlay",
              "size": 10,
              "solidity": 0.2
             }
            },
            "type": "histogram"
           }
          ],
          "histogram2d": [
           {
            "colorbar": {
             "outlinewidth": 0,
             "ticks": ""
            },
            "colorscale": [
             [
              0,
              "#0d0887"
             ],
             [
              0.1111111111111111,
              "#46039f"
             ],
             [
              0.2222222222222222,
              "#7201a8"
             ],
             [
              0.3333333333333333,
              "#9c179e"
             ],
             [
              0.4444444444444444,
              "#bd3786"
             ],
             [
              0.5555555555555556,
              "#d8576b"
             ],
             [
              0.6666666666666666,
              "#ed7953"
             ],
             [
              0.7777777777777778,
              "#fb9f3a"
             ],
             [
              0.8888888888888888,
              "#fdca26"
             ],
             [
              1,
              "#f0f921"
             ]
            ],
            "type": "histogram2d"
           }
          ],
          "histogram2dcontour": [
           {
            "colorbar": {
             "outlinewidth": 0,
             "ticks": ""
            },
            "colorscale": [
             [
              0,
              "#0d0887"
             ],
             [
              0.1111111111111111,
              "#46039f"
             ],
             [
              0.2222222222222222,
              "#7201a8"
             ],
             [
              0.3333333333333333,
              "#9c179e"
             ],
             [
              0.4444444444444444,
              "#bd3786"
             ],
             [
              0.5555555555555556,
              "#d8576b"
             ],
             [
              0.6666666666666666,
              "#ed7953"
             ],
             [
              0.7777777777777778,
              "#fb9f3a"
             ],
             [
              0.8888888888888888,
              "#fdca26"
             ],
             [
              1,
              "#f0f921"
             ]
            ],
            "type": "histogram2dcontour"
           }
          ],
          "mesh3d": [
           {
            "colorbar": {
             "outlinewidth": 0,
             "ticks": ""
            },
            "type": "mesh3d"
           }
          ],
          "parcoords": [
           {
            "line": {
             "colorbar": {
              "outlinewidth": 0,
              "ticks": ""
             }
            },
            "type": "parcoords"
           }
          ],
          "pie": [
           {
            "automargin": true,
            "type": "pie"
           }
          ],
          "scatter": [
           {
            "marker": {
             "line": {
              "color": "#283442"
             }
            },
            "type": "scatter"
           }
          ],
          "scatter3d": [
           {
            "line": {
             "colorbar": {
              "outlinewidth": 0,
              "ticks": ""
             }
            },
            "marker": {
             "colorbar": {
              "outlinewidth": 0,
              "ticks": ""
             }
            },
            "type": "scatter3d"
           }
          ],
          "scattercarpet": [
           {
            "marker": {
             "colorbar": {
              "outlinewidth": 0,
              "ticks": ""
             }
            },
            "type": "scattercarpet"
           }
          ],
          "scattergeo": [
           {
            "marker": {
             "colorbar": {
              "outlinewidth": 0,
              "ticks": ""
             }
            },
            "type": "scattergeo"
           }
          ],
          "scattergl": [
           {
            "marker": {
             "line": {
              "color": "#283442"
             }
            },
            "type": "scattergl"
           }
          ],
          "scattermapbox": [
           {
            "marker": {
             "colorbar": {
              "outlinewidth": 0,
              "ticks": ""
             }
            },
            "type": "scattermapbox"
           }
          ],
          "scatterpolar": [
           {
            "marker": {
             "colorbar": {
              "outlinewidth": 0,
              "ticks": ""
             }
            },
            "type": "scatterpolar"
           }
          ],
          "scatterpolargl": [
           {
            "marker": {
             "colorbar": {
              "outlinewidth": 0,
              "ticks": ""
             }
            },
            "type": "scatterpolargl"
           }
          ],
          "scatterternary": [
           {
            "marker": {
             "colorbar": {
              "outlinewidth": 0,
              "ticks": ""
             }
            },
            "type": "scatterternary"
           }
          ],
          "surface": [
           {
            "colorbar": {
             "outlinewidth": 0,
             "ticks": ""
            },
            "colorscale": [
             [
              0,
              "#0d0887"
             ],
             [
              0.1111111111111111,
              "#46039f"
             ],
             [
              0.2222222222222222,
              "#7201a8"
             ],
             [
              0.3333333333333333,
              "#9c179e"
             ],
             [
              0.4444444444444444,
              "#bd3786"
             ],
             [
              0.5555555555555556,
              "#d8576b"
             ],
             [
              0.6666666666666666,
              "#ed7953"
             ],
             [
              0.7777777777777778,
              "#fb9f3a"
             ],
             [
              0.8888888888888888,
              "#fdca26"
             ],
             [
              1,
              "#f0f921"
             ]
            ],
            "type": "surface"
           }
          ],
          "table": [
           {
            "cells": {
             "fill": {
              "color": "#506784"
             },
             "line": {
              "color": "rgb(17,17,17)"
             }
            },
            "header": {
             "fill": {
              "color": "#2a3f5f"
             },
             "line": {
              "color": "rgb(17,17,17)"
             }
            },
            "type": "table"
           }
          ]
         },
         "layout": {
          "annotationdefaults": {
           "arrowcolor": "#f2f5fa",
           "arrowhead": 0,
           "arrowwidth": 1
          },
          "autotypenumbers": "strict",
          "coloraxis": {
           "colorbar": {
            "outlinewidth": 0,
            "ticks": ""
           }
          },
          "colorscale": {
           "diverging": [
            [
             0,
             "#8e0152"
            ],
            [
             0.1,
             "#c51b7d"
            ],
            [
             0.2,
             "#de77ae"
            ],
            [
             0.3,
             "#f1b6da"
            ],
            [
             0.4,
             "#fde0ef"
            ],
            [
             0.5,
             "#f7f7f7"
            ],
            [
             0.6,
             "#e6f5d0"
            ],
            [
             0.7,
             "#b8e186"
            ],
            [
             0.8,
             "#7fbc41"
            ],
            [
             0.9,
             "#4d9221"
            ],
            [
             1,
             "#276419"
            ]
           ],
           "sequential": [
            [
             0,
             "#0d0887"
            ],
            [
             0.1111111111111111,
             "#46039f"
            ],
            [
             0.2222222222222222,
             "#7201a8"
            ],
            [
             0.3333333333333333,
             "#9c179e"
            ],
            [
             0.4444444444444444,
             "#bd3786"
            ],
            [
             0.5555555555555556,
             "#d8576b"
            ],
            [
             0.6666666666666666,
             "#ed7953"
            ],
            [
             0.7777777777777778,
             "#fb9f3a"
            ],
            [
             0.8888888888888888,
             "#fdca26"
            ],
            [
             1,
             "#f0f921"
            ]
           ],
           "sequentialminus": [
            [
             0,
             "#0d0887"
            ],
            [
             0.1111111111111111,
             "#46039f"
            ],
            [
             0.2222222222222222,
             "#7201a8"
            ],
            [
             0.3333333333333333,
             "#9c179e"
            ],
            [
             0.4444444444444444,
             "#bd3786"
            ],
            [
             0.5555555555555556,
             "#d8576b"
            ],
            [
             0.6666666666666666,
             "#ed7953"
            ],
            [
             0.7777777777777778,
             "#fb9f3a"
            ],
            [
             0.8888888888888888,
             "#fdca26"
            ],
            [
             1,
             "#f0f921"
            ]
           ]
          },
          "colorway": [
           "#636efa",
           "#EF553B",
           "#00cc96",
           "#ab63fa",
           "#FFA15A",
           "#19d3f3",
           "#FF6692",
           "#B6E880",
           "#FF97FF",
           "#FECB52"
          ],
          "font": {
           "color": "#f2f5fa"
          },
          "geo": {
           "bgcolor": "rgb(17,17,17)",
           "lakecolor": "rgb(17,17,17)",
           "landcolor": "rgb(17,17,17)",
           "showlakes": true,
           "showland": true,
           "subunitcolor": "#506784"
          },
          "hoverlabel": {
           "align": "left"
          },
          "hovermode": "closest",
          "mapbox": {
           "style": "dark"
          },
          "paper_bgcolor": "rgb(17,17,17)",
          "plot_bgcolor": "rgb(17,17,17)",
          "polar": {
           "angularaxis": {
            "gridcolor": "#506784",
            "linecolor": "#506784",
            "ticks": ""
           },
           "bgcolor": "rgb(17,17,17)",
           "radialaxis": {
            "gridcolor": "#506784",
            "linecolor": "#506784",
            "ticks": ""
           }
          },
          "scene": {
           "xaxis": {
            "backgroundcolor": "rgb(17,17,17)",
            "gridcolor": "#506784",
            "gridwidth": 2,
            "linecolor": "#506784",
            "showbackground": true,
            "ticks": "",
            "zerolinecolor": "#C8D4E3"
           },
           "yaxis": {
            "backgroundcolor": "rgb(17,17,17)",
            "gridcolor": "#506784",
            "gridwidth": 2,
            "linecolor": "#506784",
            "showbackground": true,
            "ticks": "",
            "zerolinecolor": "#C8D4E3"
           },
           "zaxis": {
            "backgroundcolor": "rgb(17,17,17)",
            "gridcolor": "#506784",
            "gridwidth": 2,
            "linecolor": "#506784",
            "showbackground": true,
            "ticks": "",
            "zerolinecolor": "#C8D4E3"
           }
          },
          "shapedefaults": {
           "line": {
            "color": "#f2f5fa"
           }
          },
          "sliderdefaults": {
           "bgcolor": "#C8D4E3",
           "bordercolor": "rgb(17,17,17)",
           "borderwidth": 1,
           "tickwidth": 0
          },
          "ternary": {
           "aaxis": {
            "gridcolor": "#506784",
            "linecolor": "#506784",
            "ticks": ""
           },
           "baxis": {
            "gridcolor": "#506784",
            "linecolor": "#506784",
            "ticks": ""
           },
           "bgcolor": "rgb(17,17,17)",
           "caxis": {
            "gridcolor": "#506784",
            "linecolor": "#506784",
            "ticks": ""
           }
          },
          "title": {
           "x": 0.05
          },
          "updatemenudefaults": {
           "bgcolor": "#506784",
           "borderwidth": 0
          },
          "xaxis": {
           "automargin": true,
           "gridcolor": "#283442",
           "linecolor": "#506784",
           "ticks": "",
           "title": {
            "standoff": 15
           },
           "zerolinecolor": "#283442",
           "zerolinewidth": 2
          },
          "yaxis": {
           "automargin": true,
           "gridcolor": "#283442",
           "linecolor": "#506784",
           "ticks": "",
           "title": {
            "standoff": 15
           },
           "zerolinecolor": "#283442",
           "zerolinewidth": 2
          }
         }
        },
        "title": {
         "text": "Finishing vs Shot Power (w Curve)",
         "x": 0.5,
         "xanchor": "center",
         "y": 0.9,
         "yanchor": "top"
        },
        "width": 800,
        "xaxis": {
         "anchor": "y",
         "domain": [
          0,
          1
         ],
         "title": {
          "text": "attacking_finishing"
         }
        },
        "yaxis": {
         "anchor": "x",
         "domain": [
          0,
          1
         ],
         "title": {
          "text": "power_shot_power"
         }
        }
       }
      }
     },
     "metadata": {},
     "output_type": "display_data"
    },
    {
     "data": {
      "application/vnd.plotly.v1+json": {
       "config": {
        "plotlyServerURL": "https://plot.ly"
       },
       "data": [
        {
         "customdata": [
          [
           "G. Cahill"
          ],
          [
           "D. Alli"
          ],
          [
           "A. Lallana"
          ],
          [
           "K. Walker"
          ],
          [
           "J. Hart"
          ],
          [
           "L. Baines"
          ],
          [
           "D. Rose"
          ],
          [
           "D. Sturridge"
          ],
          [
           "J. Henderson"
          ],
          [
           "N. Clyne"
          ],
          [
           "E. Dier"
          ],
          [
           "R. Sterling"
          ],
          [
           "W. Rooney"
          ],
          [
           "T. Heaton"
          ],
          [
           "J. Wilshere"
          ],
          [
           "C. Smalling"
          ],
          [
           "R. Barkley"
          ],
          [
           "J. Butland"
          ],
          [
           "M. Keane"
          ],
          [
           "J. Vardy"
          ],
          [
           "M. Carrick"
          ],
          [
           "J. Defoe"
          ],
          [
           "P. Jagielka"
          ],
          [
           "J. Milner"
          ],
          [
           "B. Foster"
          ],
          [
           "T. Walcott"
          ],
          [
           "R. Bertrand"
          ],
          [
           "D. Welbeck"
          ],
          [
           "M. Antonio"
          ],
          [
           "A. Oxlade-Chamberlain"
          ],
          [
           "M. Rashford"
          ],
          [
           "G. Barry"
          ],
          [
           "R. Shawcross"
          ],
          [
           "D. Drinkwater"
          ],
          [
           "P. Jones"
          ],
          [
           "J. Stones"
          ],
          [
           "L. Shaw"
          ],
          [
           "S. Dann"
          ],
          [
           "J. Cork"
          ],
          [
           "A. Carroll"
          ],
          [
           "T. Deeney"
          ],
          [
           "K. Gibbs"
          ],
          [
           "K. Trippier"
          ],
          [
           "B. Mee"
          ],
          [
           "A. Townsend"
          ],
          [
           "C. Austin"
          ],
          [
           "J. Ward-Prowse"
          ],
          [
           "J. Lingard"
          ],
          [
           "L. Britton"
          ],
          [
           "F. Forster"
          ],
          [
           "M. Albrighton"
          ],
          [
           "F. Delph"
          ],
          [
           "J. Shelvey"
          ],
          [
           "S. Cook"
          ],
          [
           "A. Gray"
          ],
          [
           "N. Redmond"
          ],
          [
           "H. Maguire"
          ],
          [
           "J. Pickford"
          ],
          [
           "S. Francis"
          ],
          [
           "M. Noble"
          ],
          [
           "J. Rodriguez"
          ],
          [
           "J. Tomkins"
          ],
          [
           "A. Cresswell"
          ],
          [
           "T. Cleverley"
          ],
          [
           "D. Ings"
          ],
          [
           "M. Lowton"
          ],
          [
           "S. Berahino"
          ],
          [
           "W. Routledge"
          ],
          [
           "G. Johnson"
          ],
          [
           "A. Young"
          ],
          [
           "D. Simpson"
          ],
          [
           "C. Daniels"
          ],
          [
           "A. Surman"
          ],
          [
           "J. Ward"
          ],
          [
           "K. Naughton"
          ],
          [
           "J. Livermore"
          ],
          [
           "C. Dawson"
          ],
          [
           "C. Wilson"
          ],
          [
           "L. Dunk"
          ],
          [
           "D. Gayle"
          ],
          [
           "N. Chalobah"
          ],
          [
           "W. Hughes"
          ],
          [
           "P. Crouch"
          ],
          [
           "J. Puncheon"
          ],
          [
           "D. Stephens"
          ],
          [
           "J. Hogg"
          ],
          [
           "T. Ince"
          ],
          [
           "L. Grant"
          ],
          [
           "M. Pugh"
          ],
          [
           "G. Murray"
          ],
          [
           "M. Kelly"
          ],
          [
           "D. Gosling"
          ],
          [
           "K. Bartley"
          ],
          [
           "A. Westwood"
          ],
          [
           "J. Stanislas"
          ],
          [
           "A. Smith"
          ],
          [
           "T. Carroll"
          ],
          [
           "J. Tarkowski"
          ],
          [
           "J. Lascelles"
          ],
          [
           "C. Taylor"
          ],
          [
           "A. Mawson"
          ],
          [
           "S. Byram"
          ],
          [
           "D. Gray"
          ],
          [
           "T. Davies"
          ],
          [
           "T. Abraham"
          ],
          [
           "D. Marney"
          ],
          [
           "M. James"
          ],
          [
           "S. Clucas"
          ],
          [
           "T. Smith"
          ],
          [
           "H. Winks"
          ],
          [
           "R. Aarons"
          ],
          [
           "R. Holding"
          ],
          [
           "S. Sidwell"
          ],
          [
           "S. Malone"
          ],
          [
           "J. Stephens"
          ],
          [
           "J. Ibe"
          ],
          [
           "I. Hayden"
          ],
          [
           "S. March"
          ],
          [
           "T. Mings"
          ],
          [
           "I. Brown"
          ],
          [
           "L. Cook"
          ],
          [
           "K. Palmer"
          ],
          [
           "S. Baldock"
          ],
          [
           "J. Mutch"
          ],
          [
           "K. Darlow"
          ],
          [
           "J. Murphy"
          ],
          [
           "J. Gomez"
          ],
          [
           "D. Solanke"
          ],
          [
           "B. Chilwell"
          ],
          [
           "R. Loftus-Cheek"
          ],
          [
           "M. Targett"
          ],
          [
           "R. Kent"
          ],
          [
           "T. Alexander-Arnold"
          ],
          [
           "M. Cranie"
          ],
          [
           "N. Pope"
          ],
          [
           "S. Kaikai"
          ],
          [
           "J. Sims"
          ],
          [
           "M. Holgate"
          ],
          [
           "D. Whitehead"
          ],
          [
           "S. Taylor"
          ],
          [
           "R. Oxford"
          ],
          [
           "D. Calvert-Lewin"
          ],
          [
           "J. Lolley"
          ],
          [
           "A. Maitland-Niles"
          ],
          [
           "P. Foden"
          ],
          [
           "A. Lookman"
          ],
          [
           "S. Field"
          ],
          [
           "J. Sinclair"
          ],
          [
           "J. Coleman"
          ],
          [
           "J. Tymon"
          ],
          [
           "T. Reid"
          ],
          [
           "A. Palmer"
          ],
          [
           "T. Akinola"
          ]
         ],
         "hovertemplate": "mentality_positioning=%{x}<br>mentality_composure=%{y}<br>movement_reactions=%{marker.size}<br>short_name=%{customdata[0]}<extra></extra>",
         "legendgroup": "",
         "marker": {
          "color": "#13FFFF",
          "size": [
           85,
           85,
           78,
           81,
           77,
           83,
           82,
           82,
           79,
           76,
           76,
           79,
           83,
           74,
           80,
           78,
           77,
           73,
           76,
           86,
           85,
           81,
           74,
           84,
           72,
           77,
           76,
           78,
           76,
           74,
           76,
           79,
           73,
           79,
           76,
           75,
           77,
           77,
           77,
           77,
           74,
           77,
           72,
           74,
           71,
           78,
           74,
           75,
           78,
           70,
           71,
           72,
           72,
           75,
           72,
           65,
           67,
           68,
           73,
           73,
           77,
           73,
           68,
           77,
           74,
           76,
           71,
           73,
           74,
           79,
           76,
           70,
           69,
           73,
           70,
           74,
           69,
           70,
           72,
           74,
           69,
           75,
           82,
           73,
           73,
           73,
           68,
           67,
           69,
           74,
           73,
           69,
           62,
           76,
           67,
           73,
           69,
           69,
           69,
           71,
           64,
           74,
           64,
           65,
           71,
           75,
           69,
           64,
           72,
           68,
           59,
           68,
           74,
           71,
           65,
           64,
           67,
           59,
           67,
           63,
           69,
           59,
           68,
           68,
           65,
           64,
           65,
           63,
           64,
           60,
           59,
           59,
           60,
           60,
           53,
           56,
           62,
           65,
           73,
           68,
           62,
           57,
           57,
           62,
           62,
           59,
           62,
           54,
           55,
           54,
           63,
           49,
           43
          ],
          "sizemode": "area",
          "sizeref": 0.38222222222222224,
          "symbol": "circle"
         },
         "mode": "markers",
         "name": "",
         "orientation": "v",
         "showlegend": false,
         "type": "scatter",
         "x": [
          45,
          86,
          77,
          66,
          14,
          73,
          68,
          84,
          76,
          72,
          53,
          81,
          79,
          12,
          80,
          48,
          71,
          16,
          29,
          84,
          66,
          87,
          51,
          75,
          14,
          80,
          63,
          80,
          77,
          74,
          81,
          58,
          31,
          74,
          42,
          48,
          73,
          36,
          67,
          76,
          77,
          63,
          60,
          30,
          70,
          83,
          62,
          79,
          55,
          13,
          73,
          71,
          70,
          15,
          79,
          74,
          52,
          18,
          55,
          64,
          80,
          45,
          63,
          74,
          79,
          60,
          79,
          72,
          69,
          68,
          58,
          71,
          65,
          64,
          54,
          61,
          56,
          77,
          23,
          78,
          62,
          68,
          82,
          73,
          66,
          58,
          73,
          14,
          72,
          80,
          42,
          77,
          25,
          54,
          66,
          63,
          67,
          40,
          21,
          63,
          25,
          65,
          65,
          66,
          73,
          59,
          63,
          64,
          67,
          62,
          60,
          40,
          70,
          64,
          47,
          67,
          51,
          63,
          57,
          65,
          55,
          66,
          76,
          70,
          18,
          68,
          51,
          66,
          68,
          68,
          49,
          59,
          62,
          51,
          13,
          57,
          54,
          50,
          62,
          13,
          34,
          63,
          59,
          56,
          60,
          69,
          55,
          59,
          11,
          37,
          54,
          7,
          17
         ],
         "xaxis": "x",
         "y": [
          75,
          86,
          80,
          75,
          68,
          81,
          73,
          81,
          78,
          75,
          77,
          74,
          88,
          56,
          80,
          71,
          80,
          59,
          75,
          79,
          88,
          84,
          76,
          86,
          67,
          78,
          76,
          76,
          70,
          73,
          74,
          81,
          69,
          77,
          72,
          79,
          75,
          71,
          80,
          78,
          78,
          75,
          71,
          71,
          68,
          78,
          79,
          75,
          84,
          34,
          72,
          76,
          75,
          70,
          71,
          70,
          71,
          51,
          71,
          77,
          75,
          69,
          72,
          69,
          70,
          74,
          70,
          69,
          72,
          65,
          67,
          69,
          73,
          73,
          67,
          79,
          68,
          78,
          66,
          76,
          71,
          78,
          76,
          74,
          68,
          70,
          67,
          59,
          71,
          77,
          75,
          77,
          66,
          76,
          65,
          72,
          68,
          74,
          66,
          70,
          67,
          70,
          64,
          74,
          70,
          74,
          73,
          69,
          63,
          73,
          62,
          72,
          71,
          63,
          65,
          64,
          62,
          68,
          59,
          64,
          70,
          69,
          67,
          68,
          24,
          65,
          63,
          64,
          69,
          71,
          59,
          62,
          65,
          64,
          37,
          56,
          61,
          66,
          63,
          62,
          59,
          55,
          56,
          55,
          69,
          60,
          57,
          58,
          23,
          56,
          49,
          31,
          49
         ],
         "yaxis": "y"
        },
        {
         "customdata": [
          {
           "size_attr": "movement_reactions",
           "x_attr": "mentality_positioning",
           "y_attr": "mentality_composure"
          }
         ],
         "hovertemplate": "%{customdata.x_attr}=%{x}<br>%{customdata.y_attr}=%{y}<br>%{customdata.size_attr}=%{marker.size}<br>short_name=%{text}",
         "marker": {
          "color": "#FF1313",
          "size": [
           87
          ],
          "sizeref": 4
         },
         "mode": "lines+markers+text",
         "name": "",
         "showlegend": false,
         "text": [
          "H. Kane"
         ],
         "textfont": {
          "color": "white"
         },
         "textposition": "top center",
         "type": "scatter",
         "x": [
          89
         ],
         "y": [
          84
         ]
        }
       ],
       "layout": {
        "height": 500,
        "legend": {
         "itemsizing": "constant",
         "tracegroupgap": 0
        },
        "margin": {
         "t": 60
        },
        "template": {
         "data": {
          "bar": [
           {
            "error_x": {
             "color": "#f2f5fa"
            },
            "error_y": {
             "color": "#f2f5fa"
            },
            "marker": {
             "line": {
              "color": "rgb(17,17,17)",
              "width": 0.5
             },
             "pattern": {
              "fillmode": "overlay",
              "size": 10,
              "solidity": 0.2
             }
            },
            "type": "bar"
           }
          ],
          "barpolar": [
           {
            "marker": {
             "line": {
              "color": "rgb(17,17,17)",
              "width": 0.5
             },
             "pattern": {
              "fillmode": "overlay",
              "size": 10,
              "solidity": 0.2
             }
            },
            "type": "barpolar"
           }
          ],
          "carpet": [
           {
            "aaxis": {
             "endlinecolor": "#A2B1C6",
             "gridcolor": "#506784",
             "linecolor": "#506784",
             "minorgridcolor": "#506784",
             "startlinecolor": "#A2B1C6"
            },
            "baxis": {
             "endlinecolor": "#A2B1C6",
             "gridcolor": "#506784",
             "linecolor": "#506784",
             "minorgridcolor": "#506784",
             "startlinecolor": "#A2B1C6"
            },
            "type": "carpet"
           }
          ],
          "choropleth": [
           {
            "colorbar": {
             "outlinewidth": 0,
             "ticks": ""
            },
            "type": "choropleth"
           }
          ],
          "contour": [
           {
            "colorbar": {
             "outlinewidth": 0,
             "ticks": ""
            },
            "colorscale": [
             [
              0,
              "#0d0887"
             ],
             [
              0.1111111111111111,
              "#46039f"
             ],
             [
              0.2222222222222222,
              "#7201a8"
             ],
             [
              0.3333333333333333,
              "#9c179e"
             ],
             [
              0.4444444444444444,
              "#bd3786"
             ],
             [
              0.5555555555555556,
              "#d8576b"
             ],
             [
              0.6666666666666666,
              "#ed7953"
             ],
             [
              0.7777777777777778,
              "#fb9f3a"
             ],
             [
              0.8888888888888888,
              "#fdca26"
             ],
             [
              1,
              "#f0f921"
             ]
            ],
            "type": "contour"
           }
          ],
          "contourcarpet": [
           {
            "colorbar": {
             "outlinewidth": 0,
             "ticks": ""
            },
            "type": "contourcarpet"
           }
          ],
          "heatmap": [
           {
            "colorbar": {
             "outlinewidth": 0,
             "ticks": ""
            },
            "colorscale": [
             [
              0,
              "#0d0887"
             ],
             [
              0.1111111111111111,
              "#46039f"
             ],
             [
              0.2222222222222222,
              "#7201a8"
             ],
             [
              0.3333333333333333,
              "#9c179e"
             ],
             [
              0.4444444444444444,
              "#bd3786"
             ],
             [
              0.5555555555555556,
              "#d8576b"
             ],
             [
              0.6666666666666666,
              "#ed7953"
             ],
             [
              0.7777777777777778,
              "#fb9f3a"
             ],
             [
              0.8888888888888888,
              "#fdca26"
             ],
             [
              1,
              "#f0f921"
             ]
            ],
            "type": "heatmap"
           }
          ],
          "heatmapgl": [
           {
            "colorbar": {
             "outlinewidth": 0,
             "ticks": ""
            },
            "colorscale": [
             [
              0,
              "#0d0887"
             ],
             [
              0.1111111111111111,
              "#46039f"
             ],
             [
              0.2222222222222222,
              "#7201a8"
             ],
             [
              0.3333333333333333,
              "#9c179e"
             ],
             [
              0.4444444444444444,
              "#bd3786"
             ],
             [
              0.5555555555555556,
              "#d8576b"
             ],
             [
              0.6666666666666666,
              "#ed7953"
             ],
             [
              0.7777777777777778,
              "#fb9f3a"
             ],
             [
              0.8888888888888888,
              "#fdca26"
             ],
             [
              1,
              "#f0f921"
             ]
            ],
            "type": "heatmapgl"
           }
          ],
          "histogram": [
           {
            "marker": {
             "pattern": {
              "fillmode": "overlay",
              "size": 10,
              "solidity": 0.2
             }
            },
            "type": "histogram"
           }
          ],
          "histogram2d": [
           {
            "colorbar": {
             "outlinewidth": 0,
             "ticks": ""
            },
            "colorscale": [
             [
              0,
              "#0d0887"
             ],
             [
              0.1111111111111111,
              "#46039f"
             ],
             [
              0.2222222222222222,
              "#7201a8"
             ],
             [
              0.3333333333333333,
              "#9c179e"
             ],
             [
              0.4444444444444444,
              "#bd3786"
             ],
             [
              0.5555555555555556,
              "#d8576b"
             ],
             [
              0.6666666666666666,
              "#ed7953"
             ],
             [
              0.7777777777777778,
              "#fb9f3a"
             ],
             [
              0.8888888888888888,
              "#fdca26"
             ],
             [
              1,
              "#f0f921"
             ]
            ],
            "type": "histogram2d"
           }
          ],
          "histogram2dcontour": [
           {
            "colorbar": {
             "outlinewidth": 0,
             "ticks": ""
            },
            "colorscale": [
             [
              0,
              "#0d0887"
             ],
             [
              0.1111111111111111,
              "#46039f"
             ],
             [
              0.2222222222222222,
              "#7201a8"
             ],
             [
              0.3333333333333333,
              "#9c179e"
             ],
             [
              0.4444444444444444,
              "#bd3786"
             ],
             [
              0.5555555555555556,
              "#d8576b"
             ],
             [
              0.6666666666666666,
              "#ed7953"
             ],
             [
              0.7777777777777778,
              "#fb9f3a"
             ],
             [
              0.8888888888888888,
              "#fdca26"
             ],
             [
              1,
              "#f0f921"
             ]
            ],
            "type": "histogram2dcontour"
           }
          ],
          "mesh3d": [
           {
            "colorbar": {
             "outlinewidth": 0,
             "ticks": ""
            },
            "type": "mesh3d"
           }
          ],
          "parcoords": [
           {
            "line": {
             "colorbar": {
              "outlinewidth": 0,
              "ticks": ""
             }
            },
            "type": "parcoords"
           }
          ],
          "pie": [
           {
            "automargin": true,
            "type": "pie"
           }
          ],
          "scatter": [
           {
            "marker": {
             "line": {
              "color": "#283442"
             }
            },
            "type": "scatter"
           }
          ],
          "scatter3d": [
           {
            "line": {
             "colorbar": {
              "outlinewidth": 0,
              "ticks": ""
             }
            },
            "marker": {
             "colorbar": {
              "outlinewidth": 0,
              "ticks": ""
             }
            },
            "type": "scatter3d"
           }
          ],
          "scattercarpet": [
           {
            "marker": {
             "colorbar": {
              "outlinewidth": 0,
              "ticks": ""
             }
            },
            "type": "scattercarpet"
           }
          ],
          "scattergeo": [
           {
            "marker": {
             "colorbar": {
              "outlinewidth": 0,
              "ticks": ""
             }
            },
            "type": "scattergeo"
           }
          ],
          "scattergl": [
           {
            "marker": {
             "line": {
              "color": "#283442"
             }
            },
            "type": "scattergl"
           }
          ],
          "scattermapbox": [
           {
            "marker": {
             "colorbar": {
              "outlinewidth": 0,
              "ticks": ""
             }
            },
            "type": "scattermapbox"
           }
          ],
          "scatterpolar": [
           {
            "marker": {
             "colorbar": {
              "outlinewidth": 0,
              "ticks": ""
             }
            },
            "type": "scatterpolar"
           }
          ],
          "scatterpolargl": [
           {
            "marker": {
             "colorbar": {
              "outlinewidth": 0,
              "ticks": ""
             }
            },
            "type": "scatterpolargl"
           }
          ],
          "scatterternary": [
           {
            "marker": {
             "colorbar": {
              "outlinewidth": 0,
              "ticks": ""
             }
            },
            "type": "scatterternary"
           }
          ],
          "surface": [
           {
            "colorbar": {
             "outlinewidth": 0,
             "ticks": ""
            },
            "colorscale": [
             [
              0,
              "#0d0887"
             ],
             [
              0.1111111111111111,
              "#46039f"
             ],
             [
              0.2222222222222222,
              "#7201a8"
             ],
             [
              0.3333333333333333,
              "#9c179e"
             ],
             [
              0.4444444444444444,
              "#bd3786"
             ],
             [
              0.5555555555555556,
              "#d8576b"
             ],
             [
              0.6666666666666666,
              "#ed7953"
             ],
             [
              0.7777777777777778,
              "#fb9f3a"
             ],
             [
              0.8888888888888888,
              "#fdca26"
             ],
             [
              1,
              "#f0f921"
             ]
            ],
            "type": "surface"
           }
          ],
          "table": [
           {
            "cells": {
             "fill": {
              "color": "#506784"
             },
             "line": {
              "color": "rgb(17,17,17)"
             }
            },
            "header": {
             "fill": {
              "color": "#2a3f5f"
             },
             "line": {
              "color": "rgb(17,17,17)"
             }
            },
            "type": "table"
           }
          ]
         },
         "layout": {
          "annotationdefaults": {
           "arrowcolor": "#f2f5fa",
           "arrowhead": 0,
           "arrowwidth": 1
          },
          "autotypenumbers": "strict",
          "coloraxis": {
           "colorbar": {
            "outlinewidth": 0,
            "ticks": ""
           }
          },
          "colorscale": {
           "diverging": [
            [
             0,
             "#8e0152"
            ],
            [
             0.1,
             "#c51b7d"
            ],
            [
             0.2,
             "#de77ae"
            ],
            [
             0.3,
             "#f1b6da"
            ],
            [
             0.4,
             "#fde0ef"
            ],
            [
             0.5,
             "#f7f7f7"
            ],
            [
             0.6,
             "#e6f5d0"
            ],
            [
             0.7,
             "#b8e186"
            ],
            [
             0.8,
             "#7fbc41"
            ],
            [
             0.9,
             "#4d9221"
            ],
            [
             1,
             "#276419"
            ]
           ],
           "sequential": [
            [
             0,
             "#0d0887"
            ],
            [
             0.1111111111111111,
             "#46039f"
            ],
            [
             0.2222222222222222,
             "#7201a8"
            ],
            [
             0.3333333333333333,
             "#9c179e"
            ],
            [
             0.4444444444444444,
             "#bd3786"
            ],
            [
             0.5555555555555556,
             "#d8576b"
            ],
            [
             0.6666666666666666,
             "#ed7953"
            ],
            [
             0.7777777777777778,
             "#fb9f3a"
            ],
            [
             0.8888888888888888,
             "#fdca26"
            ],
            [
             1,
             "#f0f921"
            ]
           ],
           "sequentialminus": [
            [
             0,
             "#0d0887"
            ],
            [
             0.1111111111111111,
             "#46039f"
            ],
            [
             0.2222222222222222,
             "#7201a8"
            ],
            [
             0.3333333333333333,
             "#9c179e"
            ],
            [
             0.4444444444444444,
             "#bd3786"
            ],
            [
             0.5555555555555556,
             "#d8576b"
            ],
            [
             0.6666666666666666,
             "#ed7953"
            ],
            [
             0.7777777777777778,
             "#fb9f3a"
            ],
            [
             0.8888888888888888,
             "#fdca26"
            ],
            [
             1,
             "#f0f921"
            ]
           ]
          },
          "colorway": [
           "#636efa",
           "#EF553B",
           "#00cc96",
           "#ab63fa",
           "#FFA15A",
           "#19d3f3",
           "#FF6692",
           "#B6E880",
           "#FF97FF",
           "#FECB52"
          ],
          "font": {
           "color": "#f2f5fa"
          },
          "geo": {
           "bgcolor": "rgb(17,17,17)",
           "lakecolor": "rgb(17,17,17)",
           "landcolor": "rgb(17,17,17)",
           "showlakes": true,
           "showland": true,
           "subunitcolor": "#506784"
          },
          "hoverlabel": {
           "align": "left"
          },
          "hovermode": "closest",
          "mapbox": {
           "style": "dark"
          },
          "paper_bgcolor": "rgb(17,17,17)",
          "plot_bgcolor": "rgb(17,17,17)",
          "polar": {
           "angularaxis": {
            "gridcolor": "#506784",
            "linecolor": "#506784",
            "ticks": ""
           },
           "bgcolor": "rgb(17,17,17)",
           "radialaxis": {
            "gridcolor": "#506784",
            "linecolor": "#506784",
            "ticks": ""
           }
          },
          "scene": {
           "xaxis": {
            "backgroundcolor": "rgb(17,17,17)",
            "gridcolor": "#506784",
            "gridwidth": 2,
            "linecolor": "#506784",
            "showbackground": true,
            "ticks": "",
            "zerolinecolor": "#C8D4E3"
           },
           "yaxis": {
            "backgroundcolor": "rgb(17,17,17)",
            "gridcolor": "#506784",
            "gridwidth": 2,
            "linecolor": "#506784",
            "showbackground": true,
            "ticks": "",
            "zerolinecolor": "#C8D4E3"
           },
           "zaxis": {
            "backgroundcolor": "rgb(17,17,17)",
            "gridcolor": "#506784",
            "gridwidth": 2,
            "linecolor": "#506784",
            "showbackground": true,
            "ticks": "",
            "zerolinecolor": "#C8D4E3"
           }
          },
          "shapedefaults": {
           "line": {
            "color": "#f2f5fa"
           }
          },
          "sliderdefaults": {
           "bgcolor": "#C8D4E3",
           "bordercolor": "rgb(17,17,17)",
           "borderwidth": 1,
           "tickwidth": 0
          },
          "ternary": {
           "aaxis": {
            "gridcolor": "#506784",
            "linecolor": "#506784",
            "ticks": ""
           },
           "baxis": {
            "gridcolor": "#506784",
            "linecolor": "#506784",
            "ticks": ""
           },
           "bgcolor": "rgb(17,17,17)",
           "caxis": {
            "gridcolor": "#506784",
            "linecolor": "#506784",
            "ticks": ""
           }
          },
          "title": {
           "x": 0.05
          },
          "updatemenudefaults": {
           "bgcolor": "#506784",
           "borderwidth": 0
          },
          "xaxis": {
           "automargin": true,
           "gridcolor": "#283442",
           "linecolor": "#506784",
           "ticks": "",
           "title": {
            "standoff": 15
           },
           "zerolinecolor": "#283442",
           "zerolinewidth": 2
          },
          "yaxis": {
           "automargin": true,
           "gridcolor": "#283442",
           "linecolor": "#506784",
           "ticks": "",
           "title": {
            "standoff": 15
           },
           "zerolinecolor": "#283442",
           "zerolinewidth": 2
          }
         }
        },
        "title": {
         "text": "Positioning vs Composure (w Reactions)",
         "x": 0.5,
         "xanchor": "center",
         "y": 0.9,
         "yanchor": "top"
        },
        "width": 800,
        "xaxis": {
         "anchor": "y",
         "domain": [
          0,
          1
         ],
         "title": {
          "text": "mentality_positioning"
         }
        },
        "yaxis": {
         "anchor": "x",
         "domain": [
          0,
          1
         ],
         "title": {
          "text": "mentality_composure"
         }
        }
       }
      }
     },
     "metadata": {},
     "output_type": "display_data"
    },
    {
     "data": {
      "application/vnd.plotly.v1+json": {
       "config": {
        "plotlyServerURL": "https://plot.ly"
       },
       "data": [
        {
         "customdata": [
          [
           "G. Cahill"
          ],
          [
           "D. Alli"
          ],
          [
           "A. Lallana"
          ],
          [
           "K. Walker"
          ],
          [
           "J. Hart"
          ],
          [
           "L. Baines"
          ],
          [
           "D. Rose"
          ],
          [
           "D. Sturridge"
          ],
          [
           "J. Henderson"
          ],
          [
           "N. Clyne"
          ],
          [
           "E. Dier"
          ],
          [
           "R. Sterling"
          ],
          [
           "W. Rooney"
          ],
          [
           "T. Heaton"
          ],
          [
           "J. Wilshere"
          ],
          [
           "C. Smalling"
          ],
          [
           "R. Barkley"
          ],
          [
           "J. Butland"
          ],
          [
           "M. Keane"
          ],
          [
           "J. Vardy"
          ],
          [
           "M. Carrick"
          ],
          [
           "J. Defoe"
          ],
          [
           "P. Jagielka"
          ],
          [
           "J. Milner"
          ],
          [
           "B. Foster"
          ],
          [
           "T. Walcott"
          ],
          [
           "R. Bertrand"
          ],
          [
           "D. Welbeck"
          ],
          [
           "M. Antonio"
          ],
          [
           "A. Oxlade-Chamberlain"
          ],
          [
           "M. Rashford"
          ],
          [
           "G. Barry"
          ],
          [
           "R. Shawcross"
          ],
          [
           "D. Drinkwater"
          ],
          [
           "P. Jones"
          ],
          [
           "J. Stones"
          ],
          [
           "L. Shaw"
          ],
          [
           "S. Dann"
          ],
          [
           "J. Cork"
          ],
          [
           "A. Carroll"
          ],
          [
           "T. Deeney"
          ],
          [
           "K. Gibbs"
          ],
          [
           "K. Trippier"
          ],
          [
           "B. Mee"
          ],
          [
           "A. Townsend"
          ],
          [
           "C. Austin"
          ],
          [
           "J. Ward-Prowse"
          ],
          [
           "J. Lingard"
          ],
          [
           "L. Britton"
          ],
          [
           "F. Forster"
          ],
          [
           "M. Albrighton"
          ],
          [
           "F. Delph"
          ],
          [
           "J. Shelvey"
          ],
          [
           "S. Cook"
          ],
          [
           "A. Gray"
          ],
          [
           "N. Redmond"
          ],
          [
           "H. Maguire"
          ],
          [
           "J. Pickford"
          ],
          [
           "S. Francis"
          ],
          [
           "M. Noble"
          ],
          [
           "J. Rodriguez"
          ],
          [
           "J. Tomkins"
          ],
          [
           "A. Cresswell"
          ],
          [
           "T. Cleverley"
          ],
          [
           "D. Ings"
          ],
          [
           "M. Lowton"
          ],
          [
           "S. Berahino"
          ],
          [
           "W. Routledge"
          ],
          [
           "G. Johnson"
          ],
          [
           "A. Young"
          ],
          [
           "D. Simpson"
          ],
          [
           "C. Daniels"
          ],
          [
           "A. Surman"
          ],
          [
           "J. Ward"
          ],
          [
           "K. Naughton"
          ],
          [
           "J. Livermore"
          ],
          [
           "C. Dawson"
          ],
          [
           "C. Wilson"
          ],
          [
           "L. Dunk"
          ],
          [
           "D. Gayle"
          ],
          [
           "N. Chalobah"
          ],
          [
           "W. Hughes"
          ],
          [
           "P. Crouch"
          ],
          [
           "J. Puncheon"
          ],
          [
           "D. Stephens"
          ],
          [
           "J. Hogg"
          ],
          [
           "T. Ince"
          ],
          [
           "L. Grant"
          ],
          [
           "M. Pugh"
          ],
          [
           "G. Murray"
          ],
          [
           "M. Kelly"
          ],
          [
           "D. Gosling"
          ],
          [
           "K. Bartley"
          ],
          [
           "A. Westwood"
          ],
          [
           "J. Stanislas"
          ],
          [
           "A. Smith"
          ],
          [
           "T. Carroll"
          ],
          [
           "J. Tarkowski"
          ],
          [
           "J. Lascelles"
          ],
          [
           "C. Taylor"
          ],
          [
           "A. Mawson"
          ],
          [
           "S. Byram"
          ],
          [
           "D. Gray"
          ],
          [
           "T. Davies"
          ],
          [
           "T. Abraham"
          ],
          [
           "D. Marney"
          ],
          [
           "M. James"
          ],
          [
           "S. Clucas"
          ],
          [
           "T. Smith"
          ],
          [
           "H. Winks"
          ],
          [
           "R. Aarons"
          ],
          [
           "R. Holding"
          ],
          [
           "S. Sidwell"
          ],
          [
           "S. Malone"
          ],
          [
           "J. Stephens"
          ],
          [
           "J. Ibe"
          ],
          [
           "I. Hayden"
          ],
          [
           "S. March"
          ],
          [
           "T. Mings"
          ],
          [
           "I. Brown"
          ],
          [
           "L. Cook"
          ],
          [
           "K. Palmer"
          ],
          [
           "S. Baldock"
          ],
          [
           "J. Mutch"
          ],
          [
           "K. Darlow"
          ],
          [
           "J. Murphy"
          ],
          [
           "J. Gomez"
          ],
          [
           "D. Solanke"
          ],
          [
           "B. Chilwell"
          ],
          [
           "R. Loftus-Cheek"
          ],
          [
           "M. Targett"
          ],
          [
           "R. Kent"
          ],
          [
           "T. Alexander-Arnold"
          ],
          [
           "M. Cranie"
          ],
          [
           "N. Pope"
          ],
          [
           "S. Kaikai"
          ],
          [
           "J. Sims"
          ],
          [
           "M. Holgate"
          ],
          [
           "D. Whitehead"
          ],
          [
           "S. Taylor"
          ],
          [
           "R. Oxford"
          ],
          [
           "D. Calvert-Lewin"
          ],
          [
           "J. Lolley"
          ],
          [
           "A. Maitland-Niles"
          ],
          [
           "P. Foden"
          ],
          [
           "A. Lookman"
          ],
          [
           "S. Field"
          ],
          [
           "J. Sinclair"
          ],
          [
           "J. Coleman"
          ],
          [
           "J. Tymon"
          ],
          [
           "T. Reid"
          ],
          [
           "A. Palmer"
          ],
          [
           "T. Akinola"
          ]
         ],
         "hovertemplate": "skill_dribbling=%{x}<br>movement_agility=%{y}<br>movement_balance=%{marker.size}<br>short_name=%{customdata[0]}<extra></extra>",
         "legendgroup": "",
         "marker": {
          "color": "#13FFFF",
          "size": [
           51,
           62,
           76,
           72,
           32,
           84,
           76,
           64,
           71,
           76,
           40,
           92,
           77,
           52,
           85,
           48,
           58,
           35,
           64,
           77,
           62,
           88,
           62,
           73,
           50,
           79,
           68,
           63,
           76,
           88,
           78,
           60,
           53,
           78,
           61,
           57,
           75,
           54,
           70,
           49,
           73,
           74,
           76,
           72,
           72,
           55,
           79,
           84,
           91,
           42,
           81,
           86,
           65,
           69,
           75,
           86,
           55,
           46,
           58,
           74,
           64,
           53,
           90,
           77,
           79,
           71,
           71,
           87,
           67,
           77,
           80,
           72,
           72,
           61,
           70,
           72,
           50,
           77,
           44,
           80,
           58,
           78,
           28,
           83,
           66,
           72,
           81,
           45,
           66,
           73,
           55,
           71,
           32,
           79,
           62,
           69,
           74,
           60,
           52,
           73,
           51,
           70,
           82,
           75,
           60,
           67,
           70,
           63,
           63,
           73,
           79,
           69,
           69,
           65,
           58,
           80,
           61,
           79,
           54,
           71,
           80,
           74,
           83,
           63,
           64,
           77,
           66,
           69,
           70,
           68,
           63,
           84,
           75,
           63,
           45,
           76,
           78,
           57,
           62,
           51,
           54,
           71,
           64,
           70,
           79,
           80,
           76,
           72,
           65,
           73,
           60,
           34,
           54
          ],
          "sizemode": "area",
          "sizeref": 0.4088888888888889,
          "symbol": "circle"
         },
         "mode": "markers",
         "name": "",
         "orientation": "v",
         "showlegend": false,
         "type": "scatter",
         "x": [
          58,
          83,
          85,
          77,
          23,
          78,
          79,
          80,
          74,
          76,
          66,
          85,
          73,
          17,
          82,
          59,
          85,
          21,
          66,
          76,
          71,
          78,
          49,
          77,
          14,
          81,
          77,
          80,
          83,
          85,
          83,
          68,
          42,
          75,
          60,
          69,
          77,
          38,
          74,
          67,
          65,
          74,
          75,
          63,
          82,
          66,
          71,
          79,
          76,
          20,
          77,
          83,
          74,
          54,
          72,
          83,
          64,
          14,
          66,
          74,
          77,
          50,
          76,
          74,
          77,
          72,
          76,
          83,
          78,
          78,
          64,
          74,
          72,
          64,
          64,
          72,
          55,
          73,
          58,
          70,
          70,
          77,
          64,
          75,
          64,
          67,
          77,
          11,
          77,
          63,
          59,
          66,
          44,
          65,
          73,
          74,
          65,
          62,
          46,
          71,
          47,
          72,
          82,
          73,
          66,
          70,
          68,
          74,
          65,
          71,
          78,
          63,
          66,
          69,
          60,
          78,
          64,
          79,
          69,
          75,
          75,
          74,
          69,
          67,
          12,
          73,
          65,
          73,
          72,
          69,
          64,
          76,
          68,
          59,
          13,
          75,
          73,
          65,
          57,
          11,
          46,
          65,
          69,
          65,
          61,
          75,
          61,
          64,
          17,
          62,
          62,
          21,
          29
         ],
         "xaxis": "x",
         "y": [
          62,
          74,
          83,
          70,
          50,
          74,
          73,
          75,
          73,
          83,
          56,
          91,
          71,
          54,
          80,
          60,
          70,
          48,
          63,
          78,
          58,
          83,
          51,
          72,
          45,
          83,
          76,
          82,
          86,
          84,
          90,
          43,
          62,
          69,
          42,
          64,
          78,
          49,
          63,
          62,
          65,
          73,
          77,
          66,
          82,
          65,
          74,
          85,
          76,
          32,
          79,
          89,
          62,
          56,
          78,
          91,
          38,
          33,
          58,
          65,
          75,
          51,
          77,
          72,
          77,
          72,
          73,
          79,
          72,
          81,
          65,
          73,
          63,
          66,
          71,
          65,
          62,
          78,
          52,
          83,
          74,
          73,
          55,
          75,
          69,
          67,
          87,
          49,
          82,
          59,
          59,
          65,
          41,
          73,
          79,
          74,
          78,
          62,
          72,
          75,
          50,
          76,
          90,
          75,
          68,
          63,
          62,
          66,
          60,
          77,
          79,
          60,
          64,
          73,
          60,
          75,
          60,
          80,
          64,
          80,
          78,
          74,
          81,
          65,
          63,
          81,
          64,
          73,
          72,
          62,
          72,
          86,
          75,
          62,
          29,
          84,
          81,
          65,
          58,
          54,
          58,
          81,
          74,
          74,
          83,
          87,
          56,
          72,
          48,
          63,
          58,
          34,
          48
         ],
         "yaxis": "y"
        },
        {
         "customdata": [
          {
           "size_attr": "movement_balance",
           "x_attr": "skill_dribbling",
           "y_attr": "movement_agility"
          }
         ],
         "hovertemplate": "%{customdata.x_attr}=%{x}<br>%{customdata.y_attr}=%{y}<br>%{customdata.size_attr}=%{marker.size}<br>short_name=%{text}",
         "marker": {
          "color": "#FF1313",
          "size": [
           62
          ],
          "sizeref": 4
         },
         "mode": "lines+markers+text",
         "name": "",
         "showlegend": false,
         "text": [
          "H. Kane"
         ],
         "textfont": {
          "color": "white"
         },
         "textposition": "top center",
         "type": "scatter",
         "x": [
          78
         ],
         "y": [
          73
         ]
        }
       ],
       "layout": {
        "height": 500,
        "legend": {
         "itemsizing": "constant",
         "tracegroupgap": 0
        },
        "margin": {
         "t": 60
        },
        "template": {
         "data": {
          "bar": [
           {
            "error_x": {
             "color": "#f2f5fa"
            },
            "error_y": {
             "color": "#f2f5fa"
            },
            "marker": {
             "line": {
              "color": "rgb(17,17,17)",
              "width": 0.5
             },
             "pattern": {
              "fillmode": "overlay",
              "size": 10,
              "solidity": 0.2
             }
            },
            "type": "bar"
           }
          ],
          "barpolar": [
           {
            "marker": {
             "line": {
              "color": "rgb(17,17,17)",
              "width": 0.5
             },
             "pattern": {
              "fillmode": "overlay",
              "size": 10,
              "solidity": 0.2
             }
            },
            "type": "barpolar"
           }
          ],
          "carpet": [
           {
            "aaxis": {
             "endlinecolor": "#A2B1C6",
             "gridcolor": "#506784",
             "linecolor": "#506784",
             "minorgridcolor": "#506784",
             "startlinecolor": "#A2B1C6"
            },
            "baxis": {
             "endlinecolor": "#A2B1C6",
             "gridcolor": "#506784",
             "linecolor": "#506784",
             "minorgridcolor": "#506784",
             "startlinecolor": "#A2B1C6"
            },
            "type": "carpet"
           }
          ],
          "choropleth": [
           {
            "colorbar": {
             "outlinewidth": 0,
             "ticks": ""
            },
            "type": "choropleth"
           }
          ],
          "contour": [
           {
            "colorbar": {
             "outlinewidth": 0,
             "ticks": ""
            },
            "colorscale": [
             [
              0,
              "#0d0887"
             ],
             [
              0.1111111111111111,
              "#46039f"
             ],
             [
              0.2222222222222222,
              "#7201a8"
             ],
             [
              0.3333333333333333,
              "#9c179e"
             ],
             [
              0.4444444444444444,
              "#bd3786"
             ],
             [
              0.5555555555555556,
              "#d8576b"
             ],
             [
              0.6666666666666666,
              "#ed7953"
             ],
             [
              0.7777777777777778,
              "#fb9f3a"
             ],
             [
              0.8888888888888888,
              "#fdca26"
             ],
             [
              1,
              "#f0f921"
             ]
            ],
            "type": "contour"
           }
          ],
          "contourcarpet": [
           {
            "colorbar": {
             "outlinewidth": 0,
             "ticks": ""
            },
            "type": "contourcarpet"
           }
          ],
          "heatmap": [
           {
            "colorbar": {
             "outlinewidth": 0,
             "ticks": ""
            },
            "colorscale": [
             [
              0,
              "#0d0887"
             ],
             [
              0.1111111111111111,
              "#46039f"
             ],
             [
              0.2222222222222222,
              "#7201a8"
             ],
             [
              0.3333333333333333,
              "#9c179e"
             ],
             [
              0.4444444444444444,
              "#bd3786"
             ],
             [
              0.5555555555555556,
              "#d8576b"
             ],
             [
              0.6666666666666666,
              "#ed7953"
             ],
             [
              0.7777777777777778,
              "#fb9f3a"
             ],
             [
              0.8888888888888888,
              "#fdca26"
             ],
             [
              1,
              "#f0f921"
             ]
            ],
            "type": "heatmap"
           }
          ],
          "heatmapgl": [
           {
            "colorbar": {
             "outlinewidth": 0,
             "ticks": ""
            },
            "colorscale": [
             [
              0,
              "#0d0887"
             ],
             [
              0.1111111111111111,
              "#46039f"
             ],
             [
              0.2222222222222222,
              "#7201a8"
             ],
             [
              0.3333333333333333,
              "#9c179e"
             ],
             [
              0.4444444444444444,
              "#bd3786"
             ],
             [
              0.5555555555555556,
              "#d8576b"
             ],
             [
              0.6666666666666666,
              "#ed7953"
             ],
             [
              0.7777777777777778,
              "#fb9f3a"
             ],
             [
              0.8888888888888888,
              "#fdca26"
             ],
             [
              1,
              "#f0f921"
             ]
            ],
            "type": "heatmapgl"
           }
          ],
          "histogram": [
           {
            "marker": {
             "pattern": {
              "fillmode": "overlay",
              "size": 10,
              "solidity": 0.2
             }
            },
            "type": "histogram"
           }
          ],
          "histogram2d": [
           {
            "colorbar": {
             "outlinewidth": 0,
             "ticks": ""
            },
            "colorscale": [
             [
              0,
              "#0d0887"
             ],
             [
              0.1111111111111111,
              "#46039f"
             ],
             [
              0.2222222222222222,
              "#7201a8"
             ],
             [
              0.3333333333333333,
              "#9c179e"
             ],
             [
              0.4444444444444444,
              "#bd3786"
             ],
             [
              0.5555555555555556,
              "#d8576b"
             ],
             [
              0.6666666666666666,
              "#ed7953"
             ],
             [
              0.7777777777777778,
              "#fb9f3a"
             ],
             [
              0.8888888888888888,
              "#fdca26"
             ],
             [
              1,
              "#f0f921"
             ]
            ],
            "type": "histogram2d"
           }
          ],
          "histogram2dcontour": [
           {
            "colorbar": {
             "outlinewidth": 0,
             "ticks": ""
            },
            "colorscale": [
             [
              0,
              "#0d0887"
             ],
             [
              0.1111111111111111,
              "#46039f"
             ],
             [
              0.2222222222222222,
              "#7201a8"
             ],
             [
              0.3333333333333333,
              "#9c179e"
             ],
             [
              0.4444444444444444,
              "#bd3786"
             ],
             [
              0.5555555555555556,
              "#d8576b"
             ],
             [
              0.6666666666666666,
              "#ed7953"
             ],
             [
              0.7777777777777778,
              "#fb9f3a"
             ],
             [
              0.8888888888888888,
              "#fdca26"
             ],
             [
              1,
              "#f0f921"
             ]
            ],
            "type": "histogram2dcontour"
           }
          ],
          "mesh3d": [
           {
            "colorbar": {
             "outlinewidth": 0,
             "ticks": ""
            },
            "type": "mesh3d"
           }
          ],
          "parcoords": [
           {
            "line": {
             "colorbar": {
              "outlinewidth": 0,
              "ticks": ""
             }
            },
            "type": "parcoords"
           }
          ],
          "pie": [
           {
            "automargin": true,
            "type": "pie"
           }
          ],
          "scatter": [
           {
            "marker": {
             "line": {
              "color": "#283442"
             }
            },
            "type": "scatter"
           }
          ],
          "scatter3d": [
           {
            "line": {
             "colorbar": {
              "outlinewidth": 0,
              "ticks": ""
             }
            },
            "marker": {
             "colorbar": {
              "outlinewidth": 0,
              "ticks": ""
             }
            },
            "type": "scatter3d"
           }
          ],
          "scattercarpet": [
           {
            "marker": {
             "colorbar": {
              "outlinewidth": 0,
              "ticks": ""
             }
            },
            "type": "scattercarpet"
           }
          ],
          "scattergeo": [
           {
            "marker": {
             "colorbar": {
              "outlinewidth": 0,
              "ticks": ""
             }
            },
            "type": "scattergeo"
           }
          ],
          "scattergl": [
           {
            "marker": {
             "line": {
              "color": "#283442"
             }
            },
            "type": "scattergl"
           }
          ],
          "scattermapbox": [
           {
            "marker": {
             "colorbar": {
              "outlinewidth": 0,
              "ticks": ""
             }
            },
            "type": "scattermapbox"
           }
          ],
          "scatterpolar": [
           {
            "marker": {
             "colorbar": {
              "outlinewidth": 0,
              "ticks": ""
             }
            },
            "type": "scatterpolar"
           }
          ],
          "scatterpolargl": [
           {
            "marker": {
             "colorbar": {
              "outlinewidth": 0,
              "ticks": ""
             }
            },
            "type": "scatterpolargl"
           }
          ],
          "scatterternary": [
           {
            "marker": {
             "colorbar": {
              "outlinewidth": 0,
              "ticks": ""
             }
            },
            "type": "scatterternary"
           }
          ],
          "surface": [
           {
            "colorbar": {
             "outlinewidth": 0,
             "ticks": ""
            },
            "colorscale": [
             [
              0,
              "#0d0887"
             ],
             [
              0.1111111111111111,
              "#46039f"
             ],
             [
              0.2222222222222222,
              "#7201a8"
             ],
             [
              0.3333333333333333,
              "#9c179e"
             ],
             [
              0.4444444444444444,
              "#bd3786"
             ],
             [
              0.5555555555555556,
              "#d8576b"
             ],
             [
              0.6666666666666666,
              "#ed7953"
             ],
             [
              0.7777777777777778,
              "#fb9f3a"
             ],
             [
              0.8888888888888888,
              "#fdca26"
             ],
             [
              1,
              "#f0f921"
             ]
            ],
            "type": "surface"
           }
          ],
          "table": [
           {
            "cells": {
             "fill": {
              "color": "#506784"
             },
             "line": {
              "color": "rgb(17,17,17)"
             }
            },
            "header": {
             "fill": {
              "color": "#2a3f5f"
             },
             "line": {
              "color": "rgb(17,17,17)"
             }
            },
            "type": "table"
           }
          ]
         },
         "layout": {
          "annotationdefaults": {
           "arrowcolor": "#f2f5fa",
           "arrowhead": 0,
           "arrowwidth": 1
          },
          "autotypenumbers": "strict",
          "coloraxis": {
           "colorbar": {
            "outlinewidth": 0,
            "ticks": ""
           }
          },
          "colorscale": {
           "diverging": [
            [
             0,
             "#8e0152"
            ],
            [
             0.1,
             "#c51b7d"
            ],
            [
             0.2,
             "#de77ae"
            ],
            [
             0.3,
             "#f1b6da"
            ],
            [
             0.4,
             "#fde0ef"
            ],
            [
             0.5,
             "#f7f7f7"
            ],
            [
             0.6,
             "#e6f5d0"
            ],
            [
             0.7,
             "#b8e186"
            ],
            [
             0.8,
             "#7fbc41"
            ],
            [
             0.9,
             "#4d9221"
            ],
            [
             1,
             "#276419"
            ]
           ],
           "sequential": [
            [
             0,
             "#0d0887"
            ],
            [
             0.1111111111111111,
             "#46039f"
            ],
            [
             0.2222222222222222,
             "#7201a8"
            ],
            [
             0.3333333333333333,
             "#9c179e"
            ],
            [
             0.4444444444444444,
             "#bd3786"
            ],
            [
             0.5555555555555556,
             "#d8576b"
            ],
            [
             0.6666666666666666,
             "#ed7953"
            ],
            [
             0.7777777777777778,
             "#fb9f3a"
            ],
            [
             0.8888888888888888,
             "#fdca26"
            ],
            [
             1,
             "#f0f921"
            ]
           ],
           "sequentialminus": [
            [
             0,
             "#0d0887"
            ],
            [
             0.1111111111111111,
             "#46039f"
            ],
            [
             0.2222222222222222,
             "#7201a8"
            ],
            [
             0.3333333333333333,
             "#9c179e"
            ],
            [
             0.4444444444444444,
             "#bd3786"
            ],
            [
             0.5555555555555556,
             "#d8576b"
            ],
            [
             0.6666666666666666,
             "#ed7953"
            ],
            [
             0.7777777777777778,
             "#fb9f3a"
            ],
            [
             0.8888888888888888,
             "#fdca26"
            ],
            [
             1,
             "#f0f921"
            ]
           ]
          },
          "colorway": [
           "#636efa",
           "#EF553B",
           "#00cc96",
           "#ab63fa",
           "#FFA15A",
           "#19d3f3",
           "#FF6692",
           "#B6E880",
           "#FF97FF",
           "#FECB52"
          ],
          "font": {
           "color": "#f2f5fa"
          },
          "geo": {
           "bgcolor": "rgb(17,17,17)",
           "lakecolor": "rgb(17,17,17)",
           "landcolor": "rgb(17,17,17)",
           "showlakes": true,
           "showland": true,
           "subunitcolor": "#506784"
          },
          "hoverlabel": {
           "align": "left"
          },
          "hovermode": "closest",
          "mapbox": {
           "style": "dark"
          },
          "paper_bgcolor": "rgb(17,17,17)",
          "plot_bgcolor": "rgb(17,17,17)",
          "polar": {
           "angularaxis": {
            "gridcolor": "#506784",
            "linecolor": "#506784",
            "ticks": ""
           },
           "bgcolor": "rgb(17,17,17)",
           "radialaxis": {
            "gridcolor": "#506784",
            "linecolor": "#506784",
            "ticks": ""
           }
          },
          "scene": {
           "xaxis": {
            "backgroundcolor": "rgb(17,17,17)",
            "gridcolor": "#506784",
            "gridwidth": 2,
            "linecolor": "#506784",
            "showbackground": true,
            "ticks": "",
            "zerolinecolor": "#C8D4E3"
           },
           "yaxis": {
            "backgroundcolor": "rgb(17,17,17)",
            "gridcolor": "#506784",
            "gridwidth": 2,
            "linecolor": "#506784",
            "showbackground": true,
            "ticks": "",
            "zerolinecolor": "#C8D4E3"
           },
           "zaxis": {
            "backgroundcolor": "rgb(17,17,17)",
            "gridcolor": "#506784",
            "gridwidth": 2,
            "linecolor": "#506784",
            "showbackground": true,
            "ticks": "",
            "zerolinecolor": "#C8D4E3"
           }
          },
          "shapedefaults": {
           "line": {
            "color": "#f2f5fa"
           }
          },
          "sliderdefaults": {
           "bgcolor": "#C8D4E3",
           "bordercolor": "rgb(17,17,17)",
           "borderwidth": 1,
           "tickwidth": 0
          },
          "ternary": {
           "aaxis": {
            "gridcolor": "#506784",
            "linecolor": "#506784",
            "ticks": ""
           },
           "baxis": {
            "gridcolor": "#506784",
            "linecolor": "#506784",
            "ticks": ""
           },
           "bgcolor": "rgb(17,17,17)",
           "caxis": {
            "gridcolor": "#506784",
            "linecolor": "#506784",
            "ticks": ""
           }
          },
          "title": {
           "x": 0.05
          },
          "updatemenudefaults": {
           "bgcolor": "#506784",
           "borderwidth": 0
          },
          "xaxis": {
           "automargin": true,
           "gridcolor": "#283442",
           "linecolor": "#506784",
           "ticks": "",
           "title": {
            "standoff": 15
           },
           "zerolinecolor": "#283442",
           "zerolinewidth": 2
          },
          "yaxis": {
           "automargin": true,
           "gridcolor": "#283442",
           "linecolor": "#506784",
           "ticks": "",
           "title": {
            "standoff": 15
           },
           "zerolinecolor": "#283442",
           "zerolinewidth": 2
          }
         }
        },
        "title": {
         "text": "Dribbling vs Agility (w Balance)",
         "x": 0.5,
         "xanchor": "center",
         "y": 0.9,
         "yanchor": "top"
        },
        "width": 800,
        "xaxis": {
         "anchor": "y",
         "domain": [
          0,
          1
         ],
         "title": {
          "text": "skill_dribbling"
         }
        },
        "yaxis": {
         "anchor": "x",
         "domain": [
          0,
          1
         ],
         "title": {
          "text": "movement_agility"
         }
        }
       }
      }
     },
     "metadata": {},
     "output_type": "display_data"
    },
    {
     "data": {
      "application/vnd.plotly.v1+json": {
       "config": {
        "plotlyServerURL": "https://plot.ly"
       },
       "data": [
        {
         "customdata": [
          [
           "G. Cahill"
          ],
          [
           "D. Alli"
          ],
          [
           "A. Lallana"
          ],
          [
           "K. Walker"
          ],
          [
           "J. Hart"
          ],
          [
           "L. Baines"
          ],
          [
           "D. Rose"
          ],
          [
           "D. Sturridge"
          ],
          [
           "J. Henderson"
          ],
          [
           "N. Clyne"
          ],
          [
           "E. Dier"
          ],
          [
           "R. Sterling"
          ],
          [
           "W. Rooney"
          ],
          [
           "T. Heaton"
          ],
          [
           "J. Wilshere"
          ],
          [
           "C. Smalling"
          ],
          [
           "R. Barkley"
          ],
          [
           "J. Butland"
          ],
          [
           "M. Keane"
          ],
          [
           "J. Vardy"
          ],
          [
           "M. Carrick"
          ],
          [
           "J. Defoe"
          ],
          [
           "P. Jagielka"
          ],
          [
           "J. Milner"
          ],
          [
           "B. Foster"
          ],
          [
           "T. Walcott"
          ],
          [
           "R. Bertrand"
          ],
          [
           "D. Welbeck"
          ],
          [
           "M. Antonio"
          ],
          [
           "A. Oxlade-Chamberlain"
          ],
          [
           "M. Rashford"
          ],
          [
           "G. Barry"
          ],
          [
           "R. Shawcross"
          ],
          [
           "D. Drinkwater"
          ],
          [
           "P. Jones"
          ],
          [
           "J. Stones"
          ],
          [
           "L. Shaw"
          ],
          [
           "S. Dann"
          ],
          [
           "J. Cork"
          ],
          [
           "A. Carroll"
          ],
          [
           "T. Deeney"
          ],
          [
           "K. Gibbs"
          ],
          [
           "K. Trippier"
          ],
          [
           "B. Mee"
          ],
          [
           "A. Townsend"
          ],
          [
           "C. Austin"
          ],
          [
           "J. Ward-Prowse"
          ],
          [
           "J. Lingard"
          ],
          [
           "L. Britton"
          ],
          [
           "F. Forster"
          ],
          [
           "M. Albrighton"
          ],
          [
           "F. Delph"
          ],
          [
           "J. Shelvey"
          ],
          [
           "S. Cook"
          ],
          [
           "A. Gray"
          ],
          [
           "N. Redmond"
          ],
          [
           "H. Maguire"
          ],
          [
           "J. Pickford"
          ],
          [
           "S. Francis"
          ],
          [
           "M. Noble"
          ],
          [
           "J. Rodriguez"
          ],
          [
           "J. Tomkins"
          ],
          [
           "A. Cresswell"
          ],
          [
           "T. Cleverley"
          ],
          [
           "D. Ings"
          ],
          [
           "M. Lowton"
          ],
          [
           "S. Berahino"
          ],
          [
           "W. Routledge"
          ],
          [
           "G. Johnson"
          ],
          [
           "A. Young"
          ],
          [
           "D. Simpson"
          ],
          [
           "C. Daniels"
          ],
          [
           "A. Surman"
          ],
          [
           "J. Ward"
          ],
          [
           "K. Naughton"
          ],
          [
           "J. Livermore"
          ],
          [
           "C. Dawson"
          ],
          [
           "C. Wilson"
          ],
          [
           "L. Dunk"
          ],
          [
           "D. Gayle"
          ],
          [
           "N. Chalobah"
          ],
          [
           "W. Hughes"
          ],
          [
           "P. Crouch"
          ],
          [
           "J. Puncheon"
          ],
          [
           "D. Stephens"
          ],
          [
           "J. Hogg"
          ],
          [
           "T. Ince"
          ],
          [
           "L. Grant"
          ],
          [
           "M. Pugh"
          ],
          [
           "G. Murray"
          ],
          [
           "M. Kelly"
          ],
          [
           "D. Gosling"
          ],
          [
           "K. Bartley"
          ],
          [
           "A. Westwood"
          ],
          [
           "J. Stanislas"
          ],
          [
           "A. Smith"
          ],
          [
           "T. Carroll"
          ],
          [
           "J. Tarkowski"
          ],
          [
           "J. Lascelles"
          ],
          [
           "C. Taylor"
          ],
          [
           "A. Mawson"
          ],
          [
           "S. Byram"
          ],
          [
           "D. Gray"
          ],
          [
           "T. Davies"
          ],
          [
           "T. Abraham"
          ],
          [
           "D. Marney"
          ],
          [
           "M. James"
          ],
          [
           "S. Clucas"
          ],
          [
           "T. Smith"
          ],
          [
           "H. Winks"
          ],
          [
           "R. Aarons"
          ],
          [
           "R. Holding"
          ],
          [
           "S. Sidwell"
          ],
          [
           "S. Malone"
          ],
          [
           "J. Stephens"
          ],
          [
           "J. Ibe"
          ],
          [
           "I. Hayden"
          ],
          [
           "S. March"
          ],
          [
           "T. Mings"
          ],
          [
           "I. Brown"
          ],
          [
           "L. Cook"
          ],
          [
           "K. Palmer"
          ],
          [
           "S. Baldock"
          ],
          [
           "J. Mutch"
          ],
          [
           "K. Darlow"
          ],
          [
           "J. Murphy"
          ],
          [
           "J. Gomez"
          ],
          [
           "D. Solanke"
          ],
          [
           "B. Chilwell"
          ],
          [
           "R. Loftus-Cheek"
          ],
          [
           "M. Targett"
          ],
          [
           "R. Kent"
          ],
          [
           "T. Alexander-Arnold"
          ],
          [
           "M. Cranie"
          ],
          [
           "N. Pope"
          ],
          [
           "S. Kaikai"
          ],
          [
           "J. Sims"
          ],
          [
           "M. Holgate"
          ],
          [
           "D. Whitehead"
          ],
          [
           "S. Taylor"
          ],
          [
           "R. Oxford"
          ],
          [
           "D. Calvert-Lewin"
          ],
          [
           "J. Lolley"
          ],
          [
           "A. Maitland-Niles"
          ],
          [
           "P. Foden"
          ],
          [
           "A. Lookman"
          ],
          [
           "S. Field"
          ],
          [
           "J. Sinclair"
          ],
          [
           "J. Coleman"
          ],
          [
           "J. Tymon"
          ],
          [
           "T. Reid"
          ],
          [
           "A. Palmer"
          ],
          [
           "T. Akinola"
          ]
         ],
         "hovertemplate": "attacking_heading_accuracy=%{x}<br>power_jumping=%{y}<br>power_strength=%{marker.size}<br>short_name=%{customdata[0]}<extra></extra>",
         "legendgroup": "",
         "marker": {
          "color": "#13FFFF",
          "size": [
           80,
           71,
           67,
           77,
           61,
           64,
           74,
           71,
           76,
           71,
           87,
           64,
           83,
           66,
           66,
           87,
           82,
           63,
           88,
           68,
           66,
           61,
           80,
           73,
           57,
           62,
           73,
           78,
           86,
           70,
           73,
           76,
           89,
           74,
           80,
           79,
           79,
           82,
           79,
           93,
           92,
           69,
           71,
           83,
           59,
           80,
           61,
           61,
           55,
           80,
           62,
           66,
           76,
           82,
           81,
           47,
           90,
           50,
           81,
           72,
           71,
           76,
           59,
           58,
           73,
           75,
           64,
           67,
           72,
           57,
           72,
           72,
           69,
           78,
           68,
           77,
           77,
           78,
           84,
           62,
           75,
           61,
           74,
           68,
           68,
           75,
           52,
           58,
           66,
           77,
           79,
           66,
           87,
           65,
           57,
           68,
           42,
           80,
           78,
           73,
           85,
           71,
           56,
           69,
           81,
           77,
           70,
           67,
           71,
           65,
           47,
           75,
           67,
           73,
           74,
           71,
           78,
           61,
           80,
           68,
           63,
           62,
           60,
           72,
           58,
           59,
           78,
           70,
           63,
           78,
           68,
           55,
           59,
           71,
           52,
           59,
           57,
           75,
           72,
           76,
           67,
           62,
           59,
           68,
           30,
           57,
           58,
           61,
           60,
           56,
           66,
           43,
           68
          ],
          "sizemode": "area",
          "sizeref": 0.41333333333333333,
          "symbol": "circle"
         },
         "mode": "markers",
         "name": "",
         "orientation": "v",
         "showlegend": false,
         "type": "scatter",
         "x": [
          86,
          75,
          67,
          73,
          10,
          74,
          62,
          73,
          65,
          67,
          83,
          38,
          75,
          16,
          58,
          83,
          65,
          12,
          84,
          64,
          71,
          66,
          79,
          69,
          14,
          58,
          69,
          75,
          88,
          39,
          68,
          74,
          83,
          61,
          75,
          77,
          65,
          85,
          73,
          91,
          82,
          68,
          70,
          77,
          52,
          81,
          57,
          61,
          41,
          13,
          42,
          53,
          69,
          74,
          65,
          33,
          77,
          15,
          69,
          62,
          76,
          78,
          58,
          48,
          71,
          71,
          67,
          34,
          68,
          54,
          71,
          64,
          59,
          75,
          70,
          69,
          81,
          62,
          75,
          68,
          71,
          58,
          81,
          49,
          65,
          64,
          40,
          14,
          66,
          81,
          76,
          61,
          78,
          44,
          43,
          56,
          46,
          73,
          74,
          64,
          77,
          66,
          31,
          52,
          72,
          67,
          63,
          60,
          65,
          45,
          51,
          64,
          69,
          55,
          68,
          35,
          65,
          35,
          63,
          59,
          47,
          58,
          59,
          67,
          12,
          40,
          69,
          64,
          55,
          57,
          56,
          40,
          56,
          68,
          11,
          32,
          42,
          62,
          64,
          20,
          64,
          52,
          47,
          38,
          47,
          49,
          63,
          40,
          11,
          41,
          57,
          12,
          54
         ],
         "xaxis": "x",
         "y": [
          82,
          69,
          73,
          83,
          72,
          71,
          75,
          72,
          81,
          69,
          77,
          60,
          76,
          73,
          67,
          75,
          63,
          61,
          83,
          74,
          72,
          75,
          83,
          64,
          75,
          66,
          71,
          80,
          84,
          66,
          63,
          70,
          68,
          56,
          83,
          72,
          68,
          69,
          73,
          84,
          82,
          71,
          74,
          91,
          48,
          82,
          68,
          65,
          70,
          59,
          62,
          68,
          65,
          72,
          72,
          50,
          71,
          59,
          57,
          59,
          81,
          74,
          85,
          62,
          81,
          77,
          62,
          71,
          77,
          57,
          79,
          78,
          71,
          66,
          73,
          69,
          83,
          66,
          64,
          71,
          71,
          54,
          31,
          63,
          89,
          66,
          55,
          63,
          63,
          83,
          70,
          67,
          33,
          63,
          48,
          53,
          45,
          77,
          83,
          75,
          78,
          79,
          55,
          57,
          71,
          78,
          67,
          70,
          64,
          54,
          47,
          73,
          61,
          71,
          67,
          60,
          70,
          42,
          64,
          76,
          60,
          58,
          73,
          67,
          67,
          51,
          64,
          69,
          75,
          59,
          61,
          54,
          67,
          74,
          59,
          58,
          45,
          57,
          66,
          32,
          67,
          73,
          57,
          58,
          54,
          68,
          58,
          52,
          58,
          58,
          55,
          42,
          63
         ],
         "yaxis": "y"
        },
        {
         "customdata": [
          {
           "size_attr": "power_strength",
           "x_attr": "attacking_heading_accuracy",
           "y_attr": "power_jumping"
          }
         ],
         "hovertemplate": "%{customdata.x_attr}=%{x}<br>%{customdata.y_attr}=%{y}<br>%{customdata.size_attr}=%{marker.size}<br>short_name=%{text}",
         "marker": {
          "color": "#FF1313",
          "size": [
           86
          ],
          "sizeref": 4
         },
         "mode": "lines+markers+text",
         "name": "",
         "showlegend": false,
         "text": [
          "H. Kane"
         ],
         "textfont": {
          "color": "white"
         },
         "textposition": "top center",
         "type": "scatter",
         "x": [
          83
         ],
         "y": [
          70
         ]
        }
       ],
       "layout": {
        "height": 500,
        "legend": {
         "itemsizing": "constant",
         "tracegroupgap": 0
        },
        "margin": {
         "t": 60
        },
        "template": {
         "data": {
          "bar": [
           {
            "error_x": {
             "color": "#f2f5fa"
            },
            "error_y": {
             "color": "#f2f5fa"
            },
            "marker": {
             "line": {
              "color": "rgb(17,17,17)",
              "width": 0.5
             },
             "pattern": {
              "fillmode": "overlay",
              "size": 10,
              "solidity": 0.2
             }
            },
            "type": "bar"
           }
          ],
          "barpolar": [
           {
            "marker": {
             "line": {
              "color": "rgb(17,17,17)",
              "width": 0.5
             },
             "pattern": {
              "fillmode": "overlay",
              "size": 10,
              "solidity": 0.2
             }
            },
            "type": "barpolar"
           }
          ],
          "carpet": [
           {
            "aaxis": {
             "endlinecolor": "#A2B1C6",
             "gridcolor": "#506784",
             "linecolor": "#506784",
             "minorgridcolor": "#506784",
             "startlinecolor": "#A2B1C6"
            },
            "baxis": {
             "endlinecolor": "#A2B1C6",
             "gridcolor": "#506784",
             "linecolor": "#506784",
             "minorgridcolor": "#506784",
             "startlinecolor": "#A2B1C6"
            },
            "type": "carpet"
           }
          ],
          "choropleth": [
           {
            "colorbar": {
             "outlinewidth": 0,
             "ticks": ""
            },
            "type": "choropleth"
           }
          ],
          "contour": [
           {
            "colorbar": {
             "outlinewidth": 0,
             "ticks": ""
            },
            "colorscale": [
             [
              0,
              "#0d0887"
             ],
             [
              0.1111111111111111,
              "#46039f"
             ],
             [
              0.2222222222222222,
              "#7201a8"
             ],
             [
              0.3333333333333333,
              "#9c179e"
             ],
             [
              0.4444444444444444,
              "#bd3786"
             ],
             [
              0.5555555555555556,
              "#d8576b"
             ],
             [
              0.6666666666666666,
              "#ed7953"
             ],
             [
              0.7777777777777778,
              "#fb9f3a"
             ],
             [
              0.8888888888888888,
              "#fdca26"
             ],
             [
              1,
              "#f0f921"
             ]
            ],
            "type": "contour"
           }
          ],
          "contourcarpet": [
           {
            "colorbar": {
             "outlinewidth": 0,
             "ticks": ""
            },
            "type": "contourcarpet"
           }
          ],
          "heatmap": [
           {
            "colorbar": {
             "outlinewidth": 0,
             "ticks": ""
            },
            "colorscale": [
             [
              0,
              "#0d0887"
             ],
             [
              0.1111111111111111,
              "#46039f"
             ],
             [
              0.2222222222222222,
              "#7201a8"
             ],
             [
              0.3333333333333333,
              "#9c179e"
             ],
             [
              0.4444444444444444,
              "#bd3786"
             ],
             [
              0.5555555555555556,
              "#d8576b"
             ],
             [
              0.6666666666666666,
              "#ed7953"
             ],
             [
              0.7777777777777778,
              "#fb9f3a"
             ],
             [
              0.8888888888888888,
              "#fdca26"
             ],
             [
              1,
              "#f0f921"
             ]
            ],
            "type": "heatmap"
           }
          ],
          "heatmapgl": [
           {
            "colorbar": {
             "outlinewidth": 0,
             "ticks": ""
            },
            "colorscale": [
             [
              0,
              "#0d0887"
             ],
             [
              0.1111111111111111,
              "#46039f"
             ],
             [
              0.2222222222222222,
              "#7201a8"
             ],
             [
              0.3333333333333333,
              "#9c179e"
             ],
             [
              0.4444444444444444,
              "#bd3786"
             ],
             [
              0.5555555555555556,
              "#d8576b"
             ],
             [
              0.6666666666666666,
              "#ed7953"
             ],
             [
              0.7777777777777778,
              "#fb9f3a"
             ],
             [
              0.8888888888888888,
              "#fdca26"
             ],
             [
              1,
              "#f0f921"
             ]
            ],
            "type": "heatmapgl"
           }
          ],
          "histogram": [
           {
            "marker": {
             "pattern": {
              "fillmode": "overlay",
              "size": 10,
              "solidity": 0.2
             }
            },
            "type": "histogram"
           }
          ],
          "histogram2d": [
           {
            "colorbar": {
             "outlinewidth": 0,
             "ticks": ""
            },
            "colorscale": [
             [
              0,
              "#0d0887"
             ],
             [
              0.1111111111111111,
              "#46039f"
             ],
             [
              0.2222222222222222,
              "#7201a8"
             ],
             [
              0.3333333333333333,
              "#9c179e"
             ],
             [
              0.4444444444444444,
              "#bd3786"
             ],
             [
              0.5555555555555556,
              "#d8576b"
             ],
             [
              0.6666666666666666,
              "#ed7953"
             ],
             [
              0.7777777777777778,
              "#fb9f3a"
             ],
             [
              0.8888888888888888,
              "#fdca26"
             ],
             [
              1,
              "#f0f921"
             ]
            ],
            "type": "histogram2d"
           }
          ],
          "histogram2dcontour": [
           {
            "colorbar": {
             "outlinewidth": 0,
             "ticks": ""
            },
            "colorscale": [
             [
              0,
              "#0d0887"
             ],
             [
              0.1111111111111111,
              "#46039f"
             ],
             [
              0.2222222222222222,
              "#7201a8"
             ],
             [
              0.3333333333333333,
              "#9c179e"
             ],
             [
              0.4444444444444444,
              "#bd3786"
             ],
             [
              0.5555555555555556,
              "#d8576b"
             ],
             [
              0.6666666666666666,
              "#ed7953"
             ],
             [
              0.7777777777777778,
              "#fb9f3a"
             ],
             [
              0.8888888888888888,
              "#fdca26"
             ],
             [
              1,
              "#f0f921"
             ]
            ],
            "type": "histogram2dcontour"
           }
          ],
          "mesh3d": [
           {
            "colorbar": {
             "outlinewidth": 0,
             "ticks": ""
            },
            "type": "mesh3d"
           }
          ],
          "parcoords": [
           {
            "line": {
             "colorbar": {
              "outlinewidth": 0,
              "ticks": ""
             }
            },
            "type": "parcoords"
           }
          ],
          "pie": [
           {
            "automargin": true,
            "type": "pie"
           }
          ],
          "scatter": [
           {
            "marker": {
             "line": {
              "color": "#283442"
             }
            },
            "type": "scatter"
           }
          ],
          "scatter3d": [
           {
            "line": {
             "colorbar": {
              "outlinewidth": 0,
              "ticks": ""
             }
            },
            "marker": {
             "colorbar": {
              "outlinewidth": 0,
              "ticks": ""
             }
            },
            "type": "scatter3d"
           }
          ],
          "scattercarpet": [
           {
            "marker": {
             "colorbar": {
              "outlinewidth": 0,
              "ticks": ""
             }
            },
            "type": "scattercarpet"
           }
          ],
          "scattergeo": [
           {
            "marker": {
             "colorbar": {
              "outlinewidth": 0,
              "ticks": ""
             }
            },
            "type": "scattergeo"
           }
          ],
          "scattergl": [
           {
            "marker": {
             "line": {
              "color": "#283442"
             }
            },
            "type": "scattergl"
           }
          ],
          "scattermapbox": [
           {
            "marker": {
             "colorbar": {
              "outlinewidth": 0,
              "ticks": ""
             }
            },
            "type": "scattermapbox"
           }
          ],
          "scatterpolar": [
           {
            "marker": {
             "colorbar": {
              "outlinewidth": 0,
              "ticks": ""
             }
            },
            "type": "scatterpolar"
           }
          ],
          "scatterpolargl": [
           {
            "marker": {
             "colorbar": {
              "outlinewidth": 0,
              "ticks": ""
             }
            },
            "type": "scatterpolargl"
           }
          ],
          "scatterternary": [
           {
            "marker": {
             "colorbar": {
              "outlinewidth": 0,
              "ticks": ""
             }
            },
            "type": "scatterternary"
           }
          ],
          "surface": [
           {
            "colorbar": {
             "outlinewidth": 0,
             "ticks": ""
            },
            "colorscale": [
             [
              0,
              "#0d0887"
             ],
             [
              0.1111111111111111,
              "#46039f"
             ],
             [
              0.2222222222222222,
              "#7201a8"
             ],
             [
              0.3333333333333333,
              "#9c179e"
             ],
             [
              0.4444444444444444,
              "#bd3786"
             ],
             [
              0.5555555555555556,
              "#d8576b"
             ],
             [
              0.6666666666666666,
              "#ed7953"
             ],
             [
              0.7777777777777778,
              "#fb9f3a"
             ],
             [
              0.8888888888888888,
              "#fdca26"
             ],
             [
              1,
              "#f0f921"
             ]
            ],
            "type": "surface"
           }
          ],
          "table": [
           {
            "cells": {
             "fill": {
              "color": "#506784"
             },
             "line": {
              "color": "rgb(17,17,17)"
             }
            },
            "header": {
             "fill": {
              "color": "#2a3f5f"
             },
             "line": {
              "color": "rgb(17,17,17)"
             }
            },
            "type": "table"
           }
          ]
         },
         "layout": {
          "annotationdefaults": {
           "arrowcolor": "#f2f5fa",
           "arrowhead": 0,
           "arrowwidth": 1
          },
          "autotypenumbers": "strict",
          "coloraxis": {
           "colorbar": {
            "outlinewidth": 0,
            "ticks": ""
           }
          },
          "colorscale": {
           "diverging": [
            [
             0,
             "#8e0152"
            ],
            [
             0.1,
             "#c51b7d"
            ],
            [
             0.2,
             "#de77ae"
            ],
            [
             0.3,
             "#f1b6da"
            ],
            [
             0.4,
             "#fde0ef"
            ],
            [
             0.5,
             "#f7f7f7"
            ],
            [
             0.6,
             "#e6f5d0"
            ],
            [
             0.7,
             "#b8e186"
            ],
            [
             0.8,
             "#7fbc41"
            ],
            [
             0.9,
             "#4d9221"
            ],
            [
             1,
             "#276419"
            ]
           ],
           "sequential": [
            [
             0,
             "#0d0887"
            ],
            [
             0.1111111111111111,
             "#46039f"
            ],
            [
             0.2222222222222222,
             "#7201a8"
            ],
            [
             0.3333333333333333,
             "#9c179e"
            ],
            [
             0.4444444444444444,
             "#bd3786"
            ],
            [
             0.5555555555555556,
             "#d8576b"
            ],
            [
             0.6666666666666666,
             "#ed7953"
            ],
            [
             0.7777777777777778,
             "#fb9f3a"
            ],
            [
             0.8888888888888888,
             "#fdca26"
            ],
            [
             1,
             "#f0f921"
            ]
           ],
           "sequentialminus": [
            [
             0,
             "#0d0887"
            ],
            [
             0.1111111111111111,
             "#46039f"
            ],
            [
             0.2222222222222222,
             "#7201a8"
            ],
            [
             0.3333333333333333,
             "#9c179e"
            ],
            [
             0.4444444444444444,
             "#bd3786"
            ],
            [
             0.5555555555555556,
             "#d8576b"
            ],
            [
             0.6666666666666666,
             "#ed7953"
            ],
            [
             0.7777777777777778,
             "#fb9f3a"
            ],
            [
             0.8888888888888888,
             "#fdca26"
            ],
            [
             1,
             "#f0f921"
            ]
           ]
          },
          "colorway": [
           "#636efa",
           "#EF553B",
           "#00cc96",
           "#ab63fa",
           "#FFA15A",
           "#19d3f3",
           "#FF6692",
           "#B6E880",
           "#FF97FF",
           "#FECB52"
          ],
          "font": {
           "color": "#f2f5fa"
          },
          "geo": {
           "bgcolor": "rgb(17,17,17)",
           "lakecolor": "rgb(17,17,17)",
           "landcolor": "rgb(17,17,17)",
           "showlakes": true,
           "showland": true,
           "subunitcolor": "#506784"
          },
          "hoverlabel": {
           "align": "left"
          },
          "hovermode": "closest",
          "mapbox": {
           "style": "dark"
          },
          "paper_bgcolor": "rgb(17,17,17)",
          "plot_bgcolor": "rgb(17,17,17)",
          "polar": {
           "angularaxis": {
            "gridcolor": "#506784",
            "linecolor": "#506784",
            "ticks": ""
           },
           "bgcolor": "rgb(17,17,17)",
           "radialaxis": {
            "gridcolor": "#506784",
            "linecolor": "#506784",
            "ticks": ""
           }
          },
          "scene": {
           "xaxis": {
            "backgroundcolor": "rgb(17,17,17)",
            "gridcolor": "#506784",
            "gridwidth": 2,
            "linecolor": "#506784",
            "showbackground": true,
            "ticks": "",
            "zerolinecolor": "#C8D4E3"
           },
           "yaxis": {
            "backgroundcolor": "rgb(17,17,17)",
            "gridcolor": "#506784",
            "gridwidth": 2,
            "linecolor": "#506784",
            "showbackground": true,
            "ticks": "",
            "zerolinecolor": "#C8D4E3"
           },
           "zaxis": {
            "backgroundcolor": "rgb(17,17,17)",
            "gridcolor": "#506784",
            "gridwidth": 2,
            "linecolor": "#506784",
            "showbackground": true,
            "ticks": "",
            "zerolinecolor": "#C8D4E3"
           }
          },
          "shapedefaults": {
           "line": {
            "color": "#f2f5fa"
           }
          },
          "sliderdefaults": {
           "bgcolor": "#C8D4E3",
           "bordercolor": "rgb(17,17,17)",
           "borderwidth": 1,
           "tickwidth": 0
          },
          "ternary": {
           "aaxis": {
            "gridcolor": "#506784",
            "linecolor": "#506784",
            "ticks": ""
           },
           "baxis": {
            "gridcolor": "#506784",
            "linecolor": "#506784",
            "ticks": ""
           },
           "bgcolor": "rgb(17,17,17)",
           "caxis": {
            "gridcolor": "#506784",
            "linecolor": "#506784",
            "ticks": ""
           }
          },
          "title": {
           "x": 0.05
          },
          "updatemenudefaults": {
           "bgcolor": "#506784",
           "borderwidth": 0
          },
          "xaxis": {
           "automargin": true,
           "gridcolor": "#283442",
           "linecolor": "#506784",
           "ticks": "",
           "title": {
            "standoff": 15
           },
           "zerolinecolor": "#283442",
           "zerolinewidth": 2
          },
          "yaxis": {
           "automargin": true,
           "gridcolor": "#283442",
           "linecolor": "#506784",
           "ticks": "",
           "title": {
            "standoff": 15
           },
           "zerolinecolor": "#283442",
           "zerolinewidth": 2
          }
         }
        },
        "title": {
         "text": "Heading Accuracy vs Jumping (w Strength)",
         "x": 0.5,
         "xanchor": "center",
         "y": 0.9,
         "yanchor": "top"
        },
        "width": 800,
        "xaxis": {
         "anchor": "y",
         "domain": [
          0,
          1
         ],
         "title": {
          "text": "attacking_heading_accuracy"
         }
        },
        "yaxis": {
         "anchor": "x",
         "domain": [
          0,
          1
         ],
         "title": {
          "text": "power_jumping"
         }
        }
       }
      }
     },
     "metadata": {},
     "output_type": "display_data"
    },
    {
     "data": {
      "application/vnd.plotly.v1+json": {
       "config": {
        "plotlyServerURL": "https://plot.ly"
       },
       "data": [
        {
         "customdata": [
          [
           "G. Cahill"
          ],
          [
           "D. Alli"
          ],
          [
           "A. Lallana"
          ],
          [
           "K. Walker"
          ],
          [
           "J. Hart"
          ],
          [
           "L. Baines"
          ],
          [
           "D. Rose"
          ],
          [
           "D. Sturridge"
          ],
          [
           "J. Henderson"
          ],
          [
           "N. Clyne"
          ],
          [
           "E. Dier"
          ],
          [
           "R. Sterling"
          ],
          [
           "W. Rooney"
          ],
          [
           "T. Heaton"
          ],
          [
           "J. Wilshere"
          ],
          [
           "C. Smalling"
          ],
          [
           "R. Barkley"
          ],
          [
           "J. Butland"
          ],
          [
           "M. Keane"
          ],
          [
           "J. Vardy"
          ],
          [
           "M. Carrick"
          ],
          [
           "J. Defoe"
          ],
          [
           "P. Jagielka"
          ],
          [
           "J. Milner"
          ],
          [
           "B. Foster"
          ],
          [
           "T. Walcott"
          ],
          [
           "R. Bertrand"
          ],
          [
           "D. Welbeck"
          ],
          [
           "M. Antonio"
          ],
          [
           "A. Oxlade-Chamberlain"
          ],
          [
           "M. Rashford"
          ],
          [
           "G. Barry"
          ],
          [
           "R. Shawcross"
          ],
          [
           "D. Drinkwater"
          ],
          [
           "P. Jones"
          ],
          [
           "J. Stones"
          ],
          [
           "L. Shaw"
          ],
          [
           "S. Dann"
          ],
          [
           "J. Cork"
          ],
          [
           "A. Carroll"
          ],
          [
           "T. Deeney"
          ],
          [
           "K. Gibbs"
          ],
          [
           "K. Trippier"
          ],
          [
           "B. Mee"
          ],
          [
           "A. Townsend"
          ],
          [
           "C. Austin"
          ],
          [
           "J. Ward-Prowse"
          ],
          [
           "J. Lingard"
          ],
          [
           "L. Britton"
          ],
          [
           "F. Forster"
          ],
          [
           "M. Albrighton"
          ],
          [
           "F. Delph"
          ],
          [
           "J. Shelvey"
          ],
          [
           "S. Cook"
          ],
          [
           "A. Gray"
          ],
          [
           "N. Redmond"
          ],
          [
           "H. Maguire"
          ],
          [
           "J. Pickford"
          ],
          [
           "S. Francis"
          ],
          [
           "M. Noble"
          ],
          [
           "J. Rodriguez"
          ],
          [
           "J. Tomkins"
          ],
          [
           "A. Cresswell"
          ],
          [
           "T. Cleverley"
          ],
          [
           "D. Ings"
          ],
          [
           "M. Lowton"
          ],
          [
           "S. Berahino"
          ],
          [
           "W. Routledge"
          ],
          [
           "G. Johnson"
          ],
          [
           "A. Young"
          ],
          [
           "D. Simpson"
          ],
          [
           "C. Daniels"
          ],
          [
           "A. Surman"
          ],
          [
           "J. Ward"
          ],
          [
           "K. Naughton"
          ],
          [
           "J. Livermore"
          ],
          [
           "C. Dawson"
          ],
          [
           "C. Wilson"
          ],
          [
           "L. Dunk"
          ],
          [
           "D. Gayle"
          ],
          [
           "N. Chalobah"
          ],
          [
           "W. Hughes"
          ],
          [
           "P. Crouch"
          ],
          [
           "J. Puncheon"
          ],
          [
           "D. Stephens"
          ],
          [
           "J. Hogg"
          ],
          [
           "T. Ince"
          ],
          [
           "L. Grant"
          ],
          [
           "M. Pugh"
          ],
          [
           "G. Murray"
          ],
          [
           "M. Kelly"
          ],
          [
           "D. Gosling"
          ],
          [
           "K. Bartley"
          ],
          [
           "A. Westwood"
          ],
          [
           "J. Stanislas"
          ],
          [
           "A. Smith"
          ],
          [
           "T. Carroll"
          ],
          [
           "J. Tarkowski"
          ],
          [
           "J. Lascelles"
          ],
          [
           "C. Taylor"
          ],
          [
           "A. Mawson"
          ],
          [
           "S. Byram"
          ],
          [
           "D. Gray"
          ],
          [
           "T. Davies"
          ],
          [
           "T. Abraham"
          ],
          [
           "D. Marney"
          ],
          [
           "M. James"
          ],
          [
           "S. Clucas"
          ],
          [
           "T. Smith"
          ],
          [
           "H. Winks"
          ],
          [
           "R. Aarons"
          ],
          [
           "R. Holding"
          ],
          [
           "S. Sidwell"
          ],
          [
           "S. Malone"
          ],
          [
           "J. Stephens"
          ],
          [
           "J. Ibe"
          ],
          [
           "I. Hayden"
          ],
          [
           "S. March"
          ],
          [
           "T. Mings"
          ],
          [
           "I. Brown"
          ],
          [
           "L. Cook"
          ],
          [
           "K. Palmer"
          ],
          [
           "S. Baldock"
          ],
          [
           "J. Mutch"
          ],
          [
           "K. Darlow"
          ],
          [
           "J. Murphy"
          ],
          [
           "J. Gomez"
          ],
          [
           "D. Solanke"
          ],
          [
           "B. Chilwell"
          ],
          [
           "R. Loftus-Cheek"
          ],
          [
           "M. Targett"
          ],
          [
           "R. Kent"
          ],
          [
           "T. Alexander-Arnold"
          ],
          [
           "M. Cranie"
          ],
          [
           "N. Pope"
          ],
          [
           "S. Kaikai"
          ],
          [
           "J. Sims"
          ],
          [
           "M. Holgate"
          ],
          [
           "D. Whitehead"
          ],
          [
           "S. Taylor"
          ],
          [
           "R. Oxford"
          ],
          [
           "D. Calvert-Lewin"
          ],
          [
           "J. Lolley"
          ],
          [
           "A. Maitland-Niles"
          ],
          [
           "P. Foden"
          ],
          [
           "A. Lookman"
          ],
          [
           "S. Field"
          ],
          [
           "J. Sinclair"
          ],
          [
           "J. Coleman"
          ],
          [
           "J. Tymon"
          ],
          [
           "T. Reid"
          ],
          [
           "A. Palmer"
          ],
          [
           "T. Akinola"
          ]
         ],
         "hovertemplate": "movement_acceleration=%{x}<br>movement_sprint_speed=%{y}<br>mentality_positioning=%{marker.size}<br>short_name=%{customdata[0]}<extra></extra>",
         "legendgroup": "",
         "marker": {
          "color": "#13FFFF",
          "size": [
           45,
           86,
           77,
           66,
           14,
           73,
           68,
           84,
           76,
           72,
           53,
           81,
           79,
           12,
           80,
           48,
           71,
           16,
           29,
           84,
           66,
           87,
           51,
           75,
           14,
           80,
           63,
           80,
           77,
           74,
           81,
           58,
           31,
           74,
           42,
           48,
           73,
           36,
           67,
           76,
           77,
           63,
           60,
           30,
           70,
           83,
           62,
           79,
           55,
           13,
           73,
           71,
           70,
           15,
           79,
           74,
           52,
           18,
           55,
           64,
           80,
           45,
           63,
           74,
           79,
           60,
           79,
           72,
           69,
           68,
           58,
           71,
           65,
           64,
           54,
           61,
           56,
           77,
           23,
           78,
           62,
           68,
           82,
           73,
           66,
           58,
           73,
           14,
           72,
           80,
           42,
           77,
           25,
           54,
           66,
           63,
           67,
           40,
           21,
           63,
           25,
           65,
           65,
           66,
           73,
           59,
           63,
           64,
           67,
           62,
           60,
           40,
           70,
           64,
           47,
           67,
           51,
           63,
           57,
           65,
           55,
           66,
           76,
           70,
           18,
           68,
           51,
           66,
           68,
           68,
           49,
           59,
           62,
           51,
           13,
           57,
           54,
           50,
           62,
           13,
           34,
           63,
           59,
           56,
           60,
           69,
           55,
           59,
           11,
           37,
           54,
           7,
           17
          ],
          "sizemode": "area",
          "sizeref": 0.38666666666666666,
          "symbol": "circle"
         },
         "mode": "markers",
         "name": "",
         "orientation": "v",
         "showlegend": false,
         "type": "scatter",
         "x": [
          62,
          77,
          74,
          86,
          59,
          73,
          80,
          74,
          73,
          82,
          70,
          94,
          67,
          56,
          73,
          69,
          77,
          38,
          73,
          91,
          43,
          77,
          47,
          69,
          50,
          92,
          79,
          83,
          82,
          87,
          93,
          30,
          46,
          65,
          51,
          71,
          80,
          44,
          61,
          60,
          64,
          77,
          78,
          66,
          86,
          64,
          67,
          84,
          47,
          32,
          79,
          76,
          61,
          60,
          90,
          89,
          40,
          48,
          62,
          45,
          76,
          50,
          75,
          64,
          83,
          76,
          82,
          71,
          74,
          79,
          70,
          77,
          62,
          64,
          74,
          65,
          62,
          92,
          45,
          85,
          69,
          68,
          31,
          67,
          63,
          73,
          81,
          47,
          74,
          47,
          56,
          64,
          58,
          68,
          77,
          77,
          67,
          63,
          62,
          77,
          53,
          75,
          90,
          74,
          80,
          68,
          65,
          68,
          76,
          75,
          85,
          61,
          53,
          75,
          57,
          85,
          59,
          79,
          73,
          74,
          77,
          78,
          79,
          63,
          59,
          83,
          75,
          76,
          77,
          65,
          72,
          83,
          81,
          67,
          50,
          82,
          86,
          75,
          41,
          51,
          71,
          79,
          79,
          77,
          78,
          85,
          65,
          76,
          40,
          65,
          72,
          26,
          54
         ],
         "xaxis": "x",
         "y": [
          63,
          76,
          72,
          93,
          60,
          68,
          81,
          78,
          71,
          83,
          74,
          92,
          68,
          53,
          69,
          75,
          77,
          43,
          72,
          91,
          44,
          72,
          52,
          66,
          48,
          91,
          79,
          84,
          87,
          88,
          92,
          33,
          51,
          67,
          64,
          71,
          84,
          45,
          55,
          64,
          65,
          80,
          77,
          66,
          84,
          66,
          65,
          83,
          46,
          35,
          79,
          72,
          62,
          53,
          89,
          86,
          51,
          41,
          67,
          47,
          78,
          52,
          76,
          70,
          82,
          75,
          77,
          72,
          69,
          76,
          68,
          75,
          60,
          65,
          74,
          64,
          67,
          89,
          54,
          82,
          65,
          65,
          34,
          67,
          63,
          68,
          77,
          40,
          69,
          51,
          60,
          60,
          53,
          59,
          83,
          75,
          65,
          63,
          62,
          73,
          53,
          75,
          90,
          73,
          80,
          66,
          54,
          74,
          73,
          70,
          83,
          63,
          40,
          77,
          64,
          85,
          64,
          78,
          75,
          75,
          70,
          75,
          81,
          65,
          52,
          82,
          78,
          74,
          75,
          69,
          78,
          83,
          81,
          69,
          45,
          82,
          80,
          76,
          34,
          52,
          72,
          81,
          72,
          72,
          70,
          83,
          56,
          74,
          49,
          68,
          74,
          37,
          63
         ],
         "yaxis": "y"
        },
        {
         "customdata": [
          {
           "size_attr": "mentality_positioning",
           "x_attr": "movement_acceleration",
           "y_attr": "movement_sprint_speed"
          }
         ],
         "hovertemplate": "%{customdata.x_attr}=%{x}<br>%{customdata.y_attr}=%{y}<br>%{customdata.size_attr}=%{marker.size}<br>short_name=%{text}",
         "marker": {
          "color": "#FF1313",
          "size": [
           89
          ],
          "sizeref": 4
         },
         "mode": "lines+markers+text",
         "name": "",
         "showlegend": false,
         "text": [
          "H. Kane"
         ],
         "textfont": {
          "color": "white"
         },
         "textposition": "top center",
         "type": "scatter",
         "x": [
          68
         ],
         "y": [
          74
         ]
        }
       ],
       "layout": {
        "height": 500,
        "legend": {
         "itemsizing": "constant",
         "tracegroupgap": 0
        },
        "margin": {
         "t": 60
        },
        "template": {
         "data": {
          "bar": [
           {
            "error_x": {
             "color": "#f2f5fa"
            },
            "error_y": {
             "color": "#f2f5fa"
            },
            "marker": {
             "line": {
              "color": "rgb(17,17,17)",
              "width": 0.5
             },
             "pattern": {
              "fillmode": "overlay",
              "size": 10,
              "solidity": 0.2
             }
            },
            "type": "bar"
           }
          ],
          "barpolar": [
           {
            "marker": {
             "line": {
              "color": "rgb(17,17,17)",
              "width": 0.5
             },
             "pattern": {
              "fillmode": "overlay",
              "size": 10,
              "solidity": 0.2
             }
            },
            "type": "barpolar"
           }
          ],
          "carpet": [
           {
            "aaxis": {
             "endlinecolor": "#A2B1C6",
             "gridcolor": "#506784",
             "linecolor": "#506784",
             "minorgridcolor": "#506784",
             "startlinecolor": "#A2B1C6"
            },
            "baxis": {
             "endlinecolor": "#A2B1C6",
             "gridcolor": "#506784",
             "linecolor": "#506784",
             "minorgridcolor": "#506784",
             "startlinecolor": "#A2B1C6"
            },
            "type": "carpet"
           }
          ],
          "choropleth": [
           {
            "colorbar": {
             "outlinewidth": 0,
             "ticks": ""
            },
            "type": "choropleth"
           }
          ],
          "contour": [
           {
            "colorbar": {
             "outlinewidth": 0,
             "ticks": ""
            },
            "colorscale": [
             [
              0,
              "#0d0887"
             ],
             [
              0.1111111111111111,
              "#46039f"
             ],
             [
              0.2222222222222222,
              "#7201a8"
             ],
             [
              0.3333333333333333,
              "#9c179e"
             ],
             [
              0.4444444444444444,
              "#bd3786"
             ],
             [
              0.5555555555555556,
              "#d8576b"
             ],
             [
              0.6666666666666666,
              "#ed7953"
             ],
             [
              0.7777777777777778,
              "#fb9f3a"
             ],
             [
              0.8888888888888888,
              "#fdca26"
             ],
             [
              1,
              "#f0f921"
             ]
            ],
            "type": "contour"
           }
          ],
          "contourcarpet": [
           {
            "colorbar": {
             "outlinewidth": 0,
             "ticks": ""
            },
            "type": "contourcarpet"
           }
          ],
          "heatmap": [
           {
            "colorbar": {
             "outlinewidth": 0,
             "ticks": ""
            },
            "colorscale": [
             [
              0,
              "#0d0887"
             ],
             [
              0.1111111111111111,
              "#46039f"
             ],
             [
              0.2222222222222222,
              "#7201a8"
             ],
             [
              0.3333333333333333,
              "#9c179e"
             ],
             [
              0.4444444444444444,
              "#bd3786"
             ],
             [
              0.5555555555555556,
              "#d8576b"
             ],
             [
              0.6666666666666666,
              "#ed7953"
             ],
             [
              0.7777777777777778,
              "#fb9f3a"
             ],
             [
              0.8888888888888888,
              "#fdca26"
             ],
             [
              1,
              "#f0f921"
             ]
            ],
            "type": "heatmap"
           }
          ],
          "heatmapgl": [
           {
            "colorbar": {
             "outlinewidth": 0,
             "ticks": ""
            },
            "colorscale": [
             [
              0,
              "#0d0887"
             ],
             [
              0.1111111111111111,
              "#46039f"
             ],
             [
              0.2222222222222222,
              "#7201a8"
             ],
             [
              0.3333333333333333,
              "#9c179e"
             ],
             [
              0.4444444444444444,
              "#bd3786"
             ],
             [
              0.5555555555555556,
              "#d8576b"
             ],
             [
              0.6666666666666666,
              "#ed7953"
             ],
             [
              0.7777777777777778,
              "#fb9f3a"
             ],
             [
              0.8888888888888888,
              "#fdca26"
             ],
             [
              1,
              "#f0f921"
             ]
            ],
            "type": "heatmapgl"
           }
          ],
          "histogram": [
           {
            "marker": {
             "pattern": {
              "fillmode": "overlay",
              "size": 10,
              "solidity": 0.2
             }
            },
            "type": "histogram"
           }
          ],
          "histogram2d": [
           {
            "colorbar": {
             "outlinewidth": 0,
             "ticks": ""
            },
            "colorscale": [
             [
              0,
              "#0d0887"
             ],
             [
              0.1111111111111111,
              "#46039f"
             ],
             [
              0.2222222222222222,
              "#7201a8"
             ],
             [
              0.3333333333333333,
              "#9c179e"
             ],
             [
              0.4444444444444444,
              "#bd3786"
             ],
             [
              0.5555555555555556,
              "#d8576b"
             ],
             [
              0.6666666666666666,
              "#ed7953"
             ],
             [
              0.7777777777777778,
              "#fb9f3a"
             ],
             [
              0.8888888888888888,
              "#fdca26"
             ],
             [
              1,
              "#f0f921"
             ]
            ],
            "type": "histogram2d"
           }
          ],
          "histogram2dcontour": [
           {
            "colorbar": {
             "outlinewidth": 0,
             "ticks": ""
            },
            "colorscale": [
             [
              0,
              "#0d0887"
             ],
             [
              0.1111111111111111,
              "#46039f"
             ],
             [
              0.2222222222222222,
              "#7201a8"
             ],
             [
              0.3333333333333333,
              "#9c179e"
             ],
             [
              0.4444444444444444,
              "#bd3786"
             ],
             [
              0.5555555555555556,
              "#d8576b"
             ],
             [
              0.6666666666666666,
              "#ed7953"
             ],
             [
              0.7777777777777778,
              "#fb9f3a"
             ],
             [
              0.8888888888888888,
              "#fdca26"
             ],
             [
              1,
              "#f0f921"
             ]
            ],
            "type": "histogram2dcontour"
           }
          ],
          "mesh3d": [
           {
            "colorbar": {
             "outlinewidth": 0,
             "ticks": ""
            },
            "type": "mesh3d"
           }
          ],
          "parcoords": [
           {
            "line": {
             "colorbar": {
              "outlinewidth": 0,
              "ticks": ""
             }
            },
            "type": "parcoords"
           }
          ],
          "pie": [
           {
            "automargin": true,
            "type": "pie"
           }
          ],
          "scatter": [
           {
            "marker": {
             "line": {
              "color": "#283442"
             }
            },
            "type": "scatter"
           }
          ],
          "scatter3d": [
           {
            "line": {
             "colorbar": {
              "outlinewidth": 0,
              "ticks": ""
             }
            },
            "marker": {
             "colorbar": {
              "outlinewidth": 0,
              "ticks": ""
             }
            },
            "type": "scatter3d"
           }
          ],
          "scattercarpet": [
           {
            "marker": {
             "colorbar": {
              "outlinewidth": 0,
              "ticks": ""
             }
            },
            "type": "scattercarpet"
           }
          ],
          "scattergeo": [
           {
            "marker": {
             "colorbar": {
              "outlinewidth": 0,
              "ticks": ""
             }
            },
            "type": "scattergeo"
           }
          ],
          "scattergl": [
           {
            "marker": {
             "line": {
              "color": "#283442"
             }
            },
            "type": "scattergl"
           }
          ],
          "scattermapbox": [
           {
            "marker": {
             "colorbar": {
              "outlinewidth": 0,
              "ticks": ""
             }
            },
            "type": "scattermapbox"
           }
          ],
          "scatterpolar": [
           {
            "marker": {
             "colorbar": {
              "outlinewidth": 0,
              "ticks": ""
             }
            },
            "type": "scatterpolar"
           }
          ],
          "scatterpolargl": [
           {
            "marker": {
             "colorbar": {
              "outlinewidth": 0,
              "ticks": ""
             }
            },
            "type": "scatterpolargl"
           }
          ],
          "scatterternary": [
           {
            "marker": {
             "colorbar": {
              "outlinewidth": 0,
              "ticks": ""
             }
            },
            "type": "scatterternary"
           }
          ],
          "surface": [
           {
            "colorbar": {
             "outlinewidth": 0,
             "ticks": ""
            },
            "colorscale": [
             [
              0,
              "#0d0887"
             ],
             [
              0.1111111111111111,
              "#46039f"
             ],
             [
              0.2222222222222222,
              "#7201a8"
             ],
             [
              0.3333333333333333,
              "#9c179e"
             ],
             [
              0.4444444444444444,
              "#bd3786"
             ],
             [
              0.5555555555555556,
              "#d8576b"
             ],
             [
              0.6666666666666666,
              "#ed7953"
             ],
             [
              0.7777777777777778,
              "#fb9f3a"
             ],
             [
              0.8888888888888888,
              "#fdca26"
             ],
             [
              1,
              "#f0f921"
             ]
            ],
            "type": "surface"
           }
          ],
          "table": [
           {
            "cells": {
             "fill": {
              "color": "#506784"
             },
             "line": {
              "color": "rgb(17,17,17)"
             }
            },
            "header": {
             "fill": {
              "color": "#2a3f5f"
             },
             "line": {
              "color": "rgb(17,17,17)"
             }
            },
            "type": "table"
           }
          ]
         },
         "layout": {
          "annotationdefaults": {
           "arrowcolor": "#f2f5fa",
           "arrowhead": 0,
           "arrowwidth": 1
          },
          "autotypenumbers": "strict",
          "coloraxis": {
           "colorbar": {
            "outlinewidth": 0,
            "ticks": ""
           }
          },
          "colorscale": {
           "diverging": [
            [
             0,
             "#8e0152"
            ],
            [
             0.1,
             "#c51b7d"
            ],
            [
             0.2,
             "#de77ae"
            ],
            [
             0.3,
             "#f1b6da"
            ],
            [
             0.4,
             "#fde0ef"
            ],
            [
             0.5,
             "#f7f7f7"
            ],
            [
             0.6,
             "#e6f5d0"
            ],
            [
             0.7,
             "#b8e186"
            ],
            [
             0.8,
             "#7fbc41"
            ],
            [
             0.9,
             "#4d9221"
            ],
            [
             1,
             "#276419"
            ]
           ],
           "sequential": [
            [
             0,
             "#0d0887"
            ],
            [
             0.1111111111111111,
             "#46039f"
            ],
            [
             0.2222222222222222,
             "#7201a8"
            ],
            [
             0.3333333333333333,
             "#9c179e"
            ],
            [
             0.4444444444444444,
             "#bd3786"
            ],
            [
             0.5555555555555556,
             "#d8576b"
            ],
            [
             0.6666666666666666,
             "#ed7953"
            ],
            [
             0.7777777777777778,
             "#fb9f3a"
            ],
            [
             0.8888888888888888,
             "#fdca26"
            ],
            [
             1,
             "#f0f921"
            ]
           ],
           "sequentialminus": [
            [
             0,
             "#0d0887"
            ],
            [
             0.1111111111111111,
             "#46039f"
            ],
            [
             0.2222222222222222,
             "#7201a8"
            ],
            [
             0.3333333333333333,
             "#9c179e"
            ],
            [
             0.4444444444444444,
             "#bd3786"
            ],
            [
             0.5555555555555556,
             "#d8576b"
            ],
            [
             0.6666666666666666,
             "#ed7953"
            ],
            [
             0.7777777777777778,
             "#fb9f3a"
            ],
            [
             0.8888888888888888,
             "#fdca26"
            ],
            [
             1,
             "#f0f921"
            ]
           ]
          },
          "colorway": [
           "#636efa",
           "#EF553B",
           "#00cc96",
           "#ab63fa",
           "#FFA15A",
           "#19d3f3",
           "#FF6692",
           "#B6E880",
           "#FF97FF",
           "#FECB52"
          ],
          "font": {
           "color": "#f2f5fa"
          },
          "geo": {
           "bgcolor": "rgb(17,17,17)",
           "lakecolor": "rgb(17,17,17)",
           "landcolor": "rgb(17,17,17)",
           "showlakes": true,
           "showland": true,
           "subunitcolor": "#506784"
          },
          "hoverlabel": {
           "align": "left"
          },
          "hovermode": "closest",
          "mapbox": {
           "style": "dark"
          },
          "paper_bgcolor": "rgb(17,17,17)",
          "plot_bgcolor": "rgb(17,17,17)",
          "polar": {
           "angularaxis": {
            "gridcolor": "#506784",
            "linecolor": "#506784",
            "ticks": ""
           },
           "bgcolor": "rgb(17,17,17)",
           "radialaxis": {
            "gridcolor": "#506784",
            "linecolor": "#506784",
            "ticks": ""
           }
          },
          "scene": {
           "xaxis": {
            "backgroundcolor": "rgb(17,17,17)",
            "gridcolor": "#506784",
            "gridwidth": 2,
            "linecolor": "#506784",
            "showbackground": true,
            "ticks": "",
            "zerolinecolor": "#C8D4E3"
           },
           "yaxis": {
            "backgroundcolor": "rgb(17,17,17)",
            "gridcolor": "#506784",
            "gridwidth": 2,
            "linecolor": "#506784",
            "showbackground": true,
            "ticks": "",
            "zerolinecolor": "#C8D4E3"
           },
           "zaxis": {
            "backgroundcolor": "rgb(17,17,17)",
            "gridcolor": "#506784",
            "gridwidth": 2,
            "linecolor": "#506784",
            "showbackground": true,
            "ticks": "",
            "zerolinecolor": "#C8D4E3"
           }
          },
          "shapedefaults": {
           "line": {
            "color": "#f2f5fa"
           }
          },
          "sliderdefaults": {
           "bgcolor": "#C8D4E3",
           "bordercolor": "rgb(17,17,17)",
           "borderwidth": 1,
           "tickwidth": 0
          },
          "ternary": {
           "aaxis": {
            "gridcolor": "#506784",
            "linecolor": "#506784",
            "ticks": ""
           },
           "baxis": {
            "gridcolor": "#506784",
            "linecolor": "#506784",
            "ticks": ""
           },
           "bgcolor": "rgb(17,17,17)",
           "caxis": {
            "gridcolor": "#506784",
            "linecolor": "#506784",
            "ticks": ""
           }
          },
          "title": {
           "x": 0.05
          },
          "updatemenudefaults": {
           "bgcolor": "#506784",
           "borderwidth": 0
          },
          "xaxis": {
           "automargin": true,
           "gridcolor": "#283442",
           "linecolor": "#506784",
           "ticks": "",
           "title": {
            "standoff": 15
           },
           "zerolinecolor": "#283442",
           "zerolinewidth": 2
          },
          "yaxis": {
           "automargin": true,
           "gridcolor": "#283442",
           "linecolor": "#506784",
           "ticks": "",
           "title": {
            "standoff": 15
           },
           "zerolinecolor": "#283442",
           "zerolinewidth": 2
          }
         }
        },
        "title": {
         "text": "Acceleration vs Sprint Speed (w Positioning)",
         "x": 0.5,
         "xanchor": "center",
         "y": 0.9,
         "yanchor": "top"
        },
        "width": 800,
        "xaxis": {
         "anchor": "y",
         "domain": [
          0,
          1
         ],
         "title": {
          "text": "movement_acceleration"
         }
        },
        "yaxis": {
         "anchor": "x",
         "domain": [
          0,
          1
         ],
         "title": {
          "text": "movement_sprint_speed"
         }
        }
       }
      }
     },
     "metadata": {},
     "output_type": "display_data"
    }
   ],
   "source": [
    "for i in range(5):\n",
    "  x_attr = plot_combination[player_type][i]['x_attr']\n",
    "  y_attr = plot_combination[player_type][i]['y_attr']\n",
    "  size_attr = plot_combination[player_type][i]['size_attr']\n",
    "  title = plot_combination[player_type][i]['title']\n",
    "  comp_set = same_nationality[same_nationality['short_name']!=s_name]\n",
    "  get_plots(x_attr, y_attr, size_attr, comp_set, title)"
   ]
  },
  {
   "cell_type": "code",
   "execution_count": 13,
   "metadata": {},
   "outputs": [
    {
     "data": {
      "text/html": [
       "<div>\n",
       "<style scoped>\n",
       "    .dataframe tbody tr th:only-of-type {\n",
       "        vertical-align: middle;\n",
       "    }\n",
       "\n",
       "    .dataframe tbody tr th {\n",
       "        vertical-align: top;\n",
       "    }\n",
       "\n",
       "    .dataframe thead th {\n",
       "        text-align: right;\n",
       "    }\n",
       "</style>\n",
       "<table border=\"1\" class=\"dataframe\">\n",
       "  <thead>\n",
       "    <tr style=\"text-align: right;\">\n",
       "      <th></th>\n",
       "      <th>attacking_heading_accuracy</th>\n",
       "    </tr>\n",
       "  </thead>\n",
       "  <tbody>\n",
       "    <tr>\n",
       "      <th>67</th>\n",
       "      <td>83</td>\n",
       "    </tr>\n",
       "  </tbody>\n",
       "</table>\n",
       "</div>"
      ],
      "text/plain": [
       "    attacking_heading_accuracy\n",
       "67                          83"
      ]
     },
     "execution_count": 13,
     "metadata": {},
     "output_type": "execute_result"
    }
   ],
   "source": [
    "player[['attacking_heading_accuracy']]"
   ]
  },
  {
   "cell_type": "code",
   "execution_count": 14,
   "metadata": {},
   "outputs": [],
   "source": [
    "p_skill = ['attacking_crossing','attacking_finishing', 'attacking_heading_accuracy','attacking_short_passing','attacking_volleys',\n",
    "           'skill_dribbling','skill_curve','skill_fk_accuracy','skill_long_passing','skill_ball_control',\n",
    "           'movement_acceleration','movement_sprint_speed','movement_agility','movement_reactions','movement_balance',\n",
    "           'power_shot_power','power_jumping','power_stamina','power_strength','power_long_shots',\n",
    "           'mentality_aggression','mentality_interceptions','mentality_positioning','mentality_vision','mentality_penalties','mentality_composure',\n",
    "           'defending_marking_awareness','defending_standing_tackle','defending_sliding_tackle']"
   ]
  },
  {
   "cell_type": "code",
   "execution_count": 15,
   "metadata": {},
   "outputs": [
    {
     "data": {
      "text/plain": [
       "Index([67], dtype='int64')"
      ]
     },
     "execution_count": 15,
     "metadata": {},
     "output_type": "execute_result"
    }
   ],
   "source": [
    "attr = player[p_skill].T\n",
    "attr.columns"
   ]
  },
  {
   "cell_type": "code",
   "execution_count": 16,
   "metadata": {},
   "outputs": [
    {
     "data": {
      "text/html": [
       "<div>\n",
       "<style scoped>\n",
       "    .dataframe tbody tr th:only-of-type {\n",
       "        vertical-align: middle;\n",
       "    }\n",
       "\n",
       "    .dataframe tbody tr th {\n",
       "        vertical-align: top;\n",
       "    }\n",
       "\n",
       "    .dataframe thead th {\n",
       "        text-align: right;\n",
       "    }\n",
       "</style>\n",
       "<table border=\"1\" class=\"dataframe\">\n",
       "  <thead>\n",
       "    <tr style=\"text-align: right;\">\n",
       "      <th></th>\n",
       "      <th>67</th>\n",
       "    </tr>\n",
       "  </thead>\n",
       "  <tbody>\n",
       "    <tr>\n",
       "      <th>attacking_finishing</th>\n",
       "      <td>90</td>\n",
       "    </tr>\n",
       "    <tr>\n",
       "      <th>mentality_positioning</th>\n",
       "      <td>89</td>\n",
       "    </tr>\n",
       "    <tr>\n",
       "      <th>movement_reactions</th>\n",
       "      <td>87</td>\n",
       "    </tr>\n",
       "    <tr>\n",
       "      <th>power_shot_power</th>\n",
       "      <td>87</td>\n",
       "    </tr>\n",
       "    <tr>\n",
       "      <th>power_strength</th>\n",
       "      <td>86</td>\n",
       "    </tr>\n",
       "  </tbody>\n",
       "</table>\n",
       "</div>"
      ],
      "text/plain": [
       "                       67\n",
       "attacking_finishing    90\n",
       "mentality_positioning  89\n",
       "movement_reactions     87\n",
       "power_shot_power       87\n",
       "power_strength         86"
      ]
     },
     "execution_count": 16,
     "metadata": {},
     "output_type": "execute_result"
    }
   ],
   "source": [
    "attr.sort_values(by=[attr.columns[0]], inplace=True, ascending=False)\n",
    "attr.head()"
   ]
  },
  {
   "cell_type": "code",
   "execution_count": 17,
   "metadata": {},
   "outputs": [
    {
     "data": {
      "text/plain": [
       "['attacking_finishing',\n",
       " 'mentality_positioning',\n",
       " 'movement_reactions',\n",
       " 'power_shot_power',\n",
       " 'power_strength']"
      ]
     },
     "execution_count": 17,
     "metadata": {},
     "output_type": "execute_result"
    }
   ],
   "source": [
    "top5_attr = list(attr.index.values[:5])\n",
    "top5_attr"
   ]
  },
  {
   "cell_type": "code",
   "execution_count": 18,
   "metadata": {},
   "outputs": [
    {
     "data": {
      "text/html": [
       "<div>\n",
       "<style scoped>\n",
       "    .dataframe tbody tr th:only-of-type {\n",
       "        vertical-align: middle;\n",
       "    }\n",
       "\n",
       "    .dataframe tbody tr th {\n",
       "        vertical-align: top;\n",
       "    }\n",
       "\n",
       "    .dataframe thead th {\n",
       "        text-align: right;\n",
       "    }\n",
       "</style>\n",
       "<table border=\"1\" class=\"dataframe\">\n",
       "  <thead>\n",
       "    <tr style=\"text-align: right;\">\n",
       "      <th></th>\n",
       "      <th>Total</th>\n",
       "      <th>Nationality</th>\n",
       "      <th>League</th>\n",
       "      <th>Club</th>\n",
       "    </tr>\n",
       "    <tr>\n",
       "      <th>Attr</th>\n",
       "      <th></th>\n",
       "      <th></th>\n",
       "      <th></th>\n",
       "      <th></th>\n",
       "    </tr>\n",
       "  </thead>\n",
       "  <tbody>\n",
       "    <tr>\n",
       "      <th>attacking_finishing</th>\n",
       "      <td>7</td>\n",
       "      <td>1</td>\n",
       "      <td>2</td>\n",
       "      <td>1</td>\n",
       "    </tr>\n",
       "    <tr>\n",
       "      <th>mentality_positioning</th>\n",
       "      <td>15</td>\n",
       "      <td>1</td>\n",
       "      <td>2</td>\n",
       "      <td>1</td>\n",
       "    </tr>\n",
       "    <tr>\n",
       "      <th>movement_reactions</th>\n",
       "      <td>17</td>\n",
       "      <td>1</td>\n",
       "      <td>7</td>\n",
       "      <td>1</td>\n",
       "    </tr>\n",
       "    <tr>\n",
       "      <th>power_shot_power</th>\n",
       "      <td>24</td>\n",
       "      <td>2</td>\n",
       "      <td>6</td>\n",
       "      <td>1</td>\n",
       "    </tr>\n",
       "    <tr>\n",
       "      <th>power_strength</th>\n",
       "      <td>130</td>\n",
       "      <td>10</td>\n",
       "      <td>47</td>\n",
       "      <td>6</td>\n",
       "    </tr>\n",
       "  </tbody>\n",
       "</table>\n",
       "</div>"
      ],
      "text/plain": [
       "                       Total  Nationality  League  Club\n",
       "Attr                                                   \n",
       "attacking_finishing        7            1       2     1\n",
       "mentality_positioning     15            1       2     1\n",
       "movement_reactions        17            1       7     1\n",
       "power_shot_power          24            2       6     1\n",
       "power_strength           130           10      47     6"
      ]
     },
     "execution_count": 18,
     "metadata": {},
     "output_type": "execute_result"
    }
   ],
   "source": [
    "rank_list_total = []\n",
    "rank_list_nationality = []\n",
    "rank_list_league = []\n",
    "rank_list_club = []\n",
    "\n",
    "for attr in top5_attr:\n",
    "  top_total = total[['sofifa_id', 'short_name', attr]].sort_values(by=[attr], ascending=False)\n",
    "  top_total.reset_index(inplace=True, drop=True)\n",
    "  top_nationality = same_nationality[['sofifa_id', 'short_name', attr]].sort_values(by=[attr], ascending=False)\n",
    "  top_nationality.reset_index(inplace=True, drop=True)\n",
    "  top_league = same_league[['sofifa_id', 'short_name', attr]].sort_values(by=[attr], ascending=False)\n",
    "  top_league.reset_index(inplace=True, drop=True)\n",
    "  top_club = same_club[['sofifa_id', 'short_name', attr]].sort_values(by=[attr], ascending=False)\n",
    "  top_club.reset_index(inplace=True, drop=True)\n",
    "  \n",
    "\n",
    "  for x in top_total['sofifa_id']:\n",
    "      if x == p_id:\n",
    "          rank_total = int(top_total[top_total['sofifa_id']==p_id].index[0])+1\n",
    "          rank_list_total.append(rank_total)\n",
    "          rank_nationality = int(top_nationality[top_nationality['sofifa_id']==p_id].index[0])+1\n",
    "          rank_list_nationality.append(rank_nationality)\n",
    "          rank_league = int(top_league[top_league['sofifa_id']==p_id].index[0])+1\n",
    "          rank_list_league.append(rank_league)\n",
    "          rank_club = int(top_club[top_club['sofifa_id']==p_id].index[0])+1\n",
    "          rank_list_club.append(rank_club)\n",
    "\n",
    "ranking_df = pd.DataFrame()\n",
    "ranking_df['Attr'] = top5_attr\n",
    "ranking_df['Total'] = rank_list_total\n",
    "ranking_df['Nationality'] = rank_list_nationality\n",
    "ranking_df['League'] = rank_list_league\n",
    "ranking_df['Club'] = rank_list_club\n",
    "\n",
    "ranking_df.set_index('Attr', inplace=True)\n",
    "ranking_df"
   ]
  },
  {
   "cell_type": "code",
   "execution_count": 19,
   "metadata": {},
   "outputs": [
    {
     "data": {
      "text/html": [
       "<div>\n",
       "<style scoped>\n",
       "    .dataframe tbody tr th:only-of-type {\n",
       "        vertical-align: middle;\n",
       "    }\n",
       "\n",
       "    .dataframe tbody tr th {\n",
       "        vertical-align: top;\n",
       "    }\n",
       "\n",
       "    .dataframe thead th {\n",
       "        text-align: right;\n",
       "    }\n",
       "</style>\n",
       "<table border=\"1\" class=\"dataframe\">\n",
       "  <thead>\n",
       "    <tr style=\"text-align: right;\">\n",
       "      <th></th>\n",
       "      <th>Year</th>\n",
       "      <th>sofifa_id</th>\n",
       "      <th>short_name</th>\n",
       "      <th>player_positions</th>\n",
       "      <th>overall</th>\n",
       "      <th>age</th>\n",
       "      <th>height_cm</th>\n",
       "      <th>weight_kg</th>\n",
       "      <th>club_name</th>\n",
       "      <th>league_name</th>\n",
       "      <th>...</th>\n",
       "      <th>CM</th>\n",
       "      <th>GK</th>\n",
       "      <th>CDM</th>\n",
       "      <th>LM</th>\n",
       "      <th>CB</th>\n",
       "      <th>RB</th>\n",
       "      <th>RM</th>\n",
       "      <th>LB</th>\n",
       "      <th>RWB</th>\n",
       "      <th>LWB</th>\n",
       "    </tr>\n",
       "  </thead>\n",
       "  <tbody>\n",
       "    <tr>\n",
       "      <th>1</th>\n",
       "      <td>2022</td>\n",
       "      <td>199288</td>\n",
       "      <td>A. Losilla</td>\n",
       "      <td>CDM, CM, CB</td>\n",
       "      <td>72</td>\n",
       "      <td>35</td>\n",
       "      <td>185</td>\n",
       "      <td>80</td>\n",
       "      <td>VfL Bochum 1848</td>\n",
       "      <td>German 1. Bundesliga</td>\n",
       "      <td>...</td>\n",
       "      <td>1</td>\n",
       "      <td>0</td>\n",
       "      <td>1</td>\n",
       "      <td>0</td>\n",
       "      <td>1</td>\n",
       "      <td>0</td>\n",
       "      <td>0</td>\n",
       "      <td>0</td>\n",
       "      <td>0</td>\n",
       "      <td>0</td>\n",
       "    </tr>\n",
       "    <tr>\n",
       "      <th>0</th>\n",
       "      <td>2023</td>\n",
       "      <td>199288</td>\n",
       "      <td>A. Losilla</td>\n",
       "      <td>CDM, CM, CB</td>\n",
       "      <td>75</td>\n",
       "      <td>36</td>\n",
       "      <td>185</td>\n",
       "      <td>78</td>\n",
       "      <td>VfL Bochum 1848</td>\n",
       "      <td>Bundesliga</td>\n",
       "      <td>...</td>\n",
       "      <td>1</td>\n",
       "      <td>0</td>\n",
       "      <td>1</td>\n",
       "      <td>0</td>\n",
       "      <td>1</td>\n",
       "      <td>0</td>\n",
       "      <td>0</td>\n",
       "      <td>0</td>\n",
       "      <td>0</td>\n",
       "      <td>0</td>\n",
       "    </tr>\n",
       "  </tbody>\n",
       "</table>\n",
       "<p>2 rows × 73 columns</p>\n",
       "</div>"
      ],
      "text/plain": [
       "   Year  sofifa_id  short_name player_positions  overall  age  height_cm   \n",
       "1  2022     199288  A. Losilla      CDM, CM, CB       72   35        185  \\\n",
       "0  2023     199288  A. Losilla      CDM, CM, CB       75   36        185   \n",
       "\n",
       "   weight_kg        club_name           league_name  ... CM  GK CDM LM  CB   \n",
       "1         80  VfL Bochum 1848  German 1. Bundesliga  ...  1   0   1  0   1  \\\n",
       "0         78  VfL Bochum 1848            Bundesliga  ...  1   0   1  0   1   \n",
       "\n",
       "   RB  RM  LB  RWB  LWB  \n",
       "1   0   0   0    0    0  \n",
       "0   0   0   0    0    0  \n",
       "\n",
       "[2 rows x 73 columns]"
      ]
     },
     "execution_count": 19,
     "metadata": {},
     "output_type": "execute_result"
    }
   ],
   "source": [
    "growth = pd.read_csv('../new_data/growth/temp-growth.csv', index_col=[0])\n",
    "growth.head()"
   ]
  },
  {
   "cell_type": "code",
   "execution_count": 20,
   "metadata": {},
   "outputs": [
    {
     "data": {
      "text/plain": [
       "Index(['Year', 'sofifa_id', 'short_name', 'player_positions', 'overall', 'age',\n",
       "       'height_cm', 'weight_kg', 'club_name', 'league_name', 'club_position',\n",
       "       'club_jersey_number', 'nationality_name', 'preferred_foot', 'weak_foot',\n",
       "       'skill_moves', 'pace', 'shooting', 'passing', 'dribbling', 'defending',\n",
       "       'physic', 'attacking_crossing', 'attacking_finishing',\n",
       "       'attacking_heading_accuracy', 'attacking_short_passing',\n",
       "       'attacking_volleys', 'skill_dribbling', 'skill_curve',\n",
       "       'skill_fk_accuracy', 'skill_long_passing', 'skill_ball_control',\n",
       "       'movement_acceleration', 'movement_sprint_speed', 'movement_agility',\n",
       "       'movement_reactions', 'movement_balance', 'power_shot_power',\n",
       "       'power_jumping', 'power_stamina', 'power_strength', 'power_long_shots',\n",
       "       'mentality_aggression', 'mentality_interceptions',\n",
       "       'mentality_positioning', 'mentality_vision', 'mentality_penalties',\n",
       "       'mentality_composure', 'defending_marking_awareness',\n",
       "       'defending_standing_tackle', 'defending_sliding_tackle',\n",
       "       'goalkeeping_diving', 'goalkeeping_handling', 'goalkeeping_kicking',\n",
       "       'goalkeeping_positioning', 'goalkeeping_reflexes', 'goalkeeping_speed',\n",
       "       'club_logo_url', 'RW', 'ST', 'CF', 'LW', 'CAM', 'CM', 'GK', 'CDM', 'LM',\n",
       "       'CB', 'RB', 'RM', 'LB', 'RWB', 'LWB'],\n",
       "      dtype='object')"
      ]
     },
     "execution_count": 20,
     "metadata": {},
     "output_type": "execute_result"
    }
   ],
   "source": [
    "growth.columns"
   ]
  },
  {
   "cell_type": "code",
   "execution_count": 21,
   "metadata": {},
   "outputs": [],
   "source": [
    "colors = [\"#002051\", \"#3c4d6e\", \"#7f7c75\", \"#bbaf71\", \"#fdea45\"] # cividis\n",
    "\n",
    "cat_dict = {\n",
    "    'general' : ['pace', 'shooting', 'passing', 'dribbling', 'defending', 'physic'],\n",
    "    'attacking' : ['attacking_crossing', 'attacking_finishing', 'attacking_heading_accuracy', 'attacking_short_passing', 'attacking_volleys'],\n",
    "    'skill': ['skill_dribbling', 'skill_curve', 'skill_fk_accuracy', 'skill_long_passing', 'skill_ball_control'],\n",
    "    'movement': ['movement_acceleration', 'movement_sprint_speed', 'movement_agility', 'movement_reactions', 'movement_balance'],\n",
    "    'power' : ['power_shot_power', 'power_jumping', 'power_stamina', 'power_strength', 'power_long_shots'],\n",
    "    'mentality' : ['mentality_aggression', 'mentality_interceptions', 'mentality_positioning', 'mentality_vision', 'mentality_penalties', 'mentality_composure'],\n",
    "    'defending' : ['defending_marking_awareness', 'defending_standing_tackle', 'defending_sliding_tackle']\n",
    "}\n",
    "\n",
    "categories = cat_dict['skill']"
   ]
  },
  {
   "cell_type": "code",
   "execution_count": 22,
   "metadata": {},
   "outputs": [
    {
     "data": {
      "text/html": [
       "<div>\n",
       "<style scoped>\n",
       "    .dataframe tbody tr th:only-of-type {\n",
       "        vertical-align: middle;\n",
       "    }\n",
       "\n",
       "    .dataframe tbody tr th {\n",
       "        vertical-align: top;\n",
       "    }\n",
       "\n",
       "    .dataframe thead th {\n",
       "        text-align: right;\n",
       "    }\n",
       "</style>\n",
       "<table border=\"1\" class=\"dataframe\">\n",
       "  <thead>\n",
       "    <tr style=\"text-align: right;\">\n",
       "      <th></th>\n",
       "      <th>Year</th>\n",
       "      <th>sofifa_id</th>\n",
       "      <th>short_name</th>\n",
       "      <th>player_positions</th>\n",
       "      <th>overall</th>\n",
       "      <th>age</th>\n",
       "      <th>height_cm</th>\n",
       "      <th>weight_kg</th>\n",
       "      <th>club_name</th>\n",
       "      <th>league_name</th>\n",
       "      <th>...</th>\n",
       "      <th>CM</th>\n",
       "      <th>GK</th>\n",
       "      <th>CDM</th>\n",
       "      <th>LM</th>\n",
       "      <th>CB</th>\n",
       "      <th>RB</th>\n",
       "      <th>RM</th>\n",
       "      <th>LB</th>\n",
       "      <th>RWB</th>\n",
       "      <th>LWB</th>\n",
       "    </tr>\n",
       "  </thead>\n",
       "  <tbody>\n",
       "    <tr>\n",
       "      <th>1</th>\n",
       "      <td>2022</td>\n",
       "      <td>199288</td>\n",
       "      <td>A. Losilla</td>\n",
       "      <td>CDM, CM, CB</td>\n",
       "      <td>72</td>\n",
       "      <td>35</td>\n",
       "      <td>185</td>\n",
       "      <td>80</td>\n",
       "      <td>VfL Bochum 1848</td>\n",
       "      <td>German 1. Bundesliga</td>\n",
       "      <td>...</td>\n",
       "      <td>1</td>\n",
       "      <td>0</td>\n",
       "      <td>1</td>\n",
       "      <td>0</td>\n",
       "      <td>1</td>\n",
       "      <td>0</td>\n",
       "      <td>0</td>\n",
       "      <td>0</td>\n",
       "      <td>0</td>\n",
       "      <td>0</td>\n",
       "    </tr>\n",
       "    <tr>\n",
       "      <th>0</th>\n",
       "      <td>2023</td>\n",
       "      <td>199288</td>\n",
       "      <td>A. Losilla</td>\n",
       "      <td>CDM, CM, CB</td>\n",
       "      <td>75</td>\n",
       "      <td>36</td>\n",
       "      <td>185</td>\n",
       "      <td>78</td>\n",
       "      <td>VfL Bochum 1848</td>\n",
       "      <td>Bundesliga</td>\n",
       "      <td>...</td>\n",
       "      <td>1</td>\n",
       "      <td>0</td>\n",
       "      <td>1</td>\n",
       "      <td>0</td>\n",
       "      <td>1</td>\n",
       "      <td>0</td>\n",
       "      <td>0</td>\n",
       "      <td>0</td>\n",
       "      <td>0</td>\n",
       "      <td>0</td>\n",
       "    </tr>\n",
       "  </tbody>\n",
       "</table>\n",
       "<p>2 rows × 73 columns</p>\n",
       "</div>"
      ],
      "text/plain": [
       "   Year  sofifa_id  short_name player_positions  overall  age  height_cm   \n",
       "1  2022     199288  A. Losilla      CDM, CM, CB       72   35        185  \\\n",
       "0  2023     199288  A. Losilla      CDM, CM, CB       75   36        185   \n",
       "\n",
       "   weight_kg        club_name           league_name  ... CM  GK CDM LM  CB   \n",
       "1         80  VfL Bochum 1848  German 1. Bundesliga  ...  1   0   1  0   1  \\\n",
       "0         78  VfL Bochum 1848            Bundesliga  ...  1   0   1  0   1   \n",
       "\n",
       "   RB  RM  LB  RWB  LWB  \n",
       "1   0   0   0    0    0  \n",
       "0   0   0   0    0    0  \n",
       "\n",
       "[2 rows x 73 columns]"
      ]
     },
     "execution_count": 22,
     "metadata": {},
     "output_type": "execute_result"
    }
   ],
   "source": [
    "growth"
   ]
  },
  {
   "cell_type": "code",
   "execution_count": 23,
   "metadata": {},
   "outputs": [
    {
     "data": {
      "application/vnd.plotly.v1+json": {
       "config": {
        "plotlyServerURL": "https://plot.ly"
       },
       "data": [
        {
         "name": "2022",
         "type": "bar",
         "x": [
          "skill_dribbling",
          "skill_curve",
          "skill_fk_accuracy",
          "skill_long_passing",
          "skill_ball_control"
         ],
         "y": [
          69,
          54,
          47,
          68,
          73
         ]
        },
        {
         "name": "2023",
         "type": "bar",
         "x": [
          "skill_dribbling",
          "skill_curve",
          "skill_fk_accuracy",
          "skill_long_passing",
          "skill_ball_control"
         ],
         "y": [
          70,
          54,
          47,
          72,
          74
         ]
        }
       ],
       "layout": {
        "template": {
         "data": {
          "bar": [
           {
            "error_x": {
             "color": "#f2f5fa"
            },
            "error_y": {
             "color": "#f2f5fa"
            },
            "marker": {
             "line": {
              "color": "rgb(17,17,17)",
              "width": 0.5
             },
             "pattern": {
              "fillmode": "overlay",
              "size": 10,
              "solidity": 0.2
             }
            },
            "type": "bar"
           }
          ],
          "barpolar": [
           {
            "marker": {
             "line": {
              "color": "rgb(17,17,17)",
              "width": 0.5
             },
             "pattern": {
              "fillmode": "overlay",
              "size": 10,
              "solidity": 0.2
             }
            },
            "type": "barpolar"
           }
          ],
          "carpet": [
           {
            "aaxis": {
             "endlinecolor": "#A2B1C6",
             "gridcolor": "#506784",
             "linecolor": "#506784",
             "minorgridcolor": "#506784",
             "startlinecolor": "#A2B1C6"
            },
            "baxis": {
             "endlinecolor": "#A2B1C6",
             "gridcolor": "#506784",
             "linecolor": "#506784",
             "minorgridcolor": "#506784",
             "startlinecolor": "#A2B1C6"
            },
            "type": "carpet"
           }
          ],
          "choropleth": [
           {
            "colorbar": {
             "outlinewidth": 0,
             "ticks": ""
            },
            "type": "choropleth"
           }
          ],
          "contour": [
           {
            "colorbar": {
             "outlinewidth": 0,
             "ticks": ""
            },
            "colorscale": [
             [
              0,
              "#0d0887"
             ],
             [
              0.1111111111111111,
              "#46039f"
             ],
             [
              0.2222222222222222,
              "#7201a8"
             ],
             [
              0.3333333333333333,
              "#9c179e"
             ],
             [
              0.4444444444444444,
              "#bd3786"
             ],
             [
              0.5555555555555556,
              "#d8576b"
             ],
             [
              0.6666666666666666,
              "#ed7953"
             ],
             [
              0.7777777777777778,
              "#fb9f3a"
             ],
             [
              0.8888888888888888,
              "#fdca26"
             ],
             [
              1,
              "#f0f921"
             ]
            ],
            "type": "contour"
           }
          ],
          "contourcarpet": [
           {
            "colorbar": {
             "outlinewidth": 0,
             "ticks": ""
            },
            "type": "contourcarpet"
           }
          ],
          "heatmap": [
           {
            "colorbar": {
             "outlinewidth": 0,
             "ticks": ""
            },
            "colorscale": [
             [
              0,
              "#0d0887"
             ],
             [
              0.1111111111111111,
              "#46039f"
             ],
             [
              0.2222222222222222,
              "#7201a8"
             ],
             [
              0.3333333333333333,
              "#9c179e"
             ],
             [
              0.4444444444444444,
              "#bd3786"
             ],
             [
              0.5555555555555556,
              "#d8576b"
             ],
             [
              0.6666666666666666,
              "#ed7953"
             ],
             [
              0.7777777777777778,
              "#fb9f3a"
             ],
             [
              0.8888888888888888,
              "#fdca26"
             ],
             [
              1,
              "#f0f921"
             ]
            ],
            "type": "heatmap"
           }
          ],
          "heatmapgl": [
           {
            "colorbar": {
             "outlinewidth": 0,
             "ticks": ""
            },
            "colorscale": [
             [
              0,
              "#0d0887"
             ],
             [
              0.1111111111111111,
              "#46039f"
             ],
             [
              0.2222222222222222,
              "#7201a8"
             ],
             [
              0.3333333333333333,
              "#9c179e"
             ],
             [
              0.4444444444444444,
              "#bd3786"
             ],
             [
              0.5555555555555556,
              "#d8576b"
             ],
             [
              0.6666666666666666,
              "#ed7953"
             ],
             [
              0.7777777777777778,
              "#fb9f3a"
             ],
             [
              0.8888888888888888,
              "#fdca26"
             ],
             [
              1,
              "#f0f921"
             ]
            ],
            "type": "heatmapgl"
           }
          ],
          "histogram": [
           {
            "marker": {
             "pattern": {
              "fillmode": "overlay",
              "size": 10,
              "solidity": 0.2
             }
            },
            "type": "histogram"
           }
          ],
          "histogram2d": [
           {
            "colorbar": {
             "outlinewidth": 0,
             "ticks": ""
            },
            "colorscale": [
             [
              0,
              "#0d0887"
             ],
             [
              0.1111111111111111,
              "#46039f"
             ],
             [
              0.2222222222222222,
              "#7201a8"
             ],
             [
              0.3333333333333333,
              "#9c179e"
             ],
             [
              0.4444444444444444,
              "#bd3786"
             ],
             [
              0.5555555555555556,
              "#d8576b"
             ],
             [
              0.6666666666666666,
              "#ed7953"
             ],
             [
              0.7777777777777778,
              "#fb9f3a"
             ],
             [
              0.8888888888888888,
              "#fdca26"
             ],
             [
              1,
              "#f0f921"
             ]
            ],
            "type": "histogram2d"
           }
          ],
          "histogram2dcontour": [
           {
            "colorbar": {
             "outlinewidth": 0,
             "ticks": ""
            },
            "colorscale": [
             [
              0,
              "#0d0887"
             ],
             [
              0.1111111111111111,
              "#46039f"
             ],
             [
              0.2222222222222222,
              "#7201a8"
             ],
             [
              0.3333333333333333,
              "#9c179e"
             ],
             [
              0.4444444444444444,
              "#bd3786"
             ],
             [
              0.5555555555555556,
              "#d8576b"
             ],
             [
              0.6666666666666666,
              "#ed7953"
             ],
             [
              0.7777777777777778,
              "#fb9f3a"
             ],
             [
              0.8888888888888888,
              "#fdca26"
             ],
             [
              1,
              "#f0f921"
             ]
            ],
            "type": "histogram2dcontour"
           }
          ],
          "mesh3d": [
           {
            "colorbar": {
             "outlinewidth": 0,
             "ticks": ""
            },
            "type": "mesh3d"
           }
          ],
          "parcoords": [
           {
            "line": {
             "colorbar": {
              "outlinewidth": 0,
              "ticks": ""
             }
            },
            "type": "parcoords"
           }
          ],
          "pie": [
           {
            "automargin": true,
            "type": "pie"
           }
          ],
          "scatter": [
           {
            "marker": {
             "line": {
              "color": "#283442"
             }
            },
            "type": "scatter"
           }
          ],
          "scatter3d": [
           {
            "line": {
             "colorbar": {
              "outlinewidth": 0,
              "ticks": ""
             }
            },
            "marker": {
             "colorbar": {
              "outlinewidth": 0,
              "ticks": ""
             }
            },
            "type": "scatter3d"
           }
          ],
          "scattercarpet": [
           {
            "marker": {
             "colorbar": {
              "outlinewidth": 0,
              "ticks": ""
             }
            },
            "type": "scattercarpet"
           }
          ],
          "scattergeo": [
           {
            "marker": {
             "colorbar": {
              "outlinewidth": 0,
              "ticks": ""
             }
            },
            "type": "scattergeo"
           }
          ],
          "scattergl": [
           {
            "marker": {
             "line": {
              "color": "#283442"
             }
            },
            "type": "scattergl"
           }
          ],
          "scattermapbox": [
           {
            "marker": {
             "colorbar": {
              "outlinewidth": 0,
              "ticks": ""
             }
            },
            "type": "scattermapbox"
           }
          ],
          "scatterpolar": [
           {
            "marker": {
             "colorbar": {
              "outlinewidth": 0,
              "ticks": ""
             }
            },
            "type": "scatterpolar"
           }
          ],
          "scatterpolargl": [
           {
            "marker": {
             "colorbar": {
              "outlinewidth": 0,
              "ticks": ""
             }
            },
            "type": "scatterpolargl"
           }
          ],
          "scatterternary": [
           {
            "marker": {
             "colorbar": {
              "outlinewidth": 0,
              "ticks": ""
             }
            },
            "type": "scatterternary"
           }
          ],
          "surface": [
           {
            "colorbar": {
             "outlinewidth": 0,
             "ticks": ""
            },
            "colorscale": [
             [
              0,
              "#0d0887"
             ],
             [
              0.1111111111111111,
              "#46039f"
             ],
             [
              0.2222222222222222,
              "#7201a8"
             ],
             [
              0.3333333333333333,
              "#9c179e"
             ],
             [
              0.4444444444444444,
              "#bd3786"
             ],
             [
              0.5555555555555556,
              "#d8576b"
             ],
             [
              0.6666666666666666,
              "#ed7953"
             ],
             [
              0.7777777777777778,
              "#fb9f3a"
             ],
             [
              0.8888888888888888,
              "#fdca26"
             ],
             [
              1,
              "#f0f921"
             ]
            ],
            "type": "surface"
           }
          ],
          "table": [
           {
            "cells": {
             "fill": {
              "color": "#506784"
             },
             "line": {
              "color": "rgb(17,17,17)"
             }
            },
            "header": {
             "fill": {
              "color": "#2a3f5f"
             },
             "line": {
              "color": "rgb(17,17,17)"
             }
            },
            "type": "table"
           }
          ]
         },
         "layout": {
          "annotationdefaults": {
           "arrowcolor": "#f2f5fa",
           "arrowhead": 0,
           "arrowwidth": 1
          },
          "autotypenumbers": "strict",
          "coloraxis": {
           "colorbar": {
            "outlinewidth": 0,
            "ticks": ""
           }
          },
          "colorscale": {
           "diverging": [
            [
             0,
             "#8e0152"
            ],
            [
             0.1,
             "#c51b7d"
            ],
            [
             0.2,
             "#de77ae"
            ],
            [
             0.3,
             "#f1b6da"
            ],
            [
             0.4,
             "#fde0ef"
            ],
            [
             0.5,
             "#f7f7f7"
            ],
            [
             0.6,
             "#e6f5d0"
            ],
            [
             0.7,
             "#b8e186"
            ],
            [
             0.8,
             "#7fbc41"
            ],
            [
             0.9,
             "#4d9221"
            ],
            [
             1,
             "#276419"
            ]
           ],
           "sequential": [
            [
             0,
             "#0d0887"
            ],
            [
             0.1111111111111111,
             "#46039f"
            ],
            [
             0.2222222222222222,
             "#7201a8"
            ],
            [
             0.3333333333333333,
             "#9c179e"
            ],
            [
             0.4444444444444444,
             "#bd3786"
            ],
            [
             0.5555555555555556,
             "#d8576b"
            ],
            [
             0.6666666666666666,
             "#ed7953"
            ],
            [
             0.7777777777777778,
             "#fb9f3a"
            ],
            [
             0.8888888888888888,
             "#fdca26"
            ],
            [
             1,
             "#f0f921"
            ]
           ],
           "sequentialminus": [
            [
             0,
             "#0d0887"
            ],
            [
             0.1111111111111111,
             "#46039f"
            ],
            [
             0.2222222222222222,
             "#7201a8"
            ],
            [
             0.3333333333333333,
             "#9c179e"
            ],
            [
             0.4444444444444444,
             "#bd3786"
            ],
            [
             0.5555555555555556,
             "#d8576b"
            ],
            [
             0.6666666666666666,
             "#ed7953"
            ],
            [
             0.7777777777777778,
             "#fb9f3a"
            ],
            [
             0.8888888888888888,
             "#fdca26"
            ],
            [
             1,
             "#f0f921"
            ]
           ]
          },
          "colorway": [
           "#636efa",
           "#EF553B",
           "#00cc96",
           "#ab63fa",
           "#FFA15A",
           "#19d3f3",
           "#FF6692",
           "#B6E880",
           "#FF97FF",
           "#FECB52"
          ],
          "font": {
           "color": "#f2f5fa"
          },
          "geo": {
           "bgcolor": "rgb(17,17,17)",
           "lakecolor": "rgb(17,17,17)",
           "landcolor": "rgb(17,17,17)",
           "showlakes": true,
           "showland": true,
           "subunitcolor": "#506784"
          },
          "hoverlabel": {
           "align": "left"
          },
          "hovermode": "closest",
          "mapbox": {
           "style": "dark"
          },
          "paper_bgcolor": "rgb(17,17,17)",
          "plot_bgcolor": "rgb(17,17,17)",
          "polar": {
           "angularaxis": {
            "gridcolor": "#506784",
            "linecolor": "#506784",
            "ticks": ""
           },
           "bgcolor": "rgb(17,17,17)",
           "radialaxis": {
            "gridcolor": "#506784",
            "linecolor": "#506784",
            "ticks": ""
           }
          },
          "scene": {
           "xaxis": {
            "backgroundcolor": "rgb(17,17,17)",
            "gridcolor": "#506784",
            "gridwidth": 2,
            "linecolor": "#506784",
            "showbackground": true,
            "ticks": "",
            "zerolinecolor": "#C8D4E3"
           },
           "yaxis": {
            "backgroundcolor": "rgb(17,17,17)",
            "gridcolor": "#506784",
            "gridwidth": 2,
            "linecolor": "#506784",
            "showbackground": true,
            "ticks": "",
            "zerolinecolor": "#C8D4E3"
           },
           "zaxis": {
            "backgroundcolor": "rgb(17,17,17)",
            "gridcolor": "#506784",
            "gridwidth": 2,
            "linecolor": "#506784",
            "showbackground": true,
            "ticks": "",
            "zerolinecolor": "#C8D4E3"
           }
          },
          "shapedefaults": {
           "line": {
            "color": "#f2f5fa"
           }
          },
          "sliderdefaults": {
           "bgcolor": "#C8D4E3",
           "bordercolor": "rgb(17,17,17)",
           "borderwidth": 1,
           "tickwidth": 0
          },
          "ternary": {
           "aaxis": {
            "gridcolor": "#506784",
            "linecolor": "#506784",
            "ticks": ""
           },
           "baxis": {
            "gridcolor": "#506784",
            "linecolor": "#506784",
            "ticks": ""
           },
           "bgcolor": "rgb(17,17,17)",
           "caxis": {
            "gridcolor": "#506784",
            "linecolor": "#506784",
            "ticks": ""
           }
          },
          "title": {
           "x": 0.05
          },
          "updatemenudefaults": {
           "bgcolor": "#506784",
           "borderwidth": 0
          },
          "xaxis": {
           "automargin": true,
           "gridcolor": "#283442",
           "linecolor": "#506784",
           "ticks": "",
           "title": {
            "standoff": 15
           },
           "zerolinecolor": "#283442",
           "zerolinewidth": 2
          },
          "yaxis": {
           "automargin": true,
           "gridcolor": "#283442",
           "linecolor": "#506784",
           "ticks": "",
           "title": {
            "standoff": 15
           },
           "zerolinecolor": "#283442",
           "zerolinewidth": 2
          }
         }
        },
        "yaxis": {
         "range": [
          27,
          89
         ]
        }
       }
      }
     },
     "metadata": {},
     "output_type": "display_data"
    }
   ],
   "source": [
    "import plotly.graph_objects as go\n",
    "fig = go.Figure()\n",
    "\n",
    "min_range = min(list(growth[categories].min(axis='columns'))) - 20\n",
    "max_range = max(list(growth[categories].max(axis='columns'))) + 15\n",
    "if max_range>100: max_range=100\n",
    "data = growth[categories].T\n",
    "\n",
    "for i in range(len(growth)):\n",
    "    fig.add_trace(go.Bar(\n",
    "        x=categories,\n",
    "        y=list(data[len(growth)-i-1]),\n",
    "        name=str(growth['Year'][len(growth)-i-1]),\n",
    "        # marker_color=colors[i],\n",
    "    ))\n",
    "\n",
    "fig.update_layout(template='plotly_dark', yaxis_range=[min_range, max_range])\n",
    "\n",
    "fig.show()"
   ]
  },
  {
   "cell_type": "code",
   "execution_count": 24,
   "metadata": {},
   "outputs": [
    {
     "data": {
      "text/html": [
       "<div>\n",
       "<style scoped>\n",
       "    .dataframe tbody tr th:only-of-type {\n",
       "        vertical-align: middle;\n",
       "    }\n",
       "\n",
       "    .dataframe tbody tr th {\n",
       "        vertical-align: top;\n",
       "    }\n",
       "\n",
       "    .dataframe thead th {\n",
       "        text-align: right;\n",
       "    }\n",
       "</style>\n",
       "<table border=\"1\" class=\"dataframe\">\n",
       "  <thead>\n",
       "    <tr style=\"text-align: right;\">\n",
       "      <th></th>\n",
       "      <th>skill_fk_accuracy</th>\n",
       "      <th>Year</th>\n",
       "    </tr>\n",
       "  </thead>\n",
       "  <tbody>\n",
       "    <tr>\n",
       "      <th>1</th>\n",
       "      <td>47</td>\n",
       "      <td>2022</td>\n",
       "    </tr>\n",
       "    <tr>\n",
       "      <th>0</th>\n",
       "      <td>47</td>\n",
       "      <td>2023</td>\n",
       "    </tr>\n",
       "  </tbody>\n",
       "</table>\n",
       "</div>"
      ],
      "text/plain": [
       "   skill_fk_accuracy  Year\n",
       "1                 47  2022\n",
       "0                 47  2023"
      ]
     },
     "execution_count": 24,
     "metadata": {},
     "output_type": "execute_result"
    }
   ],
   "source": [
    "growth[['skill_fk_accuracy', 'Year']]"
   ]
  },
  {
   "cell_type": "code",
   "execution_count": 25,
   "metadata": {},
   "outputs": [
    {
     "data": {
      "text/plain": [
       "['skill_dribbling',\n",
       " 'skill_curve',\n",
       " 'skill_fk_accuracy',\n",
       " 'skill_long_passing',\n",
       " 'skill_ball_control']"
      ]
     },
     "execution_count": 25,
     "metadata": {},
     "output_type": "execute_result"
    }
   ],
   "source": [
    "categories"
   ]
  },
  {
   "cell_type": "code",
   "execution_count": 26,
   "metadata": {},
   "outputs": [
    {
     "data": {
      "text/html": [
       "<div>\n",
       "<style scoped>\n",
       "    .dataframe tbody tr th:only-of-type {\n",
       "        vertical-align: middle;\n",
       "    }\n",
       "\n",
       "    .dataframe tbody tr th {\n",
       "        vertical-align: top;\n",
       "    }\n",
       "\n",
       "    .dataframe thead th {\n",
       "        text-align: right;\n",
       "    }\n",
       "</style>\n",
       "<table border=\"1\" class=\"dataframe\">\n",
       "  <thead>\n",
       "    <tr style=\"text-align: right;\">\n",
       "      <th></th>\n",
       "      <th>skill_dribbling</th>\n",
       "      <th>skill_curve</th>\n",
       "      <th>skill_fk_accuracy</th>\n",
       "      <th>skill_long_passing</th>\n",
       "      <th>skill_ball_control</th>\n",
       "    </tr>\n",
       "  </thead>\n",
       "  <tbody>\n",
       "    <tr>\n",
       "      <th>1</th>\n",
       "      <td>69</td>\n",
       "      <td>54</td>\n",
       "      <td>47</td>\n",
       "      <td>68</td>\n",
       "      <td>73</td>\n",
       "    </tr>\n",
       "    <tr>\n",
       "      <th>0</th>\n",
       "      <td>70</td>\n",
       "      <td>54</td>\n",
       "      <td>47</td>\n",
       "      <td>72</td>\n",
       "      <td>74</td>\n",
       "    </tr>\n",
       "  </tbody>\n",
       "</table>\n",
       "</div>"
      ],
      "text/plain": [
       "   skill_dribbling  skill_curve  skill_fk_accuracy  skill_long_passing   \n",
       "1               69           54                 47                  68  \\\n",
       "0               70           54                 47                  72   \n",
       "\n",
       "   skill_ball_control  \n",
       "1                  73  \n",
       "0                  74  "
      ]
     },
     "execution_count": 26,
     "metadata": {},
     "output_type": "execute_result"
    }
   ],
   "source": [
    "growth_selected = growth[categories]\n",
    "growth_selected"
   ]
  },
  {
   "cell_type": "code",
   "execution_count": 27,
   "metadata": {},
   "outputs": [
    {
     "data": {
      "text/html": [
       "<div>\n",
       "<style scoped>\n",
       "    .dataframe tbody tr th:only-of-type {\n",
       "        vertical-align: middle;\n",
       "    }\n",
       "\n",
       "    .dataframe tbody tr th {\n",
       "        vertical-align: top;\n",
       "    }\n",
       "\n",
       "    .dataframe thead th {\n",
       "        text-align: right;\n",
       "    }\n",
       "</style>\n",
       "<table border=\"1\" class=\"dataframe\">\n",
       "  <thead>\n",
       "    <tr style=\"text-align: right;\">\n",
       "      <th></th>\n",
       "      <th>skill_dribbling</th>\n",
       "      <th>skill_curve</th>\n",
       "      <th>skill_fk_accuracy</th>\n",
       "      <th>skill_long_passing</th>\n",
       "      <th>skill_ball_control</th>\n",
       "      <th>Year</th>\n",
       "    </tr>\n",
       "  </thead>\n",
       "  <tbody>\n",
       "    <tr>\n",
       "      <th>1</th>\n",
       "      <td>69</td>\n",
       "      <td>54</td>\n",
       "      <td>47</td>\n",
       "      <td>68</td>\n",
       "      <td>73</td>\n",
       "      <td>2022</td>\n",
       "    </tr>\n",
       "    <tr>\n",
       "      <th>0</th>\n",
       "      <td>70</td>\n",
       "      <td>54</td>\n",
       "      <td>47</td>\n",
       "      <td>72</td>\n",
       "      <td>74</td>\n",
       "      <td>2023</td>\n",
       "    </tr>\n",
       "  </tbody>\n",
       "</table>\n",
       "</div>"
      ],
      "text/plain": [
       "   skill_dribbling  skill_curve  skill_fk_accuracy  skill_long_passing   \n",
       "1               69           54                 47                  68  \\\n",
       "0               70           54                 47                  72   \n",
       "\n",
       "   skill_ball_control  Year  \n",
       "1                  73  2022  \n",
       "0                  74  2023  "
      ]
     },
     "execution_count": 27,
     "metadata": {},
     "output_type": "execute_result"
    }
   ],
   "source": [
    "growth_selected['Year'] = growth['Year']\n",
    "growth_selected"
   ]
  },
  {
   "cell_type": "code",
   "execution_count": 28,
   "metadata": {},
   "outputs": [
    {
     "data": {
      "text/html": [
       "<div>\n",
       "<style scoped>\n",
       "    .dataframe tbody tr th:only-of-type {\n",
       "        vertical-align: middle;\n",
       "    }\n",
       "\n",
       "    .dataframe tbody tr th {\n",
       "        vertical-align: top;\n",
       "    }\n",
       "\n",
       "    .dataframe thead th {\n",
       "        text-align: right;\n",
       "    }\n",
       "</style>\n",
       "<table border=\"1\" class=\"dataframe\">\n",
       "  <thead>\n",
       "    <tr style=\"text-align: right;\">\n",
       "      <th></th>\n",
       "      <th>skill_dribbling</th>\n",
       "      <th>skill_curve</th>\n",
       "      <th>skill_fk_accuracy</th>\n",
       "      <th>skill_long_passing</th>\n",
       "      <th>skill_ball_control</th>\n",
       "    </tr>\n",
       "    <tr>\n",
       "      <th>Year</th>\n",
       "      <th></th>\n",
       "      <th></th>\n",
       "      <th></th>\n",
       "      <th></th>\n",
       "      <th></th>\n",
       "    </tr>\n",
       "  </thead>\n",
       "  <tbody>\n",
       "    <tr>\n",
       "      <th>2022</th>\n",
       "      <td>69</td>\n",
       "      <td>54</td>\n",
       "      <td>47</td>\n",
       "      <td>68</td>\n",
       "      <td>73</td>\n",
       "    </tr>\n",
       "    <tr>\n",
       "      <th>2023</th>\n",
       "      <td>70</td>\n",
       "      <td>54</td>\n",
       "      <td>47</td>\n",
       "      <td>72</td>\n",
       "      <td>74</td>\n",
       "    </tr>\n",
       "  </tbody>\n",
       "</table>\n",
       "</div>"
      ],
      "text/plain": [
       "      skill_dribbling  skill_curve  skill_fk_accuracy  skill_long_passing   \n",
       "Year                                                                        \n",
       "2022               69           54                 47                  68  \\\n",
       "2023               70           54                 47                  72   \n",
       "\n",
       "      skill_ball_control  \n",
       "Year                      \n",
       "2022                  73  \n",
       "2023                  74  "
      ]
     },
     "execution_count": 28,
     "metadata": {},
     "output_type": "execute_result"
    }
   ],
   "source": [
    "growth_selected.set_index('Year', inplace=True)\n",
    "growth_selected"
   ]
  },
  {
   "cell_type": "code",
   "execution_count": 29,
   "metadata": {},
   "outputs": [
    {
     "name": "stdout",
     "output_type": "stream",
     "text": [
      "['rgb(228, 241, 225)', 'rgb(180, 217, 204)', 'rgb(137, 192, 182)', 'rgb(99, 166, 160)', 'rgb(68, 140, 138)', 'rgb(40, 114, 116)', 'rgb(13, 88, 95)']\n",
      "7\n"
     ]
    }
   ],
   "source": [
    "import plotly.express as px\n",
    "print(px.colors.sequential.Mint)\n",
    "print(len(px.colors.sequential.Mint))"
   ]
  },
  {
   "cell_type": "code",
   "execution_count": 30,
   "metadata": {},
   "outputs": [
    {
     "data": {
      "text/plain": [
       "['skill_dribbling',\n",
       " 'skill_curve',\n",
       " 'skill_fk_accuracy',\n",
       " 'skill_long_passing',\n",
       " 'skill_ball_control']"
      ]
     },
     "execution_count": 30,
     "metadata": {},
     "output_type": "execute_result"
    }
   ],
   "source": [
    "list(growth_selected.columns.values)"
   ]
  },
  {
   "cell_type": "code",
   "execution_count": 31,
   "metadata": {},
   "outputs": [
    {
     "name": "stdout",
     "output_type": "stream",
     "text": [
      "['dribbling', 'curve', 'fk_accuracy', 'long_passing', 'ball_control']\n"
     ]
    }
   ],
   "source": [
    "x_list = []\n",
    "categories = list(growth_selected.columns.values)\n",
    "for cat in categories:\n",
    "    parts = cat.split('_')\n",
    "    if len(parts) > 1:\n",
    "      parts = parts[1:]\n",
    "    x_list.append('_'.join(parts))\n",
    "print(x_list)"
   ]
  },
  {
   "cell_type": "code",
   "execution_count": 32,
   "metadata": {},
   "outputs": [],
   "source": [
    "col_rename_dict = {i:j for i,j in zip(categories,x_list)}\n",
    "growth_selected.rename(columns=col_rename_dict, inplace=True)"
   ]
  },
  {
   "cell_type": "code",
   "execution_count": 33,
   "metadata": {},
   "outputs": [
    {
     "data": {
      "application/vnd.plotly.v1+json": {
       "config": {
        "plotlyServerURL": "https://plot.ly"
       },
       "data": [
        {
         "coloraxis": "coloraxis",
         "hovertemplate": "Year: %{x}<br>y: %{y}<br>color: %{z}<extra></extra>",
         "name": "0",
         "type": "heatmap",
         "x": [
          2022,
          2023
         ],
         "xaxis": "x",
         "y": [
          "dribbling",
          "curve",
          "fk_accuracy",
          "long_passing",
          "ball_control"
         ],
         "yaxis": "y",
         "z": [
          [
           69,
           70
          ],
          [
           54,
           54
          ],
          [
           47,
           47
          ],
          [
           68,
           72
          ],
          [
           73,
           74
          ]
         ]
        }
       ],
       "layout": {
        "coloraxis": {
         "colorscale": [
          [
           0,
           "#13FFFF"
          ],
          [
           0.2,
           "#00CACB"
          ],
          [
           0.4,
           "#00989A"
          ],
          [
           0.6,
           "#00686B"
          ],
          [
           0.8,
           "#00555D"
          ],
          [
           1,
           "#00474D"
          ]
         ]
        },
        "margin": {
         "t": 60
        },
        "template": {
         "data": {
          "bar": [
           {
            "error_x": {
             "color": "#f2f5fa"
            },
            "error_y": {
             "color": "#f2f5fa"
            },
            "marker": {
             "line": {
              "color": "rgb(17,17,17)",
              "width": 0.5
             },
             "pattern": {
              "fillmode": "overlay",
              "size": 10,
              "solidity": 0.2
             }
            },
            "type": "bar"
           }
          ],
          "barpolar": [
           {
            "marker": {
             "line": {
              "color": "rgb(17,17,17)",
              "width": 0.5
             },
             "pattern": {
              "fillmode": "overlay",
              "size": 10,
              "solidity": 0.2
             }
            },
            "type": "barpolar"
           }
          ],
          "carpet": [
           {
            "aaxis": {
             "endlinecolor": "#A2B1C6",
             "gridcolor": "#506784",
             "linecolor": "#506784",
             "minorgridcolor": "#506784",
             "startlinecolor": "#A2B1C6"
            },
            "baxis": {
             "endlinecolor": "#A2B1C6",
             "gridcolor": "#506784",
             "linecolor": "#506784",
             "minorgridcolor": "#506784",
             "startlinecolor": "#A2B1C6"
            },
            "type": "carpet"
           }
          ],
          "choropleth": [
           {
            "colorbar": {
             "outlinewidth": 0,
             "ticks": ""
            },
            "type": "choropleth"
           }
          ],
          "contour": [
           {
            "colorbar": {
             "outlinewidth": 0,
             "ticks": ""
            },
            "colorscale": [
             [
              0,
              "#0d0887"
             ],
             [
              0.1111111111111111,
              "#46039f"
             ],
             [
              0.2222222222222222,
              "#7201a8"
             ],
             [
              0.3333333333333333,
              "#9c179e"
             ],
             [
              0.4444444444444444,
              "#bd3786"
             ],
             [
              0.5555555555555556,
              "#d8576b"
             ],
             [
              0.6666666666666666,
              "#ed7953"
             ],
             [
              0.7777777777777778,
              "#fb9f3a"
             ],
             [
              0.8888888888888888,
              "#fdca26"
             ],
             [
              1,
              "#f0f921"
             ]
            ],
            "type": "contour"
           }
          ],
          "contourcarpet": [
           {
            "colorbar": {
             "outlinewidth": 0,
             "ticks": ""
            },
            "type": "contourcarpet"
           }
          ],
          "heatmap": [
           {
            "colorbar": {
             "outlinewidth": 0,
             "ticks": ""
            },
            "colorscale": [
             [
              0,
              "#0d0887"
             ],
             [
              0.1111111111111111,
              "#46039f"
             ],
             [
              0.2222222222222222,
              "#7201a8"
             ],
             [
              0.3333333333333333,
              "#9c179e"
             ],
             [
              0.4444444444444444,
              "#bd3786"
             ],
             [
              0.5555555555555556,
              "#d8576b"
             ],
             [
              0.6666666666666666,
              "#ed7953"
             ],
             [
              0.7777777777777778,
              "#fb9f3a"
             ],
             [
              0.8888888888888888,
              "#fdca26"
             ],
             [
              1,
              "#f0f921"
             ]
            ],
            "type": "heatmap"
           }
          ],
          "heatmapgl": [
           {
            "colorbar": {
             "outlinewidth": 0,
             "ticks": ""
            },
            "colorscale": [
             [
              0,
              "#0d0887"
             ],
             [
              0.1111111111111111,
              "#46039f"
             ],
             [
              0.2222222222222222,
              "#7201a8"
             ],
             [
              0.3333333333333333,
              "#9c179e"
             ],
             [
              0.4444444444444444,
              "#bd3786"
             ],
             [
              0.5555555555555556,
              "#d8576b"
             ],
             [
              0.6666666666666666,
              "#ed7953"
             ],
             [
              0.7777777777777778,
              "#fb9f3a"
             ],
             [
              0.8888888888888888,
              "#fdca26"
             ],
             [
              1,
              "#f0f921"
             ]
            ],
            "type": "heatmapgl"
           }
          ],
          "histogram": [
           {
            "marker": {
             "pattern": {
              "fillmode": "overlay",
              "size": 10,
              "solidity": 0.2
             }
            },
            "type": "histogram"
           }
          ],
          "histogram2d": [
           {
            "colorbar": {
             "outlinewidth": 0,
             "ticks": ""
            },
            "colorscale": [
             [
              0,
              "#0d0887"
             ],
             [
              0.1111111111111111,
              "#46039f"
             ],
             [
              0.2222222222222222,
              "#7201a8"
             ],
             [
              0.3333333333333333,
              "#9c179e"
             ],
             [
              0.4444444444444444,
              "#bd3786"
             ],
             [
              0.5555555555555556,
              "#d8576b"
             ],
             [
              0.6666666666666666,
              "#ed7953"
             ],
             [
              0.7777777777777778,
              "#fb9f3a"
             ],
             [
              0.8888888888888888,
              "#fdca26"
             ],
             [
              1,
              "#f0f921"
             ]
            ],
            "type": "histogram2d"
           }
          ],
          "histogram2dcontour": [
           {
            "colorbar": {
             "outlinewidth": 0,
             "ticks": ""
            },
            "colorscale": [
             [
              0,
              "#0d0887"
             ],
             [
              0.1111111111111111,
              "#46039f"
             ],
             [
              0.2222222222222222,
              "#7201a8"
             ],
             [
              0.3333333333333333,
              "#9c179e"
             ],
             [
              0.4444444444444444,
              "#bd3786"
             ],
             [
              0.5555555555555556,
              "#d8576b"
             ],
             [
              0.6666666666666666,
              "#ed7953"
             ],
             [
              0.7777777777777778,
              "#fb9f3a"
             ],
             [
              0.8888888888888888,
              "#fdca26"
             ],
             [
              1,
              "#f0f921"
             ]
            ],
            "type": "histogram2dcontour"
           }
          ],
          "mesh3d": [
           {
            "colorbar": {
             "outlinewidth": 0,
             "ticks": ""
            },
            "type": "mesh3d"
           }
          ],
          "parcoords": [
           {
            "line": {
             "colorbar": {
              "outlinewidth": 0,
              "ticks": ""
             }
            },
            "type": "parcoords"
           }
          ],
          "pie": [
           {
            "automargin": true,
            "type": "pie"
           }
          ],
          "scatter": [
           {
            "marker": {
             "line": {
              "color": "#283442"
             }
            },
            "type": "scatter"
           }
          ],
          "scatter3d": [
           {
            "line": {
             "colorbar": {
              "outlinewidth": 0,
              "ticks": ""
             }
            },
            "marker": {
             "colorbar": {
              "outlinewidth": 0,
              "ticks": ""
             }
            },
            "type": "scatter3d"
           }
          ],
          "scattercarpet": [
           {
            "marker": {
             "colorbar": {
              "outlinewidth": 0,
              "ticks": ""
             }
            },
            "type": "scattercarpet"
           }
          ],
          "scattergeo": [
           {
            "marker": {
             "colorbar": {
              "outlinewidth": 0,
              "ticks": ""
             }
            },
            "type": "scattergeo"
           }
          ],
          "scattergl": [
           {
            "marker": {
             "line": {
              "color": "#283442"
             }
            },
            "type": "scattergl"
           }
          ],
          "scattermapbox": [
           {
            "marker": {
             "colorbar": {
              "outlinewidth": 0,
              "ticks": ""
             }
            },
            "type": "scattermapbox"
           }
          ],
          "scatterpolar": [
           {
            "marker": {
             "colorbar": {
              "outlinewidth": 0,
              "ticks": ""
             }
            },
            "type": "scatterpolar"
           }
          ],
          "scatterpolargl": [
           {
            "marker": {
             "colorbar": {
              "outlinewidth": 0,
              "ticks": ""
             }
            },
            "type": "scatterpolargl"
           }
          ],
          "scatterternary": [
           {
            "marker": {
             "colorbar": {
              "outlinewidth": 0,
              "ticks": ""
             }
            },
            "type": "scatterternary"
           }
          ],
          "surface": [
           {
            "colorbar": {
             "outlinewidth": 0,
             "ticks": ""
            },
            "colorscale": [
             [
              0,
              "#0d0887"
             ],
             [
              0.1111111111111111,
              "#46039f"
             ],
             [
              0.2222222222222222,
              "#7201a8"
             ],
             [
              0.3333333333333333,
              "#9c179e"
             ],
             [
              0.4444444444444444,
              "#bd3786"
             ],
             [
              0.5555555555555556,
              "#d8576b"
             ],
             [
              0.6666666666666666,
              "#ed7953"
             ],
             [
              0.7777777777777778,
              "#fb9f3a"
             ],
             [
              0.8888888888888888,
              "#fdca26"
             ],
             [
              1,
              "#f0f921"
             ]
            ],
            "type": "surface"
           }
          ],
          "table": [
           {
            "cells": {
             "fill": {
              "color": "#506784"
             },
             "line": {
              "color": "rgb(17,17,17)"
             }
            },
            "header": {
             "fill": {
              "color": "#2a3f5f"
             },
             "line": {
              "color": "rgb(17,17,17)"
             }
            },
            "type": "table"
           }
          ]
         },
         "layout": {
          "annotationdefaults": {
           "arrowcolor": "#f2f5fa",
           "arrowhead": 0,
           "arrowwidth": 1
          },
          "autotypenumbers": "strict",
          "coloraxis": {
           "colorbar": {
            "outlinewidth": 0,
            "ticks": ""
           }
          },
          "colorscale": {
           "diverging": [
            [
             0,
             "#8e0152"
            ],
            [
             0.1,
             "#c51b7d"
            ],
            [
             0.2,
             "#de77ae"
            ],
            [
             0.3,
             "#f1b6da"
            ],
            [
             0.4,
             "#fde0ef"
            ],
            [
             0.5,
             "#f7f7f7"
            ],
            [
             0.6,
             "#e6f5d0"
            ],
            [
             0.7,
             "#b8e186"
            ],
            [
             0.8,
             "#7fbc41"
            ],
            [
             0.9,
             "#4d9221"
            ],
            [
             1,
             "#276419"
            ]
           ],
           "sequential": [
            [
             0,
             "#0d0887"
            ],
            [
             0.1111111111111111,
             "#46039f"
            ],
            [
             0.2222222222222222,
             "#7201a8"
            ],
            [
             0.3333333333333333,
             "#9c179e"
            ],
            [
             0.4444444444444444,
             "#bd3786"
            ],
            [
             0.5555555555555556,
             "#d8576b"
            ],
            [
             0.6666666666666666,
             "#ed7953"
            ],
            [
             0.7777777777777778,
             "#fb9f3a"
            ],
            [
             0.8888888888888888,
             "#fdca26"
            ],
            [
             1,
             "#f0f921"
            ]
           ],
           "sequentialminus": [
            [
             0,
             "#0d0887"
            ],
            [
             0.1111111111111111,
             "#46039f"
            ],
            [
             0.2222222222222222,
             "#7201a8"
            ],
            [
             0.3333333333333333,
             "#9c179e"
            ],
            [
             0.4444444444444444,
             "#bd3786"
            ],
            [
             0.5555555555555556,
             "#d8576b"
            ],
            [
             0.6666666666666666,
             "#ed7953"
            ],
            [
             0.7777777777777778,
             "#fb9f3a"
            ],
            [
             0.8888888888888888,
             "#fdca26"
            ],
            [
             1,
             "#f0f921"
            ]
           ]
          },
          "colorway": [
           "#636efa",
           "#EF553B",
           "#00cc96",
           "#ab63fa",
           "#FFA15A",
           "#19d3f3",
           "#FF6692",
           "#B6E880",
           "#FF97FF",
           "#FECB52"
          ],
          "font": {
           "color": "#f2f5fa"
          },
          "geo": {
           "bgcolor": "rgb(17,17,17)",
           "lakecolor": "rgb(17,17,17)",
           "landcolor": "rgb(17,17,17)",
           "showlakes": true,
           "showland": true,
           "subunitcolor": "#506784"
          },
          "hoverlabel": {
           "align": "left"
          },
          "hovermode": "closest",
          "mapbox": {
           "style": "dark"
          },
          "paper_bgcolor": "rgb(17,17,17)",
          "plot_bgcolor": "rgb(17,17,17)",
          "polar": {
           "angularaxis": {
            "gridcolor": "#506784",
            "linecolor": "#506784",
            "ticks": ""
           },
           "bgcolor": "rgb(17,17,17)",
           "radialaxis": {
            "gridcolor": "#506784",
            "linecolor": "#506784",
            "ticks": ""
           }
          },
          "scene": {
           "xaxis": {
            "backgroundcolor": "rgb(17,17,17)",
            "gridcolor": "#506784",
            "gridwidth": 2,
            "linecolor": "#506784",
            "showbackground": true,
            "ticks": "",
            "zerolinecolor": "#C8D4E3"
           },
           "yaxis": {
            "backgroundcolor": "rgb(17,17,17)",
            "gridcolor": "#506784",
            "gridwidth": 2,
            "linecolor": "#506784",
            "showbackground": true,
            "ticks": "",
            "zerolinecolor": "#C8D4E3"
           },
           "zaxis": {
            "backgroundcolor": "rgb(17,17,17)",
            "gridcolor": "#506784",
            "gridwidth": 2,
            "linecolor": "#506784",
            "showbackground": true,
            "ticks": "",
            "zerolinecolor": "#C8D4E3"
           }
          },
          "shapedefaults": {
           "line": {
            "color": "#f2f5fa"
           }
          },
          "sliderdefaults": {
           "bgcolor": "#C8D4E3",
           "bordercolor": "rgb(17,17,17)",
           "borderwidth": 1,
           "tickwidth": 0
          },
          "ternary": {
           "aaxis": {
            "gridcolor": "#506784",
            "linecolor": "#506784",
            "ticks": ""
           },
           "baxis": {
            "gridcolor": "#506784",
            "linecolor": "#506784",
            "ticks": ""
           },
           "bgcolor": "rgb(17,17,17)",
           "caxis": {
            "gridcolor": "#506784",
            "linecolor": "#506784",
            "ticks": ""
           }
          },
          "title": {
           "x": 0.05
          },
          "updatemenudefaults": {
           "bgcolor": "#506784",
           "borderwidth": 0
          },
          "xaxis": {
           "automargin": true,
           "gridcolor": "#283442",
           "linecolor": "#506784",
           "ticks": "",
           "title": {
            "standoff": 15
           },
           "zerolinecolor": "#283442",
           "zerolinewidth": 2
          },
          "yaxis": {
           "automargin": true,
           "gridcolor": "#283442",
           "linecolor": "#506784",
           "ticks": "",
           "title": {
            "standoff": 15
           },
           "zerolinecolor": "#283442",
           "zerolinewidth": 2
          }
         }
        },
        "xaxis": {
         "anchor": "y",
         "domain": [
          0,
          1
         ],
         "title": {
          "text": "Year"
         }
        },
        "yaxis": {
         "anchor": "x",
         "autorange": "reversed",
         "domain": [
          0,
          1
         ]
        }
       }
      }
     },
     "metadata": {},
     "output_type": "display_data"
    }
   ],
   "source": [
    "import plotly.express as px\n",
    "colors = [\"#13FFFF\", \"#00CACB\", \"#00989A\", \"#00686B\", \"#00555D\", \"#00474D\"]\n",
    "fig = px.imshow(\n",
    "    growth_selected.T,\n",
    "    aspect='auto',\n",
    "    # color_continuous_scale=list(px.colors.sequential.Mint)[1:])\n",
    "    color_continuous_scale=colors)\n",
    "fig.update_layout(\n",
    "    template='plotly_dark',\n",
    "    # width=800,\n",
    ")\n",
    "fig.show()"
   ]
  },
  {
   "cell_type": "code",
   "execution_count": 34,
   "metadata": {},
   "outputs": [
    {
     "data": {
      "text/html": [
       "<div>\n",
       "<style scoped>\n",
       "    .dataframe tbody tr th:only-of-type {\n",
       "        vertical-align: middle;\n",
       "    }\n",
       "\n",
       "    .dataframe tbody tr th {\n",
       "        vertical-align: top;\n",
       "    }\n",
       "\n",
       "    .dataframe thead th {\n",
       "        text-align: right;\n",
       "    }\n",
       "</style>\n",
       "<table border=\"1\" class=\"dataframe\">\n",
       "  <thead>\n",
       "    <tr style=\"text-align: right;\">\n",
       "      <th></th>\n",
       "      <th>sofifa_id</th>\n",
       "      <th>short_name</th>\n",
       "      <th>player_positions</th>\n",
       "      <th>overall</th>\n",
       "      <th>age</th>\n",
       "      <th>height_cm</th>\n",
       "      <th>weight_kg</th>\n",
       "      <th>league_name</th>\n",
       "      <th>club_name</th>\n",
       "      <th>club_position</th>\n",
       "      <th>...</th>\n",
       "      <th>LW</th>\n",
       "      <th>GK</th>\n",
       "      <th>CB</th>\n",
       "      <th>LM</th>\n",
       "      <th>CDM</th>\n",
       "      <th>RB</th>\n",
       "      <th>LB</th>\n",
       "      <th>RM</th>\n",
       "      <th>LWB</th>\n",
       "      <th>RWB</th>\n",
       "    </tr>\n",
       "  </thead>\n",
       "  <tbody>\n",
       "    <tr>\n",
       "      <th>25</th>\n",
       "      <td>210514</td>\n",
       "      <td>João Cancelo</td>\n",
       "      <td>LB, RB</td>\n",
       "      <td>88</td>\n",
       "      <td>28</td>\n",
       "      <td>182</td>\n",
       "      <td>74</td>\n",
       "      <td>Premier League</td>\n",
       "      <td>Manchester City</td>\n",
       "      <td>LB</td>\n",
       "      <td>...</td>\n",
       "      <td>0</td>\n",
       "      <td>0</td>\n",
       "      <td>0</td>\n",
       "      <td>0</td>\n",
       "      <td>0</td>\n",
       "      <td>1</td>\n",
       "      <td>1</td>\n",
       "      <td>0</td>\n",
       "      <td>0</td>\n",
       "      <td>0</td>\n",
       "    </tr>\n",
       "    <tr>\n",
       "      <th>26</th>\n",
       "      <td>218667</td>\n",
       "      <td>Bernardo Silva</td>\n",
       "      <td>CAM, CM</td>\n",
       "      <td>88</td>\n",
       "      <td>27</td>\n",
       "      <td>173</td>\n",
       "      <td>64</td>\n",
       "      <td>Premier League</td>\n",
       "      <td>Manchester City</td>\n",
       "      <td>RW</td>\n",
       "      <td>...</td>\n",
       "      <td>0</td>\n",
       "      <td>0</td>\n",
       "      <td>0</td>\n",
       "      <td>0</td>\n",
       "      <td>0</td>\n",
       "      <td>0</td>\n",
       "      <td>0</td>\n",
       "      <td>0</td>\n",
       "      <td>0</td>\n",
       "      <td>0</td>\n",
       "    </tr>\n",
       "    <tr>\n",
       "      <th>27</th>\n",
       "      <td>230621</td>\n",
       "      <td>G. Donnarumma</td>\n",
       "      <td>GK</td>\n",
       "      <td>88</td>\n",
       "      <td>23</td>\n",
       "      <td>196</td>\n",
       "      <td>90</td>\n",
       "      <td>Ligue 1</td>\n",
       "      <td>Paris Saint-Germain</td>\n",
       "      <td>GK</td>\n",
       "      <td>...</td>\n",
       "      <td>0</td>\n",
       "      <td>1</td>\n",
       "      <td>0</td>\n",
       "      <td>0</td>\n",
       "      <td>0</td>\n",
       "      <td>0</td>\n",
       "      <td>0</td>\n",
       "      <td>0</td>\n",
       "      <td>0</td>\n",
       "      <td>0</td>\n",
       "    </tr>\n",
       "    <tr>\n",
       "      <th>28</th>\n",
       "      <td>239085</td>\n",
       "      <td>E. Haaland</td>\n",
       "      <td>ST</td>\n",
       "      <td>88</td>\n",
       "      <td>21</td>\n",
       "      <td>195</td>\n",
       "      <td>94</td>\n",
       "      <td>Premier League</td>\n",
       "      <td>Manchester City</td>\n",
       "      <td>ST</td>\n",
       "      <td>...</td>\n",
       "      <td>0</td>\n",
       "      <td>0</td>\n",
       "      <td>0</td>\n",
       "      <td>0</td>\n",
       "      <td>0</td>\n",
       "      <td>0</td>\n",
       "      <td>0</td>\n",
       "      <td>0</td>\n",
       "      <td>0</td>\n",
       "      <td>0</td>\n",
       "    </tr>\n",
       "    <tr>\n",
       "      <th>29</th>\n",
       "      <td>239818</td>\n",
       "      <td>Rúben Dias</td>\n",
       "      <td>CB</td>\n",
       "      <td>88</td>\n",
       "      <td>25</td>\n",
       "      <td>187</td>\n",
       "      <td>82</td>\n",
       "      <td>Premier League</td>\n",
       "      <td>Manchester City</td>\n",
       "      <td>RCB</td>\n",
       "      <td>...</td>\n",
       "      <td>0</td>\n",
       "      <td>0</td>\n",
       "      <td>1</td>\n",
       "      <td>0</td>\n",
       "      <td>0</td>\n",
       "      <td>0</td>\n",
       "      <td>0</td>\n",
       "      <td>0</td>\n",
       "      <td>0</td>\n",
       "      <td>0</td>\n",
       "    </tr>\n",
       "    <tr>\n",
       "      <th>30</th>\n",
       "      <td>167948</td>\n",
       "      <td>H. Lloris</td>\n",
       "      <td>GK</td>\n",
       "      <td>87</td>\n",
       "      <td>35</td>\n",
       "      <td>188</td>\n",
       "      <td>82</td>\n",
       "      <td>Premier League</td>\n",
       "      <td>Tottenham Hotspur</td>\n",
       "      <td>GK</td>\n",
       "      <td>...</td>\n",
       "      <td>0</td>\n",
       "      <td>1</td>\n",
       "      <td>0</td>\n",
       "      <td>0</td>\n",
       "      <td>0</td>\n",
       "      <td>0</td>\n",
       "      <td>0</td>\n",
       "      <td>0</td>\n",
       "      <td>0</td>\n",
       "      <td>0</td>\n",
       "    </tr>\n",
       "    <tr>\n",
       "      <th>31</th>\n",
       "      <td>189596</td>\n",
       "      <td>T. Müller</td>\n",
       "      <td>CAM, CF</td>\n",
       "      <td>87</td>\n",
       "      <td>32</td>\n",
       "      <td>185</td>\n",
       "      <td>76</td>\n",
       "      <td>Bundesliga</td>\n",
       "      <td>FC Bayern München</td>\n",
       "      <td>CAM</td>\n",
       "      <td>...</td>\n",
       "      <td>0</td>\n",
       "      <td>0</td>\n",
       "      <td>0</td>\n",
       "      <td>0</td>\n",
       "      <td>0</td>\n",
       "      <td>0</td>\n",
       "      <td>0</td>\n",
       "      <td>0</td>\n",
       "      <td>0</td>\n",
       "      <td>0</td>\n",
       "    </tr>\n",
       "    <tr>\n",
       "      <th>32</th>\n",
       "      <td>193080</td>\n",
       "      <td>De Gea</td>\n",
       "      <td>GK</td>\n",
       "      <td>87</td>\n",
       "      <td>31</td>\n",
       "      <td>192</td>\n",
       "      <td>76</td>\n",
       "      <td>Premier League</td>\n",
       "      <td>Manchester United</td>\n",
       "      <td>GK</td>\n",
       "      <td>...</td>\n",
       "      <td>0</td>\n",
       "      <td>1</td>\n",
       "      <td>0</td>\n",
       "      <td>0</td>\n",
       "      <td>0</td>\n",
       "      <td>0</td>\n",
       "      <td>0</td>\n",
       "      <td>0</td>\n",
       "      <td>0</td>\n",
       "      <td>0</td>\n",
       "    </tr>\n",
       "    <tr>\n",
       "      <th>33</th>\n",
       "      <td>199556</td>\n",
       "      <td>M. Verratti</td>\n",
       "      <td>CM, CAM</td>\n",
       "      <td>87</td>\n",
       "      <td>29</td>\n",
       "      <td>165</td>\n",
       "      <td>60</td>\n",
       "      <td>Ligue 1</td>\n",
       "      <td>Paris Saint-Germain</td>\n",
       "      <td>RCM</td>\n",
       "      <td>...</td>\n",
       "      <td>0</td>\n",
       "      <td>0</td>\n",
       "      <td>0</td>\n",
       "      <td>0</td>\n",
       "      <td>0</td>\n",
       "      <td>0</td>\n",
       "      <td>0</td>\n",
       "      <td>0</td>\n",
       "      <td>0</td>\n",
       "      <td>0</td>\n",
       "    </tr>\n",
       "    <tr>\n",
       "      <th>34</th>\n",
       "      <td>201024</td>\n",
       "      <td>K. Koulibaly</td>\n",
       "      <td>CB</td>\n",
       "      <td>87</td>\n",
       "      <td>31</td>\n",
       "      <td>187</td>\n",
       "      <td>89</td>\n",
       "      <td>Premier League</td>\n",
       "      <td>Chelsea</td>\n",
       "      <td>LCB</td>\n",
       "      <td>...</td>\n",
       "      <td>0</td>\n",
       "      <td>0</td>\n",
       "      <td>1</td>\n",
       "      <td>0</td>\n",
       "      <td>0</td>\n",
       "      <td>0</td>\n",
       "      <td>0</td>\n",
       "      <td>0</td>\n",
       "      <td>0</td>\n",
       "      <td>0</td>\n",
       "    </tr>\n",
       "  </tbody>\n",
       "</table>\n",
       "<p>10 rows × 74 columns</p>\n",
       "</div>"
      ],
      "text/plain": [
       "    sofifa_id      short_name player_positions  overall  age  height_cm   \n",
       "25     210514    João Cancelo           LB, RB       88   28        182  \\\n",
       "26     218667  Bernardo Silva          CAM, CM       88   27        173   \n",
       "27     230621   G. Donnarumma               GK       88   23        196   \n",
       "28     239085      E. Haaland               ST       88   21        195   \n",
       "29     239818      Rúben Dias               CB       88   25        187   \n",
       "30     167948       H. Lloris               GK       87   35        188   \n",
       "31     189596       T. Müller          CAM, CF       87   32        185   \n",
       "32     193080          De Gea               GK       87   31        192   \n",
       "33     199556     M. Verratti          CM, CAM       87   29        165   \n",
       "34     201024    K. Koulibaly               CB       87   31        187   \n",
       "\n",
       "    weight_kg     league_name            club_name club_position  ...  LW GK   \n",
       "25         74  Premier League      Manchester City            LB  ...   0  0  \\\n",
       "26         64  Premier League      Manchester City            RW  ...   0  0   \n",
       "27         90         Ligue 1  Paris Saint-Germain            GK  ...   0  1   \n",
       "28         94  Premier League      Manchester City            ST  ...   0  0   \n",
       "29         82  Premier League      Manchester City           RCB  ...   0  0   \n",
       "30         82  Premier League    Tottenham Hotspur            GK  ...   0  1   \n",
       "31         76      Bundesliga    FC Bayern München           CAM  ...   0  0   \n",
       "32         76  Premier League    Manchester United            GK  ...   0  1   \n",
       "33         60         Ligue 1  Paris Saint-Germain           RCM  ...   0  0   \n",
       "34         89  Premier League              Chelsea           LCB  ...   0  0   \n",
       "\n",
       "   CB  LM  CDM RB  LB  RM  LWB  RWB  \n",
       "25  0   0    0  1   1   0    0    0  \n",
       "26  0   0    0  0   0   0    0    0  \n",
       "27  0   0    0  0   0   0    0    0  \n",
       "28  0   0    0  0   0   0    0    0  \n",
       "29  1   0    0  0   0   0    0    0  \n",
       "30  0   0    0  0   0   0    0    0  \n",
       "31  0   0    0  0   0   0    0    0  \n",
       "32  0   0    0  0   0   0    0    0  \n",
       "33  0   0    0  0   0   0    0    0  \n",
       "34  1   0    0  0   0   0    0    0  \n",
       "\n",
       "[10 rows x 74 columns]"
      ]
     },
     "execution_count": 34,
     "metadata": {},
     "output_type": "execute_result"
    }
   ],
   "source": [
    "m_23 = pd.read_csv('../new_data/m_23.csv', index_col=[0])\n",
    "m_23.iloc[25:35]"
   ]
  },
  {
   "cell_type": "code",
   "execution_count": 35,
   "metadata": {},
   "outputs": [],
   "source": [
    "m_18 = pd.read_csv('../new_data/growth/m_18.csv', index_col=[0])\n",
    "m_19 = pd.read_csv('../new_data/growth/m_19.csv', index_col=[0])\n",
    "m_20 = pd.read_csv('../new_data/growth/m_20.csv', index_col=[0])\n",
    "m_21 = pd.read_csv('../new_data/growth/m_21.csv', index_col=[0])\n",
    "m_22 = pd.read_csv('../new_data/growth/m_22.csv', index_col=[0])"
   ]
  },
  {
   "cell_type": "code",
   "execution_count": 36,
   "metadata": {},
   "outputs": [],
   "source": [
    "def update_names(old_df, new_df):\n",
    "    count = 0\n",
    "    for p_id in old_df['sofifa_id']:\n",
    "        player_old = old_df[old_df['sofifa_id']==p_id]\n",
    "        player_new = new_df[new_df['sofifa_id']==p_id]\n",
    "        if len(player_new) > 0:\n",
    "            name_old = str(player_old['short_name'].values[0])\n",
    "            name_new = str(player_new['short_name'].values[0])\n",
    "            if name_old != name_new:\n",
    "              old_df.loc[old_df['sofifa_id']==p_id, 'short_name'] = name_new\n",
    "              count += 1\n",
    "    return (count, old_df)"
   ]
  },
  {
   "cell_type": "code",
   "execution_count": 37,
   "metadata": {},
   "outputs": [
    {
     "name": "stdout",
     "output_type": "stream",
     "text": [
      "0\n"
     ]
    },
    {
     "name": "stdout",
     "output_type": "stream",
     "text": [
      "0\n",
      "0\n",
      "0\n",
      "0\n"
     ]
    }
   ],
   "source": [
    "count, m_18_updated = update_names(m_18, m_23)\n",
    "print(count); m_18_updated.to_csv('../new_data/growth/m_18.csv')\n",
    "\n",
    "count, m_19_updated = update_names(m_19, m_23)\n",
    "print(count); m_19_updated.to_csv('../new_data/growth/m_19.csv')\n",
    "\n",
    "count, m_20_updated = update_names(m_20, m_23)\n",
    "print(count); m_20_updated.to_csv('../new_data/growth/m_20.csv')\n",
    "\n",
    "count, m_21_updated = update_names(m_21, m_23)\n",
    "print(count); m_21_updated.to_csv('../new_data/growth/m_21.csv')\n",
    "\n",
    "count, m_22_updated = update_names(m_22, m_23)\n",
    "print(count); m_22_updated.to_csv('../new_data/growth/m_22.csv')"
   ]
  },
  {
   "cell_type": "code",
   "execution_count": null,
   "metadata": {},
   "outputs": [],
   "source": []
  }
 ],
 "metadata": {
  "kernelspec": {
   "display_name": "fifa-env",
   "language": "python",
   "name": "python3"
  },
  "language_info": {
   "codemirror_mode": {
    "name": "ipython",
    "version": 3
   },
   "file_extension": ".py",
   "mimetype": "text/x-python",
   "name": "python",
   "nbconvert_exporter": "python",
   "pygments_lexer": "ipython3",
   "version": "3.10.5"
  },
  "orig_nbformat": 4
 },
 "nbformat": 4,
 "nbformat_minor": 2
}

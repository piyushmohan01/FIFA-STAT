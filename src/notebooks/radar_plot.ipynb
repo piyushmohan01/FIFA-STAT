{
 "cells": [
  {
   "cell_type": "code",
   "execution_count": 1,
   "metadata": {},
   "outputs": [],
   "source": [
    "import numpy as np\n",
    "import pandas as pd"
   ]
  },
  {
   "cell_type": "code",
   "execution_count": 2,
   "metadata": {},
   "outputs": [
    {
     "data": {
      "text/html": [
       "<div>\n",
       "<style scoped>\n",
       "    .dataframe tbody tr th:only-of-type {\n",
       "        vertical-align: middle;\n",
       "    }\n",
       "\n",
       "    .dataframe tbody tr th {\n",
       "        vertical-align: top;\n",
       "    }\n",
       "\n",
       "    .dataframe thead th {\n",
       "        text-align: right;\n",
       "    }\n",
       "</style>\n",
       "<table border=\"1\" class=\"dataframe\">\n",
       "  <thead>\n",
       "    <tr style=\"text-align: right;\">\n",
       "      <th></th>\n",
       "      <th>sofifa_id</th>\n",
       "      <th>short_name</th>\n",
       "      <th>player_positions</th>\n",
       "      <th>overall</th>\n",
       "      <th>age</th>\n",
       "      <th>height_cm</th>\n",
       "      <th>weight_kg</th>\n",
       "      <th>club_name</th>\n",
       "      <th>league_name</th>\n",
       "      <th>club_position</th>\n",
       "      <th>...</th>\n",
       "      <th>CM</th>\n",
       "      <th>GK</th>\n",
       "      <th>CDM</th>\n",
       "      <th>LM</th>\n",
       "      <th>CB</th>\n",
       "      <th>RB</th>\n",
       "      <th>RM</th>\n",
       "      <th>LB</th>\n",
       "      <th>RWB</th>\n",
       "      <th>LWB</th>\n",
       "    </tr>\n",
       "  </thead>\n",
       "  <tbody>\n",
       "    <tr>\n",
       "      <th>0</th>\n",
       "      <td>158023</td>\n",
       "      <td>L. Messi</td>\n",
       "      <td>RW, ST, CF</td>\n",
       "      <td>93</td>\n",
       "      <td>34</td>\n",
       "      <td>170</td>\n",
       "      <td>72</td>\n",
       "      <td>Paris Saint-Germain</td>\n",
       "      <td>French Ligue 1</td>\n",
       "      <td>RW</td>\n",
       "      <td>...</td>\n",
       "      <td>0</td>\n",
       "      <td>0</td>\n",
       "      <td>0</td>\n",
       "      <td>0</td>\n",
       "      <td>0</td>\n",
       "      <td>0</td>\n",
       "      <td>0</td>\n",
       "      <td>0</td>\n",
       "      <td>0</td>\n",
       "      <td>0</td>\n",
       "    </tr>\n",
       "    <tr>\n",
       "      <th>1</th>\n",
       "      <td>188545</td>\n",
       "      <td>R. Lewandowski</td>\n",
       "      <td>ST</td>\n",
       "      <td>92</td>\n",
       "      <td>32</td>\n",
       "      <td>185</td>\n",
       "      <td>81</td>\n",
       "      <td>FC Bayern München</td>\n",
       "      <td>German 1. Bundesliga</td>\n",
       "      <td>ST</td>\n",
       "      <td>...</td>\n",
       "      <td>0</td>\n",
       "      <td>0</td>\n",
       "      <td>0</td>\n",
       "      <td>0</td>\n",
       "      <td>0</td>\n",
       "      <td>0</td>\n",
       "      <td>0</td>\n",
       "      <td>0</td>\n",
       "      <td>0</td>\n",
       "      <td>0</td>\n",
       "    </tr>\n",
       "    <tr>\n",
       "      <th>2</th>\n",
       "      <td>20801</td>\n",
       "      <td>Cristiano Ronaldo</td>\n",
       "      <td>ST, LW</td>\n",
       "      <td>91</td>\n",
       "      <td>36</td>\n",
       "      <td>187</td>\n",
       "      <td>83</td>\n",
       "      <td>Manchester United</td>\n",
       "      <td>English Premier League</td>\n",
       "      <td>ST</td>\n",
       "      <td>...</td>\n",
       "      <td>0</td>\n",
       "      <td>0</td>\n",
       "      <td>0</td>\n",
       "      <td>0</td>\n",
       "      <td>0</td>\n",
       "      <td>0</td>\n",
       "      <td>0</td>\n",
       "      <td>0</td>\n",
       "      <td>0</td>\n",
       "      <td>0</td>\n",
       "    </tr>\n",
       "    <tr>\n",
       "      <th>3</th>\n",
       "      <td>190871</td>\n",
       "      <td>Neymar Jr</td>\n",
       "      <td>LW, CAM</td>\n",
       "      <td>91</td>\n",
       "      <td>29</td>\n",
       "      <td>175</td>\n",
       "      <td>68</td>\n",
       "      <td>Paris Saint-Germain</td>\n",
       "      <td>French Ligue 1</td>\n",
       "      <td>LW</td>\n",
       "      <td>...</td>\n",
       "      <td>0</td>\n",
       "      <td>0</td>\n",
       "      <td>0</td>\n",
       "      <td>0</td>\n",
       "      <td>0</td>\n",
       "      <td>0</td>\n",
       "      <td>0</td>\n",
       "      <td>0</td>\n",
       "      <td>0</td>\n",
       "      <td>0</td>\n",
       "    </tr>\n",
       "    <tr>\n",
       "      <th>4</th>\n",
       "      <td>192985</td>\n",
       "      <td>K. De Bruyne</td>\n",
       "      <td>CM, CAM</td>\n",
       "      <td>91</td>\n",
       "      <td>30</td>\n",
       "      <td>181</td>\n",
       "      <td>70</td>\n",
       "      <td>Manchester City</td>\n",
       "      <td>English Premier League</td>\n",
       "      <td>RCM</td>\n",
       "      <td>...</td>\n",
       "      <td>1</td>\n",
       "      <td>0</td>\n",
       "      <td>0</td>\n",
       "      <td>0</td>\n",
       "      <td>0</td>\n",
       "      <td>0</td>\n",
       "      <td>0</td>\n",
       "      <td>0</td>\n",
       "      <td>0</td>\n",
       "      <td>0</td>\n",
       "    </tr>\n",
       "  </tbody>\n",
       "</table>\n",
       "<p>5 rows × 74 columns</p>\n",
       "</div>"
      ],
      "text/plain": [
       "   sofifa_id         short_name player_positions  overall  age  height_cm   \n",
       "0     158023           L. Messi       RW, ST, CF       93   34        170  \\\n",
       "1     188545     R. Lewandowski               ST       92   32        185   \n",
       "2      20801  Cristiano Ronaldo           ST, LW       91   36        187   \n",
       "3     190871          Neymar Jr          LW, CAM       91   29        175   \n",
       "4     192985       K. De Bruyne          CM, CAM       91   30        181   \n",
       "\n",
       "   weight_kg            club_name             league_name club_position  ...   \n",
       "0         72  Paris Saint-Germain          French Ligue 1            RW  ...  \\\n",
       "1         81    FC Bayern München    German 1. Bundesliga            ST  ...   \n",
       "2         83    Manchester United  English Premier League            ST  ...   \n",
       "3         68  Paris Saint-Germain          French Ligue 1            LW  ...   \n",
       "4         70      Manchester City  English Premier League           RCM  ...   \n",
       "\n",
       "   CM GK CDM  LM  CB RB  RM  LB  RWB  LWB  \n",
       "0   0  0   0   0   0  0   0   0    0    0  \n",
       "1   0  0   0   0   0  0   0   0    0    0  \n",
       "2   0  0   0   0   0  0   0   0    0    0  \n",
       "3   0  0   0   0   0  0   0   0    0    0  \n",
       "4   1  0   0   0   0  0   0   0    0    0  \n",
       "\n",
       "[5 rows x 74 columns]"
      ]
     },
     "execution_count": 2,
     "metadata": {},
     "output_type": "execute_result"
    }
   ],
   "source": [
    "df = pd.read_csv('../new_data/top_6_11_subs.csv', index_col='Unnamed: 0')\n",
    "df.head()"
   ]
  },
  {
   "cell_type": "code",
   "execution_count": 3,
   "metadata": {},
   "outputs": [
    {
     "data": {
      "text/html": [
       "<div>\n",
       "<style scoped>\n",
       "    .dataframe tbody tr th:only-of-type {\n",
       "        vertical-align: middle;\n",
       "    }\n",
       "\n",
       "    .dataframe tbody tr th {\n",
       "        vertical-align: top;\n",
       "    }\n",
       "\n",
       "    .dataframe thead th {\n",
       "        text-align: right;\n",
       "    }\n",
       "</style>\n",
       "<table border=\"1\" class=\"dataframe\">\n",
       "  <thead>\n",
       "    <tr style=\"text-align: right;\">\n",
       "      <th></th>\n",
       "      <th>sofifa_id</th>\n",
       "      <th>short_name</th>\n",
       "      <th>player_positions</th>\n",
       "      <th>overall</th>\n",
       "      <th>age</th>\n",
       "      <th>height_cm</th>\n",
       "      <th>weight_kg</th>\n",
       "      <th>club_name</th>\n",
       "      <th>league_name</th>\n",
       "      <th>club_position</th>\n",
       "      <th>...</th>\n",
       "      <th>CM</th>\n",
       "      <th>GK</th>\n",
       "      <th>CDM</th>\n",
       "      <th>LM</th>\n",
       "      <th>CB</th>\n",
       "      <th>RB</th>\n",
       "      <th>RM</th>\n",
       "      <th>LB</th>\n",
       "      <th>RWB</th>\n",
       "      <th>LWB</th>\n",
       "    </tr>\n",
       "  </thead>\n",
       "  <tbody>\n",
       "    <tr>\n",
       "      <th>7</th>\n",
       "      <td>167495</td>\n",
       "      <td>M. Neuer</td>\n",
       "      <td>GK</td>\n",
       "      <td>90</td>\n",
       "      <td>35</td>\n",
       "      <td>193</td>\n",
       "      <td>93</td>\n",
       "      <td>FC Bayern München</td>\n",
       "      <td>German 1. Bundesliga</td>\n",
       "      <td>GK</td>\n",
       "      <td>...</td>\n",
       "      <td>0</td>\n",
       "      <td>1</td>\n",
       "      <td>0</td>\n",
       "      <td>0</td>\n",
       "      <td>0</td>\n",
       "      <td>0</td>\n",
       "      <td>0</td>\n",
       "      <td>0</td>\n",
       "      <td>0</td>\n",
       "      <td>0</td>\n",
       "    </tr>\n",
       "  </tbody>\n",
       "</table>\n",
       "<p>1 rows × 74 columns</p>\n",
       "</div>"
      ],
      "text/plain": [
       "   sofifa_id short_name player_positions  overall  age  height_cm  weight_kg   \n",
       "7     167495   M. Neuer               GK       90   35        193         93  \\\n",
       "\n",
       "           club_name           league_name club_position  ...  CM GK CDM  LM   \n",
       "7  FC Bayern München  German 1. Bundesliga            GK  ...   0  1   0   0  \\\n",
       "\n",
       "   CB RB  RM  LB  RWB  LWB  \n",
       "7   0  0   0   0    0    0  \n",
       "\n",
       "[1 rows x 74 columns]"
      ]
     },
     "execution_count": 3,
     "metadata": {},
     "output_type": "execute_result"
    }
   ],
   "source": [
    "df_ = df[df['short_name']=='M. Neuer']\n",
    "df_"
   ]
  },
  {
   "cell_type": "code",
   "execution_count": 4,
   "metadata": {},
   "outputs": [],
   "source": [
    "pos = list(df_['player_positions'].values)[0]\n",
    "keeper = False\n",
    "if 'GK' in pos: keeper=True\n",
    "\n",
    "pace = list(df_['pace'].values)[0]\n",
    "shooting = list(df_['shooting'].values)[0]\n",
    "passing = list(df_['passing'].values)[0]\n",
    "physic = list(df_['physic'].values)[0]\n",
    "dribbling = list(df_['dribbling'].values)[0]\n",
    "defending = list(df_['defending'].values)[0]\n",
    "\n",
    "diving = list(df_['goalkeeping_diving'].values)[0]\n",
    "handling = list(df_['goalkeeping_handling'].values)[0]\n",
    "kicking = list(df_['goalkeeping_kicking'].values)[0]\n",
    "positioning = list(df_['goalkeeping_positioning'].values)[0]\n",
    "reflexes = list(df_['goalkeeping_reflexes'].values)[0]\n",
    "speed = list(df_['goalkeeping_speed'].values)[0]"
   ]
  },
  {
   "cell_type": "code",
   "execution_count": 5,
   "metadata": {},
   "outputs": [
    {
     "data": {
      "text/plain": [
       "numpy.int64"
      ]
     },
     "execution_count": 5,
     "metadata": {},
     "output_type": "execute_result"
    }
   ],
   "source": [
    "type(pace)"
   ]
  },
  {
   "cell_type": "code",
   "execution_count": 6,
   "metadata": {},
   "outputs": [],
   "source": [
    "r_1 = [pace, shooting, passing, physic, dribbling, defending]\n",
    "r_2 = [diving, handling, kicking, positioning, reflexes, speed]\n",
    "theta_1 = ['Pace', 'Shooting', 'Passing', 'Physic', 'Dribbling', 'Defending']\n",
    "theta_2 = ['GK Diving', 'GK Handling', 'GK Kicking', 'GK Positioning', 'GK Reflexes', 'GK Speed']\n",
    "if keeper == False:\n",
    "  r_values = r_1\n",
    "  categories = theta_1\n",
    "else:\n",
    "  r_values = r_2\n",
    "  categories = theta_2"
   ]
  },
  {
   "cell_type": "code",
   "execution_count": 7,
   "metadata": {},
   "outputs": [
    {
     "data": {
      "application/vnd.plotly.v1+json": {
       "config": {
        "plotlyServerURL": "https://plot.ly"
       },
       "data": [
        {
         "hoverinfo": "skip",
         "marker": {
          "color": [
           "rgba(37,37,37, 0.9)"
          ]
         },
         "name": "Range 1",
         "opacity": 1,
         "r": [
          20
         ],
         "showlegend": false,
         "type": "barpolar",
         "width": 360
        },
        {
         "hoverinfo": "skip",
         "marker": {
          "color": [
           "rgba(28,25,25, 0.9)"
          ]
         },
         "name": "Range 2",
         "opacity": 1,
         "r": [
          20
         ],
         "showlegend": false,
         "type": "barpolar",
         "width": 360
        },
        {
         "hoverinfo": "skip",
         "marker": {
          "color": [
           "rgba(17,17,17, 0.9)"
          ]
         },
         "name": "Range 3",
         "opacity": 1,
         "r": [
          20
         ],
         "showlegend": false,
         "type": "barpolar",
         "width": 360
        },
        {
         "hoverinfo": "skip",
         "marker": {
          "color": [
           "rgba(13,13,13, 0.9)"
          ]
         },
         "name": "Range 4",
         "opacity": 1,
         "r": [
          20
         ],
         "showlegend": false,
         "type": "barpolar",
         "width": 360
        },
        {
         "hoverinfo": "skip",
         "marker": {
          "color": [
           "rgba(0,0,0, 0.9)"
          ]
         },
         "name": "Range 5",
         "opacity": 1,
         "r": [
          20
         ],
         "showlegend": false,
         "type": "barpolar",
         "width": 360
        },
        {
         "fill": "toself",
         "fillcolor": "rgba(19, 255, 255, 0.3)",
         "hovertemplate": "%{text} : %{r}<extra></extra>",
         "marker": {
          "color": "rgba(19, 255, 255, 1)",
          "size": 6
         },
         "r": [
          88,
          88,
          91,
          89,
          88,
          56
         ],
         "showlegend": false,
         "text": [
          "GK Diving",
          "GK Handling",
          "GK Kicking",
          "GK Positioning",
          "GK Reflexes",
          "GK Speed"
         ],
         "type": "scatterpolar"
        }
       ],
       "layout": {
        "autosize": false,
        "height": 250,
        "hoverlabel": {
         "bgcolor": "white",
         "font": {
          "color": "black",
          "size": 16
         }
        },
        "margin": {
         "b": 10,
         "l": 10,
         "r": 10,
         "t": 10
        },
        "paper_bgcolor": "rgba(255, 255, 255, 0)",
        "polar": {
         "angularaxis": {
          "direction": "clockwise",
          "gridcolor": "black",
          "gridwidth": 0,
          "rotation": -150,
          "showticklabels": false,
          "ticks": ""
         },
         "radialaxis": {
          "color": "white",
          "gridcolor": "black",
          "gridwidth": 0,
          "range": [
           0,
           100
          ],
          "showticklabels": true,
          "ticks": "",
          "visible": true
         }
        },
        "template": {},
        "width": 250,
        "yaxis": {
         "linecolor": "white",
         "linewidth": 2,
         "showline": true
        }
       }
      }
     },
     "metadata": {},
     "output_type": "display_data"
    }
   ],
   "source": [
    "import plotly.graph_objects as go\n",
    "\n",
    "values = [20, 20, 20, 20, 20]\n",
    "# bgcolors = [\n",
    "#   'rgba(0, 180, 216, 1)',\n",
    "#   'rgba(0, 150, 199, 1)',\n",
    "#   'rgba(0, 119, 182, 1)',\n",
    "#   'rgba(2, 62, 138, 1)',\n",
    "#   'rgba(3, 4, 94, 1)',\n",
    "# ]\n",
    "bgcolors = [\n",
    "  'rgba(37,37,37, 0.9)',\n",
    "  'rgba(28,25,25, 0.9)',\n",
    "  'rgba(17,17,17, 0.9)',\n",
    "  'rgba(13,13,13, 0.9)',\n",
    "  'rgba(0,0,0, 0.9)',\n",
    "]\n",
    "\n",
    "slices=len(r_values)\n",
    "fields=[100]*slices\n",
    "circle_split = [360/slices]*(slices)\n",
    "theta= 0\n",
    "thetas=[0]\n",
    "for t in circle_split:\n",
    "    theta=theta+t\n",
    "    thetas.append(theta)\n",
    "thetas\n",
    "\n",
    "fig = go.Figure()\n",
    "\n",
    "for t in range(0, len(bgcolors)):\n",
    "    fig.add_trace(go.Barpolar(\n",
    "        r=[values[t]],\n",
    "        width=360,\n",
    "        hoverinfo='skip',\n",
    "        marker_color=[bgcolors[t]],\n",
    "        opacity=1,\n",
    "        name = 'Range ' + str(t+1),\n",
    "        showlegend=False,\n",
    "    ))\n",
    "    t=t+1\n",
    "\n",
    "fig.add_trace(go.Scatterpolar(\n",
    "       text = categories,\n",
    "        r = r_values,\n",
    "        showlegend=False,\n",
    "        hovertemplate='%{text} : %{r}<extra></extra>',\n",
    "        fill='toself',\n",
    "        fillcolor='rgba(19, 255, 255, 0.3)',\n",
    "        marker = dict(\n",
    "          color = 'rgba(19, 255, 255, 1)',\n",
    "          size = 6,\n",
    "        ),\n",
    "      ))\n",
    "\n",
    "fig.update_layout(\n",
    "    template=None,\n",
    "    paper_bgcolor = 'rgba(255, 255, 255, 0)',\n",
    "    autosize=False,\n",
    "    width=250,\n",
    "    height=250,\n",
    "    margin = dict(\n",
    "      l=10, r=10, t=10, b=10,\n",
    "    ),\n",
    "    hoverlabel = dict(\n",
    "      bgcolor = 'white',\n",
    "      font_size=16,\n",
    "      font = dict(color='black')\n",
    "    ),\n",
    "    polar = dict(\n",
    "        radialaxis = dict(\n",
    "          color = 'white',\n",
    "          gridwidth=0,\n",
    "          range=[0, 100],\n",
    "          visible=True,\n",
    "          showticklabels=True,\n",
    "          ticks='', gridcolor = \"black\"\n",
    "        ),\n",
    "      angularaxis = dict(\n",
    "        gridwidth=0,\n",
    "        # type='category',\n",
    "        showticklabels=False, ticks='',\n",
    "        rotation=210,\n",
    "        direction = \"clockwise\",\n",
    "        gridcolor = \"black\"\n",
    "      )\n",
    "    )\n",
    "  )\n",
    "\n",
    "fig.update_yaxes(showline=True, linewidth=2, linecolor='white')\n",
    "fig.show()"
   ]
  },
  {
   "cell_type": "code",
   "execution_count": 8,
   "metadata": {},
   "outputs": [
    {
     "name": "stdout",
     "output_type": "stream",
     "text": [
      "[100, 100, 100, 100, 100, 100]\n"
     ]
    }
   ],
   "source": [
    "x = [100]*6\n",
    "print(x)"
   ]
  },
  {
   "cell_type": "code",
   "execution_count": 9,
   "metadata": {},
   "outputs": [
    {
     "name": "stdout",
     "output_type": "stream",
     "text": [
      "[60.0, 60.0, 60.0, 60.0, 60.0, 60.0]\n"
     ]
    }
   ],
   "source": [
    "c_split = [360/6]*(6)\n",
    "print(c_split)"
   ]
  },
  {
   "cell_type": "code",
   "execution_count": null,
   "metadata": {},
   "outputs": [],
   "source": []
  }
 ],
 "metadata": {
  "kernelspec": {
   "display_name": "fifa-env",
   "language": "python",
   "name": "python3"
  },
  "language_info": {
   "codemirror_mode": {
    "name": "ipython",
    "version": 3
   },
   "file_extension": ".py",
   "mimetype": "text/x-python",
   "name": "python",
   "nbconvert_exporter": "python",
   "pygments_lexer": "ipython3",
   "version": "3.10.5"
  },
  "orig_nbformat": 4
 },
 "nbformat": 4,
 "nbformat_minor": 2
}

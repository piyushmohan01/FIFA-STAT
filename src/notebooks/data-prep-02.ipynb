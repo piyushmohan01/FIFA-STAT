{
 "cells": [
  {
   "cell_type": "code",
   "execution_count": 7,
   "metadata": {},
   "outputs": [],
   "source": [
    "import numpy as np\n",
    "import pandas as pd\n",
    "pd.options.mode.chained_assignment = None"
   ]
  },
  {
   "cell_type": "code",
   "execution_count": 8,
   "metadata": {},
   "outputs": [
    {
     "data": {
      "text/html": [
       "<div>\n",
       "<style scoped>\n",
       "    .dataframe tbody tr th:only-of-type {\n",
       "        vertical-align: middle;\n",
       "    }\n",
       "\n",
       "    .dataframe tbody tr th {\n",
       "        vertical-align: top;\n",
       "    }\n",
       "\n",
       "    .dataframe thead th {\n",
       "        text-align: right;\n",
       "    }\n",
       "</style>\n",
       "<table border=\"1\" class=\"dataframe\">\n",
       "  <thead>\n",
       "    <tr style=\"text-align: right;\">\n",
       "      <th></th>\n",
       "      <th>sofifa_id</th>\n",
       "      <th>short_name</th>\n",
       "      <th>player_positions</th>\n",
       "      <th>overall</th>\n",
       "      <th>age</th>\n",
       "      <th>height_cm</th>\n",
       "      <th>weight_kg</th>\n",
       "      <th>club_name</th>\n",
       "      <th>league_name</th>\n",
       "      <th>club_position</th>\n",
       "      <th>...</th>\n",
       "      <th>CM</th>\n",
       "      <th>GK</th>\n",
       "      <th>CDM</th>\n",
       "      <th>LM</th>\n",
       "      <th>CB</th>\n",
       "      <th>RB</th>\n",
       "      <th>RM</th>\n",
       "      <th>LB</th>\n",
       "      <th>RWB</th>\n",
       "      <th>LWB</th>\n",
       "    </tr>\n",
       "  </thead>\n",
       "  <tbody>\n",
       "    <tr>\n",
       "      <th>0</th>\n",
       "      <td>158023</td>\n",
       "      <td>L. Messi</td>\n",
       "      <td>RW, ST, CF</td>\n",
       "      <td>93</td>\n",
       "      <td>34</td>\n",
       "      <td>170</td>\n",
       "      <td>72</td>\n",
       "      <td>Paris Saint-Germain</td>\n",
       "      <td>French Ligue 1</td>\n",
       "      <td>RW</td>\n",
       "      <td>...</td>\n",
       "      <td>0</td>\n",
       "      <td>0</td>\n",
       "      <td>0</td>\n",
       "      <td>0</td>\n",
       "      <td>0</td>\n",
       "      <td>0</td>\n",
       "      <td>0</td>\n",
       "      <td>0</td>\n",
       "      <td>0</td>\n",
       "      <td>0</td>\n",
       "    </tr>\n",
       "    <tr>\n",
       "      <th>1</th>\n",
       "      <td>188545</td>\n",
       "      <td>R. Lewandowski</td>\n",
       "      <td>ST</td>\n",
       "      <td>92</td>\n",
       "      <td>32</td>\n",
       "      <td>185</td>\n",
       "      <td>81</td>\n",
       "      <td>FC Bayern München</td>\n",
       "      <td>German 1. Bundesliga</td>\n",
       "      <td>ST</td>\n",
       "      <td>...</td>\n",
       "      <td>0</td>\n",
       "      <td>0</td>\n",
       "      <td>0</td>\n",
       "      <td>0</td>\n",
       "      <td>0</td>\n",
       "      <td>0</td>\n",
       "      <td>0</td>\n",
       "      <td>0</td>\n",
       "      <td>0</td>\n",
       "      <td>0</td>\n",
       "    </tr>\n",
       "    <tr>\n",
       "      <th>2</th>\n",
       "      <td>20801</td>\n",
       "      <td>Cristiano Ronaldo</td>\n",
       "      <td>ST, LW</td>\n",
       "      <td>91</td>\n",
       "      <td>36</td>\n",
       "      <td>187</td>\n",
       "      <td>83</td>\n",
       "      <td>Manchester United</td>\n",
       "      <td>English Premier League</td>\n",
       "      <td>ST</td>\n",
       "      <td>...</td>\n",
       "      <td>0</td>\n",
       "      <td>0</td>\n",
       "      <td>0</td>\n",
       "      <td>0</td>\n",
       "      <td>0</td>\n",
       "      <td>0</td>\n",
       "      <td>0</td>\n",
       "      <td>0</td>\n",
       "      <td>0</td>\n",
       "      <td>0</td>\n",
       "    </tr>\n",
       "    <tr>\n",
       "      <th>3</th>\n",
       "      <td>190871</td>\n",
       "      <td>Neymar Jr</td>\n",
       "      <td>LW, CAM</td>\n",
       "      <td>91</td>\n",
       "      <td>29</td>\n",
       "      <td>175</td>\n",
       "      <td>68</td>\n",
       "      <td>Paris Saint-Germain</td>\n",
       "      <td>French Ligue 1</td>\n",
       "      <td>LW</td>\n",
       "      <td>...</td>\n",
       "      <td>0</td>\n",
       "      <td>0</td>\n",
       "      <td>0</td>\n",
       "      <td>0</td>\n",
       "      <td>0</td>\n",
       "      <td>0</td>\n",
       "      <td>0</td>\n",
       "      <td>0</td>\n",
       "      <td>0</td>\n",
       "      <td>0</td>\n",
       "    </tr>\n",
       "    <tr>\n",
       "      <th>4</th>\n",
       "      <td>192985</td>\n",
       "      <td>K. De Bruyne</td>\n",
       "      <td>CM, CAM</td>\n",
       "      <td>91</td>\n",
       "      <td>30</td>\n",
       "      <td>181</td>\n",
       "      <td>70</td>\n",
       "      <td>Manchester City</td>\n",
       "      <td>English Premier League</td>\n",
       "      <td>RCM</td>\n",
       "      <td>...</td>\n",
       "      <td>1</td>\n",
       "      <td>0</td>\n",
       "      <td>0</td>\n",
       "      <td>0</td>\n",
       "      <td>0</td>\n",
       "      <td>0</td>\n",
       "      <td>0</td>\n",
       "      <td>0</td>\n",
       "      <td>0</td>\n",
       "      <td>0</td>\n",
       "    </tr>\n",
       "  </tbody>\n",
       "</table>\n",
       "<p>5 rows × 74 columns</p>\n",
       "</div>"
      ],
      "text/plain": [
       "   sofifa_id         short_name player_positions  overall  age  height_cm   \n",
       "0     158023           L. Messi       RW, ST, CF       93   34        170  \\\n",
       "1     188545     R. Lewandowski               ST       92   32        185   \n",
       "2      20801  Cristiano Ronaldo           ST, LW       91   36        187   \n",
       "3     190871          Neymar Jr          LW, CAM       91   29        175   \n",
       "4     192985       K. De Bruyne          CM, CAM       91   30        181   \n",
       "\n",
       "   weight_kg            club_name             league_name club_position  ...   \n",
       "0         72  Paris Saint-Germain          French Ligue 1            RW  ...  \\\n",
       "1         81    FC Bayern München    German 1. Bundesliga            ST  ...   \n",
       "2         83    Manchester United  English Premier League            ST  ...   \n",
       "3         68  Paris Saint-Germain          French Ligue 1            LW  ...   \n",
       "4         70      Manchester City  English Premier League           RCM  ...   \n",
       "\n",
       "   CM GK CDM  LM  CB RB  RM  LB  RWB  LWB  \n",
       "0   0  0   0   0   0  0   0   0    0    0  \n",
       "1   0  0   0   0   0  0   0   0    0    0  \n",
       "2   0  0   0   0   0  0   0   0    0    0  \n",
       "3   0  0   0   0   0  0   0   0    0    0  \n",
       "4   1  0   0   0   0  0   0   0    0    0  \n",
       "\n",
       "[5 rows x 74 columns]"
      ]
     },
     "execution_count": 8,
     "metadata": {},
     "output_type": "execute_result"
    }
   ],
   "source": [
    "fifa22 = pd.read_csv('../new_data/top_6_11_subs.csv', index_col=[0])\n",
    "fifa22.head()"
   ]
  },
  {
   "cell_type": "code",
   "execution_count": 9,
   "metadata": {},
   "outputs": [
    {
     "name": "stderr",
     "output_type": "stream",
     "text": [
      "C:\\Users\\pm_\\AppData\\Local\\Temp\\ipykernel_15364\\1556572804.py:1: DtypeWarning: Columns (108) have mixed types. Specify dtype option on import or set low_memory=False.\n",
      "  fifa23 = pd.read_csv('../data/male_players_legacy.csv')\n"
     ]
    },
    {
     "data": {
      "text/plain": [
       "(161583, 110)"
      ]
     },
     "execution_count": 9,
     "metadata": {},
     "output_type": "execute_result"
    }
   ],
   "source": [
    "fifa23 = pd.read_csv('../data/male_players_legacy.csv')\n",
    "fifa23.shape"
   ]
  },
  {
   "cell_type": "code",
   "execution_count": 10,
   "metadata": {},
   "outputs": [
    {
     "data": {
      "text/plain": [
       "(13682, 110)"
      ]
     },
     "execution_count": 10,
     "metadata": {},
     "output_type": "execute_result"
    }
   ],
   "source": [
    "fifa23 = fifa23[(fifa23['league_level']==1) & (fifa23['fifa_version']==23)]\n",
    "fifa23.shape"
   ]
  },
  {
   "cell_type": "code",
   "execution_count": 11,
   "metadata": {},
   "outputs": [
    {
     "data": {
      "text/plain": [
       "(4793, 110)"
      ]
     },
     "execution_count": 11,
     "metadata": {},
     "output_type": "execute_result"
    }
   ],
   "source": [
    "sample_leagues = [\n",
    "  'Premier League',\n",
    "  'La Liga',\n",
    "  'Ligue 1',\n",
    "  'Bundesliga',\n",
    "  'Serie A',\n",
    "  'Super League'\n",
    "]\n",
    "\n",
    "fifa23 = fifa23[fifa23['league_name'].isin(sample_leagues)]\n",
    "fifa23.shape"
   ]
  },
  {
   "cell_type": "code",
   "execution_count": 12,
   "metadata": {},
   "outputs": [
    {
     "data": {
      "text/plain": [
       "(3911, 110)"
      ]
     },
     "execution_count": 12,
     "metadata": {},
     "output_type": "execute_result"
    }
   ],
   "source": [
    "fifa23 = fifa23[fifa23['club_position'] != 'RES']\n",
    "fifa23.shape"
   ]
  },
  {
   "cell_type": "code",
   "execution_count": 13,
   "metadata": {},
   "outputs": [
    {
     "data": {
      "text/plain": [
       "league_name\n",
       "Super League      966\n",
       "Serie A           760\n",
       "Bundesliga        690\n",
       "Premier League    575\n",
       "Ligue 1           460\n",
       "La Liga           460\n",
       "Name: count, dtype: int64"
      ]
     },
     "execution_count": 13,
     "metadata": {},
     "output_type": "execute_result"
    }
   ],
   "source": [
    "fifa23['league_name'].value_counts()"
   ]
  },
  {
   "cell_type": "code",
   "execution_count": 14,
   "metadata": {},
   "outputs": [
    {
     "data": {
      "text/plain": [
       "league_name\n",
       "French Ligue 1            460\n",
       "English Premier League    460\n",
       "Spain Primera Division    460\n",
       "Italian Serie A           460\n",
       "German 1. Bundesliga      414\n",
       "Indian Super League       249\n",
       "Name: count, dtype: int64"
      ]
     },
     "execution_count": 14,
     "metadata": {},
     "output_type": "execute_result"
    }
   ],
   "source": [
    "fifa22['league_name'].value_counts()"
   ]
  },
  {
   "cell_type": "code",
   "execution_count": 15,
   "metadata": {},
   "outputs": [
    {
     "data": {
      "text/plain": [
       "['ATK Mohun Bagan FC',\n",
       " 'Mumbai City FC',\n",
       " 'Odisha FC',\n",
       " 'Chennaiyin FC',\n",
       " 'Kerala Blasters FC',\n",
       " 'Hyderabad FC',\n",
       " 'FC Goa',\n",
       " 'Bengaluru FC',\n",
       " 'Jamshedpur FC',\n",
       " 'SC East Bengal FC',\n",
       " 'NorthEast United FC']"
      ]
     },
     "execution_count": 15,
     "metadata": {},
     "output_type": "execute_result"
    }
   ],
   "source": [
    "isl_clubs = list(fifa22[(fifa22['league_name']=='Indian Super League')]['club_name'].unique())\n",
    "isl_clubs"
   ]
  },
  {
   "cell_type": "code",
   "execution_count": 16,
   "metadata": {},
   "outputs": [
    {
     "data": {
      "text/html": [
       "<div>\n",
       "<style scoped>\n",
       "    .dataframe tbody tr th:only-of-type {\n",
       "        vertical-align: middle;\n",
       "    }\n",
       "\n",
       "    .dataframe tbody tr th {\n",
       "        vertical-align: top;\n",
       "    }\n",
       "\n",
       "    .dataframe thead th {\n",
       "        text-align: right;\n",
       "    }\n",
       "</style>\n",
       "<table border=\"1\" class=\"dataframe\">\n",
       "  <thead>\n",
       "    <tr style=\"text-align: right;\">\n",
       "      <th></th>\n",
       "      <th>player_id</th>\n",
       "      <th>player_url</th>\n",
       "      <th>fifa_version</th>\n",
       "      <th>fifa_update</th>\n",
       "      <th>fifa_update_date</th>\n",
       "      <th>short_name</th>\n",
       "      <th>long_name</th>\n",
       "      <th>player_positions</th>\n",
       "      <th>overall</th>\n",
       "      <th>potential</th>\n",
       "      <th>...</th>\n",
       "      <th>cdm</th>\n",
       "      <th>rdm</th>\n",
       "      <th>rwb</th>\n",
       "      <th>lb</th>\n",
       "      <th>lcb</th>\n",
       "      <th>cb</th>\n",
       "      <th>rcb</th>\n",
       "      <th>rb</th>\n",
       "      <th>gk</th>\n",
       "      <th>player_face_url</th>\n",
       "    </tr>\n",
       "  </thead>\n",
       "  <tbody>\n",
       "    <tr>\n",
       "      <th>143620</th>\n",
       "      <td>212207</td>\n",
       "      <td>/player/212207/nicolae-stanciu/230002</td>\n",
       "      <td>23</td>\n",
       "      <td>2</td>\n",
       "      <td>2022-09-26</td>\n",
       "      <td>N. Stanciu</td>\n",
       "      <td>Nicolae Claudiu Stanciu</td>\n",
       "      <td>CM, CAM, RM</td>\n",
       "      <td>79</td>\n",
       "      <td>79</td>\n",
       "      <td>...</td>\n",
       "      <td>72+2</td>\n",
       "      <td>72+2</td>\n",
       "      <td>72+2</td>\n",
       "      <td>70+2</td>\n",
       "      <td>65+2</td>\n",
       "      <td>65+2</td>\n",
       "      <td>65+2</td>\n",
       "      <td>70+2</td>\n",
       "      <td>18+2</td>\n",
       "      <td>https://cdn.sofifa.net/players/212/207/23_120.png</td>\n",
       "    </tr>\n",
       "    <tr>\n",
       "      <th>143727</th>\n",
       "      <td>190243</td>\n",
       "      <td>/player/190243/marwin-hitz/230002</td>\n",
       "      <td>23</td>\n",
       "      <td>2</td>\n",
       "      <td>2022-09-26</td>\n",
       "      <td>M. Hitz</td>\n",
       "      <td>Marwin Hitz</td>\n",
       "      <td>GK</td>\n",
       "      <td>78</td>\n",
       "      <td>78</td>\n",
       "      <td>...</td>\n",
       "      <td>29+2</td>\n",
       "      <td>29+2</td>\n",
       "      <td>27+2</td>\n",
       "      <td>27+2</td>\n",
       "      <td>29+2</td>\n",
       "      <td>29+2</td>\n",
       "      <td>29+2</td>\n",
       "      <td>27+2</td>\n",
       "      <td>77+1</td>\n",
       "      <td>https://cdn.sofifa.net/players/190/243/23_120.png</td>\n",
       "    </tr>\n",
       "    <tr>\n",
       "      <th>143910</th>\n",
       "      <td>186627</td>\n",
       "      <td>/player/186627/mario-balotelli/230002</td>\n",
       "      <td>23</td>\n",
       "      <td>2</td>\n",
       "      <td>2022-09-26</td>\n",
       "      <td>M. Balotelli</td>\n",
       "      <td>Mario Barwuah Balotelli</td>\n",
       "      <td>ST</td>\n",
       "      <td>77</td>\n",
       "      <td>77</td>\n",
       "      <td>...</td>\n",
       "      <td>52+3</td>\n",
       "      <td>52+3</td>\n",
       "      <td>51+3</td>\n",
       "      <td>47+3</td>\n",
       "      <td>46+3</td>\n",
       "      <td>46+3</td>\n",
       "      <td>46+3</td>\n",
       "      <td>47+3</td>\n",
       "      <td>9+3</td>\n",
       "      <td>https://cdn.sofifa.net/players/186/627/23_120.png</td>\n",
       "    </tr>\n",
       "    <tr>\n",
       "      <th>143958</th>\n",
       "      <td>208224</td>\n",
       "      <td>/player/208224/petros-mantalos/230002</td>\n",
       "      <td>23</td>\n",
       "      <td>2</td>\n",
       "      <td>2022-09-26</td>\n",
       "      <td>P. Mantalos</td>\n",
       "      <td>Petros Mantalos</td>\n",
       "      <td>CAM, LM</td>\n",
       "      <td>77</td>\n",
       "      <td>77</td>\n",
       "      <td>...</td>\n",
       "      <td>66+2</td>\n",
       "      <td>66+2</td>\n",
       "      <td>66+2</td>\n",
       "      <td>64+2</td>\n",
       "      <td>59+2</td>\n",
       "      <td>59+2</td>\n",
       "      <td>59+2</td>\n",
       "      <td>64+2</td>\n",
       "      <td>18+2</td>\n",
       "      <td>https://cdn.sofifa.net/players/208/224/23_120.png</td>\n",
       "    </tr>\n",
       "    <tr>\n",
       "      <th>143998</th>\n",
       "      <td>220746</td>\n",
       "      <td>/player/220746/andrija-zivkovic/230002</td>\n",
       "      <td>23</td>\n",
       "      <td>2</td>\n",
       "      <td>2022-09-26</td>\n",
       "      <td>A. Živković</td>\n",
       "      <td>Andrija Živković</td>\n",
       "      <td>RW, LW</td>\n",
       "      <td>77</td>\n",
       "      <td>78</td>\n",
       "      <td>...</td>\n",
       "      <td>65+2</td>\n",
       "      <td>65+2</td>\n",
       "      <td>68+2</td>\n",
       "      <td>66+2</td>\n",
       "      <td>58+2</td>\n",
       "      <td>58+2</td>\n",
       "      <td>58+2</td>\n",
       "      <td>66+2</td>\n",
       "      <td>15+2</td>\n",
       "      <td>https://cdn.sofifa.net/players/220/746/23_120.png</td>\n",
       "    </tr>\n",
       "    <tr>\n",
       "      <th>...</th>\n",
       "      <td>...</td>\n",
       "      <td>...</td>\n",
       "      <td>...</td>\n",
       "      <td>...</td>\n",
       "      <td>...</td>\n",
       "      <td>...</td>\n",
       "      <td>...</td>\n",
       "      <td>...</td>\n",
       "      <td>...</td>\n",
       "      <td>...</td>\n",
       "      <td>...</td>\n",
       "      <td>...</td>\n",
       "      <td>...</td>\n",
       "      <td>...</td>\n",
       "      <td>...</td>\n",
       "      <td>...</td>\n",
       "      <td>...</td>\n",
       "      <td>...</td>\n",
       "      <td>...</td>\n",
       "      <td>...</td>\n",
       "      <td>...</td>\n",
       "    </tr>\n",
       "    <tr>\n",
       "      <th>161557</th>\n",
       "      <td>261933</td>\n",
       "      <td>/player/261933/dejiang-yang/230002</td>\n",
       "      <td>23</td>\n",
       "      <td>2</td>\n",
       "      <td>2022-09-26</td>\n",
       "      <td>Yang Dejiang</td>\n",
       "      <td>杨德江</td>\n",
       "      <td>CDM</td>\n",
       "      <td>47</td>\n",
       "      <td>57</td>\n",
       "      <td>...</td>\n",
       "      <td>46+2</td>\n",
       "      <td>46+2</td>\n",
       "      <td>45+2</td>\n",
       "      <td>47+2</td>\n",
       "      <td>47+2</td>\n",
       "      <td>47+2</td>\n",
       "      <td>47+2</td>\n",
       "      <td>47+2</td>\n",
       "      <td>13+2</td>\n",
       "      <td>https://cdn.sofifa.net/players/261/933/23_120.png</td>\n",
       "    </tr>\n",
       "    <tr>\n",
       "      <th>161558</th>\n",
       "      <td>264540</td>\n",
       "      <td>/player/264540/emanuel-lalchhanchhuaha/230002</td>\n",
       "      <td>23</td>\n",
       "      <td>2</td>\n",
       "      <td>2022-09-26</td>\n",
       "      <td>E. Lalchhanchhuaha</td>\n",
       "      <td>Emanuel Lalchhanchhuaha</td>\n",
       "      <td>CAM</td>\n",
       "      <td>47</td>\n",
       "      <td>60</td>\n",
       "      <td>...</td>\n",
       "      <td>44+2</td>\n",
       "      <td>44+2</td>\n",
       "      <td>45+2</td>\n",
       "      <td>45+2</td>\n",
       "      <td>42+2</td>\n",
       "      <td>42+2</td>\n",
       "      <td>42+2</td>\n",
       "      <td>45+2</td>\n",
       "      <td>16+2</td>\n",
       "      <td>https://cdn.sofifa.net/players/264/540/23_120.png</td>\n",
       "    </tr>\n",
       "    <tr>\n",
       "      <th>161569</th>\n",
       "      <td>245047</td>\n",
       "      <td>/player/245047/zheng-zhou/230002</td>\n",
       "      <td>23</td>\n",
       "      <td>2</td>\n",
       "      <td>2022-09-26</td>\n",
       "      <td>Zhou Zheng</td>\n",
       "      <td>周正</td>\n",
       "      <td>CM</td>\n",
       "      <td>46</td>\n",
       "      <td>51</td>\n",
       "      <td>...</td>\n",
       "      <td>45+2</td>\n",
       "      <td>45+2</td>\n",
       "      <td>46+2</td>\n",
       "      <td>47+2</td>\n",
       "      <td>44+2</td>\n",
       "      <td>44+2</td>\n",
       "      <td>44+2</td>\n",
       "      <td>47+2</td>\n",
       "      <td>15+2</td>\n",
       "      <td>https://cdn.sofifa.net/players/245/047/23_120.png</td>\n",
       "    </tr>\n",
       "    <tr>\n",
       "      <th>161571</th>\n",
       "      <td>258802</td>\n",
       "      <td>/player/258802/bhupender-singh/230002</td>\n",
       "      <td>23</td>\n",
       "      <td>2</td>\n",
       "      <td>2022-09-26</td>\n",
       "      <td>B. Singh</td>\n",
       "      <td>Bhupender Singh</td>\n",
       "      <td>RM</td>\n",
       "      <td>46</td>\n",
       "      <td>54</td>\n",
       "      <td>...</td>\n",
       "      <td>33+2</td>\n",
       "      <td>33+2</td>\n",
       "      <td>36+2</td>\n",
       "      <td>35+2</td>\n",
       "      <td>34+2</td>\n",
       "      <td>34+2</td>\n",
       "      <td>34+2</td>\n",
       "      <td>35+2</td>\n",
       "      <td>13+2</td>\n",
       "      <td>https://cdn.sofifa.net/players/258/802/23_120.png</td>\n",
       "    </tr>\n",
       "    <tr>\n",
       "      <th>161577</th>\n",
       "      <td>268963</td>\n",
       "      <td>/player/268963/jiahui-zhang/230002</td>\n",
       "      <td>23</td>\n",
       "      <td>2</td>\n",
       "      <td>2022-09-26</td>\n",
       "      <td>Zhang Jiahui</td>\n",
       "      <td>张家辉</td>\n",
       "      <td>CM</td>\n",
       "      <td>46</td>\n",
       "      <td>55</td>\n",
       "      <td>...</td>\n",
       "      <td>46+2</td>\n",
       "      <td>46+2</td>\n",
       "      <td>44+2</td>\n",
       "      <td>45+2</td>\n",
       "      <td>46+2</td>\n",
       "      <td>46+2</td>\n",
       "      <td>46+2</td>\n",
       "      <td>45+2</td>\n",
       "      <td>14+2</td>\n",
       "      <td>https://cdn.sofifa.net/players/268/963/23_120.png</td>\n",
       "    </tr>\n",
       "  </tbody>\n",
       "</table>\n",
       "<p>966 rows × 110 columns</p>\n",
       "</div>"
      ],
      "text/plain": [
       "        player_id                                     player_url   \n",
       "143620     212207          /player/212207/nicolae-stanciu/230002  \\\n",
       "143727     190243              /player/190243/marwin-hitz/230002   \n",
       "143910     186627          /player/186627/mario-balotelli/230002   \n",
       "143958     208224          /player/208224/petros-mantalos/230002   \n",
       "143998     220746         /player/220746/andrija-zivkovic/230002   \n",
       "...           ...                                            ...   \n",
       "161557     261933             /player/261933/dejiang-yang/230002   \n",
       "161558     264540  /player/264540/emanuel-lalchhanchhuaha/230002   \n",
       "161569     245047               /player/245047/zheng-zhou/230002   \n",
       "161571     258802          /player/258802/bhupender-singh/230002   \n",
       "161577     268963             /player/268963/jiahui-zhang/230002   \n",
       "\n",
       "        fifa_version  fifa_update fifa_update_date          short_name   \n",
       "143620            23            2       2022-09-26          N. Stanciu  \\\n",
       "143727            23            2       2022-09-26             M. Hitz   \n",
       "143910            23            2       2022-09-26        M. Balotelli   \n",
       "143958            23            2       2022-09-26         P. Mantalos   \n",
       "143998            23            2       2022-09-26         A. Živković   \n",
       "...              ...          ...              ...                 ...   \n",
       "161557            23            2       2022-09-26        Yang Dejiang   \n",
       "161558            23            2       2022-09-26  E. Lalchhanchhuaha   \n",
       "161569            23            2       2022-09-26          Zhou Zheng   \n",
       "161571            23            2       2022-09-26            B. Singh   \n",
       "161577            23            2       2022-09-26        Zhang Jiahui   \n",
       "\n",
       "                      long_name player_positions  overall  potential  ...   \n",
       "143620  Nicolae Claudiu Stanciu      CM, CAM, RM       79         79  ...  \\\n",
       "143727              Marwin Hitz               GK       78         78  ...   \n",
       "143910  Mario Barwuah Balotelli               ST       77         77  ...   \n",
       "143958          Petros Mantalos          CAM, LM       77         77  ...   \n",
       "143998         Andrija Živković           RW, LW       77         78  ...   \n",
       "...                         ...              ...      ...        ...  ...   \n",
       "161557                      杨德江              CDM       47         57  ...   \n",
       "161558  Emanuel Lalchhanchhuaha              CAM       47         60  ...   \n",
       "161569                       周正               CM       46         51  ...   \n",
       "161571          Bhupender Singh               RM       46         54  ...   \n",
       "161577                      张家辉               CM       46         55  ...   \n",
       "\n",
       "         cdm   rdm   rwb    lb   lcb    cb   rcb    rb    gk   \n",
       "143620  72+2  72+2  72+2  70+2  65+2  65+2  65+2  70+2  18+2  \\\n",
       "143727  29+2  29+2  27+2  27+2  29+2  29+2  29+2  27+2  77+1   \n",
       "143910  52+3  52+3  51+3  47+3  46+3  46+3  46+3  47+3   9+3   \n",
       "143958  66+2  66+2  66+2  64+2  59+2  59+2  59+2  64+2  18+2   \n",
       "143998  65+2  65+2  68+2  66+2  58+2  58+2  58+2  66+2  15+2   \n",
       "...      ...   ...   ...   ...   ...   ...   ...   ...   ...   \n",
       "161557  46+2  46+2  45+2  47+2  47+2  47+2  47+2  47+2  13+2   \n",
       "161558  44+2  44+2  45+2  45+2  42+2  42+2  42+2  45+2  16+2   \n",
       "161569  45+2  45+2  46+2  47+2  44+2  44+2  44+2  47+2  15+2   \n",
       "161571  33+2  33+2  36+2  35+2  34+2  34+2  34+2  35+2  13+2   \n",
       "161577  46+2  46+2  44+2  45+2  46+2  46+2  46+2  45+2  14+2   \n",
       "\n",
       "                                          player_face_url  \n",
       "143620  https://cdn.sofifa.net/players/212/207/23_120.png  \n",
       "143727  https://cdn.sofifa.net/players/190/243/23_120.png  \n",
       "143910  https://cdn.sofifa.net/players/186/627/23_120.png  \n",
       "143958  https://cdn.sofifa.net/players/208/224/23_120.png  \n",
       "143998  https://cdn.sofifa.net/players/220/746/23_120.png  \n",
       "...                                                   ...  \n",
       "161557  https://cdn.sofifa.net/players/261/933/23_120.png  \n",
       "161558  https://cdn.sofifa.net/players/264/540/23_120.png  \n",
       "161569  https://cdn.sofifa.net/players/245/047/23_120.png  \n",
       "161571  https://cdn.sofifa.net/players/258/802/23_120.png  \n",
       "161577  https://cdn.sofifa.net/players/268/963/23_120.png  \n",
       "\n",
       "[966 rows x 110 columns]"
      ]
     },
     "execution_count": 16,
     "metadata": {},
     "output_type": "execute_result"
    }
   ],
   "source": [
    "fifa23[fifa23['league_name']=='Super League']"
   ]
  },
  {
   "cell_type": "code",
   "execution_count": 17,
   "metadata": {},
   "outputs": [
    {
     "data": {
      "text/plain": [
       "array(['AEK Athens', 'ATK Mohun Bagan', 'Basel', 'Beijing Guoan',\n",
       "       'Bengaluru', 'Changchun Yatai', 'Chengdu Qianbao', 'Chennaiyin',\n",
       "       'Dalian Professional', 'East Bengal', 'Goa', 'Grasshopper',\n",
       "       'Guangzhou Evergrande', 'Guangzhou R&F', 'Hangzhou', 'Hebei CFFC',\n",
       "       'Henan Jianye', 'Hyderabad', 'Jamshedpur', 'Kerala Blasters',\n",
       "       'Lugano', 'Luzern', 'Meizhou Hakka', 'Mumbai City',\n",
       "       'NorthEast United', 'PAOK', 'Panathinaikos', 'Servette',\n",
       "       'Shandong Luneng', 'Shanghai SIPG', 'Shanghai Shenhua', 'Shenzhen',\n",
       "       'Shijiazhuang Ever Bright', 'Sion', 'St. Gallen', 'Tianjin Teda',\n",
       "       'Winterthur', 'Wuhan Three Towns', 'Wuhan Zall', 'Young Boys',\n",
       "       'Zürich'], dtype='<U24')"
      ]
     },
     "execution_count": 17,
     "metadata": {},
     "output_type": "execute_result"
    }
   ],
   "source": [
    "sl_clubs = list(fifa23[(fifa23['league_name']=='Super League')]['club_name'].unique())\n",
    "extra_clubs = np.setdiff1d(sl_clubs, isl_clubs)\n",
    "extra_clubs"
   ]
  },
  {
   "cell_type": "code",
   "execution_count": 18,
   "metadata": {},
   "outputs": [],
   "source": [
    "not_to_add = ['Goa', 'Odisha FC']\n",
    "mask = ((fifa23['league_name'] == 'Super League') & (fifa23['club_name'].isin(not_to_add)==False))\n",
    "fifa23.loc[mask, 'club_name'] = fifa23['club_name'].astype(str) + ' FC'"
   ]
  },
  {
   "cell_type": "code",
   "execution_count": 19,
   "metadata": {},
   "outputs": [
    {
     "data": {
      "text/plain": [
       "array(['Wuhan Three Towns FC', 'Basel FC', 'Sion FC', 'AEK Athens FC',\n",
       "       'PAOK FC', 'Wuhan Zall FC', 'Servette FC', 'Lugano FC',\n",
       "       'Panathinaikos FC', 'Shenzhen FC', 'Young Boys FC', 'Hangzhou FC',\n",
       "       'Shandong Luneng FC', 'Changchun Yatai FC', 'Zürich FC',\n",
       "       'Henan Jianye FC', 'Guangzhou R&F FC', 'Shanghai Shenhua FC',\n",
       "       'Shijiazhuang Ever Bright FC', 'Luzern FC', 'Shanghai SIPG FC',\n",
       "       'St. Gallen FC', 'Chengdu Qianbao FC', 'Beijing Guoan FC',\n",
       "       'Guangzhou Evergrande FC', 'Grasshopper FC', 'Hyderabad FC',\n",
       "       'Bengaluru FC', 'Tianjin Teda FC', 'ATK Mohun Bagan FC',\n",
       "       'Meizhou Hakka FC', 'Mumbai City FC', 'Goa', 'Jamshedpur FC',\n",
       "       'Chennaiyin FC', 'Kerala Blasters FC', 'Odisha FC',\n",
       "       'Hebei CFFC FC', 'East Bengal FC', 'Winterthur FC',\n",
       "       'NorthEast United FC', 'Dalian Professional FC'], dtype=object)"
      ]
     },
     "execution_count": 19,
     "metadata": {},
     "output_type": "execute_result"
    }
   ],
   "source": [
    "fifa23[fifa23['league_name']=='Super League']['club_name'].unique()"
   ]
  },
  {
   "cell_type": "code",
   "execution_count": 20,
   "metadata": {},
   "outputs": [],
   "source": [
    "mask = fifa23['club_name'] == 'Goa'\n",
    "fifa23.loc[mask, 'club_name'] = 'FC '+fifa23['club_name'].astype(str)\n",
    "\n",
    "mask = fifa23['club_name'] == 'East Bengal FC'\n",
    "fifa23.loc[mask, 'club_name'] = 'SC '+fifa23['club_name'].astype(str)"
   ]
  },
  {
   "cell_type": "code",
   "execution_count": 21,
   "metadata": {},
   "outputs": [
    {
     "data": {
      "text/plain": [
       "array(['AEK Athens FC', 'Basel FC', 'Beijing Guoan FC',\n",
       "       'Changchun Yatai FC', 'Chengdu Qianbao FC',\n",
       "       'Dalian Professional FC', 'Grasshopper FC',\n",
       "       'Guangzhou Evergrande FC', 'Guangzhou R&F FC', 'Hangzhou FC',\n",
       "       'Hebei CFFC FC', 'Henan Jianye FC', 'Lugano FC', 'Luzern FC',\n",
       "       'Meizhou Hakka FC', 'PAOK FC', 'Panathinaikos FC', 'Servette FC',\n",
       "       'Shandong Luneng FC', 'Shanghai SIPG FC', 'Shanghai Shenhua FC',\n",
       "       'Shenzhen FC', 'Shijiazhuang Ever Bright FC', 'Sion FC',\n",
       "       'St. Gallen FC', 'Tianjin Teda FC', 'Winterthur FC',\n",
       "       'Wuhan Three Towns FC', 'Wuhan Zall FC', 'Young Boys FC',\n",
       "       'Zürich FC'], dtype='<U27')"
      ]
     },
     "execution_count": 21,
     "metadata": {},
     "output_type": "execute_result"
    }
   ],
   "source": [
    "sl_clubs = list(fifa23[(fifa23['league_name']=='Super League')]['club_name'].unique())\n",
    "extra_clubs = np.setdiff1d(sl_clubs, isl_clubs)\n",
    "extra_clubs"
   ]
  },
  {
   "cell_type": "code",
   "execution_count": 22,
   "metadata": {},
   "outputs": [
    {
     "data": {
      "text/plain": [
       "['ATK Mohun Bagan FC',\n",
       " 'Mumbai City FC',\n",
       " 'Odisha FC',\n",
       " 'Chennaiyin FC',\n",
       " 'Kerala Blasters FC',\n",
       " 'Hyderabad FC',\n",
       " 'FC Goa',\n",
       " 'Bengaluru FC',\n",
       " 'Jamshedpur FC',\n",
       " 'SC East Bengal FC',\n",
       " 'NorthEast United FC']"
      ]
     },
     "execution_count": 22,
     "metadata": {},
     "output_type": "execute_result"
    }
   ],
   "source": [
    "isl_clubs"
   ]
  },
  {
   "cell_type": "code",
   "execution_count": 23,
   "metadata": {},
   "outputs": [
    {
     "data": {
      "text/plain": [
       "(253, 110)"
      ]
     },
     "execution_count": 23,
     "metadata": {},
     "output_type": "execute_result"
    }
   ],
   "source": [
    "isl_players = fifa23[fifa23['club_name'].isin(isl_clubs)]\n",
    "isl_players.shape"
   ]
  },
  {
   "cell_type": "code",
   "execution_count": 24,
   "metadata": {},
   "outputs": [
    {
     "data": {
      "text/plain": [
       "club_name\n",
       "Hyderabad FC           23\n",
       "Bengaluru FC           23\n",
       "ATK Mohun Bagan FC     23\n",
       "Mumbai City FC         23\n",
       "FC Goa                 23\n",
       "Jamshedpur FC          23\n",
       "Chennaiyin FC          23\n",
       "Kerala Blasters FC     23\n",
       "Odisha FC              23\n",
       "SC East Bengal FC      23\n",
       "NorthEast United FC    23\n",
       "Name: count, dtype: int64"
      ]
     },
     "execution_count": 24,
     "metadata": {},
     "output_type": "execute_result"
    }
   ],
   "source": [
    "isl_players['club_name'].value_counts()"
   ]
  },
  {
   "cell_type": "code",
   "execution_count": 25,
   "metadata": {},
   "outputs": [
    {
     "data": {
      "text/plain": [
       "11"
      ]
     },
     "execution_count": 25,
     "metadata": {},
     "output_type": "execute_result"
    }
   ],
   "source": [
    "isl_players['club_name'].value_counts().count()"
   ]
  },
  {
   "cell_type": "code",
   "execution_count": 26,
   "metadata": {},
   "outputs": [
    {
     "data": {
      "text/plain": [
       "club_name\n",
       "ATK Mohun Bagan FC     23\n",
       "Odisha FC              23\n",
       "Chennaiyin FC          23\n",
       "Kerala Blasters FC     23\n",
       "Hyderabad FC           23\n",
       "FC Goa                 23\n",
       "Bengaluru FC           23\n",
       "SC East Bengal FC      23\n",
       "Mumbai City FC         22\n",
       "Jamshedpur FC          22\n",
       "NorthEast United FC    21\n",
       "Name: count, dtype: int64"
      ]
     },
     "execution_count": 26,
     "metadata": {},
     "output_type": "execute_result"
    }
   ],
   "source": [
    "fifa22[fifa22['league_name']=='Indian Super League']['club_name'].value_counts()"
   ]
  },
  {
   "cell_type": "code",
   "execution_count": 27,
   "metadata": {},
   "outputs": [
    {
     "data": {
      "text/plain": [
       "(3911, 110)"
      ]
     },
     "execution_count": 27,
     "metadata": {},
     "output_type": "execute_result"
    }
   ],
   "source": [
    "fifa23.shape"
   ]
  },
  {
   "cell_type": "code",
   "execution_count": 28,
   "metadata": {},
   "outputs": [
    {
     "data": {
      "text/plain": [
       "(2945, 110)"
      ]
     },
     "execution_count": 28,
     "metadata": {},
     "output_type": "execute_result"
    }
   ],
   "source": [
    "fifa23 = fifa23[fifa23['league_name'] != 'Super League']\n",
    "fifa23.shape"
   ]
  },
  {
   "cell_type": "code",
   "execution_count": 29,
   "metadata": {},
   "outputs": [
    {
     "data": {
      "text/plain": [
       "(3198, 110)"
      ]
     },
     "execution_count": 29,
     "metadata": {},
     "output_type": "execute_result"
    }
   ],
   "source": [
    "fifa23 = pd.concat([fifa23, isl_players], axis=0)\n",
    "fifa23.shape"
   ]
  },
  {
   "cell_type": "code",
   "execution_count": 30,
   "metadata": {},
   "outputs": [
    {
     "data": {
      "text/plain": [
       "(2503, 74)"
      ]
     },
     "execution_count": 30,
     "metadata": {},
     "output_type": "execute_result"
    }
   ],
   "source": [
    "fifa22.shape"
   ]
  },
  {
   "cell_type": "code",
   "execution_count": 31,
   "metadata": {},
   "outputs": [
    {
     "data": {
      "text/plain": [
       "league_name\n",
       "Serie A           760\n",
       "Bundesliga        690\n",
       "Premier League    575\n",
       "Ligue 1           460\n",
       "La Liga           460\n",
       "Super League      253\n",
       "Name: count, dtype: int64"
      ]
     },
     "execution_count": 31,
     "metadata": {},
     "output_type": "execute_result"
    }
   ],
   "source": [
    "fifa23['league_name'].value_counts()"
   ]
  },
  {
   "cell_type": "code",
   "execution_count": 32,
   "metadata": {},
   "outputs": [
    {
     "data": {
      "text/plain": [
       "league_name\n",
       "French Ligue 1            460\n",
       "English Premier League    460\n",
       "Spain Primera Division    460\n",
       "Italian Serie A           460\n",
       "German 1. Bundesliga      414\n",
       "Indian Super League       249\n",
       "Name: count, dtype: int64"
      ]
     },
     "execution_count": 32,
     "metadata": {},
     "output_type": "execute_result"
    }
   ],
   "source": [
    "fifa22['league_name'].value_counts()"
   ]
  },
  {
   "cell_type": "code",
   "execution_count": 33,
   "metadata": {},
   "outputs": [
    {
     "data": {
      "text/plain": [
       "['Manchester United',\n",
       " 'Manchester City',\n",
       " 'Tottenham Hotspur',\n",
       " 'Chelsea',\n",
       " 'Liverpool',\n",
       " 'Leicester City',\n",
       " 'Arsenal',\n",
       " 'Everton',\n",
       " 'Aston Villa',\n",
       " 'Burnley',\n",
       " 'Wolverhampton Wanderers',\n",
       " 'West Ham United',\n",
       " 'Crystal Palace',\n",
       " 'Leeds United',\n",
       " 'Southampton',\n",
       " 'Newcastle United',\n",
       " 'Brighton & Hove Albion',\n",
       " 'Watford',\n",
       " 'Norwich City',\n",
       " 'Brentford']"
      ]
     },
     "execution_count": 33,
     "metadata": {},
     "output_type": "execute_result"
    }
   ],
   "source": [
    "epl_clubs = list(fifa22[(fifa22['league_name']=='English Premier League')]['club_name'].unique())\n",
    "epl_clubs"
   ]
  },
  {
   "cell_type": "code",
   "execution_count": 34,
   "metadata": {},
   "outputs": [
    {
     "data": {
      "text/plain": [
       "array(['AFC Bournemouth', 'Dynamo Kyiv', 'Fulham', 'Kaizer Chiefs',\n",
       "       'Mamelodi Sundowns', 'Nottingham Forest', 'Orlando Pirates',\n",
       "       'Shakhtar Donetsk'], dtype='<U23')"
      ]
     },
     "execution_count": 34,
     "metadata": {},
     "output_type": "execute_result"
    }
   ],
   "source": [
    "pl_clubs = list(fifa23[(fifa23['league_name']=='Premier League')]['club_name'].unique())\n",
    "extra_clubs = np.setdiff1d(pl_clubs, epl_clubs)\n",
    "extra_clubs"
   ]
  },
  {
   "cell_type": "code",
   "execution_count": 35,
   "metadata": {},
   "outputs": [
    {
     "data": {
      "text/plain": [
       "league_name\n",
       "Serie A           760\n",
       "Bundesliga        690\n",
       "Ligue 1           460\n",
       "La Liga           460\n",
       "Premier League    460\n",
       "Super League      253\n",
       "Name: count, dtype: int64"
      ]
     },
     "execution_count": 35,
     "metadata": {},
     "output_type": "execute_result"
    }
   ],
   "source": [
    "pl_clubs_to_drop = ['Dynamo Kyiv', 'Kaizer Chiefs', 'Mamelodi Sundowns', 'Orlando Pirates', 'Shakhtar Donetsk']\n",
    "fifa23.drop(fifa23[fifa23['club_name'].isin(pl_clubs_to_drop)].index, inplace=True)\n",
    "fifa23['league_name'].value_counts()"
   ]
  },
  {
   "cell_type": "code",
   "execution_count": 36,
   "metadata": {},
   "outputs": [
    {
     "data": {
      "text/plain": [
       "league_name\n",
       "French Ligue 1            460\n",
       "English Premier League    460\n",
       "Spain Primera Division    460\n",
       "Italian Serie A           460\n",
       "German 1. Bundesliga      414\n",
       "Indian Super League       249\n",
       "Name: count, dtype: int64"
      ]
     },
     "execution_count": 36,
     "metadata": {},
     "output_type": "execute_result"
    }
   ],
   "source": [
    "fifa22['league_name'].value_counts()"
   ]
  },
  {
   "cell_type": "code",
   "execution_count": 37,
   "metadata": {},
   "outputs": [
    {
     "data": {
      "text/plain": [
       "20"
      ]
     },
     "execution_count": 37,
     "metadata": {},
     "output_type": "execute_result"
    }
   ],
   "source": [
    "len(fifa23[fifa23['league_name']=='Premier League']['club_name'].unique())"
   ]
  },
  {
   "cell_type": "code",
   "execution_count": 38,
   "metadata": {},
   "outputs": [
    {
     "data": {
      "text/plain": [
       "['FC Bayern München',\n",
       " 'Borussia Dortmund',\n",
       " 'VfL Wolfsburg',\n",
       " 'Borussia Mönchengladbach',\n",
       " 'RB Leipzig',\n",
       " 'Eintracht Frankfurt',\n",
       " 'Bayer 04 Leverkusen',\n",
       " 'TSG Hoffenheim',\n",
       " '1. FC Union Berlin',\n",
       " 'FC Augsburg',\n",
       " 'Sport-Club Freiburg',\n",
       " 'Hertha BSC',\n",
       " 'DSC Arminia Bielefeld',\n",
       " '1. FC Köln',\n",
       " 'VfB Stuttgart',\n",
       " '1. FSV Mainz 05',\n",
       " 'VfL Bochum 1848',\n",
       " 'SpVgg Greuther Fürth']"
      ]
     },
     "execution_count": 38,
     "metadata": {},
     "output_type": "execute_result"
    }
   ],
   "source": [
    "gbund_clubs = list(fifa22[(fifa22['league_name']=='German 1. Bundesliga')]['club_name'].unique())\n",
    "gbund_clubs"
   ]
  },
  {
   "cell_type": "code",
   "execution_count": 39,
   "metadata": {},
   "outputs": [
    {
     "data": {
      "text/plain": [
       "array(['Austria Klagenfurt', 'Austria Lustenau', 'Austria Wien',\n",
       "       'FC Köln', 'FC Union Berlin', 'FSV Mainz 05', 'Hartberg',\n",
       "       'LASK Linz', 'Rapid Vienna', 'Rheindorf Altach', 'Ried',\n",
       "       'SC Freiburg', 'Salzburg', 'Schalke 04', 'Sturm Graz', 'Wattens',\n",
       "       'Werder Bremen', 'Wolfsberger AC'], dtype='<U24')"
      ]
     },
     "execution_count": 39,
     "metadata": {},
     "output_type": "execute_result"
    }
   ],
   "source": [
    "bund_clubs = list(fifa23[(fifa23['league_name']=='Bundesliga')]['club_name'].unique())\n",
    "extra_clubs = np.setdiff1d(bund_clubs, gbund_clubs)\n",
    "extra_clubs"
   ]
  },
  {
   "cell_type": "code",
   "execution_count": 40,
   "metadata": {},
   "outputs": [
    {
     "data": {
      "text/plain": [
       "league_name\n",
       "Serie A           760\n",
       "Ligue 1           460\n",
       "La Liga           460\n",
       "Premier League    460\n",
       "Bundesliga        414\n",
       "Super League      253\n",
       "Name: count, dtype: int64"
      ]
     },
     "execution_count": 40,
     "metadata": {},
     "output_type": "execute_result"
    }
   ],
   "source": [
    "bund_clubs_to_drop = ['Austria Klagenfurt', 'Austria Lustenau', \n",
    "                      'Austria Wien', 'Hartberg', 'LASK Linz', \n",
    "                      'Rapid Vienna', 'Rheindorf Altach', 'Ried',\n",
    "                      'Salzburg', 'Sturm Graz', 'Wattens', 'Wolfsberger AC']\n",
    "fifa23.drop(fifa23[fifa23['club_name'].isin(bund_clubs_to_drop)].index, inplace=True)\n",
    "fifa23['league_name'].value_counts()"
   ]
  },
  {
   "cell_type": "code",
   "execution_count": 41,
   "metadata": {},
   "outputs": [
    {
     "data": {
      "text/plain": [
       "league_name\n",
       "French Ligue 1            460\n",
       "English Premier League    460\n",
       "Spain Primera Division    460\n",
       "Italian Serie A           460\n",
       "German 1. Bundesliga      414\n",
       "Indian Super League       249\n",
       "Name: count, dtype: int64"
      ]
     },
     "execution_count": 41,
     "metadata": {},
     "output_type": "execute_result"
    }
   ],
   "source": [
    "fifa22['league_name'].value_counts()"
   ]
  },
  {
   "cell_type": "code",
   "execution_count": 42,
   "metadata": {},
   "outputs": [
    {
     "data": {
      "text/plain": [
       "['Juventus',\n",
       " 'Lazio',\n",
       " 'Inter',\n",
       " 'Napoli',\n",
       " 'AC Milan',\n",
       " 'Atalanta',\n",
       " 'Roma',\n",
       " 'Genoa',\n",
       " 'U.S. Sassuolo Calcio',\n",
       " 'Bologna',\n",
       " 'Cagliari',\n",
       " 'Torino F.C.',\n",
       " 'Fiorentina',\n",
       " 'Udinese Calcio',\n",
       " 'US Salernitana 1919',\n",
       " 'U.C. Sampdoria',\n",
       " 'Hellas Verona',\n",
       " 'Venezia FC',\n",
       " 'Spezia',\n",
       " 'Empoli']"
      ]
     },
     "execution_count": 42,
     "metadata": {},
     "output_type": "execute_result"
    }
   ],
   "source": [
    "iseriea_clubs = list(fifa22[(fifa22['league_name']=='Italian Serie A')]['club_name'].unique())\n",
    "iseriea_clubs"
   ]
  },
  {
   "cell_type": "code",
   "execution_count": 43,
   "metadata": {},
   "outputs": [
    {
     "data": {
      "text/plain": [
       "array(['América Mineiro', 'Athletico PR', 'Atlético GO',\n",
       "       'Atlético Mineiro', 'Bragantino', 'Ceará', 'Corinthians',\n",
       "       'Cremonese', 'Cuiabá', 'Flamengo', 'Fluminense', 'Fortaleza',\n",
       "       'Internacional', 'Lecce', 'Milan', 'Monza', 'Palmeiras',\n",
       "       'Salernitana', 'Sampdoria', 'Santos', 'Sassuolo', 'São Paulo',\n",
       "       'Torino', 'Udinese'], dtype='<U16')"
      ]
     },
     "execution_count": 43,
     "metadata": {},
     "output_type": "execute_result"
    }
   ],
   "source": [
    "seriea_clubs = list(fifa23[(fifa23['league_name']=='Serie A')]['club_name'].unique())\n",
    "extra_clubs = np.setdiff1d(seriea_clubs, iseriea_clubs)\n",
    "extra_clubs"
   ]
  },
  {
   "cell_type": "code",
   "execution_count": 44,
   "metadata": {},
   "outputs": [
    {
     "data": {
      "text/plain": [
       "league_name\n",
       "Ligue 1           460\n",
       "La Liga           460\n",
       "Premier League    460\n",
       "Serie A           460\n",
       "Bundesliga        414\n",
       "Super League      253\n",
       "Name: count, dtype: int64"
      ]
     },
     "execution_count": 44,
     "metadata": {},
     "output_type": "execute_result"
    }
   ],
   "source": [
    "seriea_clubs_to_drop = ['América Mineiro', 'Athletico PR', 'Atlético GO',\n",
    "       'Atlético Mineiro', 'Bragantino', 'Ceará', 'Corinthians',\n",
    "       'Cuiabá', 'Flamengo', 'Fluminense', 'Fortaleza',\n",
    "       'Internacional', 'Palmeiras', 'Santos', 'São Paulo']\n",
    "fifa23.drop(fifa23[fifa23['club_name'].isin(seriea_clubs_to_drop)].index, inplace=True)\n",
    "fifa23['league_name'].value_counts()"
   ]
  },
  {
   "cell_type": "code",
   "execution_count": 45,
   "metadata": {},
   "outputs": [
    {
     "data": {
      "text/plain": [
       "league_name\n",
       "Ligue 1           460\n",
       "La Liga           460\n",
       "Premier League    460\n",
       "Serie A           460\n",
       "Bundesliga        414\n",
       "Super League      253\n",
       "Name: count, dtype: int64"
      ]
     },
     "execution_count": 45,
     "metadata": {},
     "output_type": "execute_result"
    }
   ],
   "source": [
    "fifa23['league_name'].value_counts()"
   ]
  },
  {
   "cell_type": "code",
   "execution_count": 46,
   "metadata": {},
   "outputs": [
    {
     "data": {
      "text/plain": [
       "league_name\n",
       "French Ligue 1            460\n",
       "English Premier League    460\n",
       "Spain Primera Division    460\n",
       "Italian Serie A           460\n",
       "German 1. Bundesliga      414\n",
       "Indian Super League       249\n",
       "Name: count, dtype: int64"
      ]
     },
     "execution_count": 46,
     "metadata": {},
     "output_type": "execute_result"
    }
   ],
   "source": [
    "fifa22['league_name'].value_counts()"
   ]
  },
  {
   "cell_type": "code",
   "execution_count": 47,
   "metadata": {},
   "outputs": [],
   "source": [
    "changed = []\n",
    "def change_team_name(fifa23_league_name, fifa23_team_name, left_part, right_part):\n",
    "  if fifa23_team_name not in changed:\n",
    "    changed.append(fifa23_team_name)\n",
    "    mask = fifa23['club_name'] == fifa23_team_name\n",
    "    fifa23.loc[mask, 'club_name'] = left_part + fifa23['club_name'].astype(str) + right_part"
   ]
  },
  {
   "cell_type": "code",
   "execution_count": 48,
   "metadata": {},
   "outputs": [],
   "source": [
    "change_team_name('Serie A', 'Sampdoria', 'U.C. ', '')\n",
    "change_team_name('Serie A', 'Sassuolo', 'U.S. ', ' Calcio')\n",
    "change_team_name('Serie A', 'Salernitana', 'US ', ' 1919')\n",
    "change_team_name('Serie A', 'Udinese', '', ' Calcio')\n",
    "change_team_name('Serie A', 'Torino', '', ' F.C.')\n",
    "change_team_name('Serie A', 'Milan', 'AC ', '')\n",
    "\n",
    "a = list(fifa23[fifa23['league_name']=='Serie A']['club_name'].unique())\n",
    "b = list(fifa22[fifa22['league_name']=='Italian Serie A']['club_name'].unique())"
   ]
  },
  {
   "cell_type": "code",
   "execution_count": 49,
   "metadata": {},
   "outputs": [
    {
     "name": "stdout",
     "output_type": "stream",
     "text": [
      "['Cagliari' 'Genoa' 'Venezia FC']\n",
      "['Cremonese' 'Lecce' 'Monza']\n"
     ]
    }
   ],
   "source": [
    "print(np.setdiff1d(b, a))\n",
    "print(np.setdiff1d(a, b)) # seriea -> monza, lecce, cremonese"
   ]
  },
  {
   "cell_type": "code",
   "execution_count": 50,
   "metadata": {},
   "outputs": [],
   "source": [
    "change_team_name('Ligue 1', 'Monaco', 'AS ', '')\n",
    "change_team_name('Ligue 1', 'Nice', 'OGC ', '')\n",
    "change_team_name('Ligue 1', 'Lille', 'LOSC ', '')\n",
    "change_team_name('Ligue 1', 'Montpellier', '', ' Hérault SC')\n",
    "change_team_name('Ligue 1', 'Lens', 'Racing Club de ', '')\n",
    "change_team_name('Ligue 1', 'Strasbourg', 'RC ', ' Alsace')\n",
    "change_team_name('Ligue 1', 'Nantes', 'FC ', '')\n",
    "change_team_name('Ligue 1', 'Reims', 'Stade de ', '')\n",
    "change_team_name('Ligue 1', 'Brest', 'Stade ', 'ois 29')\n",
    "change_team_name('Ligue 1', 'Troyes', 'ESTAC ', '')\n",
    "change_team_name('Ligue 1', 'Lorient', 'FC ', '')\n",
    "change_team_name('Ligue 1', 'Clermont', '', ' Foot 63')\n",
    "\n",
    "mask = fifa23['club_name'] == 'Paris Saint Germain'\n",
    "fifa23.loc[mask, 'club_name'] = 'Paris Saint-Germain'\n",
    "\n",
    "mask = fifa23['club_name'] == 'Olympique Marseille'\n",
    "fifa23.loc[mask, 'club_name'] = 'Olympique de Marseille'\n",
    "\n",
    "mask = fifa23['club_name'] == 'Rennes'\n",
    "fifa23.loc[mask, 'club_name'] = 'Stade Rennais FC'\n",
    "\n",
    "a = list(fifa23[fifa23['league_name']=='Ligue 1']['club_name'].unique())\n",
    "b = list(fifa22[fifa22['league_name']=='French Ligue 1']['club_name'].unique())"
   ]
  },
  {
   "cell_type": "code",
   "execution_count": 51,
   "metadata": {},
   "outputs": [
    {
     "name": "stdout",
     "output_type": "stream",
     "text": [
      "['AS Saint-Étienne' 'FC Girondins de Bordeaux' 'FC Metz']\n",
      "['Ajaccio' 'Auxerre' 'Toulouse']\n"
     ]
    }
   ],
   "source": [
    "print(np.setdiff1d(b, a))\n",
    "print(np.setdiff1d(a, b))"
   ]
  },
  {
   "cell_type": "code",
   "execution_count": 52,
   "metadata": {},
   "outputs": [],
   "source": [
    "change_team_name('La Liga', 'Real Madrid', '', ' CF')\n",
    "change_team_name('La Liga', 'Villarreal', '', ' CF')\n",
    "change_team_name('La Liga', 'Sevilla', '', ' FC')\n",
    "change_team_name('La Liga', 'Granada', '', ' CF')\n",
    "change_team_name('La Liga', 'Valencia', '', ' CF')\n",
    "change_team_name('La Liga', 'Getafe', '', ' CF')\n",
    "change_team_name('La Liga', 'Elche', '', ' CF')\n",
    "change_team_name('La Liga', 'Cádiz', '', ' CF')\n",
    "change_team_name('La Liga', 'Mallorca', 'RCD ', '')\n",
    "change_team_name('La Liga', 'Celta de Vigo', 'RC ', '')\n",
    "change_team_name('La Liga', 'Real Betis', '', ' Balompié')\n",
    "change_team_name('La Liga', 'Athletic Club', '', ' de Bilbao')\n",
    "change_team_name('La Liga', 'Espanyol', 'RCD ', ' de Barcelona')\n",
    "change_team_name('La Liga', 'Osasuna', 'CA ', '')\n",
    "\n",
    "mask = fifa23['club_name'] == 'Atlético Madrid'\n",
    "fifa23.loc[mask, 'club_name'] = 'Atlético de Madrid'\n",
    "\n",
    "a = list(fifa23[fifa23['league_name']=='La Liga']['club_name'].unique())\n",
    "b = list(fifa22[fifa22['league_name']=='Spain Primera Division']['club_name'].unique())"
   ]
  },
  {
   "cell_type": "code",
   "execution_count": 53,
   "metadata": {},
   "outputs": [
    {
     "name": "stdout",
     "output_type": "stream",
     "text": [
      "['Almería' 'Girona' 'Real Valladolid']\n",
      "['Deportivo Alavés' 'Granada CF' 'Levante Unión Deportiva']\n"
     ]
    }
   ],
   "source": [
    "print(np.setdiff1d(a, b))\n",
    "print(np.setdiff1d(b, a))"
   ]
  },
  {
   "cell_type": "code",
   "execution_count": 54,
   "metadata": {},
   "outputs": [
    {
     "data": {
      "text/plain": [
       "(2503, 74)"
      ]
     },
     "execution_count": 54,
     "metadata": {},
     "output_type": "execute_result"
    }
   ],
   "source": [
    "fifa22.shape"
   ]
  },
  {
   "cell_type": "code",
   "execution_count": 55,
   "metadata": {},
   "outputs": [
    {
     "data": {
      "text/plain": [
       "(2507, 110)"
      ]
     },
     "execution_count": 55,
     "metadata": {},
     "output_type": "execute_result"
    }
   ],
   "source": [
    "fifa23.shape"
   ]
  },
  {
   "cell_type": "code",
   "execution_count": 56,
   "metadata": {},
   "outputs": [],
   "source": [
    "####################################"
   ]
  },
  {
   "cell_type": "code",
   "execution_count": 57,
   "metadata": {},
   "outputs": [
    {
     "data": {
      "text/plain": [
       "['sofifa_id',\n",
       " 'short_name',\n",
       " 'player_positions',\n",
       " 'overall',\n",
       " 'age',\n",
       " 'height_cm',\n",
       " 'weight_kg',\n",
       " 'club_name',\n",
       " 'league_name',\n",
       " 'club_position',\n",
       " 'club_jersey_number',\n",
       " 'nationality_name',\n",
       " 'preferred_foot',\n",
       " 'weak_foot',\n",
       " 'skill_moves',\n",
       " 'work_rate',\n",
       " 'pace',\n",
       " 'shooting',\n",
       " 'passing',\n",
       " 'dribbling',\n",
       " 'defending',\n",
       " 'physic',\n",
       " 'attacking_crossing',\n",
       " 'attacking_finishing',\n",
       " 'attacking_heading_accuracy',\n",
       " 'attacking_short_passing',\n",
       " 'attacking_volleys',\n",
       " 'skill_dribbling',\n",
       " 'skill_curve',\n",
       " 'skill_fk_accuracy',\n",
       " 'skill_long_passing',\n",
       " 'skill_ball_control',\n",
       " 'movement_acceleration',\n",
       " 'movement_sprint_speed',\n",
       " 'movement_agility',\n",
       " 'movement_reactions',\n",
       " 'movement_balance',\n",
       " 'power_shot_power',\n",
       " 'power_jumping',\n",
       " 'power_stamina',\n",
       " 'power_strength',\n",
       " 'power_long_shots',\n",
       " 'mentality_aggression',\n",
       " 'mentality_interceptions',\n",
       " 'mentality_positioning',\n",
       " 'mentality_vision',\n",
       " 'mentality_penalties',\n",
       " 'mentality_composure',\n",
       " 'defending_marking_awareness',\n",
       " 'defending_standing_tackle',\n",
       " 'defending_sliding_tackle',\n",
       " 'goalkeeping_diving',\n",
       " 'goalkeeping_handling',\n",
       " 'goalkeeping_kicking',\n",
       " 'goalkeeping_positioning',\n",
       " 'goalkeeping_reflexes',\n",
       " 'goalkeeping_speed',\n",
       " 'player_face_url',\n",
       " 'club_logo_url',\n",
       " 'RW',\n",
       " 'ST',\n",
       " 'CF',\n",
       " 'LW',\n",
       " 'CAM',\n",
       " 'CM',\n",
       " 'GK',\n",
       " 'CDM',\n",
       " 'LM',\n",
       " 'CB',\n",
       " 'RB',\n",
       " 'RM',\n",
       " 'LB',\n",
       " 'RWB',\n",
       " 'LWB']"
      ]
     },
     "execution_count": 57,
     "metadata": {},
     "output_type": "execute_result"
    }
   ],
   "source": [
    "columns_to_keep = list(fifa22.columns)\n",
    "columns_to_keep"
   ]
  },
  {
   "cell_type": "code",
   "execution_count": 58,
   "metadata": {},
   "outputs": [
    {
     "data": {
      "text/plain": [
       "array(['CAM', 'CB', 'CDM', 'CF', 'CM', 'GK', 'LB', 'LM', 'LW', 'LWB',\n",
       "       'RB', 'RM', 'RW', 'RWB', 'ST', 'club_logo_url', 'sofifa_id'],\n",
       "      dtype='<U27')"
      ]
     },
     "execution_count": 58,
     "metadata": {},
     "output_type": "execute_result"
    }
   ],
   "source": [
    "missing_columns = np.setdiff1d(columns_to_keep, fifa23.columns)\n",
    "missing_columns"
   ]
  },
  {
   "cell_type": "code",
   "execution_count": 59,
   "metadata": {},
   "outputs": [],
   "source": [
    "fifa23.rename(columns={'player_id': 'sofifa_id'}, inplace=True)"
   ]
  },
  {
   "cell_type": "code",
   "execution_count": 60,
   "metadata": {},
   "outputs": [
    {
     "data": {
      "text/plain": [
       "array(['body_type', 'cam', 'cb', 'cdm', 'cf',\n",
       "       'club_contract_valid_until_year', 'club_joined_date',\n",
       "       'club_loaned_from', 'club_team_id', 'cm', 'dob', 'fifa_update',\n",
       "       'fifa_update_date', 'fifa_version', 'gk',\n",
       "       'international_reputation', 'lam', 'lb', 'lcb', 'lcm', 'ldm',\n",
       "       'league_id', 'league_level', 'lf', 'lm', 'long_name', 'ls', 'lw',\n",
       "       'lwb', 'nation_jersey_number', 'nation_position', 'nation_team_id',\n",
       "       'nationality_id', 'player_tags', 'player_traits', 'player_url',\n",
       "       'potential', 'ram', 'rb', 'rcb', 'rcm', 'rdm', 'real_face',\n",
       "       'release_clause_eur', 'rf', 'rm', 'rs', 'rw', 'rwb', 'st',\n",
       "       'value_eur', 'wage_eur'], dtype=object)"
      ]
     },
     "execution_count": 60,
     "metadata": {},
     "output_type": "execute_result"
    }
   ],
   "source": [
    "additional_columns = np.setdiff1d(fifa23.columns, columns_to_keep)\n",
    "additional_columns"
   ]
  },
  {
   "cell_type": "code",
   "execution_count": 61,
   "metadata": {},
   "outputs": [
    {
     "data": {
      "text/plain": [
       "Index(['sofifa_id', 'short_name', 'player_positions', 'overall', 'age',\n",
       "       'height_cm', 'weight_kg', 'league_name', 'club_name', 'club_position',\n",
       "       'club_jersey_number', 'nationality_name', 'preferred_foot', 'weak_foot',\n",
       "       'skill_moves', 'work_rate', 'pace', 'shooting', 'passing', 'dribbling',\n",
       "       'defending', 'physic', 'attacking_crossing', 'attacking_finishing',\n",
       "       'attacking_heading_accuracy', 'attacking_short_passing',\n",
       "       'attacking_volleys', 'skill_dribbling', 'skill_curve',\n",
       "       'skill_fk_accuracy', 'skill_long_passing', 'skill_ball_control',\n",
       "       'movement_acceleration', 'movement_sprint_speed', 'movement_agility',\n",
       "       'movement_reactions', 'movement_balance', 'power_shot_power',\n",
       "       'power_jumping', 'power_stamina', 'power_strength', 'power_long_shots',\n",
       "       'mentality_aggression', 'mentality_interceptions',\n",
       "       'mentality_positioning', 'mentality_vision', 'mentality_penalties',\n",
       "       'mentality_composure', 'defending_marking_awareness',\n",
       "       'defending_standing_tackle', 'defending_sliding_tackle',\n",
       "       'goalkeeping_diving', 'goalkeeping_handling', 'goalkeeping_kicking',\n",
       "       'goalkeeping_positioning', 'goalkeeping_reflexes', 'goalkeeping_speed',\n",
       "       'player_face_url'],\n",
       "      dtype='object')"
      ]
     },
     "execution_count": 61,
     "metadata": {},
     "output_type": "execute_result"
    }
   ],
   "source": [
    "fifa23.drop(columns=additional_columns, inplace=True)\n",
    "fifa23.columns"
   ]
  },
  {
   "cell_type": "code",
   "execution_count": 62,
   "metadata": {},
   "outputs": [
    {
     "data": {
      "text/plain": [
       "array(['CAM', 'CB', 'CDM', 'CF', 'CM', 'GK', 'LB', 'LM', 'LW', 'LWB',\n",
       "       'RB', 'RM', 'RW', 'RWB', 'ST', 'club_logo_url'], dtype='<U27')"
      ]
     },
     "execution_count": 62,
     "metadata": {},
     "output_type": "execute_result"
    }
   ],
   "source": [
    "missing_columns = np.setdiff1d(columns_to_keep, fifa23.columns)\n",
    "missing_columns"
   ]
  },
  {
   "cell_type": "code",
   "execution_count": 63,
   "metadata": {},
   "outputs": [
    {
     "data": {
      "text/html": [
       "<div>\n",
       "<style scoped>\n",
       "    .dataframe tbody tr th:only-of-type {\n",
       "        vertical-align: middle;\n",
       "    }\n",
       "\n",
       "    .dataframe tbody tr th {\n",
       "        vertical-align: top;\n",
       "    }\n",
       "\n",
       "    .dataframe thead th {\n",
       "        text-align: right;\n",
       "    }\n",
       "</style>\n",
       "<table border=\"1\" class=\"dataframe\">\n",
       "  <thead>\n",
       "    <tr style=\"text-align: right;\">\n",
       "      <th></th>\n",
       "      <th>sofifa_id</th>\n",
       "      <th>short_name</th>\n",
       "      <th>player_positions</th>\n",
       "      <th>overall</th>\n",
       "      <th>age</th>\n",
       "      <th>height_cm</th>\n",
       "      <th>weight_kg</th>\n",
       "      <th>league_name</th>\n",
       "      <th>club_name</th>\n",
       "      <th>club_position</th>\n",
       "      <th>...</th>\n",
       "      <th>defending_marking_awareness</th>\n",
       "      <th>defending_standing_tackle</th>\n",
       "      <th>defending_sliding_tackle</th>\n",
       "      <th>goalkeeping_diving</th>\n",
       "      <th>goalkeeping_handling</th>\n",
       "      <th>goalkeeping_kicking</th>\n",
       "      <th>goalkeeping_positioning</th>\n",
       "      <th>goalkeeping_reflexes</th>\n",
       "      <th>goalkeeping_speed</th>\n",
       "      <th>player_face_url</th>\n",
       "    </tr>\n",
       "  </thead>\n",
       "  <tbody>\n",
       "    <tr>\n",
       "      <th>0</th>\n",
       "      <td>158023</td>\n",
       "      <td>L. Messi</td>\n",
       "      <td>RW</td>\n",
       "      <td>91</td>\n",
       "      <td>35</td>\n",
       "      <td>169</td>\n",
       "      <td>67</td>\n",
       "      <td>Ligue 1</td>\n",
       "      <td>Paris Saint-Germain</td>\n",
       "      <td>RW</td>\n",
       "      <td>...</td>\n",
       "      <td>20</td>\n",
       "      <td>35</td>\n",
       "      <td>24</td>\n",
       "      <td>6</td>\n",
       "      <td>11</td>\n",
       "      <td>15</td>\n",
       "      <td>14</td>\n",
       "      <td>8</td>\n",
       "      <td>NaN</td>\n",
       "      <td>https://cdn.sofifa.net/players/158/023/23_120.png</td>\n",
       "    </tr>\n",
       "    <tr>\n",
       "      <th>1</th>\n",
       "      <td>165153</td>\n",
       "      <td>K. Benzema</td>\n",
       "      <td>CF, ST</td>\n",
       "      <td>91</td>\n",
       "      <td>34</td>\n",
       "      <td>185</td>\n",
       "      <td>81</td>\n",
       "      <td>La Liga</td>\n",
       "      <td>Real Madrid CF</td>\n",
       "      <td>CF</td>\n",
       "      <td>...</td>\n",
       "      <td>43</td>\n",
       "      <td>24</td>\n",
       "      <td>18</td>\n",
       "      <td>13</td>\n",
       "      <td>11</td>\n",
       "      <td>5</td>\n",
       "      <td>5</td>\n",
       "      <td>7</td>\n",
       "      <td>NaN</td>\n",
       "      <td>https://cdn.sofifa.net/players/165/153/23_120.png</td>\n",
       "    </tr>\n",
       "    <tr>\n",
       "      <th>2</th>\n",
       "      <td>188545</td>\n",
       "      <td>R. Lewandowski</td>\n",
       "      <td>ST</td>\n",
       "      <td>91</td>\n",
       "      <td>33</td>\n",
       "      <td>185</td>\n",
       "      <td>81</td>\n",
       "      <td>La Liga</td>\n",
       "      <td>FC Barcelona</td>\n",
       "      <td>ST</td>\n",
       "      <td>...</td>\n",
       "      <td>35</td>\n",
       "      <td>42</td>\n",
       "      <td>19</td>\n",
       "      <td>15</td>\n",
       "      <td>6</td>\n",
       "      <td>12</td>\n",
       "      <td>8</td>\n",
       "      <td>10</td>\n",
       "      <td>NaN</td>\n",
       "      <td>https://cdn.sofifa.net/players/188/545/23_120.png</td>\n",
       "    </tr>\n",
       "    <tr>\n",
       "      <th>3</th>\n",
       "      <td>192985</td>\n",
       "      <td>K. De Bruyne</td>\n",
       "      <td>CM, CAM</td>\n",
       "      <td>91</td>\n",
       "      <td>31</td>\n",
       "      <td>181</td>\n",
       "      <td>70</td>\n",
       "      <td>Premier League</td>\n",
       "      <td>Manchester City</td>\n",
       "      <td>RCM</td>\n",
       "      <td>...</td>\n",
       "      <td>68</td>\n",
       "      <td>65</td>\n",
       "      <td>53</td>\n",
       "      <td>15</td>\n",
       "      <td>13</td>\n",
       "      <td>5</td>\n",
       "      <td>10</td>\n",
       "      <td>13</td>\n",
       "      <td>NaN</td>\n",
       "      <td>https://cdn.sofifa.net/players/192/985/23_120.png</td>\n",
       "    </tr>\n",
       "    <tr>\n",
       "      <th>4</th>\n",
       "      <td>231747</td>\n",
       "      <td>K. Mbappé</td>\n",
       "      <td>ST, LW</td>\n",
       "      <td>91</td>\n",
       "      <td>23</td>\n",
       "      <td>182</td>\n",
       "      <td>73</td>\n",
       "      <td>Ligue 1</td>\n",
       "      <td>Paris Saint-Germain</td>\n",
       "      <td>ST</td>\n",
       "      <td>...</td>\n",
       "      <td>26</td>\n",
       "      <td>34</td>\n",
       "      <td>32</td>\n",
       "      <td>13</td>\n",
       "      <td>5</td>\n",
       "      <td>7</td>\n",
       "      <td>11</td>\n",
       "      <td>6</td>\n",
       "      <td>NaN</td>\n",
       "      <td>https://cdn.sofifa.net/players/231/747/23_120.png</td>\n",
       "    </tr>\n",
       "  </tbody>\n",
       "</table>\n",
       "<p>5 rows × 58 columns</p>\n",
       "</div>"
      ],
      "text/plain": [
       "   sofifa_id      short_name player_positions  overall  age  height_cm   \n",
       "0     158023        L. Messi               RW       91   35        169  \\\n",
       "1     165153      K. Benzema           CF, ST       91   34        185   \n",
       "2     188545  R. Lewandowski               ST       91   33        185   \n",
       "3     192985    K. De Bruyne          CM, CAM       91   31        181   \n",
       "4     231747       K. Mbappé           ST, LW       91   23        182   \n",
       "\n",
       "   weight_kg     league_name            club_name club_position  ...   \n",
       "0         67         Ligue 1  Paris Saint-Germain            RW  ...  \\\n",
       "1         81         La Liga       Real Madrid CF            CF  ...   \n",
       "2         81         La Liga         FC Barcelona            ST  ...   \n",
       "3         70  Premier League      Manchester City           RCM  ...   \n",
       "4         73         Ligue 1  Paris Saint-Germain            ST  ...   \n",
       "\n",
       "   defending_marking_awareness defending_standing_tackle   \n",
       "0                           20                        35  \\\n",
       "1                           43                        24   \n",
       "2                           35                        42   \n",
       "3                           68                        65   \n",
       "4                           26                        34   \n",
       "\n",
       "  defending_sliding_tackle  goalkeeping_diving  goalkeeping_handling   \n",
       "0                       24                   6                    11  \\\n",
       "1                       18                  13                    11   \n",
       "2                       19                  15                     6   \n",
       "3                       53                  15                    13   \n",
       "4                       32                  13                     5   \n",
       "\n",
       "  goalkeeping_kicking  goalkeeping_positioning  goalkeeping_reflexes   \n",
       "0                  15                       14                     8  \\\n",
       "1                   5                        5                     7   \n",
       "2                  12                        8                    10   \n",
       "3                   5                       10                    13   \n",
       "4                   7                       11                     6   \n",
       "\n",
       "   goalkeeping_speed                                    player_face_url  \n",
       "0                NaN  https://cdn.sofifa.net/players/158/023/23_120.png  \n",
       "1                NaN  https://cdn.sofifa.net/players/165/153/23_120.png  \n",
       "2                NaN  https://cdn.sofifa.net/players/188/545/23_120.png  \n",
       "3                NaN  https://cdn.sofifa.net/players/192/985/23_120.png  \n",
       "4                NaN  https://cdn.sofifa.net/players/231/747/23_120.png  \n",
       "\n",
       "[5 rows x 58 columns]"
      ]
     },
     "execution_count": 63,
     "metadata": {},
     "output_type": "execute_result"
    }
   ],
   "source": [
    "fifa23.reset_index(inplace=True, drop=True)\n",
    "fifa23.head()"
   ]
  },
  {
   "cell_type": "code",
   "execution_count": 64,
   "metadata": {},
   "outputs": [
    {
     "data": {
      "text/plain": [
       "'https://cdn.sofifa.net/teams/73/60.png'"
      ]
     },
     "execution_count": 64,
     "metadata": {},
     "output_type": "execute_result"
    }
   ],
   "source": [
    "fifa22[fifa22['sofifa_id']==158023]['club_logo_url'].values[0]"
   ]
  },
  {
   "cell_type": "code",
   "execution_count": 65,
   "metadata": {},
   "outputs": [
    {
     "name": "stdout",
     "output_type": "stream",
     "text": [
      "Paris Saint-Germain\n"
     ]
    }
   ],
   "source": [
    "fifa23_team = fifa23[fifa23['sofifa_id']==158023]['club_name'].values[0]\n",
    "print(fifa23_team)"
   ]
  },
  {
   "cell_type": "code",
   "execution_count": 66,
   "metadata": {},
   "outputs": [
    {
     "data": {
      "text/plain": [
       "'https://cdn.sofifa.net/teams/73/60.png'"
      ]
     },
     "execution_count": 66,
     "metadata": {},
     "output_type": "execute_result"
    }
   ],
   "source": [
    "list(fifa22[fifa22['club_name']=='Paris Saint-Germain']['club_logo_url'].values)[0]"
   ]
  },
  {
   "cell_type": "code",
   "execution_count": 67,
   "metadata": {},
   "outputs": [],
   "source": [
    "all_clubs_22 = list(fifa22['club_name'].unique())\n",
    "all_clubs_23 = list(fifa23['club_name'].unique())"
   ]
  },
  {
   "cell_type": "code",
   "execution_count": 68,
   "metadata": {},
   "outputs": [
    {
     "name": "stdout",
     "output_type": "stream",
     "text": [
      "['AFC Bournemouth' 'Ajaccio' 'Almería' 'Auxerre' 'Cremonese' 'FC Köln'\n",
      " 'FC Union Berlin' 'FSV Mainz 05' 'Fulham' 'Girona' 'Lecce' 'Monza'\n",
      " 'Nottingham Forest' 'Real Valladolid' 'SC Freiburg' 'Schalke 04'\n",
      " 'Toulouse' 'Werder Bremen']\n"
     ]
    }
   ],
   "source": [
    "print(np.setdiff1d(all_clubs_23, all_clubs_22))"
   ]
  },
  {
   "cell_type": "code",
   "execution_count": 69,
   "metadata": {},
   "outputs": [
    {
     "data": {
      "text/plain": [
       "league_name\n",
       "Ligue 1           460\n",
       "La Liga           460\n",
       "Premier League    460\n",
       "Serie A           460\n",
       "Bundesliga        414\n",
       "Super League      253\n",
       "Name: count, dtype: int64"
      ]
     },
     "execution_count": 69,
     "metadata": {},
     "output_type": "execute_result"
    }
   ],
   "source": [
    "fifa23['league_name'].value_counts()"
   ]
  },
  {
   "cell_type": "code",
   "execution_count": 70,
   "metadata": {},
   "outputs": [],
   "source": [
    "change_team_name('Bundesliga', 'FC Köln', '1. ', '')\n",
    "change_team_name('Bundesliga', 'FC Union Berlin', '1. ', '')\n",
    "change_team_name('Bundesliga', 'FSV Mainz 05', '1. ', '')\n",
    "\n",
    "mask = fifa23['club_name'] == 'SC Freiburg'\n",
    "fifa23.loc[mask, 'club_name'] = 'Sport-Club Freiburg'"
   ]
  },
  {
   "cell_type": "code",
   "execution_count": 71,
   "metadata": {},
   "outputs": [
    {
     "name": "stdout",
     "output_type": "stream",
     "text": [
      "['Schalke 04' 'Werder Bremen']\n",
      "['DSC Arminia Bielefeld' 'SpVgg Greuther Fürth']\n"
     ]
    }
   ],
   "source": [
    "a = list(fifa23[fifa23['league_name']=='Bundesliga']['club_name'].unique())\n",
    "b = list(fifa22[fifa22['league_name']=='German 1. Bundesliga']['club_name'].unique())\n",
    "print(np.setdiff1d(a, b))\n",
    "print(np.setdiff1d(b, a))"
   ]
  },
  {
   "cell_type": "code",
   "execution_count": 72,
   "metadata": {},
   "outputs": [
    {
     "data": {
      "text/plain": [
       "club_name\n",
       "FC Bayern München           23\n",
       "Eintracht Frankfurt         23\n",
       "1. FSV Mainz 05             23\n",
       "FC Augsburg                 23\n",
       "1. FC Union Berlin          23\n",
       "Hertha BSC                  23\n",
       "Werder Bremen               23\n",
       "VfB Stuttgart               23\n",
       "1. FC Köln                  23\n",
       "VfL Bochum 1848             23\n",
       "Sport-Club Freiburg         23\n",
       "TSG Hoffenheim              23\n",
       "VfL Wolfsburg               23\n",
       "Bayer 04 Leverkusen         23\n",
       "Borussia Dortmund           23\n",
       "Borussia Mönchengladbach    23\n",
       "RB Leipzig                  23\n",
       "Schalke 04                  23\n",
       "Name: count, dtype: int64"
      ]
     },
     "execution_count": 72,
     "metadata": {},
     "output_type": "execute_result"
    }
   ],
   "source": [
    "fifa23[fifa23['league_name']=='Bundesliga']['club_name'].value_counts()"
   ]
  },
  {
   "cell_type": "code",
   "execution_count": 73,
   "metadata": {},
   "outputs": [],
   "source": [
    "urls = {\n",
    "    'Ligue 1': {\n",
    "        'Toulouse': 'https://cdn.sofifa.net/meta/team/289/120.png',\n",
    "        'Ajaccio': 'https://cdn.sofifa.net/meta/team/524/120.png',\n",
    "        'Auxerre': 'https://cdn.sofifa.net/meta/team/3682/120.png',\n",
    "    },\n",
    "    'Serie A': {\n",
    "        'Monza': 'https://cdn.sofifa.net/meta/team/1628/120.png',\n",
    "        'Lecce': 'https://cdn.sofifa.net/meta/team/7790/120.png',\n",
    "        'Cremonese': 'https://cdn.sofifa.net/meta/team/10722/120.png',\n",
    "    },\n",
    "    'La Liga': {\n",
    "        'Almería': 'https://cdn.sofifa.net/meta/team/618/120.png',\n",
    "        'Girona': 'https://cdn.sofifa.net/meta/team/231/120.png',\n",
    "        'Real Valladolid': 'https://cdn.sofifa.net/meta/team/361/120.png',\n",
    "    },\n",
    "    'Premier League': {\n",
    "        'AFC Bournemouth': 'https://cdn.sofifa.net/meta/team/52/120.png',\n",
    "        'Nottingham Forest': 'https://cdn.sofifa.net/meta/team/63/120.png',\n",
    "        'Fulham': 'https://cdn.sofifa.net/meta/team/11/120.png',\n",
    "    },\n",
    "    'Bundesliga': {\n",
    "        'Werder Bremen': 'https://cdn.sofifa.net/meta/team/82/120.png',\n",
    "        'Schalke 04': 'https://cdn.sofifa.net/meta/team/67/120.png',\n",
    "    },\n",
    "}"
   ]
  },
  {
   "cell_type": "code",
   "execution_count": 74,
   "metadata": {},
   "outputs": [],
   "source": [
    "for p_id in list(fifa23['sofifa_id'].values):\n",
    "  mask = (fifa23['sofifa_id'] == p_id)\n",
    "  fifa23_team = fifa23[fifa23['sofifa_id']==p_id]['club_name'].values[0]\n",
    "  fifa23_league = fifa23[fifa23['sofifa_id']==p_id]['league_name'].values[0]\n",
    "  if fifa23_team not in all_clubs_22:\n",
    "    team_logo_url = urls[fifa23_league][fifa23_team]\n",
    "  else:\n",
    "    team_logo_url = fifa22[fifa22['club_name'] == fifa23_team].head(1)['club_logo_url'].values[0]\n",
    "  fifa23.loc[mask, 'club_logo_url'] = str(team_logo_url)"
   ]
  },
  {
   "cell_type": "code",
   "execution_count": 75,
   "metadata": {},
   "outputs": [
    {
     "data": {
      "text/html": [
       "<div>\n",
       "<style scoped>\n",
       "    .dataframe tbody tr th:only-of-type {\n",
       "        vertical-align: middle;\n",
       "    }\n",
       "\n",
       "    .dataframe tbody tr th {\n",
       "        vertical-align: top;\n",
       "    }\n",
       "\n",
       "    .dataframe thead th {\n",
       "        text-align: right;\n",
       "    }\n",
       "</style>\n",
       "<table border=\"1\" class=\"dataframe\">\n",
       "  <thead>\n",
       "    <tr style=\"text-align: right;\">\n",
       "      <th></th>\n",
       "      <th>sofifa_id</th>\n",
       "      <th>short_name</th>\n",
       "      <th>player_positions</th>\n",
       "      <th>overall</th>\n",
       "      <th>age</th>\n",
       "      <th>height_cm</th>\n",
       "      <th>weight_kg</th>\n",
       "      <th>league_name</th>\n",
       "      <th>club_name</th>\n",
       "      <th>club_position</th>\n",
       "      <th>...</th>\n",
       "      <th>defending_standing_tackle</th>\n",
       "      <th>defending_sliding_tackle</th>\n",
       "      <th>goalkeeping_diving</th>\n",
       "      <th>goalkeeping_handling</th>\n",
       "      <th>goalkeeping_kicking</th>\n",
       "      <th>goalkeeping_positioning</th>\n",
       "      <th>goalkeeping_reflexes</th>\n",
       "      <th>goalkeeping_speed</th>\n",
       "      <th>player_face_url</th>\n",
       "      <th>club_logo_url</th>\n",
       "    </tr>\n",
       "  </thead>\n",
       "  <tbody>\n",
       "    <tr>\n",
       "      <th>1804</th>\n",
       "      <td>243134</td>\n",
       "      <td>L. Ramazani</td>\n",
       "      <td>RM, LM, ST</td>\n",
       "      <td>71</td>\n",
       "      <td>21</td>\n",
       "      <td>167</td>\n",
       "      <td>55</td>\n",
       "      <td>La Liga</td>\n",
       "      <td>Almería</td>\n",
       "      <td>LS</td>\n",
       "      <td>...</td>\n",
       "      <td>34</td>\n",
       "      <td>30</td>\n",
       "      <td>7</td>\n",
       "      <td>10</td>\n",
       "      <td>13</td>\n",
       "      <td>5</td>\n",
       "      <td>11</td>\n",
       "      <td>NaN</td>\n",
       "      <td>https://cdn.sofifa.net/players/243/134/23_120.png</td>\n",
       "      <td>https://cdn.sofifa.net/meta/team/618/120.png</td>\n",
       "    </tr>\n",
       "    <tr>\n",
       "      <th>1899</th>\n",
       "      <td>241810</td>\n",
       "      <td>Chumi</td>\n",
       "      <td>CB, RB</td>\n",
       "      <td>70</td>\n",
       "      <td>23</td>\n",
       "      <td>186</td>\n",
       "      <td>78</td>\n",
       "      <td>La Liga</td>\n",
       "      <td>Almería</td>\n",
       "      <td>SUB</td>\n",
       "      <td>...</td>\n",
       "      <td>73</td>\n",
       "      <td>70</td>\n",
       "      <td>7</td>\n",
       "      <td>14</td>\n",
       "      <td>9</td>\n",
       "      <td>11</td>\n",
       "      <td>14</td>\n",
       "      <td>NaN</td>\n",
       "      <td>https://cdn.sofifa.net/players/241/810/23_120.png</td>\n",
       "      <td>https://cdn.sofifa.net/meta/team/618/120.png</td>\n",
       "    </tr>\n",
       "    <tr>\n",
       "      <th>1916</th>\n",
       "      <td>246279</td>\n",
       "      <td>Iván Martos</td>\n",
       "      <td>LB, CB</td>\n",
       "      <td>70</td>\n",
       "      <td>25</td>\n",
       "      <td>182</td>\n",
       "      <td>68</td>\n",
       "      <td>La Liga</td>\n",
       "      <td>Almería</td>\n",
       "      <td>SUB</td>\n",
       "      <td>...</td>\n",
       "      <td>71</td>\n",
       "      <td>69</td>\n",
       "      <td>9</td>\n",
       "      <td>10</td>\n",
       "      <td>15</td>\n",
       "      <td>5</td>\n",
       "      <td>14</td>\n",
       "      <td>NaN</td>\n",
       "      <td>https://cdn.sofifa.net/players/246/279/23_120.png</td>\n",
       "      <td>https://cdn.sofifa.net/meta/team/618/120.png</td>\n",
       "    </tr>\n",
       "    <tr>\n",
       "      <th>1931</th>\n",
       "      <td>255529</td>\n",
       "      <td>E. Touré</td>\n",
       "      <td>ST, LW</td>\n",
       "      <td>70</td>\n",
       "      <td>20</td>\n",
       "      <td>185</td>\n",
       "      <td>72</td>\n",
       "      <td>La Liga</td>\n",
       "      <td>Almería</td>\n",
       "      <td>SUB</td>\n",
       "      <td>...</td>\n",
       "      <td>14</td>\n",
       "      <td>19</td>\n",
       "      <td>8</td>\n",
       "      <td>15</td>\n",
       "      <td>12</td>\n",
       "      <td>8</td>\n",
       "      <td>12</td>\n",
       "      <td>NaN</td>\n",
       "      <td>https://cdn.sofifa.net/players/255/529/23_120.png</td>\n",
       "      <td>https://cdn.sofifa.net/meta/team/618/120.png</td>\n",
       "    </tr>\n",
       "    <tr>\n",
       "      <th>2078</th>\n",
       "      <td>262061</td>\n",
       "      <td>Kaiky</td>\n",
       "      <td>CB</td>\n",
       "      <td>68</td>\n",
       "      <td>18</td>\n",
       "      <td>186</td>\n",
       "      <td>76</td>\n",
       "      <td>La Liga</td>\n",
       "      <td>Almería</td>\n",
       "      <td>RCB</td>\n",
       "      <td>...</td>\n",
       "      <td>73</td>\n",
       "      <td>66</td>\n",
       "      <td>7</td>\n",
       "      <td>9</td>\n",
       "      <td>12</td>\n",
       "      <td>9</td>\n",
       "      <td>8</td>\n",
       "      <td>NaN</td>\n",
       "      <td>https://cdn.sofifa.net/players/262/061/23_120.png</td>\n",
       "      <td>https://cdn.sofifa.net/meta/team/618/120.png</td>\n",
       "    </tr>\n",
       "  </tbody>\n",
       "</table>\n",
       "<p>5 rows × 59 columns</p>\n",
       "</div>"
      ],
      "text/plain": [
       "      sofifa_id   short_name player_positions  overall  age  height_cm   \n",
       "1804     243134  L. Ramazani       RM, LM, ST       71   21        167  \\\n",
       "1899     241810        Chumi           CB, RB       70   23        186   \n",
       "1916     246279  Iván Martos           LB, CB       70   25        182   \n",
       "1931     255529     E. Touré           ST, LW       70   20        185   \n",
       "2078     262061        Kaiky               CB       68   18        186   \n",
       "\n",
       "      weight_kg league_name club_name club_position  ...   \n",
       "1804         55     La Liga   Almería            LS  ...  \\\n",
       "1899         78     La Liga   Almería           SUB  ...   \n",
       "1916         68     La Liga   Almería           SUB  ...   \n",
       "1931         72     La Liga   Almería           SUB  ...   \n",
       "2078         76     La Liga   Almería           RCB  ...   \n",
       "\n",
       "      defending_standing_tackle defending_sliding_tackle goalkeeping_diving   \n",
       "1804                         34                       30                  7  \\\n",
       "1899                         73                       70                  7   \n",
       "1916                         71                       69                  9   \n",
       "1931                         14                       19                  8   \n",
       "2078                         73                       66                  7   \n",
       "\n",
       "      goalkeeping_handling  goalkeeping_kicking goalkeeping_positioning   \n",
       "1804                    10                   13                       5  \\\n",
       "1899                    14                    9                      11   \n",
       "1916                    10                   15                       5   \n",
       "1931                    15                   12                       8   \n",
       "2078                     9                   12                       9   \n",
       "\n",
       "      goalkeeping_reflexes  goalkeeping_speed   \n",
       "1804                    11                NaN  \\\n",
       "1899                    14                NaN   \n",
       "1916                    14                NaN   \n",
       "1931                    12                NaN   \n",
       "2078                     8                NaN   \n",
       "\n",
       "                                        player_face_url   \n",
       "1804  https://cdn.sofifa.net/players/243/134/23_120.png  \\\n",
       "1899  https://cdn.sofifa.net/players/241/810/23_120.png   \n",
       "1916  https://cdn.sofifa.net/players/246/279/23_120.png   \n",
       "1931  https://cdn.sofifa.net/players/255/529/23_120.png   \n",
       "2078  https://cdn.sofifa.net/players/262/061/23_120.png   \n",
       "\n",
       "                                     club_logo_url  \n",
       "1804  https://cdn.sofifa.net/meta/team/618/120.png  \n",
       "1899  https://cdn.sofifa.net/meta/team/618/120.png  \n",
       "1916  https://cdn.sofifa.net/meta/team/618/120.png  \n",
       "1931  https://cdn.sofifa.net/meta/team/618/120.png  \n",
       "2078  https://cdn.sofifa.net/meta/team/618/120.png  \n",
       "\n",
       "[5 rows x 59 columns]"
      ]
     },
     "execution_count": 75,
     "metadata": {},
     "output_type": "execute_result"
    }
   ],
   "source": [
    "fifa23[fifa23['club_name']=='Almería'].tail()"
   ]
  },
  {
   "cell_type": "code",
   "execution_count": 76,
   "metadata": {},
   "outputs": [
    {
     "data": {
      "text/html": [
       "<div>\n",
       "<style scoped>\n",
       "    .dataframe tbody tr th:only-of-type {\n",
       "        vertical-align: middle;\n",
       "    }\n",
       "\n",
       "    .dataframe tbody tr th {\n",
       "        vertical-align: top;\n",
       "    }\n",
       "\n",
       "    .dataframe thead th {\n",
       "        text-align: right;\n",
       "    }\n",
       "</style>\n",
       "<table border=\"1\" class=\"dataframe\">\n",
       "  <thead>\n",
       "    <tr style=\"text-align: right;\">\n",
       "      <th></th>\n",
       "      <th>sofifa_id</th>\n",
       "      <th>short_name</th>\n",
       "      <th>player_positions</th>\n",
       "      <th>overall</th>\n",
       "      <th>age</th>\n",
       "      <th>height_cm</th>\n",
       "      <th>weight_kg</th>\n",
       "      <th>league_name</th>\n",
       "      <th>club_name</th>\n",
       "      <th>club_position</th>\n",
       "      <th>...</th>\n",
       "      <th>defending_standing_tackle</th>\n",
       "      <th>defending_sliding_tackle</th>\n",
       "      <th>goalkeeping_diving</th>\n",
       "      <th>goalkeeping_handling</th>\n",
       "      <th>goalkeeping_kicking</th>\n",
       "      <th>goalkeeping_positioning</th>\n",
       "      <th>goalkeeping_reflexes</th>\n",
       "      <th>goalkeeping_speed</th>\n",
       "      <th>player_face_url</th>\n",
       "      <th>club_logo_url</th>\n",
       "    </tr>\n",
       "  </thead>\n",
       "  <tbody>\n",
       "    <tr>\n",
       "      <th>0</th>\n",
       "      <td>158023</td>\n",
       "      <td>L. Messi</td>\n",
       "      <td>RW</td>\n",
       "      <td>91</td>\n",
       "      <td>35</td>\n",
       "      <td>169</td>\n",
       "      <td>67</td>\n",
       "      <td>Ligue 1</td>\n",
       "      <td>Paris Saint-Germain</td>\n",
       "      <td>RW</td>\n",
       "      <td>...</td>\n",
       "      <td>35</td>\n",
       "      <td>24</td>\n",
       "      <td>6</td>\n",
       "      <td>11</td>\n",
       "      <td>15</td>\n",
       "      <td>14</td>\n",
       "      <td>8</td>\n",
       "      <td>NaN</td>\n",
       "      <td>https://cdn.sofifa.net/players/158/023/23_120.png</td>\n",
       "      <td>https://cdn.sofifa.net/teams/73/60.png</td>\n",
       "    </tr>\n",
       "    <tr>\n",
       "      <th>1</th>\n",
       "      <td>165153</td>\n",
       "      <td>K. Benzema</td>\n",
       "      <td>CF, ST</td>\n",
       "      <td>91</td>\n",
       "      <td>34</td>\n",
       "      <td>185</td>\n",
       "      <td>81</td>\n",
       "      <td>La Liga</td>\n",
       "      <td>Real Madrid CF</td>\n",
       "      <td>CF</td>\n",
       "      <td>...</td>\n",
       "      <td>24</td>\n",
       "      <td>18</td>\n",
       "      <td>13</td>\n",
       "      <td>11</td>\n",
       "      <td>5</td>\n",
       "      <td>5</td>\n",
       "      <td>7</td>\n",
       "      <td>NaN</td>\n",
       "      <td>https://cdn.sofifa.net/players/165/153/23_120.png</td>\n",
       "      <td>https://cdn.sofifa.net/teams/243/60.png</td>\n",
       "    </tr>\n",
       "    <tr>\n",
       "      <th>2</th>\n",
       "      <td>188545</td>\n",
       "      <td>R. Lewandowski</td>\n",
       "      <td>ST</td>\n",
       "      <td>91</td>\n",
       "      <td>33</td>\n",
       "      <td>185</td>\n",
       "      <td>81</td>\n",
       "      <td>La Liga</td>\n",
       "      <td>FC Barcelona</td>\n",
       "      <td>ST</td>\n",
       "      <td>...</td>\n",
       "      <td>42</td>\n",
       "      <td>19</td>\n",
       "      <td>15</td>\n",
       "      <td>6</td>\n",
       "      <td>12</td>\n",
       "      <td>8</td>\n",
       "      <td>10</td>\n",
       "      <td>NaN</td>\n",
       "      <td>https://cdn.sofifa.net/players/188/545/23_120.png</td>\n",
       "      <td>https://cdn.sofifa.net/teams/241/60.png</td>\n",
       "    </tr>\n",
       "    <tr>\n",
       "      <th>3</th>\n",
       "      <td>192985</td>\n",
       "      <td>K. De Bruyne</td>\n",
       "      <td>CM, CAM</td>\n",
       "      <td>91</td>\n",
       "      <td>31</td>\n",
       "      <td>181</td>\n",
       "      <td>70</td>\n",
       "      <td>Premier League</td>\n",
       "      <td>Manchester City</td>\n",
       "      <td>RCM</td>\n",
       "      <td>...</td>\n",
       "      <td>65</td>\n",
       "      <td>53</td>\n",
       "      <td>15</td>\n",
       "      <td>13</td>\n",
       "      <td>5</td>\n",
       "      <td>10</td>\n",
       "      <td>13</td>\n",
       "      <td>NaN</td>\n",
       "      <td>https://cdn.sofifa.net/players/192/985/23_120.png</td>\n",
       "      <td>https://cdn.sofifa.net/teams/10/60.png</td>\n",
       "    </tr>\n",
       "    <tr>\n",
       "      <th>4</th>\n",
       "      <td>231747</td>\n",
       "      <td>K. Mbappé</td>\n",
       "      <td>ST, LW</td>\n",
       "      <td>91</td>\n",
       "      <td>23</td>\n",
       "      <td>182</td>\n",
       "      <td>73</td>\n",
       "      <td>Ligue 1</td>\n",
       "      <td>Paris Saint-Germain</td>\n",
       "      <td>ST</td>\n",
       "      <td>...</td>\n",
       "      <td>34</td>\n",
       "      <td>32</td>\n",
       "      <td>13</td>\n",
       "      <td>5</td>\n",
       "      <td>7</td>\n",
       "      <td>11</td>\n",
       "      <td>6</td>\n",
       "      <td>NaN</td>\n",
       "      <td>https://cdn.sofifa.net/players/231/747/23_120.png</td>\n",
       "      <td>https://cdn.sofifa.net/teams/73/60.png</td>\n",
       "    </tr>\n",
       "  </tbody>\n",
       "</table>\n",
       "<p>5 rows × 59 columns</p>\n",
       "</div>"
      ],
      "text/plain": [
       "   sofifa_id      short_name player_positions  overall  age  height_cm   \n",
       "0     158023        L. Messi               RW       91   35        169  \\\n",
       "1     165153      K. Benzema           CF, ST       91   34        185   \n",
       "2     188545  R. Lewandowski               ST       91   33        185   \n",
       "3     192985    K. De Bruyne          CM, CAM       91   31        181   \n",
       "4     231747       K. Mbappé           ST, LW       91   23        182   \n",
       "\n",
       "   weight_kg     league_name            club_name club_position  ...   \n",
       "0         67         Ligue 1  Paris Saint-Germain            RW  ...  \\\n",
       "1         81         La Liga       Real Madrid CF            CF  ...   \n",
       "2         81         La Liga         FC Barcelona            ST  ...   \n",
       "3         70  Premier League      Manchester City           RCM  ...   \n",
       "4         73         Ligue 1  Paris Saint-Germain            ST  ...   \n",
       "\n",
       "   defending_standing_tackle defending_sliding_tackle goalkeeping_diving   \n",
       "0                         35                       24                  6  \\\n",
       "1                         24                       18                 13   \n",
       "2                         42                       19                 15   \n",
       "3                         65                       53                 15   \n",
       "4                         34                       32                 13   \n",
       "\n",
       "   goalkeeping_handling  goalkeeping_kicking goalkeeping_positioning   \n",
       "0                    11                   15                      14  \\\n",
       "1                    11                    5                       5   \n",
       "2                     6                   12                       8   \n",
       "3                    13                    5                      10   \n",
       "4                     5                    7                      11   \n",
       "\n",
       "   goalkeeping_reflexes  goalkeeping_speed   \n",
       "0                     8                NaN  \\\n",
       "1                     7                NaN   \n",
       "2                    10                NaN   \n",
       "3                    13                NaN   \n",
       "4                     6                NaN   \n",
       "\n",
       "                                     player_face_url   \n",
       "0  https://cdn.sofifa.net/players/158/023/23_120.png  \\\n",
       "1  https://cdn.sofifa.net/players/165/153/23_120.png   \n",
       "2  https://cdn.sofifa.net/players/188/545/23_120.png   \n",
       "3  https://cdn.sofifa.net/players/192/985/23_120.png   \n",
       "4  https://cdn.sofifa.net/players/231/747/23_120.png   \n",
       "\n",
       "                             club_logo_url  \n",
       "0   https://cdn.sofifa.net/teams/73/60.png  \n",
       "1  https://cdn.sofifa.net/teams/243/60.png  \n",
       "2  https://cdn.sofifa.net/teams/241/60.png  \n",
       "3   https://cdn.sofifa.net/teams/10/60.png  \n",
       "4   https://cdn.sofifa.net/teams/73/60.png  \n",
       "\n",
       "[5 rows x 59 columns]"
      ]
     },
     "execution_count": 76,
     "metadata": {},
     "output_type": "execute_result"
    }
   ],
   "source": [
    "fifa23.head()"
   ]
  },
  {
   "cell_type": "code",
   "execution_count": 77,
   "metadata": {},
   "outputs": [
    {
     "data": {
      "text/plain": [
       "array(['CAM', 'CB', 'CDM', 'CF', 'CM', 'GK', 'LB', 'LM', 'LW', 'LWB',\n",
       "       'RB', 'RM', 'RW', 'RWB', 'ST'], dtype='<U27')"
      ]
     },
     "execution_count": 77,
     "metadata": {},
     "output_type": "execute_result"
    }
   ],
   "source": [
    "missing_columns = np.setdiff1d(columns_to_keep, fifa23.columns)\n",
    "missing_columns"
   ]
  },
  {
   "cell_type": "code",
   "execution_count": 78,
   "metadata": {},
   "outputs": [
    {
     "data": {
      "text/plain": [
       "player_positions\n",
       "CB            349\n",
       "GK            243\n",
       "ST            217\n",
       "CDM, CM       159\n",
       "CM, CDM       113\n",
       "             ... \n",
       "CF, LW, RW      1\n",
       "LW, ST, LM      1\n",
       "LWB, CM         1\n",
       "CM, RM, RB      1\n",
       "RW, LW, CM      1\n",
       "Name: count, Length: 322, dtype: int64"
      ]
     },
     "execution_count": 78,
     "metadata": {},
     "output_type": "execute_result"
    }
   ],
   "source": [
    "fifa23['player_positions'].value_counts()"
   ]
  },
  {
   "cell_type": "code",
   "execution_count": 79,
   "metadata": {},
   "outputs": [],
   "source": [
    "for x in range(len(fifa23['player_positions'])):\n",
    "  pos_list = str(fifa23['player_positions'][x]).split(', ')\n",
    "  for item in pos_list:\n",
    "      fifa23[str(item)] = 0\n",
    "\n",
    "for x in range(len(fifa23['player_positions'])):\n",
    "  pos_list = str(fifa23['player_positions'][x]).split(', ')\n",
    "  for item in pos_list:\n",
    "      fifa23[str(item)][x] = 1"
   ]
  },
  {
   "cell_type": "code",
   "execution_count": 80,
   "metadata": {},
   "outputs": [
    {
     "data": {
      "text/html": [
       "<div>\n",
       "<style scoped>\n",
       "    .dataframe tbody tr th:only-of-type {\n",
       "        vertical-align: middle;\n",
       "    }\n",
       "\n",
       "    .dataframe tbody tr th {\n",
       "        vertical-align: top;\n",
       "    }\n",
       "\n",
       "    .dataframe thead th {\n",
       "        text-align: right;\n",
       "    }\n",
       "</style>\n",
       "<table border=\"1\" class=\"dataframe\">\n",
       "  <thead>\n",
       "    <tr style=\"text-align: right;\">\n",
       "      <th></th>\n",
       "      <th>sofifa_id</th>\n",
       "      <th>short_name</th>\n",
       "      <th>player_positions</th>\n",
       "      <th>overall</th>\n",
       "      <th>age</th>\n",
       "      <th>height_cm</th>\n",
       "      <th>weight_kg</th>\n",
       "      <th>league_name</th>\n",
       "      <th>club_name</th>\n",
       "      <th>club_position</th>\n",
       "      <th>...</th>\n",
       "      <th>LW</th>\n",
       "      <th>GK</th>\n",
       "      <th>CB</th>\n",
       "      <th>LM</th>\n",
       "      <th>CDM</th>\n",
       "      <th>RB</th>\n",
       "      <th>LB</th>\n",
       "      <th>RM</th>\n",
       "      <th>LWB</th>\n",
       "      <th>RWB</th>\n",
       "    </tr>\n",
       "  </thead>\n",
       "  <tbody>\n",
       "    <tr>\n",
       "      <th>0</th>\n",
       "      <td>158023</td>\n",
       "      <td>L. Messi</td>\n",
       "      <td>RW</td>\n",
       "      <td>91</td>\n",
       "      <td>35</td>\n",
       "      <td>169</td>\n",
       "      <td>67</td>\n",
       "      <td>Ligue 1</td>\n",
       "      <td>Paris Saint-Germain</td>\n",
       "      <td>RW</td>\n",
       "      <td>...</td>\n",
       "      <td>0</td>\n",
       "      <td>0</td>\n",
       "      <td>0</td>\n",
       "      <td>0</td>\n",
       "      <td>0</td>\n",
       "      <td>0</td>\n",
       "      <td>0</td>\n",
       "      <td>0</td>\n",
       "      <td>0</td>\n",
       "      <td>0</td>\n",
       "    </tr>\n",
       "    <tr>\n",
       "      <th>1</th>\n",
       "      <td>165153</td>\n",
       "      <td>K. Benzema</td>\n",
       "      <td>CF, ST</td>\n",
       "      <td>91</td>\n",
       "      <td>34</td>\n",
       "      <td>185</td>\n",
       "      <td>81</td>\n",
       "      <td>La Liga</td>\n",
       "      <td>Real Madrid CF</td>\n",
       "      <td>CF</td>\n",
       "      <td>...</td>\n",
       "      <td>0</td>\n",
       "      <td>0</td>\n",
       "      <td>0</td>\n",
       "      <td>0</td>\n",
       "      <td>0</td>\n",
       "      <td>0</td>\n",
       "      <td>0</td>\n",
       "      <td>0</td>\n",
       "      <td>0</td>\n",
       "      <td>0</td>\n",
       "    </tr>\n",
       "    <tr>\n",
       "      <th>2</th>\n",
       "      <td>188545</td>\n",
       "      <td>R. Lewandowski</td>\n",
       "      <td>ST</td>\n",
       "      <td>91</td>\n",
       "      <td>33</td>\n",
       "      <td>185</td>\n",
       "      <td>81</td>\n",
       "      <td>La Liga</td>\n",
       "      <td>FC Barcelona</td>\n",
       "      <td>ST</td>\n",
       "      <td>...</td>\n",
       "      <td>0</td>\n",
       "      <td>0</td>\n",
       "      <td>0</td>\n",
       "      <td>0</td>\n",
       "      <td>0</td>\n",
       "      <td>0</td>\n",
       "      <td>0</td>\n",
       "      <td>0</td>\n",
       "      <td>0</td>\n",
       "      <td>0</td>\n",
       "    </tr>\n",
       "    <tr>\n",
       "      <th>3</th>\n",
       "      <td>192985</td>\n",
       "      <td>K. De Bruyne</td>\n",
       "      <td>CM, CAM</td>\n",
       "      <td>91</td>\n",
       "      <td>31</td>\n",
       "      <td>181</td>\n",
       "      <td>70</td>\n",
       "      <td>Premier League</td>\n",
       "      <td>Manchester City</td>\n",
       "      <td>RCM</td>\n",
       "      <td>...</td>\n",
       "      <td>0</td>\n",
       "      <td>0</td>\n",
       "      <td>0</td>\n",
       "      <td>0</td>\n",
       "      <td>0</td>\n",
       "      <td>0</td>\n",
       "      <td>0</td>\n",
       "      <td>0</td>\n",
       "      <td>0</td>\n",
       "      <td>0</td>\n",
       "    </tr>\n",
       "    <tr>\n",
       "      <th>4</th>\n",
       "      <td>231747</td>\n",
       "      <td>K. Mbappé</td>\n",
       "      <td>ST, LW</td>\n",
       "      <td>91</td>\n",
       "      <td>23</td>\n",
       "      <td>182</td>\n",
       "      <td>73</td>\n",
       "      <td>Ligue 1</td>\n",
       "      <td>Paris Saint-Germain</td>\n",
       "      <td>ST</td>\n",
       "      <td>...</td>\n",
       "      <td>1</td>\n",
       "      <td>0</td>\n",
       "      <td>0</td>\n",
       "      <td>0</td>\n",
       "      <td>0</td>\n",
       "      <td>0</td>\n",
       "      <td>0</td>\n",
       "      <td>0</td>\n",
       "      <td>0</td>\n",
       "      <td>0</td>\n",
       "    </tr>\n",
       "  </tbody>\n",
       "</table>\n",
       "<p>5 rows × 74 columns</p>\n",
       "</div>"
      ],
      "text/plain": [
       "   sofifa_id      short_name player_positions  overall  age  height_cm   \n",
       "0     158023        L. Messi               RW       91   35        169  \\\n",
       "1     165153      K. Benzema           CF, ST       91   34        185   \n",
       "2     188545  R. Lewandowski               ST       91   33        185   \n",
       "3     192985    K. De Bruyne          CM, CAM       91   31        181   \n",
       "4     231747       K. Mbappé           ST, LW       91   23        182   \n",
       "\n",
       "   weight_kg     league_name            club_name club_position  ...  LW GK   \n",
       "0         67         Ligue 1  Paris Saint-Germain            RW  ...   0  0  \\\n",
       "1         81         La Liga       Real Madrid CF            CF  ...   0  0   \n",
       "2         81         La Liga         FC Barcelona            ST  ...   0  0   \n",
       "3         70  Premier League      Manchester City           RCM  ...   0  0   \n",
       "4         73         Ligue 1  Paris Saint-Germain            ST  ...   1  0   \n",
       "\n",
       "  CB  LM  CDM RB  LB  RM  LWB  RWB  \n",
       "0  0   0    0  0   0   0    0    0  \n",
       "1  0   0    0  0   0   0    0    0  \n",
       "2  0   0    0  0   0   0    0    0  \n",
       "3  0   0    0  0   0   0    0    0  \n",
       "4  0   0    0  0   0   0    0    0  \n",
       "\n",
       "[5 rows x 74 columns]"
      ]
     },
     "execution_count": 80,
     "metadata": {},
     "output_type": "execute_result"
    }
   ],
   "source": [
    "fifa23.head()"
   ]
  },
  {
   "cell_type": "code",
   "execution_count": 81,
   "metadata": {},
   "outputs": [
    {
     "data": {
      "text/plain": [
       "['pace',\n",
       " 'shooting',\n",
       " 'passing',\n",
       " 'dribbling',\n",
       " 'defending',\n",
       " 'physic',\n",
       " 'goalkeeping_speed']"
      ]
     },
     "execution_count": 81,
     "metadata": {},
     "output_type": "execute_result"
    }
   ],
   "source": [
    "fifa23.columns[fifa23.isna().any()].tolist()"
   ]
  },
  {
   "cell_type": "code",
   "execution_count": 82,
   "metadata": {},
   "outputs": [
    {
     "name": "stdout",
     "output_type": "stream",
     "text": [
      "70.46952296819788\n",
      "58.937720848056536\n",
      "64.96157243816255\n",
      "69.68065371024736\n",
      "58.67932862190813\n",
      "69.3030035335689\n",
      "42.041152263374485\n"
     ]
    }
   ],
   "source": [
    "print(fifa23['pace'].mean())\n",
    "print(fifa23['shooting'].mean())\n",
    "print(fifa23['passing'].mean())\n",
    "print(fifa23['dribbling'].mean())\n",
    "print(fifa23['defending'].mean())\n",
    "print(fifa23['physic'].mean())\n",
    "print(fifa23['goalkeeping_speed'].mean())"
   ]
  },
  {
   "cell_type": "code",
   "execution_count": 83,
   "metadata": {},
   "outputs": [],
   "source": [
    "fifa23.loc[fifa23['pace'].isna(), 'pace'] = int(fifa23['pace'].mean())\n",
    "fifa23.loc[fifa23['shooting'].isna(), 'shooting'] = int(fifa23['shooting'].mean())\n",
    "fifa23.loc[fifa23['passing'].isna(), 'passing'] = int(fifa23['passing'].mean())\n",
    "fifa23.loc[fifa23['dribbling'].isna(), 'dribbling'] = int(fifa23['dribbling'].mean())\n",
    "fifa23.loc[fifa23['defending'].isna(), 'defending'] = int(fifa23['defending'].mean())\n",
    "fifa23.loc[fifa23['physic'].isna(), 'physic'] = int(fifa23['physic'].mean())\n",
    "fifa23.loc[fifa23['goalkeeping_speed'].isna(), 'goalkeeping_speed'] = int(fifa23['goalkeeping_speed'].mean())"
   ]
  },
  {
   "cell_type": "code",
   "execution_count": 84,
   "metadata": {},
   "outputs": [
    {
     "data": {
      "text/plain": [
       "['club_jersey_number',\n",
       " 'pace',\n",
       " 'shooting',\n",
       " 'passing',\n",
       " 'dribbling',\n",
       " 'defending',\n",
       " 'physic',\n",
       " 'mentality_composure',\n",
       " 'goalkeeping_speed']"
      ]
     },
     "execution_count": 84,
     "metadata": {},
     "output_type": "execute_result"
    }
   ],
   "source": [
    "f_columns = list(fifa23.select_dtypes(include='float64'))\n",
    "f_columns"
   ]
  },
  {
   "cell_type": "code",
   "execution_count": 85,
   "metadata": {},
   "outputs": [],
   "source": [
    "for col in f_columns:\n",
    "    fifa23[col] = fifa23[col].astype(np.int64)"
   ]
  },
  {
   "cell_type": "code",
   "execution_count": 86,
   "metadata": {},
   "outputs": [
    {
     "data": {
      "text/plain": [
       "array([0, 0, 0, 0, 0, 0, 0, 0, 0, 0, 0, 0, 0, 0, 0, 0, 0, 0, 0, 0, 0, 0,\n",
       "       0, 0, 0, 0, 0, 0, 0, 0, 0, 0, 0, 0, 0, 0, 0, 0, 0, 0, 0, 0, 0, 0,\n",
       "       0, 0, 0, 0, 0, 0, 0, 0, 0, 0, 0, 0, 0, 0, 0, 0, 0, 0, 0, 0, 0, 0,\n",
       "       0, 0, 0, 0, 0, 0, 0, 0], dtype=int64)"
      ]
     },
     "execution_count": 86,
     "metadata": {},
     "output_type": "execute_result"
    }
   ],
   "source": [
    "fifa23.isna().sum().values"
   ]
  },
  {
   "cell_type": "code",
   "execution_count": 87,
   "metadata": {},
   "outputs": [
    {
     "data": {
      "text/plain": [
       "array([dtype('int64'), dtype('O'), dtype('O'), dtype('int64'),\n",
       "       dtype('int64'), dtype('int64'), dtype('int64'), dtype('O'),\n",
       "       dtype('O'), dtype('O'), dtype('int64'), dtype('O'), dtype('O'),\n",
       "       dtype('int64'), dtype('int64'), dtype('O'), dtype('int64'),\n",
       "       dtype('int64'), dtype('int64'), dtype('int64'), dtype('int64'),\n",
       "       dtype('int64'), dtype('int64'), dtype('int64'), dtype('int64'),\n",
       "       dtype('int64'), dtype('int64'), dtype('int64'), dtype('int64'),\n",
       "       dtype('int64'), dtype('int64'), dtype('int64'), dtype('int64'),\n",
       "       dtype('int64'), dtype('int64'), dtype('int64'), dtype('int64'),\n",
       "       dtype('int64'), dtype('int64'), dtype('int64'), dtype('int64'),\n",
       "       dtype('int64'), dtype('int64'), dtype('int64'), dtype('int64'),\n",
       "       dtype('int64'), dtype('int64'), dtype('int64'), dtype('int64'),\n",
       "       dtype('int64'), dtype('int64'), dtype('int64'), dtype('int64'),\n",
       "       dtype('int64'), dtype('int64'), dtype('int64'), dtype('int64'),\n",
       "       dtype('O'), dtype('O'), dtype('int64'), dtype('int64'),\n",
       "       dtype('int64'), dtype('int64'), dtype('int64'), dtype('int64'),\n",
       "       dtype('int64'), dtype('int64'), dtype('int64'), dtype('int64'),\n",
       "       dtype('int64'), dtype('int64'), dtype('int64'), dtype('int64'),\n",
       "       dtype('int64')], dtype=object)"
      ]
     },
     "execution_count": 87,
     "metadata": {},
     "output_type": "execute_result"
    }
   ],
   "source": [
    "fifa22.dtypes.values"
   ]
  },
  {
   "cell_type": "code",
   "execution_count": 88,
   "metadata": {},
   "outputs": [
    {
     "data": {
      "text/plain": [
       "array([dtype('int64'), dtype('O'), dtype('O'), dtype('int64'),\n",
       "       dtype('int64'), dtype('int64'), dtype('int64'), dtype('O'),\n",
       "       dtype('O'), dtype('O'), dtype('int64'), dtype('O'), dtype('O'),\n",
       "       dtype('int64'), dtype('int64'), dtype('O'), dtype('int64'),\n",
       "       dtype('int64'), dtype('int64'), dtype('int64'), dtype('int64'),\n",
       "       dtype('int64'), dtype('int64'), dtype('int64'), dtype('int64'),\n",
       "       dtype('int64'), dtype('int64'), dtype('int64'), dtype('int64'),\n",
       "       dtype('int64'), dtype('int64'), dtype('int64'), dtype('int64'),\n",
       "       dtype('int64'), dtype('int64'), dtype('int64'), dtype('int64'),\n",
       "       dtype('int64'), dtype('int64'), dtype('int64'), dtype('int64'),\n",
       "       dtype('int64'), dtype('int64'), dtype('int64'), dtype('int64'),\n",
       "       dtype('int64'), dtype('int64'), dtype('int64'), dtype('int64'),\n",
       "       dtype('int64'), dtype('int64'), dtype('int64'), dtype('int64'),\n",
       "       dtype('int64'), dtype('int64'), dtype('int64'), dtype('int64'),\n",
       "       dtype('O'), dtype('O'), dtype('int64'), dtype('int64'),\n",
       "       dtype('int64'), dtype('int64'), dtype('int64'), dtype('int64'),\n",
       "       dtype('int64'), dtype('int64'), dtype('int64'), dtype('int64'),\n",
       "       dtype('int64'), dtype('int64'), dtype('int64'), dtype('int64'),\n",
       "       dtype('int64')], dtype=object)"
      ]
     },
     "execution_count": 88,
     "metadata": {},
     "output_type": "execute_result"
    }
   ],
   "source": [
    "fifa23.dtypes.values"
   ]
  },
  {
   "cell_type": "code",
   "execution_count": 89,
   "metadata": {},
   "outputs": [
    {
     "data": {
      "text/html": [
       "<div>\n",
       "<style scoped>\n",
       "    .dataframe tbody tr th:only-of-type {\n",
       "        vertical-align: middle;\n",
       "    }\n",
       "\n",
       "    .dataframe tbody tr th {\n",
       "        vertical-align: top;\n",
       "    }\n",
       "\n",
       "    .dataframe thead th {\n",
       "        text-align: right;\n",
       "    }\n",
       "</style>\n",
       "<table border=\"1\" class=\"dataframe\">\n",
       "  <thead>\n",
       "    <tr style=\"text-align: right;\">\n",
       "      <th></th>\n",
       "      <th>sofifa_id</th>\n",
       "      <th>short_name</th>\n",
       "      <th>player_positions</th>\n",
       "      <th>overall</th>\n",
       "      <th>age</th>\n",
       "      <th>height_cm</th>\n",
       "      <th>weight_kg</th>\n",
       "      <th>league_name</th>\n",
       "      <th>club_name</th>\n",
       "      <th>club_position</th>\n",
       "      <th>...</th>\n",
       "      <th>LW</th>\n",
       "      <th>GK</th>\n",
       "      <th>CB</th>\n",
       "      <th>LM</th>\n",
       "      <th>CDM</th>\n",
       "      <th>RB</th>\n",
       "      <th>LB</th>\n",
       "      <th>RM</th>\n",
       "      <th>LWB</th>\n",
       "      <th>RWB</th>\n",
       "    </tr>\n",
       "  </thead>\n",
       "  <tbody>\n",
       "    <tr>\n",
       "      <th>0</th>\n",
       "      <td>158023</td>\n",
       "      <td>L. Messi</td>\n",
       "      <td>RW</td>\n",
       "      <td>91</td>\n",
       "      <td>35</td>\n",
       "      <td>169</td>\n",
       "      <td>67</td>\n",
       "      <td>Ligue 1</td>\n",
       "      <td>Paris Saint-Germain</td>\n",
       "      <td>RW</td>\n",
       "      <td>...</td>\n",
       "      <td>0</td>\n",
       "      <td>0</td>\n",
       "      <td>0</td>\n",
       "      <td>0</td>\n",
       "      <td>0</td>\n",
       "      <td>0</td>\n",
       "      <td>0</td>\n",
       "      <td>0</td>\n",
       "      <td>0</td>\n",
       "      <td>0</td>\n",
       "    </tr>\n",
       "    <tr>\n",
       "      <th>1</th>\n",
       "      <td>165153</td>\n",
       "      <td>K. Benzema</td>\n",
       "      <td>CF, ST</td>\n",
       "      <td>91</td>\n",
       "      <td>34</td>\n",
       "      <td>185</td>\n",
       "      <td>81</td>\n",
       "      <td>La Liga</td>\n",
       "      <td>Real Madrid CF</td>\n",
       "      <td>CF</td>\n",
       "      <td>...</td>\n",
       "      <td>0</td>\n",
       "      <td>0</td>\n",
       "      <td>0</td>\n",
       "      <td>0</td>\n",
       "      <td>0</td>\n",
       "      <td>0</td>\n",
       "      <td>0</td>\n",
       "      <td>0</td>\n",
       "      <td>0</td>\n",
       "      <td>0</td>\n",
       "    </tr>\n",
       "    <tr>\n",
       "      <th>2</th>\n",
       "      <td>188545</td>\n",
       "      <td>R. Lewandowski</td>\n",
       "      <td>ST</td>\n",
       "      <td>91</td>\n",
       "      <td>33</td>\n",
       "      <td>185</td>\n",
       "      <td>81</td>\n",
       "      <td>La Liga</td>\n",
       "      <td>FC Barcelona</td>\n",
       "      <td>ST</td>\n",
       "      <td>...</td>\n",
       "      <td>0</td>\n",
       "      <td>0</td>\n",
       "      <td>0</td>\n",
       "      <td>0</td>\n",
       "      <td>0</td>\n",
       "      <td>0</td>\n",
       "      <td>0</td>\n",
       "      <td>0</td>\n",
       "      <td>0</td>\n",
       "      <td>0</td>\n",
       "    </tr>\n",
       "    <tr>\n",
       "      <th>3</th>\n",
       "      <td>192985</td>\n",
       "      <td>K. De Bruyne</td>\n",
       "      <td>CM, CAM</td>\n",
       "      <td>91</td>\n",
       "      <td>31</td>\n",
       "      <td>181</td>\n",
       "      <td>70</td>\n",
       "      <td>Premier League</td>\n",
       "      <td>Manchester City</td>\n",
       "      <td>RCM</td>\n",
       "      <td>...</td>\n",
       "      <td>0</td>\n",
       "      <td>0</td>\n",
       "      <td>0</td>\n",
       "      <td>0</td>\n",
       "      <td>0</td>\n",
       "      <td>0</td>\n",
       "      <td>0</td>\n",
       "      <td>0</td>\n",
       "      <td>0</td>\n",
       "      <td>0</td>\n",
       "    </tr>\n",
       "    <tr>\n",
       "      <th>4</th>\n",
       "      <td>231747</td>\n",
       "      <td>K. Mbappé</td>\n",
       "      <td>ST, LW</td>\n",
       "      <td>91</td>\n",
       "      <td>23</td>\n",
       "      <td>182</td>\n",
       "      <td>73</td>\n",
       "      <td>Ligue 1</td>\n",
       "      <td>Paris Saint-Germain</td>\n",
       "      <td>ST</td>\n",
       "      <td>...</td>\n",
       "      <td>1</td>\n",
       "      <td>0</td>\n",
       "      <td>0</td>\n",
       "      <td>0</td>\n",
       "      <td>0</td>\n",
       "      <td>0</td>\n",
       "      <td>0</td>\n",
       "      <td>0</td>\n",
       "      <td>0</td>\n",
       "      <td>0</td>\n",
       "    </tr>\n",
       "  </tbody>\n",
       "</table>\n",
       "<p>5 rows × 74 columns</p>\n",
       "</div>"
      ],
      "text/plain": [
       "   sofifa_id      short_name player_positions  overall  age  height_cm   \n",
       "0     158023        L. Messi               RW       91   35        169  \\\n",
       "1     165153      K. Benzema           CF, ST       91   34        185   \n",
       "2     188545  R. Lewandowski               ST       91   33        185   \n",
       "3     192985    K. De Bruyne          CM, CAM       91   31        181   \n",
       "4     231747       K. Mbappé           ST, LW       91   23        182   \n",
       "\n",
       "   weight_kg     league_name            club_name club_position  ...  LW GK   \n",
       "0         67         Ligue 1  Paris Saint-Germain            RW  ...   0  0  \\\n",
       "1         81         La Liga       Real Madrid CF            CF  ...   0  0   \n",
       "2         81         La Liga         FC Barcelona            ST  ...   0  0   \n",
       "3         70  Premier League      Manchester City           RCM  ...   0  0   \n",
       "4         73         Ligue 1  Paris Saint-Germain            ST  ...   1  0   \n",
       "\n",
       "  CB  LM  CDM RB  LB  RM  LWB  RWB  \n",
       "0  0   0    0  0   0   0    0    0  \n",
       "1  0   0    0  0   0   0    0    0  \n",
       "2  0   0    0  0   0   0    0    0  \n",
       "3  0   0    0  0   0   0    0    0  \n",
       "4  0   0    0  0   0   0    0    0  \n",
       "\n",
       "[5 rows x 74 columns]"
      ]
     },
     "execution_count": 89,
     "metadata": {},
     "output_type": "execute_result"
    }
   ],
   "source": [
    "fifa23.head()"
   ]
  },
  {
   "cell_type": "code",
   "execution_count": 90,
   "metadata": {},
   "outputs": [],
   "source": [
    "fifa23.to_csv('../new_data/m_23.csv')"
   ]
  },
  {
   "cell_type": "code",
   "execution_count": null,
   "metadata": {},
   "outputs": [],
   "source": []
  }
 ],
 "metadata": {
  "kernelspec": {
   "display_name": "fifa-env",
   "language": "python",
   "name": "python3"
  },
  "language_info": {
   "codemirror_mode": {
    "name": "ipython",
    "version": 3
   },
   "file_extension": ".py",
   "mimetype": "text/x-python",
   "name": "python",
   "nbconvert_exporter": "python",
   "pygments_lexer": "ipython3",
   "version": "3.10.5"
  },
  "orig_nbformat": 4
 },
 "nbformat": 4,
 "nbformat_minor": 2
}
